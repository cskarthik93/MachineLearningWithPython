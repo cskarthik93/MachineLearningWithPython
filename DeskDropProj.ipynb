{
 "cells": [
  {
   "cell_type": "code",
   "execution_count": 130,
   "metadata": {},
   "outputs": [],
   "source": [
    "# Importing Libraries\n",
    "import pydot\n",
    "import re\n",
    "import pandas as pd\n",
    "import numpy as np\n",
    "import sweetviz as sv\n",
    "import seaborn as sns\n",
    "import matplotlib.pyplot as plt\n",
    "import plotly.offline as py\n",
    "import plotly.graph_objects as go\n",
    "from datetime import datetime\n",
    "from IPython.display import Image\n",
    "from IPython.display import display\n",
    "from sklearn.tree import export_graphviz\n",
    "from sklearn.preprocessing import LabelEncoder\n",
    "#from nltk.stem import WordNetLemmatizer, SnowballStemmer\n",
    "#from gensim.utils import simple_preprocess\n",
    "#from gensim.parsing.preprocessing import STOPWORDS\n",
    "#from nltk.stem.porter import *\n",
    "from sklearn.feature_extraction.text import TfidfVectorizer\n",
    "from sklearn.metrics.pairwise import cosine_similarity\n",
    "#from gensim import corpora, models, similarities\n",
    "#from nltk.tokenize import RegexpTokenizer\n",
    "from nltk.corpus import stopwords"
   ]
  },
  {
   "cell_type": "code",
   "execution_count": 131,
   "metadata": {},
   "outputs": [],
   "source": [
    "#Shared Articles Dataset\n",
    "articlesDF = pd.read_csv(r'C:\\\\Users\\\\cskar\\\\OneDrive\\\\Documents\\\\GitHub\\\\MachineLearningWithPython\\\\shared_articles.csv')\n",
    "#User Interactions Dataset\n",
    "interactionsDF = pd.read_csv(r'C:\\\\Users\\\\cskar\\\\OneDrive\\\\Documents\\\\GitHub\\\\\\MachineLearningWithPython\\\\users_interactions.csv')"
   ]
  },
  {
   "cell_type": "code",
   "execution_count": 132,
   "metadata": {},
   "outputs": [
    {
     "output_type": "execute_result",
     "data": {
      "text/plain": [
       "timestamp           int64\n",
       "eventType          object\n",
       "contentId           int64\n",
       "authorPersonId      int64\n",
       "authorSessionId     int64\n",
       "authorUserAgent    object\n",
       "authorRegion       object\n",
       "authorCountry      object\n",
       "contentType        object\n",
       "url                object\n",
       "title              object\n",
       "text               object\n",
       "lang               object\n",
       "dtype: object"
      ]
     },
     "metadata": {},
     "execution_count": 132
    }
   ],
   "source": [
    "articlesDF.dtypes"
   ]
  },
  {
   "cell_type": "code",
   "execution_count": 133,
   "metadata": {},
   "outputs": [
    {
     "output_type": "execute_result",
     "data": {
      "text/plain": [
       "timestamp       int64\n",
       "eventType      object\n",
       "contentId       int64\n",
       "personId        int64\n",
       "sessionId       int64\n",
       "userAgent      object\n",
       "userRegion     object\n",
       "userCountry    object\n",
       "dtype: object"
      ]
     },
     "metadata": {},
     "execution_count": 133
    }
   ],
   "source": [
    "interactionsDF.dtypes"
   ]
  },
  {
   "cell_type": "code",
   "execution_count": 134,
   "metadata": {},
   "outputs": [
    {
     "output_type": "execute_result",
     "data": {
      "text/plain": [
       "(3122, 13)"
      ]
     },
     "metadata": {},
     "execution_count": 134
    }
   ],
   "source": [
    "articlesDF.contentId = articlesDF.contentId.astype(str)\n",
    "articlesDF.authorPersonId = articlesDF.authorPersonId.astype(str)\n",
    "articlesDF.authorSessionId = articlesDF.authorSessionId.astype(str)\n",
    "articlesDF.shape"
   ]
  },
  {
   "cell_type": "code",
   "execution_count": 135,
   "metadata": {},
   "outputs": [
    {
     "output_type": "execute_result",
     "data": {
      "text/plain": [
       "(72312, 8)"
      ]
     },
     "metadata": {},
     "execution_count": 135
    }
   ],
   "source": [
    "interactionsDF.contentId = interactionsDF.contentId.astype(str)\n",
    "interactionsDF.personId = interactionsDF.personId.astype(str)\n",
    "interactionsDF.sessionId = interactionsDF.sessionId.astype(str)\n",
    "interactionsDF.shape"
   ]
  },
  {
   "cell_type": "code",
   "execution_count": 136,
   "metadata": {},
   "outputs": [],
   "source": [
    "# CONTENT REMOVED JUST HAS 75 ENTRIES AND IS CONTENT THAT IS NO LONGER ACCESSIBLE WISE TO DELETE\n",
    "deletedContentID =articlesDF.contentId[articlesDF.eventType == 'CONTENT REMOVED']\n",
    "articlesDF = articlesDF[articlesDF.eventType == 'CONTENT SHARED']\n",
    "articlesDF.drop('eventType', axis=1, inplace=True)\n",
    "interactionsDF = interactionsDF[~interactionsDF.contentId.isin(deletedContentID)]"
   ]
  },
  {
   "cell_type": "code",
   "execution_count": 137,
   "metadata": {},
   "outputs": [],
   "source": [
    "#before joining rename similar name columns\n",
    "articlesDF.rename(inplace = True, columns={\"timestamp\":\"articlePublishedTime\"})\n",
    "interactionsDF.rename(inplace=True, columns={\"timestamp\": \"articleInteractedTime\"})"
   ]
  },
  {
   "cell_type": "code",
   "execution_count": 138,
   "metadata": {},
   "outputs": [
    {
     "output_type": "display_data",
     "data": {
      "application/vnd.plotly.v1+json": {
       "config": {
        "plotlyServerURL": "https://plot.ly"
       },
       "data": [
        {
         "labels": [
          "HTML",
          "RICH",
          "VIDEO"
         ],
         "marker": {
          "colors": [
           "darkorange",
           "gold",
           "red"
          ],
          "line": {
           "color": "#000000",
           "width": 2
          }
         },
         "textinfo": "percent+label",
         "textposition": "outside",
         "type": "pie",
         "values": [
          3027,
          10,
          10
         ]
        }
       ],
       "layout": {
        "height": 500,
        "template": {
         "data": {
          "bar": [
           {
            "error_x": {
             "color": "#2a3f5f"
            },
            "error_y": {
             "color": "#2a3f5f"
            },
            "marker": {
             "line": {
              "color": "#E5ECF6",
              "width": 0.5
             }
            },
            "type": "bar"
           }
          ],
          "barpolar": [
           {
            "marker": {
             "line": {
              "color": "#E5ECF6",
              "width": 0.5
             }
            },
            "type": "barpolar"
           }
          ],
          "carpet": [
           {
            "aaxis": {
             "endlinecolor": "#2a3f5f",
             "gridcolor": "white",
             "linecolor": "white",
             "minorgridcolor": "white",
             "startlinecolor": "#2a3f5f"
            },
            "baxis": {
             "endlinecolor": "#2a3f5f",
             "gridcolor": "white",
             "linecolor": "white",
             "minorgridcolor": "white",
             "startlinecolor": "#2a3f5f"
            },
            "type": "carpet"
           }
          ],
          "choropleth": [
           {
            "colorbar": {
             "outlinewidth": 0,
             "ticks": ""
            },
            "type": "choropleth"
           }
          ],
          "contour": [
           {
            "colorbar": {
             "outlinewidth": 0,
             "ticks": ""
            },
            "colorscale": [
             [
              0,
              "#0d0887"
             ],
             [
              0.1111111111111111,
              "#46039f"
             ],
             [
              0.2222222222222222,
              "#7201a8"
             ],
             [
              0.3333333333333333,
              "#9c179e"
             ],
             [
              0.4444444444444444,
              "#bd3786"
             ],
             [
              0.5555555555555556,
              "#d8576b"
             ],
             [
              0.6666666666666666,
              "#ed7953"
             ],
             [
              0.7777777777777778,
              "#fb9f3a"
             ],
             [
              0.8888888888888888,
              "#fdca26"
             ],
             [
              1,
              "#f0f921"
             ]
            ],
            "type": "contour"
           }
          ],
          "contourcarpet": [
           {
            "colorbar": {
             "outlinewidth": 0,
             "ticks": ""
            },
            "type": "contourcarpet"
           }
          ],
          "heatmap": [
           {
            "colorbar": {
             "outlinewidth": 0,
             "ticks": ""
            },
            "colorscale": [
             [
              0,
              "#0d0887"
             ],
             [
              0.1111111111111111,
              "#46039f"
             ],
             [
              0.2222222222222222,
              "#7201a8"
             ],
             [
              0.3333333333333333,
              "#9c179e"
             ],
             [
              0.4444444444444444,
              "#bd3786"
             ],
             [
              0.5555555555555556,
              "#d8576b"
             ],
             [
              0.6666666666666666,
              "#ed7953"
             ],
             [
              0.7777777777777778,
              "#fb9f3a"
             ],
             [
              0.8888888888888888,
              "#fdca26"
             ],
             [
              1,
              "#f0f921"
             ]
            ],
            "type": "heatmap"
           }
          ],
          "heatmapgl": [
           {
            "colorbar": {
             "outlinewidth": 0,
             "ticks": ""
            },
            "colorscale": [
             [
              0,
              "#0d0887"
             ],
             [
              0.1111111111111111,
              "#46039f"
             ],
             [
              0.2222222222222222,
              "#7201a8"
             ],
             [
              0.3333333333333333,
              "#9c179e"
             ],
             [
              0.4444444444444444,
              "#bd3786"
             ],
             [
              0.5555555555555556,
              "#d8576b"
             ],
             [
              0.6666666666666666,
              "#ed7953"
             ],
             [
              0.7777777777777778,
              "#fb9f3a"
             ],
             [
              0.8888888888888888,
              "#fdca26"
             ],
             [
              1,
              "#f0f921"
             ]
            ],
            "type": "heatmapgl"
           }
          ],
          "histogram": [
           {
            "marker": {
             "colorbar": {
              "outlinewidth": 0,
              "ticks": ""
             }
            },
            "type": "histogram"
           }
          ],
          "histogram2d": [
           {
            "colorbar": {
             "outlinewidth": 0,
             "ticks": ""
            },
            "colorscale": [
             [
              0,
              "#0d0887"
             ],
             [
              0.1111111111111111,
              "#46039f"
             ],
             [
              0.2222222222222222,
              "#7201a8"
             ],
             [
              0.3333333333333333,
              "#9c179e"
             ],
             [
              0.4444444444444444,
              "#bd3786"
             ],
             [
              0.5555555555555556,
              "#d8576b"
             ],
             [
              0.6666666666666666,
              "#ed7953"
             ],
             [
              0.7777777777777778,
              "#fb9f3a"
             ],
             [
              0.8888888888888888,
              "#fdca26"
             ],
             [
              1,
              "#f0f921"
             ]
            ],
            "type": "histogram2d"
           }
          ],
          "histogram2dcontour": [
           {
            "colorbar": {
             "outlinewidth": 0,
             "ticks": ""
            },
            "colorscale": [
             [
              0,
              "#0d0887"
             ],
             [
              0.1111111111111111,
              "#46039f"
             ],
             [
              0.2222222222222222,
              "#7201a8"
             ],
             [
              0.3333333333333333,
              "#9c179e"
             ],
             [
              0.4444444444444444,
              "#bd3786"
             ],
             [
              0.5555555555555556,
              "#d8576b"
             ],
             [
              0.6666666666666666,
              "#ed7953"
             ],
             [
              0.7777777777777778,
              "#fb9f3a"
             ],
             [
              0.8888888888888888,
              "#fdca26"
             ],
             [
              1,
              "#f0f921"
             ]
            ],
            "type": "histogram2dcontour"
           }
          ],
          "mesh3d": [
           {
            "colorbar": {
             "outlinewidth": 0,
             "ticks": ""
            },
            "type": "mesh3d"
           }
          ],
          "parcoords": [
           {
            "line": {
             "colorbar": {
              "outlinewidth": 0,
              "ticks": ""
             }
            },
            "type": "parcoords"
           }
          ],
          "pie": [
           {
            "automargin": true,
            "type": "pie"
           }
          ],
          "scatter": [
           {
            "marker": {
             "colorbar": {
              "outlinewidth": 0,
              "ticks": ""
             }
            },
            "type": "scatter"
           }
          ],
          "scatter3d": [
           {
            "line": {
             "colorbar": {
              "outlinewidth": 0,
              "ticks": ""
             }
            },
            "marker": {
             "colorbar": {
              "outlinewidth": 0,
              "ticks": ""
             }
            },
            "type": "scatter3d"
           }
          ],
          "scattercarpet": [
           {
            "marker": {
             "colorbar": {
              "outlinewidth": 0,
              "ticks": ""
             }
            },
            "type": "scattercarpet"
           }
          ],
          "scattergeo": [
           {
            "marker": {
             "colorbar": {
              "outlinewidth": 0,
              "ticks": ""
             }
            },
            "type": "scattergeo"
           }
          ],
          "scattergl": [
           {
            "marker": {
             "colorbar": {
              "outlinewidth": 0,
              "ticks": ""
             }
            },
            "type": "scattergl"
           }
          ],
          "scattermapbox": [
           {
            "marker": {
             "colorbar": {
              "outlinewidth": 0,
              "ticks": ""
             }
            },
            "type": "scattermapbox"
           }
          ],
          "scatterpolar": [
           {
            "marker": {
             "colorbar": {
              "outlinewidth": 0,
              "ticks": ""
             }
            },
            "type": "scatterpolar"
           }
          ],
          "scatterpolargl": [
           {
            "marker": {
             "colorbar": {
              "outlinewidth": 0,
              "ticks": ""
             }
            },
            "type": "scatterpolargl"
           }
          ],
          "scatterternary": [
           {
            "marker": {
             "colorbar": {
              "outlinewidth": 0,
              "ticks": ""
             }
            },
            "type": "scatterternary"
           }
          ],
          "surface": [
           {
            "colorbar": {
             "outlinewidth": 0,
             "ticks": ""
            },
            "colorscale": [
             [
              0,
              "#0d0887"
             ],
             [
              0.1111111111111111,
              "#46039f"
             ],
             [
              0.2222222222222222,
              "#7201a8"
             ],
             [
              0.3333333333333333,
              "#9c179e"
             ],
             [
              0.4444444444444444,
              "#bd3786"
             ],
             [
              0.5555555555555556,
              "#d8576b"
             ],
             [
              0.6666666666666666,
              "#ed7953"
             ],
             [
              0.7777777777777778,
              "#fb9f3a"
             ],
             [
              0.8888888888888888,
              "#fdca26"
             ],
             [
              1,
              "#f0f921"
             ]
            ],
            "type": "surface"
           }
          ],
          "table": [
           {
            "cells": {
             "fill": {
              "color": "#EBF0F8"
             },
             "line": {
              "color": "white"
             }
            },
            "header": {
             "fill": {
              "color": "#C8D4E3"
             },
             "line": {
              "color": "white"
             }
            },
            "type": "table"
           }
          ]
         },
         "layout": {
          "annotationdefaults": {
           "arrowcolor": "#2a3f5f",
           "arrowhead": 0,
           "arrowwidth": 1
          },
          "coloraxis": {
           "colorbar": {
            "outlinewidth": 0,
            "ticks": ""
           }
          },
          "colorscale": {
           "diverging": [
            [
             0,
             "#8e0152"
            ],
            [
             0.1,
             "#c51b7d"
            ],
            [
             0.2,
             "#de77ae"
            ],
            [
             0.3,
             "#f1b6da"
            ],
            [
             0.4,
             "#fde0ef"
            ],
            [
             0.5,
             "#f7f7f7"
            ],
            [
             0.6,
             "#e6f5d0"
            ],
            [
             0.7,
             "#b8e186"
            ],
            [
             0.8,
             "#7fbc41"
            ],
            [
             0.9,
             "#4d9221"
            ],
            [
             1,
             "#276419"
            ]
           ],
           "sequential": [
            [
             0,
             "#0d0887"
            ],
            [
             0.1111111111111111,
             "#46039f"
            ],
            [
             0.2222222222222222,
             "#7201a8"
            ],
            [
             0.3333333333333333,
             "#9c179e"
            ],
            [
             0.4444444444444444,
             "#bd3786"
            ],
            [
             0.5555555555555556,
             "#d8576b"
            ],
            [
             0.6666666666666666,
             "#ed7953"
            ],
            [
             0.7777777777777778,
             "#fb9f3a"
            ],
            [
             0.8888888888888888,
             "#fdca26"
            ],
            [
             1,
             "#f0f921"
            ]
           ],
           "sequentialminus": [
            [
             0,
             "#0d0887"
            ],
            [
             0.1111111111111111,
             "#46039f"
            ],
            [
             0.2222222222222222,
             "#7201a8"
            ],
            [
             0.3333333333333333,
             "#9c179e"
            ],
            [
             0.4444444444444444,
             "#bd3786"
            ],
            [
             0.5555555555555556,
             "#d8576b"
            ],
            [
             0.6666666666666666,
             "#ed7953"
            ],
            [
             0.7777777777777778,
             "#fb9f3a"
            ],
            [
             0.8888888888888888,
             "#fdca26"
            ],
            [
             1,
             "#f0f921"
            ]
           ]
          },
          "colorway": [
           "#636efa",
           "#EF553B",
           "#00cc96",
           "#ab63fa",
           "#FFA15A",
           "#19d3f3",
           "#FF6692",
           "#B6E880",
           "#FF97FF",
           "#FECB52"
          ],
          "font": {
           "color": "#2a3f5f"
          },
          "geo": {
           "bgcolor": "white",
           "lakecolor": "white",
           "landcolor": "#E5ECF6",
           "showlakes": true,
           "showland": true,
           "subunitcolor": "white"
          },
          "hoverlabel": {
           "align": "left"
          },
          "hovermode": "closest",
          "mapbox": {
           "style": "light"
          },
          "paper_bgcolor": "white",
          "plot_bgcolor": "#E5ECF6",
          "polar": {
           "angularaxis": {
            "gridcolor": "white",
            "linecolor": "white",
            "ticks": ""
           },
           "bgcolor": "#E5ECF6",
           "radialaxis": {
            "gridcolor": "white",
            "linecolor": "white",
            "ticks": ""
           }
          },
          "scene": {
           "xaxis": {
            "backgroundcolor": "#E5ECF6",
            "gridcolor": "white",
            "gridwidth": 2,
            "linecolor": "white",
            "showbackground": true,
            "ticks": "",
            "zerolinecolor": "white"
           },
           "yaxis": {
            "backgroundcolor": "#E5ECF6",
            "gridcolor": "white",
            "gridwidth": 2,
            "linecolor": "white",
            "showbackground": true,
            "ticks": "",
            "zerolinecolor": "white"
           },
           "zaxis": {
            "backgroundcolor": "#E5ECF6",
            "gridcolor": "white",
            "gridwidth": 2,
            "linecolor": "white",
            "showbackground": true,
            "ticks": "",
            "zerolinecolor": "white"
           }
          },
          "shapedefaults": {
           "line": {
            "color": "#2a3f5f"
           }
          },
          "ternary": {
           "aaxis": {
            "gridcolor": "white",
            "linecolor": "white",
            "ticks": ""
           },
           "baxis": {
            "gridcolor": "white",
            "linecolor": "white",
            "ticks": ""
           },
           "bgcolor": "#E5ECF6",
           "caxis": {
            "gridcolor": "white",
            "linecolor": "white",
            "ticks": ""
           }
          },
          "title": {
           "x": 0.05
          },
          "xaxis": {
           "automargin": true,
           "gridcolor": "white",
           "linecolor": "white",
           "ticks": "",
           "title": {
            "standoff": 15
           },
           "zerolinecolor": "white",
           "zerolinewidth": 2
          },
          "yaxis": {
           "automargin": true,
           "gridcolor": "white",
           "linecolor": "white",
           "ticks": "",
           "title": {
            "standoff": 15
           },
           "zerolinecolor": "white",
           "zerolinewidth": 2
          }
         }
        },
        "title": {
         "text": "Distributed Type of Content"
        },
        "width": 800
       }
      }
     },
     "metadata": {}
    }
   ],
   "source": [
    "pie_chart = go.Figure()\n",
    "aLabels = articlesDF['contentType'].value_counts().index\n",
    "aValues = articlesDF['contentType'].value_counts().values\n",
    "pie_chart.add_trace(go.Pie(labels=aLabels,values=aValues))\n",
    "pie_chart.update_traces(textposition='outside', textinfo='percent+label',\\\n",
    "                               marker=dict(colors=['darkorange','gold','red'], line=dict(color='#000000', width=2)))\n",
    "pie_chart.update_layout(height=500, width=800, title_text=\"Distributed Type of Content\")\n",
    "pie_chart.show()"
   ]
  },
  {
   "cell_type": "code",
   "execution_count": 139,
   "metadata": {},
   "outputs": [],
   "source": [
    "#Delete contents which are not of HTML type and make sure we have the interactions only for those contents which are present\n",
    "deletedContentID =articlesDF.contentId[articlesDF.contentType != 'HTML']\n",
    "articlesDF = articlesDF[articlesDF.contentType == 'HTML']\n",
    "articlesDF.drop('contentType', axis=1, inplace=True)\n",
    "interactionsDF = interactionsDF[~interactionsDF.contentId.isin(deletedContentID)]"
   ]
  },
  {
   "cell_type": "code",
   "execution_count": 140,
   "metadata": {},
   "outputs": [
    {
     "output_type": "display_data",
     "data": {
      "application/vnd.plotly.v1+json": {
       "config": {
        "plotlyServerURL": "https://plot.ly"
       },
       "data": [
        {
         "labels": [
          "en",
          "pt",
          "la",
          "es",
          "ja"
         ],
         "marker": {
          "colors": [
           "darkorange",
           "gold",
           "red",
           "yellow",
           "green"
          ],
          "line": {
           "color": "#000000",
           "width": 2
          }
         },
         "textinfo": "percent+label",
         "textposition": "outside",
         "type": "pie",
         "values": [
          2199,
          821,
          3,
          2,
          2
         ]
        }
       ],
       "layout": {
        "height": 500,
        "template": {
         "data": {
          "bar": [
           {
            "error_x": {
             "color": "#2a3f5f"
            },
            "error_y": {
             "color": "#2a3f5f"
            },
            "marker": {
             "line": {
              "color": "#E5ECF6",
              "width": 0.5
             }
            },
            "type": "bar"
           }
          ],
          "barpolar": [
           {
            "marker": {
             "line": {
              "color": "#E5ECF6",
              "width": 0.5
             }
            },
            "type": "barpolar"
           }
          ],
          "carpet": [
           {
            "aaxis": {
             "endlinecolor": "#2a3f5f",
             "gridcolor": "white",
             "linecolor": "white",
             "minorgridcolor": "white",
             "startlinecolor": "#2a3f5f"
            },
            "baxis": {
             "endlinecolor": "#2a3f5f",
             "gridcolor": "white",
             "linecolor": "white",
             "minorgridcolor": "white",
             "startlinecolor": "#2a3f5f"
            },
            "type": "carpet"
           }
          ],
          "choropleth": [
           {
            "colorbar": {
             "outlinewidth": 0,
             "ticks": ""
            },
            "type": "choropleth"
           }
          ],
          "contour": [
           {
            "colorbar": {
             "outlinewidth": 0,
             "ticks": ""
            },
            "colorscale": [
             [
              0,
              "#0d0887"
             ],
             [
              0.1111111111111111,
              "#46039f"
             ],
             [
              0.2222222222222222,
              "#7201a8"
             ],
             [
              0.3333333333333333,
              "#9c179e"
             ],
             [
              0.4444444444444444,
              "#bd3786"
             ],
             [
              0.5555555555555556,
              "#d8576b"
             ],
             [
              0.6666666666666666,
              "#ed7953"
             ],
             [
              0.7777777777777778,
              "#fb9f3a"
             ],
             [
              0.8888888888888888,
              "#fdca26"
             ],
             [
              1,
              "#f0f921"
             ]
            ],
            "type": "contour"
           }
          ],
          "contourcarpet": [
           {
            "colorbar": {
             "outlinewidth": 0,
             "ticks": ""
            },
            "type": "contourcarpet"
           }
          ],
          "heatmap": [
           {
            "colorbar": {
             "outlinewidth": 0,
             "ticks": ""
            },
            "colorscale": [
             [
              0,
              "#0d0887"
             ],
             [
              0.1111111111111111,
              "#46039f"
             ],
             [
              0.2222222222222222,
              "#7201a8"
             ],
             [
              0.3333333333333333,
              "#9c179e"
             ],
             [
              0.4444444444444444,
              "#bd3786"
             ],
             [
              0.5555555555555556,
              "#d8576b"
             ],
             [
              0.6666666666666666,
              "#ed7953"
             ],
             [
              0.7777777777777778,
              "#fb9f3a"
             ],
             [
              0.8888888888888888,
              "#fdca26"
             ],
             [
              1,
              "#f0f921"
             ]
            ],
            "type": "heatmap"
           }
          ],
          "heatmapgl": [
           {
            "colorbar": {
             "outlinewidth": 0,
             "ticks": ""
            },
            "colorscale": [
             [
              0,
              "#0d0887"
             ],
             [
              0.1111111111111111,
              "#46039f"
             ],
             [
              0.2222222222222222,
              "#7201a8"
             ],
             [
              0.3333333333333333,
              "#9c179e"
             ],
             [
              0.4444444444444444,
              "#bd3786"
             ],
             [
              0.5555555555555556,
              "#d8576b"
             ],
             [
              0.6666666666666666,
              "#ed7953"
             ],
             [
              0.7777777777777778,
              "#fb9f3a"
             ],
             [
              0.8888888888888888,
              "#fdca26"
             ],
             [
              1,
              "#f0f921"
             ]
            ],
            "type": "heatmapgl"
           }
          ],
          "histogram": [
           {
            "marker": {
             "colorbar": {
              "outlinewidth": 0,
              "ticks": ""
             }
            },
            "type": "histogram"
           }
          ],
          "histogram2d": [
           {
            "colorbar": {
             "outlinewidth": 0,
             "ticks": ""
            },
            "colorscale": [
             [
              0,
              "#0d0887"
             ],
             [
              0.1111111111111111,
              "#46039f"
             ],
             [
              0.2222222222222222,
              "#7201a8"
             ],
             [
              0.3333333333333333,
              "#9c179e"
             ],
             [
              0.4444444444444444,
              "#bd3786"
             ],
             [
              0.5555555555555556,
              "#d8576b"
             ],
             [
              0.6666666666666666,
              "#ed7953"
             ],
             [
              0.7777777777777778,
              "#fb9f3a"
             ],
             [
              0.8888888888888888,
              "#fdca26"
             ],
             [
              1,
              "#f0f921"
             ]
            ],
            "type": "histogram2d"
           }
          ],
          "histogram2dcontour": [
           {
            "colorbar": {
             "outlinewidth": 0,
             "ticks": ""
            },
            "colorscale": [
             [
              0,
              "#0d0887"
             ],
             [
              0.1111111111111111,
              "#46039f"
             ],
             [
              0.2222222222222222,
              "#7201a8"
             ],
             [
              0.3333333333333333,
              "#9c179e"
             ],
             [
              0.4444444444444444,
              "#bd3786"
             ],
             [
              0.5555555555555556,
              "#d8576b"
             ],
             [
              0.6666666666666666,
              "#ed7953"
             ],
             [
              0.7777777777777778,
              "#fb9f3a"
             ],
             [
              0.8888888888888888,
              "#fdca26"
             ],
             [
              1,
              "#f0f921"
             ]
            ],
            "type": "histogram2dcontour"
           }
          ],
          "mesh3d": [
           {
            "colorbar": {
             "outlinewidth": 0,
             "ticks": ""
            },
            "type": "mesh3d"
           }
          ],
          "parcoords": [
           {
            "line": {
             "colorbar": {
              "outlinewidth": 0,
              "ticks": ""
             }
            },
            "type": "parcoords"
           }
          ],
          "pie": [
           {
            "automargin": true,
            "type": "pie"
           }
          ],
          "scatter": [
           {
            "marker": {
             "colorbar": {
              "outlinewidth": 0,
              "ticks": ""
             }
            },
            "type": "scatter"
           }
          ],
          "scatter3d": [
           {
            "line": {
             "colorbar": {
              "outlinewidth": 0,
              "ticks": ""
             }
            },
            "marker": {
             "colorbar": {
              "outlinewidth": 0,
              "ticks": ""
             }
            },
            "type": "scatter3d"
           }
          ],
          "scattercarpet": [
           {
            "marker": {
             "colorbar": {
              "outlinewidth": 0,
              "ticks": ""
             }
            },
            "type": "scattercarpet"
           }
          ],
          "scattergeo": [
           {
            "marker": {
             "colorbar": {
              "outlinewidth": 0,
              "ticks": ""
             }
            },
            "type": "scattergeo"
           }
          ],
          "scattergl": [
           {
            "marker": {
             "colorbar": {
              "outlinewidth": 0,
              "ticks": ""
             }
            },
            "type": "scattergl"
           }
          ],
          "scattermapbox": [
           {
            "marker": {
             "colorbar": {
              "outlinewidth": 0,
              "ticks": ""
             }
            },
            "type": "scattermapbox"
           }
          ],
          "scatterpolar": [
           {
            "marker": {
             "colorbar": {
              "outlinewidth": 0,
              "ticks": ""
             }
            },
            "type": "scatterpolar"
           }
          ],
          "scatterpolargl": [
           {
            "marker": {
             "colorbar": {
              "outlinewidth": 0,
              "ticks": ""
             }
            },
            "type": "scatterpolargl"
           }
          ],
          "scatterternary": [
           {
            "marker": {
             "colorbar": {
              "outlinewidth": 0,
              "ticks": ""
             }
            },
            "type": "scatterternary"
           }
          ],
          "surface": [
           {
            "colorbar": {
             "outlinewidth": 0,
             "ticks": ""
            },
            "colorscale": [
             [
              0,
              "#0d0887"
             ],
             [
              0.1111111111111111,
              "#46039f"
             ],
             [
              0.2222222222222222,
              "#7201a8"
             ],
             [
              0.3333333333333333,
              "#9c179e"
             ],
             [
              0.4444444444444444,
              "#bd3786"
             ],
             [
              0.5555555555555556,
              "#d8576b"
             ],
             [
              0.6666666666666666,
              "#ed7953"
             ],
             [
              0.7777777777777778,
              "#fb9f3a"
             ],
             [
              0.8888888888888888,
              "#fdca26"
             ],
             [
              1,
              "#f0f921"
             ]
            ],
            "type": "surface"
           }
          ],
          "table": [
           {
            "cells": {
             "fill": {
              "color": "#EBF0F8"
             },
             "line": {
              "color": "white"
             }
            },
            "header": {
             "fill": {
              "color": "#C8D4E3"
             },
             "line": {
              "color": "white"
             }
            },
            "type": "table"
           }
          ]
         },
         "layout": {
          "annotationdefaults": {
           "arrowcolor": "#2a3f5f",
           "arrowhead": 0,
           "arrowwidth": 1
          },
          "coloraxis": {
           "colorbar": {
            "outlinewidth": 0,
            "ticks": ""
           }
          },
          "colorscale": {
           "diverging": [
            [
             0,
             "#8e0152"
            ],
            [
             0.1,
             "#c51b7d"
            ],
            [
             0.2,
             "#de77ae"
            ],
            [
             0.3,
             "#f1b6da"
            ],
            [
             0.4,
             "#fde0ef"
            ],
            [
             0.5,
             "#f7f7f7"
            ],
            [
             0.6,
             "#e6f5d0"
            ],
            [
             0.7,
             "#b8e186"
            ],
            [
             0.8,
             "#7fbc41"
            ],
            [
             0.9,
             "#4d9221"
            ],
            [
             1,
             "#276419"
            ]
           ],
           "sequential": [
            [
             0,
             "#0d0887"
            ],
            [
             0.1111111111111111,
             "#46039f"
            ],
            [
             0.2222222222222222,
             "#7201a8"
            ],
            [
             0.3333333333333333,
             "#9c179e"
            ],
            [
             0.4444444444444444,
             "#bd3786"
            ],
            [
             0.5555555555555556,
             "#d8576b"
            ],
            [
             0.6666666666666666,
             "#ed7953"
            ],
            [
             0.7777777777777778,
             "#fb9f3a"
            ],
            [
             0.8888888888888888,
             "#fdca26"
            ],
            [
             1,
             "#f0f921"
            ]
           ],
           "sequentialminus": [
            [
             0,
             "#0d0887"
            ],
            [
             0.1111111111111111,
             "#46039f"
            ],
            [
             0.2222222222222222,
             "#7201a8"
            ],
            [
             0.3333333333333333,
             "#9c179e"
            ],
            [
             0.4444444444444444,
             "#bd3786"
            ],
            [
             0.5555555555555556,
             "#d8576b"
            ],
            [
             0.6666666666666666,
             "#ed7953"
            ],
            [
             0.7777777777777778,
             "#fb9f3a"
            ],
            [
             0.8888888888888888,
             "#fdca26"
            ],
            [
             1,
             "#f0f921"
            ]
           ]
          },
          "colorway": [
           "#636efa",
           "#EF553B",
           "#00cc96",
           "#ab63fa",
           "#FFA15A",
           "#19d3f3",
           "#FF6692",
           "#B6E880",
           "#FF97FF",
           "#FECB52"
          ],
          "font": {
           "color": "#2a3f5f"
          },
          "geo": {
           "bgcolor": "white",
           "lakecolor": "white",
           "landcolor": "#E5ECF6",
           "showlakes": true,
           "showland": true,
           "subunitcolor": "white"
          },
          "hoverlabel": {
           "align": "left"
          },
          "hovermode": "closest",
          "mapbox": {
           "style": "light"
          },
          "paper_bgcolor": "white",
          "plot_bgcolor": "#E5ECF6",
          "polar": {
           "angularaxis": {
            "gridcolor": "white",
            "linecolor": "white",
            "ticks": ""
           },
           "bgcolor": "#E5ECF6",
           "radialaxis": {
            "gridcolor": "white",
            "linecolor": "white",
            "ticks": ""
           }
          },
          "scene": {
           "xaxis": {
            "backgroundcolor": "#E5ECF6",
            "gridcolor": "white",
            "gridwidth": 2,
            "linecolor": "white",
            "showbackground": true,
            "ticks": "",
            "zerolinecolor": "white"
           },
           "yaxis": {
            "backgroundcolor": "#E5ECF6",
            "gridcolor": "white",
            "gridwidth": 2,
            "linecolor": "white",
            "showbackground": true,
            "ticks": "",
            "zerolinecolor": "white"
           },
           "zaxis": {
            "backgroundcolor": "#E5ECF6",
            "gridcolor": "white",
            "gridwidth": 2,
            "linecolor": "white",
            "showbackground": true,
            "ticks": "",
            "zerolinecolor": "white"
           }
          },
          "shapedefaults": {
           "line": {
            "color": "#2a3f5f"
           }
          },
          "ternary": {
           "aaxis": {
            "gridcolor": "white",
            "linecolor": "white",
            "ticks": ""
           },
           "baxis": {
            "gridcolor": "white",
            "linecolor": "white",
            "ticks": ""
           },
           "bgcolor": "#E5ECF6",
           "caxis": {
            "gridcolor": "white",
            "linecolor": "white",
            "ticks": ""
           }
          },
          "title": {
           "x": 0.05
          },
          "xaxis": {
           "automargin": true,
           "gridcolor": "white",
           "linecolor": "white",
           "ticks": "",
           "title": {
            "standoff": 15
           },
           "zerolinecolor": "white",
           "zerolinewidth": 2
          },
          "yaxis": {
           "automargin": true,
           "gridcolor": "white",
           "linecolor": "white",
           "ticks": "",
           "title": {
            "standoff": 15
           },
           "zerolinecolor": "white",
           "zerolinewidth": 2
          }
         }
        },
        "title": {
         "text": "Languages of the Distrtibuted Content"
        },
        "width": 800
       }
      }
     },
     "metadata": {}
    }
   ],
   "source": [
    "langPie = go.Figure()\n",
    "aLabels = articlesDF['lang'].value_counts().index\n",
    "aValues = articlesDF['lang'].value_counts().values\n",
    "langPie.add_trace(go.Pie(labels=aLabels, values=aValues))\n",
    "langPie.update_traces(textposition='outside', textinfo='percent+label',\\\n",
    "                               marker=dict(colors=['darkorange','gold','red','yellow','green'], line=dict(color='#000000', width=2)))\n",
    "langPie.update_layout(height=500, width=800, title_text=\"Languages of the Distrtibuted Content\")\n",
    "langPie.show()"
   ]
  },
  {
   "cell_type": "code",
   "execution_count": 143,
   "metadata": {},
   "outputs": [
    {
     "output_type": "display_data",
     "data": {
      "application/vnd.plotly.v1+json": {
       "config": {
        "plotlyServerURL": "https://plot.ly"
       },
       "data": [
        {
         "orientation": "h",
         "type": "bar",
         "x": [
          2360,
          214,
          213,
          200,
          35,
          5,
          0
         ],
         "y": [
          "NA",
          "Windows",
          "Linux",
          "Mac",
          "Android",
          "CrOS",
          "iOS"
         ]
        }
       ],
       "layout": {
        "height": 500,
        "template": {
         "data": {
          "bar": [
           {
            "error_x": {
             "color": "#2a3f5f"
            },
            "error_y": {
             "color": "#2a3f5f"
            },
            "marker": {
             "line": {
              "color": "#E5ECF6",
              "width": 0.5
             }
            },
            "type": "bar"
           }
          ],
          "barpolar": [
           {
            "marker": {
             "line": {
              "color": "#E5ECF6",
              "width": 0.5
             }
            },
            "type": "barpolar"
           }
          ],
          "carpet": [
           {
            "aaxis": {
             "endlinecolor": "#2a3f5f",
             "gridcolor": "white",
             "linecolor": "white",
             "minorgridcolor": "white",
             "startlinecolor": "#2a3f5f"
            },
            "baxis": {
             "endlinecolor": "#2a3f5f",
             "gridcolor": "white",
             "linecolor": "white",
             "minorgridcolor": "white",
             "startlinecolor": "#2a3f5f"
            },
            "type": "carpet"
           }
          ],
          "choropleth": [
           {
            "colorbar": {
             "outlinewidth": 0,
             "ticks": ""
            },
            "type": "choropleth"
           }
          ],
          "contour": [
           {
            "colorbar": {
             "outlinewidth": 0,
             "ticks": ""
            },
            "colorscale": [
             [
              0,
              "#0d0887"
             ],
             [
              0.1111111111111111,
              "#46039f"
             ],
             [
              0.2222222222222222,
              "#7201a8"
             ],
             [
              0.3333333333333333,
              "#9c179e"
             ],
             [
              0.4444444444444444,
              "#bd3786"
             ],
             [
              0.5555555555555556,
              "#d8576b"
             ],
             [
              0.6666666666666666,
              "#ed7953"
             ],
             [
              0.7777777777777778,
              "#fb9f3a"
             ],
             [
              0.8888888888888888,
              "#fdca26"
             ],
             [
              1,
              "#f0f921"
             ]
            ],
            "type": "contour"
           }
          ],
          "contourcarpet": [
           {
            "colorbar": {
             "outlinewidth": 0,
             "ticks": ""
            },
            "type": "contourcarpet"
           }
          ],
          "heatmap": [
           {
            "colorbar": {
             "outlinewidth": 0,
             "ticks": ""
            },
            "colorscale": [
             [
              0,
              "#0d0887"
             ],
             [
              0.1111111111111111,
              "#46039f"
             ],
             [
              0.2222222222222222,
              "#7201a8"
             ],
             [
              0.3333333333333333,
              "#9c179e"
             ],
             [
              0.4444444444444444,
              "#bd3786"
             ],
             [
              0.5555555555555556,
              "#d8576b"
             ],
             [
              0.6666666666666666,
              "#ed7953"
             ],
             [
              0.7777777777777778,
              "#fb9f3a"
             ],
             [
              0.8888888888888888,
              "#fdca26"
             ],
             [
              1,
              "#f0f921"
             ]
            ],
            "type": "heatmap"
           }
          ],
          "heatmapgl": [
           {
            "colorbar": {
             "outlinewidth": 0,
             "ticks": ""
            },
            "colorscale": [
             [
              0,
              "#0d0887"
             ],
             [
              0.1111111111111111,
              "#46039f"
             ],
             [
              0.2222222222222222,
              "#7201a8"
             ],
             [
              0.3333333333333333,
              "#9c179e"
             ],
             [
              0.4444444444444444,
              "#bd3786"
             ],
             [
              0.5555555555555556,
              "#d8576b"
             ],
             [
              0.6666666666666666,
              "#ed7953"
             ],
             [
              0.7777777777777778,
              "#fb9f3a"
             ],
             [
              0.8888888888888888,
              "#fdca26"
             ],
             [
              1,
              "#f0f921"
             ]
            ],
            "type": "heatmapgl"
           }
          ],
          "histogram": [
           {
            "marker": {
             "colorbar": {
              "outlinewidth": 0,
              "ticks": ""
             }
            },
            "type": "histogram"
           }
          ],
          "histogram2d": [
           {
            "colorbar": {
             "outlinewidth": 0,
             "ticks": ""
            },
            "colorscale": [
             [
              0,
              "#0d0887"
             ],
             [
              0.1111111111111111,
              "#46039f"
             ],
             [
              0.2222222222222222,
              "#7201a8"
             ],
             [
              0.3333333333333333,
              "#9c179e"
             ],
             [
              0.4444444444444444,
              "#bd3786"
             ],
             [
              0.5555555555555556,
              "#d8576b"
             ],
             [
              0.6666666666666666,
              "#ed7953"
             ],
             [
              0.7777777777777778,
              "#fb9f3a"
             ],
             [
              0.8888888888888888,
              "#fdca26"
             ],
             [
              1,
              "#f0f921"
             ]
            ],
            "type": "histogram2d"
           }
          ],
          "histogram2dcontour": [
           {
            "colorbar": {
             "outlinewidth": 0,
             "ticks": ""
            },
            "colorscale": [
             [
              0,
              "#0d0887"
             ],
             [
              0.1111111111111111,
              "#46039f"
             ],
             [
              0.2222222222222222,
              "#7201a8"
             ],
             [
              0.3333333333333333,
              "#9c179e"
             ],
             [
              0.4444444444444444,
              "#bd3786"
             ],
             [
              0.5555555555555556,
              "#d8576b"
             ],
             [
              0.6666666666666666,
              "#ed7953"
             ],
             [
              0.7777777777777778,
              "#fb9f3a"
             ],
             [
              0.8888888888888888,
              "#fdca26"
             ],
             [
              1,
              "#f0f921"
             ]
            ],
            "type": "histogram2dcontour"
           }
          ],
          "mesh3d": [
           {
            "colorbar": {
             "outlinewidth": 0,
             "ticks": ""
            },
            "type": "mesh3d"
           }
          ],
          "parcoords": [
           {
            "line": {
             "colorbar": {
              "outlinewidth": 0,
              "ticks": ""
             }
            },
            "type": "parcoords"
           }
          ],
          "pie": [
           {
            "automargin": true,
            "type": "pie"
           }
          ],
          "scatter": [
           {
            "marker": {
             "colorbar": {
              "outlinewidth": 0,
              "ticks": ""
             }
            },
            "type": "scatter"
           }
          ],
          "scatter3d": [
           {
            "line": {
             "colorbar": {
              "outlinewidth": 0,
              "ticks": ""
             }
            },
            "marker": {
             "colorbar": {
              "outlinewidth": 0,
              "ticks": ""
             }
            },
            "type": "scatter3d"
           }
          ],
          "scattercarpet": [
           {
            "marker": {
             "colorbar": {
              "outlinewidth": 0,
              "ticks": ""
             }
            },
            "type": "scattercarpet"
           }
          ],
          "scattergeo": [
           {
            "marker": {
             "colorbar": {
              "outlinewidth": 0,
              "ticks": ""
             }
            },
            "type": "scattergeo"
           }
          ],
          "scattergl": [
           {
            "marker": {
             "colorbar": {
              "outlinewidth": 0,
              "ticks": ""
             }
            },
            "type": "scattergl"
           }
          ],
          "scattermapbox": [
           {
            "marker": {
             "colorbar": {
              "outlinewidth": 0,
              "ticks": ""
             }
            },
            "type": "scattermapbox"
           }
          ],
          "scatterpolar": [
           {
            "marker": {
             "colorbar": {
              "outlinewidth": 0,
              "ticks": ""
             }
            },
            "type": "scatterpolar"
           }
          ],
          "scatterpolargl": [
           {
            "marker": {
             "colorbar": {
              "outlinewidth": 0,
              "ticks": ""
             }
            },
            "type": "scatterpolargl"
           }
          ],
          "scatterternary": [
           {
            "marker": {
             "colorbar": {
              "outlinewidth": 0,
              "ticks": ""
             }
            },
            "type": "scatterternary"
           }
          ],
          "surface": [
           {
            "colorbar": {
             "outlinewidth": 0,
             "ticks": ""
            },
            "colorscale": [
             [
              0,
              "#0d0887"
             ],
             [
              0.1111111111111111,
              "#46039f"
             ],
             [
              0.2222222222222222,
              "#7201a8"
             ],
             [
              0.3333333333333333,
              "#9c179e"
             ],
             [
              0.4444444444444444,
              "#bd3786"
             ],
             [
              0.5555555555555556,
              "#d8576b"
             ],
             [
              0.6666666666666666,
              "#ed7953"
             ],
             [
              0.7777777777777778,
              "#fb9f3a"
             ],
             [
              0.8888888888888888,
              "#fdca26"
             ],
             [
              1,
              "#f0f921"
             ]
            ],
            "type": "surface"
           }
          ],
          "table": [
           {
            "cells": {
             "fill": {
              "color": "#EBF0F8"
             },
             "line": {
              "color": "white"
             }
            },
            "header": {
             "fill": {
              "color": "#C8D4E3"
             },
             "line": {
              "color": "white"
             }
            },
            "type": "table"
           }
          ]
         },
         "layout": {
          "annotationdefaults": {
           "arrowcolor": "#2a3f5f",
           "arrowhead": 0,
           "arrowwidth": 1
          },
          "coloraxis": {
           "colorbar": {
            "outlinewidth": 0,
            "ticks": ""
           }
          },
          "colorscale": {
           "diverging": [
            [
             0,
             "#8e0152"
            ],
            [
             0.1,
             "#c51b7d"
            ],
            [
             0.2,
             "#de77ae"
            ],
            [
             0.3,
             "#f1b6da"
            ],
            [
             0.4,
             "#fde0ef"
            ],
            [
             0.5,
             "#f7f7f7"
            ],
            [
             0.6,
             "#e6f5d0"
            ],
            [
             0.7,
             "#b8e186"
            ],
            [
             0.8,
             "#7fbc41"
            ],
            [
             0.9,
             "#4d9221"
            ],
            [
             1,
             "#276419"
            ]
           ],
           "sequential": [
            [
             0,
             "#0d0887"
            ],
            [
             0.1111111111111111,
             "#46039f"
            ],
            [
             0.2222222222222222,
             "#7201a8"
            ],
            [
             0.3333333333333333,
             "#9c179e"
            ],
            [
             0.4444444444444444,
             "#bd3786"
            ],
            [
             0.5555555555555556,
             "#d8576b"
            ],
            [
             0.6666666666666666,
             "#ed7953"
            ],
            [
             0.7777777777777778,
             "#fb9f3a"
            ],
            [
             0.8888888888888888,
             "#fdca26"
            ],
            [
             1,
             "#f0f921"
            ]
           ],
           "sequentialminus": [
            [
             0,
             "#0d0887"
            ],
            [
             0.1111111111111111,
             "#46039f"
            ],
            [
             0.2222222222222222,
             "#7201a8"
            ],
            [
             0.3333333333333333,
             "#9c179e"
            ],
            [
             0.4444444444444444,
             "#bd3786"
            ],
            [
             0.5555555555555556,
             "#d8576b"
            ],
            [
             0.6666666666666666,
             "#ed7953"
            ],
            [
             0.7777777777777778,
             "#fb9f3a"
            ],
            [
             0.8888888888888888,
             "#fdca26"
            ],
            [
             1,
             "#f0f921"
            ]
           ]
          },
          "colorway": [
           "#636efa",
           "#EF553B",
           "#00cc96",
           "#ab63fa",
           "#FFA15A",
           "#19d3f3",
           "#FF6692",
           "#B6E880",
           "#FF97FF",
           "#FECB52"
          ],
          "font": {
           "color": "#2a3f5f"
          },
          "geo": {
           "bgcolor": "white",
           "lakecolor": "white",
           "landcolor": "#E5ECF6",
           "showlakes": true,
           "showland": true,
           "subunitcolor": "white"
          },
          "hoverlabel": {
           "align": "left"
          },
          "hovermode": "closest",
          "mapbox": {
           "style": "light"
          },
          "paper_bgcolor": "white",
          "plot_bgcolor": "#E5ECF6",
          "polar": {
           "angularaxis": {
            "gridcolor": "white",
            "linecolor": "white",
            "ticks": ""
           },
           "bgcolor": "#E5ECF6",
           "radialaxis": {
            "gridcolor": "white",
            "linecolor": "white",
            "ticks": ""
           }
          },
          "scene": {
           "xaxis": {
            "backgroundcolor": "#E5ECF6",
            "gridcolor": "white",
            "gridwidth": 2,
            "linecolor": "white",
            "showbackground": true,
            "ticks": "",
            "zerolinecolor": "white"
           },
           "yaxis": {
            "backgroundcolor": "#E5ECF6",
            "gridcolor": "white",
            "gridwidth": 2,
            "linecolor": "white",
            "showbackground": true,
            "ticks": "",
            "zerolinecolor": "white"
           },
           "zaxis": {
            "backgroundcolor": "#E5ECF6",
            "gridcolor": "white",
            "gridwidth": 2,
            "linecolor": "white",
            "showbackground": true,
            "ticks": "",
            "zerolinecolor": "white"
           }
          },
          "shapedefaults": {
           "line": {
            "color": "#2a3f5f"
           }
          },
          "ternary": {
           "aaxis": {
            "gridcolor": "white",
            "linecolor": "white",
            "ticks": ""
           },
           "baxis": {
            "gridcolor": "white",
            "linecolor": "white",
            "ticks": ""
           },
           "bgcolor": "#E5ECF6",
           "caxis": {
            "gridcolor": "white",
            "linecolor": "white",
            "ticks": ""
           }
          },
          "title": {
           "x": 0.05
          },
          "xaxis": {
           "automargin": true,
           "gridcolor": "white",
           "linecolor": "white",
           "ticks": "",
           "title": {
            "standoff": 15
           },
           "zerolinecolor": "white",
           "zerolinewidth": 2
          },
          "yaxis": {
           "automargin": true,
           "gridcolor": "white",
           "linecolor": "white",
           "ticks": "",
           "title": {
            "standoff": 15
           },
           "zerolinecolor": "white",
           "zerolinewidth": 2
          }
         }
        },
        "title": {
         "text": "Distribution of the Devices used by the Authors"
        },
        "width": 800,
        "yaxis": {
         "categoryorder": "total ascending"
        }
       }
      }
     },
     "metadata": {}
    }
   ],
   "source": [
    "#Create a new column 'authorUserAgentNew' to categorize values for the column 'authorUserAgent' and fill in the missing values\n",
    "userAgentValues = pd.Series([\"Android\", \"Windows\",\"Linux\",\"Mac\",\"iOS\", \"NA\", \"CrOS\"], dtype = \"category\")\n",
    "articlesDF['authorUserAgent'].fillna(\"NA\",inplace=True)\n",
    "articlesDF['authorUserAgentNew'] = userAgentValues\n",
    "for iX, val in userAgentValues.iteritems():\n",
    "    articlesDF.loc[articlesDF.authorUserAgent.str.contains(val, na=False), 'authorUserAgentNew'] = val\n",
    "#articlesDF['authorUserAgentNew'].value_counts()\n",
    "#articlesDF['authorUserAgentNew'].value_counts().sum()\n",
    "barAuthorAgents = go.Figure()\n",
    "barAuthorAgents.add_trace(go.Bar(x=articlesDF['authorUserAgentNew'].value_counts().values,y=articlesDF['authorUserAgentNew'].value_counts().index, orientation='h'))\n",
    "barAuthorAgents.update_layout(height=500, width=800, title_text=\"Distribution of the Devices used by the Authors\")\n",
    "barAuthorAgents.update_yaxes(categoryorder = 'total ascending')\n",
    "barAuthorAgents.show()"
   ]
  },
  {
   "cell_type": "code",
   "execution_count": 144,
   "metadata": {},
   "outputs": [
    {
     "output_type": "display_data",
     "data": {
      "application/vnd.plotly.v1+json": {
       "config": {
        "plotlyServerURL": "https://plot.ly"
       },
       "data": [
        {
         "orientation": "h",
         "type": "bar",
         "x": [
          22450,
          15220,
          13912,
          13068,
          6688,
          152,
          83
         ],
         "y": [
          "Windows",
          "NA",
          "Mac",
          "Linux",
          "Android",
          "iOS",
          "CrOS"
         ]
        }
       ],
       "layout": {
        "height": 500,
        "template": {
         "data": {
          "bar": [
           {
            "error_x": {
             "color": "#2a3f5f"
            },
            "error_y": {
             "color": "#2a3f5f"
            },
            "marker": {
             "line": {
              "color": "#E5ECF6",
              "width": 0.5
             }
            },
            "type": "bar"
           }
          ],
          "barpolar": [
           {
            "marker": {
             "line": {
              "color": "#E5ECF6",
              "width": 0.5
             }
            },
            "type": "barpolar"
           }
          ],
          "carpet": [
           {
            "aaxis": {
             "endlinecolor": "#2a3f5f",
             "gridcolor": "white",
             "linecolor": "white",
             "minorgridcolor": "white",
             "startlinecolor": "#2a3f5f"
            },
            "baxis": {
             "endlinecolor": "#2a3f5f",
             "gridcolor": "white",
             "linecolor": "white",
             "minorgridcolor": "white",
             "startlinecolor": "#2a3f5f"
            },
            "type": "carpet"
           }
          ],
          "choropleth": [
           {
            "colorbar": {
             "outlinewidth": 0,
             "ticks": ""
            },
            "type": "choropleth"
           }
          ],
          "contour": [
           {
            "colorbar": {
             "outlinewidth": 0,
             "ticks": ""
            },
            "colorscale": [
             [
              0,
              "#0d0887"
             ],
             [
              0.1111111111111111,
              "#46039f"
             ],
             [
              0.2222222222222222,
              "#7201a8"
             ],
             [
              0.3333333333333333,
              "#9c179e"
             ],
             [
              0.4444444444444444,
              "#bd3786"
             ],
             [
              0.5555555555555556,
              "#d8576b"
             ],
             [
              0.6666666666666666,
              "#ed7953"
             ],
             [
              0.7777777777777778,
              "#fb9f3a"
             ],
             [
              0.8888888888888888,
              "#fdca26"
             ],
             [
              1,
              "#f0f921"
             ]
            ],
            "type": "contour"
           }
          ],
          "contourcarpet": [
           {
            "colorbar": {
             "outlinewidth": 0,
             "ticks": ""
            },
            "type": "contourcarpet"
           }
          ],
          "heatmap": [
           {
            "colorbar": {
             "outlinewidth": 0,
             "ticks": ""
            },
            "colorscale": [
             [
              0,
              "#0d0887"
             ],
             [
              0.1111111111111111,
              "#46039f"
             ],
             [
              0.2222222222222222,
              "#7201a8"
             ],
             [
              0.3333333333333333,
              "#9c179e"
             ],
             [
              0.4444444444444444,
              "#bd3786"
             ],
             [
              0.5555555555555556,
              "#d8576b"
             ],
             [
              0.6666666666666666,
              "#ed7953"
             ],
             [
              0.7777777777777778,
              "#fb9f3a"
             ],
             [
              0.8888888888888888,
              "#fdca26"
             ],
             [
              1,
              "#f0f921"
             ]
            ],
            "type": "heatmap"
           }
          ],
          "heatmapgl": [
           {
            "colorbar": {
             "outlinewidth": 0,
             "ticks": ""
            },
            "colorscale": [
             [
              0,
              "#0d0887"
             ],
             [
              0.1111111111111111,
              "#46039f"
             ],
             [
              0.2222222222222222,
              "#7201a8"
             ],
             [
              0.3333333333333333,
              "#9c179e"
             ],
             [
              0.4444444444444444,
              "#bd3786"
             ],
             [
              0.5555555555555556,
              "#d8576b"
             ],
             [
              0.6666666666666666,
              "#ed7953"
             ],
             [
              0.7777777777777778,
              "#fb9f3a"
             ],
             [
              0.8888888888888888,
              "#fdca26"
             ],
             [
              1,
              "#f0f921"
             ]
            ],
            "type": "heatmapgl"
           }
          ],
          "histogram": [
           {
            "marker": {
             "colorbar": {
              "outlinewidth": 0,
              "ticks": ""
             }
            },
            "type": "histogram"
           }
          ],
          "histogram2d": [
           {
            "colorbar": {
             "outlinewidth": 0,
             "ticks": ""
            },
            "colorscale": [
             [
              0,
              "#0d0887"
             ],
             [
              0.1111111111111111,
              "#46039f"
             ],
             [
              0.2222222222222222,
              "#7201a8"
             ],
             [
              0.3333333333333333,
              "#9c179e"
             ],
             [
              0.4444444444444444,
              "#bd3786"
             ],
             [
              0.5555555555555556,
              "#d8576b"
             ],
             [
              0.6666666666666666,
              "#ed7953"
             ],
             [
              0.7777777777777778,
              "#fb9f3a"
             ],
             [
              0.8888888888888888,
              "#fdca26"
             ],
             [
              1,
              "#f0f921"
             ]
            ],
            "type": "histogram2d"
           }
          ],
          "histogram2dcontour": [
           {
            "colorbar": {
             "outlinewidth": 0,
             "ticks": ""
            },
            "colorscale": [
             [
              0,
              "#0d0887"
             ],
             [
              0.1111111111111111,
              "#46039f"
             ],
             [
              0.2222222222222222,
              "#7201a8"
             ],
             [
              0.3333333333333333,
              "#9c179e"
             ],
             [
              0.4444444444444444,
              "#bd3786"
             ],
             [
              0.5555555555555556,
              "#d8576b"
             ],
             [
              0.6666666666666666,
              "#ed7953"
             ],
             [
              0.7777777777777778,
              "#fb9f3a"
             ],
             [
              0.8888888888888888,
              "#fdca26"
             ],
             [
              1,
              "#f0f921"
             ]
            ],
            "type": "histogram2dcontour"
           }
          ],
          "mesh3d": [
           {
            "colorbar": {
             "outlinewidth": 0,
             "ticks": ""
            },
            "type": "mesh3d"
           }
          ],
          "parcoords": [
           {
            "line": {
             "colorbar": {
              "outlinewidth": 0,
              "ticks": ""
             }
            },
            "type": "parcoords"
           }
          ],
          "pie": [
           {
            "automargin": true,
            "type": "pie"
           }
          ],
          "scatter": [
           {
            "marker": {
             "colorbar": {
              "outlinewidth": 0,
              "ticks": ""
             }
            },
            "type": "scatter"
           }
          ],
          "scatter3d": [
           {
            "line": {
             "colorbar": {
              "outlinewidth": 0,
              "ticks": ""
             }
            },
            "marker": {
             "colorbar": {
              "outlinewidth": 0,
              "ticks": ""
             }
            },
            "type": "scatter3d"
           }
          ],
          "scattercarpet": [
           {
            "marker": {
             "colorbar": {
              "outlinewidth": 0,
              "ticks": ""
             }
            },
            "type": "scattercarpet"
           }
          ],
          "scattergeo": [
           {
            "marker": {
             "colorbar": {
              "outlinewidth": 0,
              "ticks": ""
             }
            },
            "type": "scattergeo"
           }
          ],
          "scattergl": [
           {
            "marker": {
             "colorbar": {
              "outlinewidth": 0,
              "ticks": ""
             }
            },
            "type": "scattergl"
           }
          ],
          "scattermapbox": [
           {
            "marker": {
             "colorbar": {
              "outlinewidth": 0,
              "ticks": ""
             }
            },
            "type": "scattermapbox"
           }
          ],
          "scatterpolar": [
           {
            "marker": {
             "colorbar": {
              "outlinewidth": 0,
              "ticks": ""
             }
            },
            "type": "scatterpolar"
           }
          ],
          "scatterpolargl": [
           {
            "marker": {
             "colorbar": {
              "outlinewidth": 0,
              "ticks": ""
             }
            },
            "type": "scatterpolargl"
           }
          ],
          "scatterternary": [
           {
            "marker": {
             "colorbar": {
              "outlinewidth": 0,
              "ticks": ""
             }
            },
            "type": "scatterternary"
           }
          ],
          "surface": [
           {
            "colorbar": {
             "outlinewidth": 0,
             "ticks": ""
            },
            "colorscale": [
             [
              0,
              "#0d0887"
             ],
             [
              0.1111111111111111,
              "#46039f"
             ],
             [
              0.2222222222222222,
              "#7201a8"
             ],
             [
              0.3333333333333333,
              "#9c179e"
             ],
             [
              0.4444444444444444,
              "#bd3786"
             ],
             [
              0.5555555555555556,
              "#d8576b"
             ],
             [
              0.6666666666666666,
              "#ed7953"
             ],
             [
              0.7777777777777778,
              "#fb9f3a"
             ],
             [
              0.8888888888888888,
              "#fdca26"
             ],
             [
              1,
              "#f0f921"
             ]
            ],
            "type": "surface"
           }
          ],
          "table": [
           {
            "cells": {
             "fill": {
              "color": "#EBF0F8"
             },
             "line": {
              "color": "white"
             }
            },
            "header": {
             "fill": {
              "color": "#C8D4E3"
             },
             "line": {
              "color": "white"
             }
            },
            "type": "table"
           }
          ]
         },
         "layout": {
          "annotationdefaults": {
           "arrowcolor": "#2a3f5f",
           "arrowhead": 0,
           "arrowwidth": 1
          },
          "coloraxis": {
           "colorbar": {
            "outlinewidth": 0,
            "ticks": ""
           }
          },
          "colorscale": {
           "diverging": [
            [
             0,
             "#8e0152"
            ],
            [
             0.1,
             "#c51b7d"
            ],
            [
             0.2,
             "#de77ae"
            ],
            [
             0.3,
             "#f1b6da"
            ],
            [
             0.4,
             "#fde0ef"
            ],
            [
             0.5,
             "#f7f7f7"
            ],
            [
             0.6,
             "#e6f5d0"
            ],
            [
             0.7,
             "#b8e186"
            ],
            [
             0.8,
             "#7fbc41"
            ],
            [
             0.9,
             "#4d9221"
            ],
            [
             1,
             "#276419"
            ]
           ],
           "sequential": [
            [
             0,
             "#0d0887"
            ],
            [
             0.1111111111111111,
             "#46039f"
            ],
            [
             0.2222222222222222,
             "#7201a8"
            ],
            [
             0.3333333333333333,
             "#9c179e"
            ],
            [
             0.4444444444444444,
             "#bd3786"
            ],
            [
             0.5555555555555556,
             "#d8576b"
            ],
            [
             0.6666666666666666,
             "#ed7953"
            ],
            [
             0.7777777777777778,
             "#fb9f3a"
            ],
            [
             0.8888888888888888,
             "#fdca26"
            ],
            [
             1,
             "#f0f921"
            ]
           ],
           "sequentialminus": [
            [
             0,
             "#0d0887"
            ],
            [
             0.1111111111111111,
             "#46039f"
            ],
            [
             0.2222222222222222,
             "#7201a8"
            ],
            [
             0.3333333333333333,
             "#9c179e"
            ],
            [
             0.4444444444444444,
             "#bd3786"
            ],
            [
             0.5555555555555556,
             "#d8576b"
            ],
            [
             0.6666666666666666,
             "#ed7953"
            ],
            [
             0.7777777777777778,
             "#fb9f3a"
            ],
            [
             0.8888888888888888,
             "#fdca26"
            ],
            [
             1,
             "#f0f921"
            ]
           ]
          },
          "colorway": [
           "#636efa",
           "#EF553B",
           "#00cc96",
           "#ab63fa",
           "#FFA15A",
           "#19d3f3",
           "#FF6692",
           "#B6E880",
           "#FF97FF",
           "#FECB52"
          ],
          "font": {
           "color": "#2a3f5f"
          },
          "geo": {
           "bgcolor": "white",
           "lakecolor": "white",
           "landcolor": "#E5ECF6",
           "showlakes": true,
           "showland": true,
           "subunitcolor": "white"
          },
          "hoverlabel": {
           "align": "left"
          },
          "hovermode": "closest",
          "mapbox": {
           "style": "light"
          },
          "paper_bgcolor": "white",
          "plot_bgcolor": "#E5ECF6",
          "polar": {
           "angularaxis": {
            "gridcolor": "white",
            "linecolor": "white",
            "ticks": ""
           },
           "bgcolor": "#E5ECF6",
           "radialaxis": {
            "gridcolor": "white",
            "linecolor": "white",
            "ticks": ""
           }
          },
          "scene": {
           "xaxis": {
            "backgroundcolor": "#E5ECF6",
            "gridcolor": "white",
            "gridwidth": 2,
            "linecolor": "white",
            "showbackground": true,
            "ticks": "",
            "zerolinecolor": "white"
           },
           "yaxis": {
            "backgroundcolor": "#E5ECF6",
            "gridcolor": "white",
            "gridwidth": 2,
            "linecolor": "white",
            "showbackground": true,
            "ticks": "",
            "zerolinecolor": "white"
           },
           "zaxis": {
            "backgroundcolor": "#E5ECF6",
            "gridcolor": "white",
            "gridwidth": 2,
            "linecolor": "white",
            "showbackground": true,
            "ticks": "",
            "zerolinecolor": "white"
           }
          },
          "shapedefaults": {
           "line": {
            "color": "#2a3f5f"
           }
          },
          "ternary": {
           "aaxis": {
            "gridcolor": "white",
            "linecolor": "white",
            "ticks": ""
           },
           "baxis": {
            "gridcolor": "white",
            "linecolor": "white",
            "ticks": ""
           },
           "bgcolor": "#E5ECF6",
           "caxis": {
            "gridcolor": "white",
            "linecolor": "white",
            "ticks": ""
           }
          },
          "title": {
           "x": 0.05
          },
          "xaxis": {
           "automargin": true,
           "gridcolor": "white",
           "linecolor": "white",
           "ticks": "",
           "title": {
            "standoff": 15
           },
           "zerolinecolor": "white",
           "zerolinewidth": 2
          },
          "yaxis": {
           "automargin": true,
           "gridcolor": "white",
           "linecolor": "white",
           "ticks": "",
           "title": {
            "standoff": 15
           },
           "zerolinecolor": "white",
           "zerolinewidth": 2
          }
         }
        },
        "title": {
         "text": "Distribution of the Devices used by the Users"
        },
        "width": 800,
        "yaxis": {
         "categoryorder": "total ascending"
        }
       }
      }
     },
     "metadata": {}
    }
   ],
   "source": [
    "#Create a new column 'UserAgentNew' to categorize values for the column 'userAgent' and fill in the missing values\n",
    "interactionsDF['userAgentNew'] = userAgentValues\n",
    "interactionsDF['userAgent'].fillna(\"NA\",inplace=True)\n",
    "for iX,val in userAgentValues.iteritems():\n",
    "    interactionsDF.loc[interactionsDF.userAgent.str.contains(val, na=False), 'userAgentNew'] = val\n",
    "\n",
    "\n",
    "\n",
    "barUserAgents = go.Figure()\n",
    "barUserAgents.add_trace(go.Bar(x=interactionsDF['userAgentNew'].value_counts().values,y=interactionsDF['userAgentNew'].value_counts().index,orientation='h'))\n",
    "barUserAgents.update_layout(height=500, width=800, title_text=\"Distribution of the Devices used by the Users\")\n",
    "barUserAgents.update_yaxes(categoryorder = 'total ascending')\n",
    "barUserAgents.show()\n",
    "\n",
    "#interactionsDF['userAgentNew'].value_counts()\n",
    "#interactionsDF['authorUserAgentNew'].value_counts().sum()"
   ]
  },
  {
   "cell_type": "code",
   "execution_count": 145,
   "metadata": {},
   "outputs": [
    {
     "output_type": "display_data",
     "data": {
      "application/vnd.plotly.v1+json": {
       "config": {
        "plotlyServerURL": "https://plot.ly"
       },
       "data": [
        {
         "type": "bar",
         "x": [
          "VIEW",
          "LIKE",
          "BOOKMARK",
          "COMMENT CREATED",
          "FOLLOW"
         ],
         "y": [
          60418,
          5718,
          2449,
          1593,
          1395
         ]
        }
       ],
       "layout": {
        "height": 500,
        "template": {
         "data": {
          "bar": [
           {
            "error_x": {
             "color": "#2a3f5f"
            },
            "error_y": {
             "color": "#2a3f5f"
            },
            "marker": {
             "line": {
              "color": "#E5ECF6",
              "width": 0.5
             }
            },
            "type": "bar"
           }
          ],
          "barpolar": [
           {
            "marker": {
             "line": {
              "color": "#E5ECF6",
              "width": 0.5
             }
            },
            "type": "barpolar"
           }
          ],
          "carpet": [
           {
            "aaxis": {
             "endlinecolor": "#2a3f5f",
             "gridcolor": "white",
             "linecolor": "white",
             "minorgridcolor": "white",
             "startlinecolor": "#2a3f5f"
            },
            "baxis": {
             "endlinecolor": "#2a3f5f",
             "gridcolor": "white",
             "linecolor": "white",
             "minorgridcolor": "white",
             "startlinecolor": "#2a3f5f"
            },
            "type": "carpet"
           }
          ],
          "choropleth": [
           {
            "colorbar": {
             "outlinewidth": 0,
             "ticks": ""
            },
            "type": "choropleth"
           }
          ],
          "contour": [
           {
            "colorbar": {
             "outlinewidth": 0,
             "ticks": ""
            },
            "colorscale": [
             [
              0,
              "#0d0887"
             ],
             [
              0.1111111111111111,
              "#46039f"
             ],
             [
              0.2222222222222222,
              "#7201a8"
             ],
             [
              0.3333333333333333,
              "#9c179e"
             ],
             [
              0.4444444444444444,
              "#bd3786"
             ],
             [
              0.5555555555555556,
              "#d8576b"
             ],
             [
              0.6666666666666666,
              "#ed7953"
             ],
             [
              0.7777777777777778,
              "#fb9f3a"
             ],
             [
              0.8888888888888888,
              "#fdca26"
             ],
             [
              1,
              "#f0f921"
             ]
            ],
            "type": "contour"
           }
          ],
          "contourcarpet": [
           {
            "colorbar": {
             "outlinewidth": 0,
             "ticks": ""
            },
            "type": "contourcarpet"
           }
          ],
          "heatmap": [
           {
            "colorbar": {
             "outlinewidth": 0,
             "ticks": ""
            },
            "colorscale": [
             [
              0,
              "#0d0887"
             ],
             [
              0.1111111111111111,
              "#46039f"
             ],
             [
              0.2222222222222222,
              "#7201a8"
             ],
             [
              0.3333333333333333,
              "#9c179e"
             ],
             [
              0.4444444444444444,
              "#bd3786"
             ],
             [
              0.5555555555555556,
              "#d8576b"
             ],
             [
              0.6666666666666666,
              "#ed7953"
             ],
             [
              0.7777777777777778,
              "#fb9f3a"
             ],
             [
              0.8888888888888888,
              "#fdca26"
             ],
             [
              1,
              "#f0f921"
             ]
            ],
            "type": "heatmap"
           }
          ],
          "heatmapgl": [
           {
            "colorbar": {
             "outlinewidth": 0,
             "ticks": ""
            },
            "colorscale": [
             [
              0,
              "#0d0887"
             ],
             [
              0.1111111111111111,
              "#46039f"
             ],
             [
              0.2222222222222222,
              "#7201a8"
             ],
             [
              0.3333333333333333,
              "#9c179e"
             ],
             [
              0.4444444444444444,
              "#bd3786"
             ],
             [
              0.5555555555555556,
              "#d8576b"
             ],
             [
              0.6666666666666666,
              "#ed7953"
             ],
             [
              0.7777777777777778,
              "#fb9f3a"
             ],
             [
              0.8888888888888888,
              "#fdca26"
             ],
             [
              1,
              "#f0f921"
             ]
            ],
            "type": "heatmapgl"
           }
          ],
          "histogram": [
           {
            "marker": {
             "colorbar": {
              "outlinewidth": 0,
              "ticks": ""
             }
            },
            "type": "histogram"
           }
          ],
          "histogram2d": [
           {
            "colorbar": {
             "outlinewidth": 0,
             "ticks": ""
            },
            "colorscale": [
             [
              0,
              "#0d0887"
             ],
             [
              0.1111111111111111,
              "#46039f"
             ],
             [
              0.2222222222222222,
              "#7201a8"
             ],
             [
              0.3333333333333333,
              "#9c179e"
             ],
             [
              0.4444444444444444,
              "#bd3786"
             ],
             [
              0.5555555555555556,
              "#d8576b"
             ],
             [
              0.6666666666666666,
              "#ed7953"
             ],
             [
              0.7777777777777778,
              "#fb9f3a"
             ],
             [
              0.8888888888888888,
              "#fdca26"
             ],
             [
              1,
              "#f0f921"
             ]
            ],
            "type": "histogram2d"
           }
          ],
          "histogram2dcontour": [
           {
            "colorbar": {
             "outlinewidth": 0,
             "ticks": ""
            },
            "colorscale": [
             [
              0,
              "#0d0887"
             ],
             [
              0.1111111111111111,
              "#46039f"
             ],
             [
              0.2222222222222222,
              "#7201a8"
             ],
             [
              0.3333333333333333,
              "#9c179e"
             ],
             [
              0.4444444444444444,
              "#bd3786"
             ],
             [
              0.5555555555555556,
              "#d8576b"
             ],
             [
              0.6666666666666666,
              "#ed7953"
             ],
             [
              0.7777777777777778,
              "#fb9f3a"
             ],
             [
              0.8888888888888888,
              "#fdca26"
             ],
             [
              1,
              "#f0f921"
             ]
            ],
            "type": "histogram2dcontour"
           }
          ],
          "mesh3d": [
           {
            "colorbar": {
             "outlinewidth": 0,
             "ticks": ""
            },
            "type": "mesh3d"
           }
          ],
          "parcoords": [
           {
            "line": {
             "colorbar": {
              "outlinewidth": 0,
              "ticks": ""
             }
            },
            "type": "parcoords"
           }
          ],
          "pie": [
           {
            "automargin": true,
            "type": "pie"
           }
          ],
          "scatter": [
           {
            "marker": {
             "colorbar": {
              "outlinewidth": 0,
              "ticks": ""
             }
            },
            "type": "scatter"
           }
          ],
          "scatter3d": [
           {
            "line": {
             "colorbar": {
              "outlinewidth": 0,
              "ticks": ""
             }
            },
            "marker": {
             "colorbar": {
              "outlinewidth": 0,
              "ticks": ""
             }
            },
            "type": "scatter3d"
           }
          ],
          "scattercarpet": [
           {
            "marker": {
             "colorbar": {
              "outlinewidth": 0,
              "ticks": ""
             }
            },
            "type": "scattercarpet"
           }
          ],
          "scattergeo": [
           {
            "marker": {
             "colorbar": {
              "outlinewidth": 0,
              "ticks": ""
             }
            },
            "type": "scattergeo"
           }
          ],
          "scattergl": [
           {
            "marker": {
             "colorbar": {
              "outlinewidth": 0,
              "ticks": ""
             }
            },
            "type": "scattergl"
           }
          ],
          "scattermapbox": [
           {
            "marker": {
             "colorbar": {
              "outlinewidth": 0,
              "ticks": ""
             }
            },
            "type": "scattermapbox"
           }
          ],
          "scatterpolar": [
           {
            "marker": {
             "colorbar": {
              "outlinewidth": 0,
              "ticks": ""
             }
            },
            "type": "scatterpolar"
           }
          ],
          "scatterpolargl": [
           {
            "marker": {
             "colorbar": {
              "outlinewidth": 0,
              "ticks": ""
             }
            },
            "type": "scatterpolargl"
           }
          ],
          "scatterternary": [
           {
            "marker": {
             "colorbar": {
              "outlinewidth": 0,
              "ticks": ""
             }
            },
            "type": "scatterternary"
           }
          ],
          "surface": [
           {
            "colorbar": {
             "outlinewidth": 0,
             "ticks": ""
            },
            "colorscale": [
             [
              0,
              "#0d0887"
             ],
             [
              0.1111111111111111,
              "#46039f"
             ],
             [
              0.2222222222222222,
              "#7201a8"
             ],
             [
              0.3333333333333333,
              "#9c179e"
             ],
             [
              0.4444444444444444,
              "#bd3786"
             ],
             [
              0.5555555555555556,
              "#d8576b"
             ],
             [
              0.6666666666666666,
              "#ed7953"
             ],
             [
              0.7777777777777778,
              "#fb9f3a"
             ],
             [
              0.8888888888888888,
              "#fdca26"
             ],
             [
              1,
              "#f0f921"
             ]
            ],
            "type": "surface"
           }
          ],
          "table": [
           {
            "cells": {
             "fill": {
              "color": "#EBF0F8"
             },
             "line": {
              "color": "white"
             }
            },
            "header": {
             "fill": {
              "color": "#C8D4E3"
             },
             "line": {
              "color": "white"
             }
            },
            "type": "table"
           }
          ]
         },
         "layout": {
          "annotationdefaults": {
           "arrowcolor": "#2a3f5f",
           "arrowhead": 0,
           "arrowwidth": 1
          },
          "coloraxis": {
           "colorbar": {
            "outlinewidth": 0,
            "ticks": ""
           }
          },
          "colorscale": {
           "diverging": [
            [
             0,
             "#8e0152"
            ],
            [
             0.1,
             "#c51b7d"
            ],
            [
             0.2,
             "#de77ae"
            ],
            [
             0.3,
             "#f1b6da"
            ],
            [
             0.4,
             "#fde0ef"
            ],
            [
             0.5,
             "#f7f7f7"
            ],
            [
             0.6,
             "#e6f5d0"
            ],
            [
             0.7,
             "#b8e186"
            ],
            [
             0.8,
             "#7fbc41"
            ],
            [
             0.9,
             "#4d9221"
            ],
            [
             1,
             "#276419"
            ]
           ],
           "sequential": [
            [
             0,
             "#0d0887"
            ],
            [
             0.1111111111111111,
             "#46039f"
            ],
            [
             0.2222222222222222,
             "#7201a8"
            ],
            [
             0.3333333333333333,
             "#9c179e"
            ],
            [
             0.4444444444444444,
             "#bd3786"
            ],
            [
             0.5555555555555556,
             "#d8576b"
            ],
            [
             0.6666666666666666,
             "#ed7953"
            ],
            [
             0.7777777777777778,
             "#fb9f3a"
            ],
            [
             0.8888888888888888,
             "#fdca26"
            ],
            [
             1,
             "#f0f921"
            ]
           ],
           "sequentialminus": [
            [
             0,
             "#0d0887"
            ],
            [
             0.1111111111111111,
             "#46039f"
            ],
            [
             0.2222222222222222,
             "#7201a8"
            ],
            [
             0.3333333333333333,
             "#9c179e"
            ],
            [
             0.4444444444444444,
             "#bd3786"
            ],
            [
             0.5555555555555556,
             "#d8576b"
            ],
            [
             0.6666666666666666,
             "#ed7953"
            ],
            [
             0.7777777777777778,
             "#fb9f3a"
            ],
            [
             0.8888888888888888,
             "#fdca26"
            ],
            [
             1,
             "#f0f921"
            ]
           ]
          },
          "colorway": [
           "#636efa",
           "#EF553B",
           "#00cc96",
           "#ab63fa",
           "#FFA15A",
           "#19d3f3",
           "#FF6692",
           "#B6E880",
           "#FF97FF",
           "#FECB52"
          ],
          "font": {
           "color": "#2a3f5f"
          },
          "geo": {
           "bgcolor": "white",
           "lakecolor": "white",
           "landcolor": "#E5ECF6",
           "showlakes": true,
           "showland": true,
           "subunitcolor": "white"
          },
          "hoverlabel": {
           "align": "left"
          },
          "hovermode": "closest",
          "mapbox": {
           "style": "light"
          },
          "paper_bgcolor": "white",
          "plot_bgcolor": "#E5ECF6",
          "polar": {
           "angularaxis": {
            "gridcolor": "white",
            "linecolor": "white",
            "ticks": ""
           },
           "bgcolor": "#E5ECF6",
           "radialaxis": {
            "gridcolor": "white",
            "linecolor": "white",
            "ticks": ""
           }
          },
          "scene": {
           "xaxis": {
            "backgroundcolor": "#E5ECF6",
            "gridcolor": "white",
            "gridwidth": 2,
            "linecolor": "white",
            "showbackground": true,
            "ticks": "",
            "zerolinecolor": "white"
           },
           "yaxis": {
            "backgroundcolor": "#E5ECF6",
            "gridcolor": "white",
            "gridwidth": 2,
            "linecolor": "white",
            "showbackground": true,
            "ticks": "",
            "zerolinecolor": "white"
           },
           "zaxis": {
            "backgroundcolor": "#E5ECF6",
            "gridcolor": "white",
            "gridwidth": 2,
            "linecolor": "white",
            "showbackground": true,
            "ticks": "",
            "zerolinecolor": "white"
           }
          },
          "shapedefaults": {
           "line": {
            "color": "#2a3f5f"
           }
          },
          "ternary": {
           "aaxis": {
            "gridcolor": "white",
            "linecolor": "white",
            "ticks": ""
           },
           "baxis": {
            "gridcolor": "white",
            "linecolor": "white",
            "ticks": ""
           },
           "bgcolor": "#E5ECF6",
           "caxis": {
            "gridcolor": "white",
            "linecolor": "white",
            "ticks": ""
           }
          },
          "title": {
           "x": 0.05
          },
          "xaxis": {
           "automargin": true,
           "gridcolor": "white",
           "linecolor": "white",
           "ticks": "",
           "title": {
            "standoff": 15
           },
           "zerolinecolor": "white",
           "zerolinewidth": 2
          },
          "yaxis": {
           "automargin": true,
           "gridcolor": "white",
           "linecolor": "white",
           "ticks": "",
           "title": {
            "standoff": 15
           },
           "zerolinecolor": "white",
           "zerolinewidth": 2
          }
         }
        },
        "title": {
         "text": "Interaction type of the Users"
        },
        "width": 800,
        "xaxis": {
         "categoryorder": "total descending"
        }
       }
      }
     },
     "metadata": {}
    }
   ],
   "source": [
    "barInteractionType = go.Figure()\n",
    "barInteractionType.add_trace(go.Bar(x=interactionsDF['eventType'].value_counts().index,y=interactionsDF['eventType'].value_counts().values))\n",
    "barInteractionType.update_layout(height=500, width=800, title_text=\"Interaction type of the Users\")\n",
    "barInteractionType.update_xaxes(categoryorder = 'total descending')\n",
    "barInteractionType.show()"
   ]
  },
  {
   "cell_type": "code",
   "execution_count": 146,
   "metadata": {},
   "outputs": [],
   "source": [
    "articlesDF.drop('authorUserAgent', axis=1, inplace=True)\n",
    "interactionsDF.drop('userAgent', axis=1, inplace=True)\n",
    "articlesDF.rename(inplace = True, columns={\"authorUserAgentNew\":\"authorUserAgent\"})\n",
    "interactionsDF.rename(inplace = True, columns={\"userAgentNew\":\"userAgent\"})"
   ]
  },
  {
   "cell_type": "code",
   "execution_count": 147,
   "metadata": {},
   "outputs": [
    {
     "output_type": "execute_result",
     "data": {
      "text/plain": [
       "articlePublishedTime       0\n",
       "contentId                  0\n",
       "authorPersonId             0\n",
       "authorSessionId            0\n",
       "authorRegion            2360\n",
       "authorCountry           2360\n",
       "url                        0\n",
       "title                      0\n",
       "text                       0\n",
       "lang                       0\n",
       "authorUserAgent            0\n",
       "dtype: int64"
      ]
     },
     "metadata": {},
     "execution_count": 147
    }
   ],
   "source": [
    "articlesDF.isnull().sum()"
   ]
  },
  {
   "cell_type": "code",
   "execution_count": 148,
   "metadata": {},
   "outputs": [
    {
     "output_type": "execute_result",
     "data": {
      "text/plain": [
       "articleInteractedTime        0\n",
       "eventType                    0\n",
       "contentId                    0\n",
       "personId                     0\n",
       "sessionId                    0\n",
       "userRegion               15231\n",
       "userCountry              15220\n",
       "userAgent                    0\n",
       "dtype: int64"
      ]
     },
     "metadata": {},
     "execution_count": 148
    }
   ],
   "source": [
    "interactionsDF.isnull().sum()"
   ]
  },
  {
   "cell_type": "code",
   "execution_count": 162,
   "metadata": {},
   "outputs": [
    {
     "output_type": "execute_result",
     "data": {
      "text/plain": [
       "      userCountry countryCode    countryName\n",
       "0             NaN        None           None\n",
       "1              US         USA  United States\n",
       "2             NaN        None           None\n",
       "3             NaN        None           None\n",
       "4             NaN        None           None\n",
       "...           ...         ...            ...\n",
       "72307          BR         BRA         Brazil\n",
       "72308          BR         BRA         Brazil\n",
       "72309          BR         BRA         Brazil\n",
       "72310          BR         BRA         Brazil\n",
       "72311          BR         BRA         Brazil\n",
       "\n",
       "[71573 rows x 3 columns]"
      ],
      "text/html": "<div>\n<style scoped>\n    .dataframe tbody tr th:only-of-type {\n        vertical-align: middle;\n    }\n\n    .dataframe tbody tr th {\n        vertical-align: top;\n    }\n\n    .dataframe thead th {\n        text-align: right;\n    }\n</style>\n<table border=\"1\" class=\"dataframe\">\n  <thead>\n    <tr style=\"text-align: right;\">\n      <th></th>\n      <th>userCountry</th>\n      <th>countryCode</th>\n      <th>countryName</th>\n    </tr>\n  </thead>\n  <tbody>\n    <tr>\n      <th>0</th>\n      <td>NaN</td>\n      <td>None</td>\n      <td>None</td>\n    </tr>\n    <tr>\n      <th>1</th>\n      <td>US</td>\n      <td>USA</td>\n      <td>United States</td>\n    </tr>\n    <tr>\n      <th>2</th>\n      <td>NaN</td>\n      <td>None</td>\n      <td>None</td>\n    </tr>\n    <tr>\n      <th>3</th>\n      <td>NaN</td>\n      <td>None</td>\n      <td>None</td>\n    </tr>\n    <tr>\n      <th>4</th>\n      <td>NaN</td>\n      <td>None</td>\n      <td>None</td>\n    </tr>\n    <tr>\n      <th>...</th>\n      <td>...</td>\n      <td>...</td>\n      <td>...</td>\n    </tr>\n    <tr>\n      <th>72307</th>\n      <td>BR</td>\n      <td>BRA</td>\n      <td>Brazil</td>\n    </tr>\n    <tr>\n      <th>72308</th>\n      <td>BR</td>\n      <td>BRA</td>\n      <td>Brazil</td>\n    </tr>\n    <tr>\n      <th>72309</th>\n      <td>BR</td>\n      <td>BRA</td>\n      <td>Brazil</td>\n    </tr>\n    <tr>\n      <th>72310</th>\n      <td>BR</td>\n      <td>BRA</td>\n      <td>Brazil</td>\n    </tr>\n    <tr>\n      <th>72311</th>\n      <td>BR</td>\n      <td>BRA</td>\n      <td>Brazil</td>\n    </tr>\n  </tbody>\n</table>\n<p>71573 rows × 3 columns</p>\n</div>"
     },
     "metadata": {},
     "execution_count": 162
    }
   ],
   "source": [
    "country_code_dict = {\n",
    "    'BR': ('BRA', 'Brazil'),\n",
    "    'US': ('USA', 'United States'),\n",
    "    'KR': ('KOR', 'South Korea'),\n",
    "    'CA': ('CAN', 'Canada'),\n",
    "    'JP': ('JPN', 'Japan'),\n",
    "    'AU': ('AUS', 'Australia'),\n",
    "    'GB': ('GBR', 'United Kingdom'),\n",
    "    'DE': ('DEU', 'Germany'),\n",
    "    'DE': ('DEU', 'Germany'),\n",
    "    'IE': ('IRL', 'Ireland'),\n",
    "    'IS': ('ISL', 'Iceland'),\n",
    "    'SG': ('SGP', 'Singapore'),\n",
    "    'AR': ('ARG', 'Argentina'),\n",
    "    'PT': ('PRT', 'Portugal'),\n",
    "    'IN': ('IND', 'India'),\n",
    "    'ES': ('ESP', 'Spain'),\n",
    "    'IT': ('ITA', 'Italy'),\n",
    "    'MY': ('MYS', 'Malaysia'),\n",
    "    'CO': ('COL', 'Colombia'),\n",
    "    'CN': ('CHN', 'China'),\n",
    "    'CL': ('CHL', 'Chile'),\n",
    "    'NL': ('NLD', 'Netherlands')\n",
    "}\n",
    "interactionsFromCountryDF = pd.DataFrame(interactionsDF['userCountry'])\n",
    "interactionsFromCountryDF['countryCode'] = interactionsDF['userCountry'].apply(lambda x: country_code_dict[x][0] if x in country_code_dict else None)\n",
    "interactionsFromCountryDF['countryName'] = interactionsDF['userCountry'].apply(lambda x: country_code_dict[x][1] if x in country_code_dict else None)\n",
    "interactionsFromCountryDF"
   ]
  },
  {
   "cell_type": "code",
   "execution_count": 163,
   "metadata": {},
   "outputs": [
    {
     "output_type": "execute_result",
     "data": {
      "text/plain": [
       "       countryName  No. of Interactions\n",
       "0           Brazil                50900\n",
       "1    United States                 4601\n",
       "2      South Korea                  239\n",
       "3           Canada                  217\n",
       "4            Japan                  142\n",
       "5        Australia                  137\n",
       "6   United Kingdom                   22\n",
       "7          Germany                   19\n",
       "8          Ireland                   14\n",
       "9          Iceland                   12\n",
       "10       Singapore                   11\n",
       "11       Argentina                    7\n",
       "12        Portugal                    6\n",
       "13           India                    3\n",
       "14           Spain                    3\n",
       "15           Italy                    2\n",
       "16        Malaysia                    2\n",
       "17     Netherlands                    1\n",
       "18        Colombia                    1\n",
       "19           China                    1\n",
       "20           Chile                    1"
      ],
      "text/html": "<div>\n<style scoped>\n    .dataframe tbody tr th:only-of-type {\n        vertical-align: middle;\n    }\n\n    .dataframe tbody tr th {\n        vertical-align: top;\n    }\n\n    .dataframe thead th {\n        text-align: right;\n    }\n</style>\n<table border=\"1\" class=\"dataframe\">\n  <thead>\n    <tr style=\"text-align: right;\">\n      <th></th>\n      <th>countryName</th>\n      <th>No. of Interactions</th>\n    </tr>\n  </thead>\n  <tbody>\n    <tr>\n      <th>0</th>\n      <td>Brazil</td>\n      <td>50900</td>\n    </tr>\n    <tr>\n      <th>1</th>\n      <td>United States</td>\n      <td>4601</td>\n    </tr>\n    <tr>\n      <th>2</th>\n      <td>South Korea</td>\n      <td>239</td>\n    </tr>\n    <tr>\n      <th>3</th>\n      <td>Canada</td>\n      <td>217</td>\n    </tr>\n    <tr>\n      <th>4</th>\n      <td>Japan</td>\n      <td>142</td>\n    </tr>\n    <tr>\n      <th>5</th>\n      <td>Australia</td>\n      <td>137</td>\n    </tr>\n    <tr>\n      <th>6</th>\n      <td>United Kingdom</td>\n      <td>22</td>\n    </tr>\n    <tr>\n      <th>7</th>\n      <td>Germany</td>\n      <td>19</td>\n    </tr>\n    <tr>\n      <th>8</th>\n      <td>Ireland</td>\n      <td>14</td>\n    </tr>\n    <tr>\n      <th>9</th>\n      <td>Iceland</td>\n      <td>12</td>\n    </tr>\n    <tr>\n      <th>10</th>\n      <td>Singapore</td>\n      <td>11</td>\n    </tr>\n    <tr>\n      <th>11</th>\n      <td>Argentina</td>\n      <td>7</td>\n    </tr>\n    <tr>\n      <th>12</th>\n      <td>Portugal</td>\n      <td>6</td>\n    </tr>\n    <tr>\n      <th>13</th>\n      <td>India</td>\n      <td>3</td>\n    </tr>\n    <tr>\n      <th>14</th>\n      <td>Spain</td>\n      <td>3</td>\n    </tr>\n    <tr>\n      <th>15</th>\n      <td>Italy</td>\n      <td>2</td>\n    </tr>\n    <tr>\n      <th>16</th>\n      <td>Malaysia</td>\n      <td>2</td>\n    </tr>\n    <tr>\n      <th>17</th>\n      <td>Netherlands</td>\n      <td>1</td>\n    </tr>\n    <tr>\n      <th>18</th>\n      <td>Colombia</td>\n      <td>1</td>\n    </tr>\n    <tr>\n      <th>19</th>\n      <td>China</td>\n      <td>1</td>\n    </tr>\n    <tr>\n      <th>20</th>\n      <td>Chile</td>\n      <td>1</td>\n    </tr>\n  </tbody>\n</table>\n</div>"
     },
     "metadata": {},
     "execution_count": 163
    }
   ],
   "source": [
    "interactions_by_country_df = pd.DataFrame(interactionsFromCountryDF.groupby('countryName').size().sort_values(ascending=False).reset_index())\n",
    "interactions_by_country_df.columns = ['countryName', 'No. of Interactions']\n",
    "interactions_by_country_df"
   ]
  },
  {
   "cell_type": "code",
   "execution_count": 165,
   "metadata": {},
   "outputs": [
    {
     "output_type": "display_data",
     "data": {
      "application/vnd.plotly.v1+json": {
       "config": {
        "plotlyServerURL": "https://plot.ly"
       },
       "data": [
        {
         "autocolorscale": true,
         "colorbar": {
          "title": {
           "text": "No. of Interactions"
          }
         },
         "locationmode": "country names",
         "locations": [
          "Brazil",
          "United States",
          "South Korea",
          "Canada",
          "Japan",
          "Australia",
          "United Kingdom",
          "Germany",
          "Ireland",
          "Iceland",
          "Singapore",
          "Argentina",
          "Portugal",
          "India",
          "Spain",
          "Italy",
          "Malaysia",
          "Netherlands",
          "Colombia",
          "China",
          "Chile"
         ],
         "type": "choropleth",
         "z": [
          50900,
          4601,
          239,
          217,
          142,
          137,
          22,
          19,
          14,
          12,
          11,
          7,
          6,
          3,
          3,
          2,
          2,
          1,
          1,
          1,
          1
         ]
        }
       ],
       "layout": {
        "geo": {
         "scope": "world"
        },
        "template": {
         "data": {
          "bar": [
           {
            "error_x": {
             "color": "#2a3f5f"
            },
            "error_y": {
             "color": "#2a3f5f"
            },
            "marker": {
             "line": {
              "color": "#E5ECF6",
              "width": 0.5
             }
            },
            "type": "bar"
           }
          ],
          "barpolar": [
           {
            "marker": {
             "line": {
              "color": "#E5ECF6",
              "width": 0.5
             }
            },
            "type": "barpolar"
           }
          ],
          "carpet": [
           {
            "aaxis": {
             "endlinecolor": "#2a3f5f",
             "gridcolor": "white",
             "linecolor": "white",
             "minorgridcolor": "white",
             "startlinecolor": "#2a3f5f"
            },
            "baxis": {
             "endlinecolor": "#2a3f5f",
             "gridcolor": "white",
             "linecolor": "white",
             "minorgridcolor": "white",
             "startlinecolor": "#2a3f5f"
            },
            "type": "carpet"
           }
          ],
          "choropleth": [
           {
            "colorbar": {
             "outlinewidth": 0,
             "ticks": ""
            },
            "type": "choropleth"
           }
          ],
          "contour": [
           {
            "colorbar": {
             "outlinewidth": 0,
             "ticks": ""
            },
            "colorscale": [
             [
              0,
              "#0d0887"
             ],
             [
              0.1111111111111111,
              "#46039f"
             ],
             [
              0.2222222222222222,
              "#7201a8"
             ],
             [
              0.3333333333333333,
              "#9c179e"
             ],
             [
              0.4444444444444444,
              "#bd3786"
             ],
             [
              0.5555555555555556,
              "#d8576b"
             ],
             [
              0.6666666666666666,
              "#ed7953"
             ],
             [
              0.7777777777777778,
              "#fb9f3a"
             ],
             [
              0.8888888888888888,
              "#fdca26"
             ],
             [
              1,
              "#f0f921"
             ]
            ],
            "type": "contour"
           }
          ],
          "contourcarpet": [
           {
            "colorbar": {
             "outlinewidth": 0,
             "ticks": ""
            },
            "type": "contourcarpet"
           }
          ],
          "heatmap": [
           {
            "colorbar": {
             "outlinewidth": 0,
             "ticks": ""
            },
            "colorscale": [
             [
              0,
              "#0d0887"
             ],
             [
              0.1111111111111111,
              "#46039f"
             ],
             [
              0.2222222222222222,
              "#7201a8"
             ],
             [
              0.3333333333333333,
              "#9c179e"
             ],
             [
              0.4444444444444444,
              "#bd3786"
             ],
             [
              0.5555555555555556,
              "#d8576b"
             ],
             [
              0.6666666666666666,
              "#ed7953"
             ],
             [
              0.7777777777777778,
              "#fb9f3a"
             ],
             [
              0.8888888888888888,
              "#fdca26"
             ],
             [
              1,
              "#f0f921"
             ]
            ],
            "type": "heatmap"
           }
          ],
          "heatmapgl": [
           {
            "colorbar": {
             "outlinewidth": 0,
             "ticks": ""
            },
            "colorscale": [
             [
              0,
              "#0d0887"
             ],
             [
              0.1111111111111111,
              "#46039f"
             ],
             [
              0.2222222222222222,
              "#7201a8"
             ],
             [
              0.3333333333333333,
              "#9c179e"
             ],
             [
              0.4444444444444444,
              "#bd3786"
             ],
             [
              0.5555555555555556,
              "#d8576b"
             ],
             [
              0.6666666666666666,
              "#ed7953"
             ],
             [
              0.7777777777777778,
              "#fb9f3a"
             ],
             [
              0.8888888888888888,
              "#fdca26"
             ],
             [
              1,
              "#f0f921"
             ]
            ],
            "type": "heatmapgl"
           }
          ],
          "histogram": [
           {
            "marker": {
             "colorbar": {
              "outlinewidth": 0,
              "ticks": ""
             }
            },
            "type": "histogram"
           }
          ],
          "histogram2d": [
           {
            "colorbar": {
             "outlinewidth": 0,
             "ticks": ""
            },
            "colorscale": [
             [
              0,
              "#0d0887"
             ],
             [
              0.1111111111111111,
              "#46039f"
             ],
             [
              0.2222222222222222,
              "#7201a8"
             ],
             [
              0.3333333333333333,
              "#9c179e"
             ],
             [
              0.4444444444444444,
              "#bd3786"
             ],
             [
              0.5555555555555556,
              "#d8576b"
             ],
             [
              0.6666666666666666,
              "#ed7953"
             ],
             [
              0.7777777777777778,
              "#fb9f3a"
             ],
             [
              0.8888888888888888,
              "#fdca26"
             ],
             [
              1,
              "#f0f921"
             ]
            ],
            "type": "histogram2d"
           }
          ],
          "histogram2dcontour": [
           {
            "colorbar": {
             "outlinewidth": 0,
             "ticks": ""
            },
            "colorscale": [
             [
              0,
              "#0d0887"
             ],
             [
              0.1111111111111111,
              "#46039f"
             ],
             [
              0.2222222222222222,
              "#7201a8"
             ],
             [
              0.3333333333333333,
              "#9c179e"
             ],
             [
              0.4444444444444444,
              "#bd3786"
             ],
             [
              0.5555555555555556,
              "#d8576b"
             ],
             [
              0.6666666666666666,
              "#ed7953"
             ],
             [
              0.7777777777777778,
              "#fb9f3a"
             ],
             [
              0.8888888888888888,
              "#fdca26"
             ],
             [
              1,
              "#f0f921"
             ]
            ],
            "type": "histogram2dcontour"
           }
          ],
          "mesh3d": [
           {
            "colorbar": {
             "outlinewidth": 0,
             "ticks": ""
            },
            "type": "mesh3d"
           }
          ],
          "parcoords": [
           {
            "line": {
             "colorbar": {
              "outlinewidth": 0,
              "ticks": ""
             }
            },
            "type": "parcoords"
           }
          ],
          "pie": [
           {
            "automargin": true,
            "type": "pie"
           }
          ],
          "scatter": [
           {
            "marker": {
             "colorbar": {
              "outlinewidth": 0,
              "ticks": ""
             }
            },
            "type": "scatter"
           }
          ],
          "scatter3d": [
           {
            "line": {
             "colorbar": {
              "outlinewidth": 0,
              "ticks": ""
             }
            },
            "marker": {
             "colorbar": {
              "outlinewidth": 0,
              "ticks": ""
             }
            },
            "type": "scatter3d"
           }
          ],
          "scattercarpet": [
           {
            "marker": {
             "colorbar": {
              "outlinewidth": 0,
              "ticks": ""
             }
            },
            "type": "scattercarpet"
           }
          ],
          "scattergeo": [
           {
            "marker": {
             "colorbar": {
              "outlinewidth": 0,
              "ticks": ""
             }
            },
            "type": "scattergeo"
           }
          ],
          "scattergl": [
           {
            "marker": {
             "colorbar": {
              "outlinewidth": 0,
              "ticks": ""
             }
            },
            "type": "scattergl"
           }
          ],
          "scattermapbox": [
           {
            "marker": {
             "colorbar": {
              "outlinewidth": 0,
              "ticks": ""
             }
            },
            "type": "scattermapbox"
           }
          ],
          "scatterpolar": [
           {
            "marker": {
             "colorbar": {
              "outlinewidth": 0,
              "ticks": ""
             }
            },
            "type": "scatterpolar"
           }
          ],
          "scatterpolargl": [
           {
            "marker": {
             "colorbar": {
              "outlinewidth": 0,
              "ticks": ""
             }
            },
            "type": "scatterpolargl"
           }
          ],
          "scatterternary": [
           {
            "marker": {
             "colorbar": {
              "outlinewidth": 0,
              "ticks": ""
             }
            },
            "type": "scatterternary"
           }
          ],
          "surface": [
           {
            "colorbar": {
             "outlinewidth": 0,
             "ticks": ""
            },
            "colorscale": [
             [
              0,
              "#0d0887"
             ],
             [
              0.1111111111111111,
              "#46039f"
             ],
             [
              0.2222222222222222,
              "#7201a8"
             ],
             [
              0.3333333333333333,
              "#9c179e"
             ],
             [
              0.4444444444444444,
              "#bd3786"
             ],
             [
              0.5555555555555556,
              "#d8576b"
             ],
             [
              0.6666666666666666,
              "#ed7953"
             ],
             [
              0.7777777777777778,
              "#fb9f3a"
             ],
             [
              0.8888888888888888,
              "#fdca26"
             ],
             [
              1,
              "#f0f921"
             ]
            ],
            "type": "surface"
           }
          ],
          "table": [
           {
            "cells": {
             "fill": {
              "color": "#EBF0F8"
             },
             "line": {
              "color": "white"
             }
            },
            "header": {
             "fill": {
              "color": "#C8D4E3"
             },
             "line": {
              "color": "white"
             }
            },
            "type": "table"
           }
          ]
         },
         "layout": {
          "annotationdefaults": {
           "arrowcolor": "#2a3f5f",
           "arrowhead": 0,
           "arrowwidth": 1
          },
          "coloraxis": {
           "colorbar": {
            "outlinewidth": 0,
            "ticks": ""
           }
          },
          "colorscale": {
           "diverging": [
            [
             0,
             "#8e0152"
            ],
            [
             0.1,
             "#c51b7d"
            ],
            [
             0.2,
             "#de77ae"
            ],
            [
             0.3,
             "#f1b6da"
            ],
            [
             0.4,
             "#fde0ef"
            ],
            [
             0.5,
             "#f7f7f7"
            ],
            [
             0.6,
             "#e6f5d0"
            ],
            [
             0.7,
             "#b8e186"
            ],
            [
             0.8,
             "#7fbc41"
            ],
            [
             0.9,
             "#4d9221"
            ],
            [
             1,
             "#276419"
            ]
           ],
           "sequential": [
            [
             0,
             "#0d0887"
            ],
            [
             0.1111111111111111,
             "#46039f"
            ],
            [
             0.2222222222222222,
             "#7201a8"
            ],
            [
             0.3333333333333333,
             "#9c179e"
            ],
            [
             0.4444444444444444,
             "#bd3786"
            ],
            [
             0.5555555555555556,
             "#d8576b"
            ],
            [
             0.6666666666666666,
             "#ed7953"
            ],
            [
             0.7777777777777778,
             "#fb9f3a"
            ],
            [
             0.8888888888888888,
             "#fdca26"
            ],
            [
             1,
             "#f0f921"
            ]
           ],
           "sequentialminus": [
            [
             0,
             "#0d0887"
            ],
            [
             0.1111111111111111,
             "#46039f"
            ],
            [
             0.2222222222222222,
             "#7201a8"
            ],
            [
             0.3333333333333333,
             "#9c179e"
            ],
            [
             0.4444444444444444,
             "#bd3786"
            ],
            [
             0.5555555555555556,
             "#d8576b"
            ],
            [
             0.6666666666666666,
             "#ed7953"
            ],
            [
             0.7777777777777778,
             "#fb9f3a"
            ],
            [
             0.8888888888888888,
             "#fdca26"
            ],
            [
             1,
             "#f0f921"
            ]
           ]
          },
          "colorway": [
           "#636efa",
           "#EF553B",
           "#00cc96",
           "#ab63fa",
           "#FFA15A",
           "#19d3f3",
           "#FF6692",
           "#B6E880",
           "#FF97FF",
           "#FECB52"
          ],
          "font": {
           "color": "#2a3f5f"
          },
          "geo": {
           "bgcolor": "white",
           "lakecolor": "white",
           "landcolor": "#E5ECF6",
           "showlakes": true,
           "showland": true,
           "subunitcolor": "white"
          },
          "hoverlabel": {
           "align": "left"
          },
          "hovermode": "closest",
          "mapbox": {
           "style": "light"
          },
          "paper_bgcolor": "white",
          "plot_bgcolor": "#E5ECF6",
          "polar": {
           "angularaxis": {
            "gridcolor": "white",
            "linecolor": "white",
            "ticks": ""
           },
           "bgcolor": "#E5ECF6",
           "radialaxis": {
            "gridcolor": "white",
            "linecolor": "white",
            "ticks": ""
           }
          },
          "scene": {
           "xaxis": {
            "backgroundcolor": "#E5ECF6",
            "gridcolor": "white",
            "gridwidth": 2,
            "linecolor": "white",
            "showbackground": true,
            "ticks": "",
            "zerolinecolor": "white"
           },
           "yaxis": {
            "backgroundcolor": "#E5ECF6",
            "gridcolor": "white",
            "gridwidth": 2,
            "linecolor": "white",
            "showbackground": true,
            "ticks": "",
            "zerolinecolor": "white"
           },
           "zaxis": {
            "backgroundcolor": "#E5ECF6",
            "gridcolor": "white",
            "gridwidth": 2,
            "linecolor": "white",
            "showbackground": true,
            "ticks": "",
            "zerolinecolor": "white"
           }
          },
          "shapedefaults": {
           "line": {
            "color": "#2a3f5f"
           }
          },
          "ternary": {
           "aaxis": {
            "gridcolor": "white",
            "linecolor": "white",
            "ticks": ""
           },
           "baxis": {
            "gridcolor": "white",
            "linecolor": "white",
            "ticks": ""
           },
           "bgcolor": "#E5ECF6",
           "caxis": {
            "gridcolor": "white",
            "linecolor": "white",
            "ticks": ""
           }
          },
          "title": {
           "x": 0.05
          },
          "xaxis": {
           "automargin": true,
           "gridcolor": "white",
           "linecolor": "white",
           "ticks": "",
           "title": {
            "standoff": 15
           },
           "zerolinecolor": "white",
           "zerolinewidth": 2
          },
          "yaxis": {
           "automargin": true,
           "gridcolor": "white",
           "linecolor": "white",
           "ticks": "",
           "title": {
            "standoff": 15
           },
           "zerolinecolor": "white",
           "zerolinewidth": 2
          }
         }
        },
        "title": {
         "text": "Interactions by Country"
        }
       }
      }
     },
     "metadata": {}
    }
   ],
   "source": [
    "fig = go.Figure(data=go.Choropleth(\n",
    "    locations=interactions_by_country_df['countryName'], # Spatial coordinates\n",
    "    z = interactions_by_country_df['No. of Interactions'], \n",
    "    locationmode = 'country names', \n",
    "    autocolorscale=True,\n",
    "    colorbar_title = \"No. of Interactions\",\n",
    "))\n",
    "\n",
    "fig.update_layout(\n",
    "    title_text = 'Interactions by Country', \n",
    "    geo_scope='world', \n",
    ")\n",
    "\n",
    "fig.show()"
   ]
  },
  {
   "cell_type": "code",
   "execution_count": 149,
   "metadata": {},
   "outputs": [
    {
     "output_type": "execute_result",
     "data": {
      "text/plain": [
       "       articleInteractedTime eventType             contentId  \\\n",
       "0                 1465413032      VIEW  -3499919498720038879   \n",
       "1                 1465413046      VIEW  -3499919498720038879   \n",
       "2                 1465907360      VIEW  -3499919498720038879   \n",
       "3                 1465583412      VIEW  -3499919498720038879   \n",
       "4                 1465582468      VIEW  -3499919498720038879   \n",
       "...                      ...       ...                   ...   \n",
       "71568             1482929120      VIEW  -7108012586837980940   \n",
       "71569             1483616272      VIEW   7526977287801930517   \n",
       "71570             1485429106      VIEW   -282629989972409543   \n",
       "71571             1485429066      VIEW  -6468782714472551646   \n",
       "71572             1485868866      VIEW  -9040419159428373932   \n",
       "\n",
       "                   personId             sessionId userRegion userCountry  \\\n",
       "0      -8845298781299428018   1264196770339959068        NaN         NaN   \n",
       "1      -8845298781299428018   1264196770339959068         SP          BR   \n",
       "2       -108842214936804958  -2163423831651021975         SP          BR   \n",
       "3      -1443636648652872475  -3976301106281818872         SP          BR   \n",
       "4      -1443636648652872475  -3976301106281818872         SP          BR   \n",
       "...                     ...                   ...        ...         ...   \n",
       "71568  -4028919343899978105   1103146045123415934         SP          BR   \n",
       "71569  -3643155458357242906   8781579964260038140         MG          BR   \n",
       "71570   5660542693104786364   -537882753893230818         SP          BR   \n",
       "71571   5660542693104786364   -537882753893230818         SP          BR   \n",
       "71572  -7496361692498935601  -1030459773185003253         SP          BR   \n",
       "\n",
       "      userAgent  articlePublishedTime        authorPersonId  \\\n",
       "0            NA            1465309434  -1032019229384696495   \n",
       "1           Mac            1465309434  -1032019229384696495   \n",
       "2       Windows            1465309434  -1032019229384696495   \n",
       "3         Linux            1465309434  -1032019229384696495   \n",
       "4         Linux            1465309434  -1032019229384696495   \n",
       "...         ...                   ...                   ...   \n",
       "71568   Windows            1482929117  -4028919343899978105   \n",
       "71569       Mac            1483616270  -3643155458357242906   \n",
       "71570   Windows            1485429102   5660542693104786364   \n",
       "71571   Windows            1485429024   5660542693104786364   \n",
       "71572   Windows            1485868862  -7496361692498935601   \n",
       "\n",
       "            authorSessionId authorRegion authorCountry  \\\n",
       "0      -7696592431575292648          NaN           NaN   \n",
       "1      -7696592431575292648          NaN           NaN   \n",
       "2      -7696592431575292648          NaN           NaN   \n",
       "3      -7696592431575292648          NaN           NaN   \n",
       "4      -7696592431575292648          NaN           NaN   \n",
       "...                     ...          ...           ...   \n",
       "71568   1103146045123415934           SP            BR   \n",
       "71569   8781579964260038140           MG            BR   \n",
       "71570   -537882753893230818           SP            BR   \n",
       "71571   -537882753893230818           SP            BR   \n",
       "71572  -1030459773185003253           SP            BR   \n",
       "\n",
       "                                                     url  \\\n",
       "0                 http://techcrunch.com/2016/06/07/hiri/   \n",
       "1                 http://techcrunch.com/2016/06/07/hiri/   \n",
       "2                 http://techcrunch.com/2016/06/07/hiri/   \n",
       "3                 http://techcrunch.com/2016/06/07/hiri/   \n",
       "4                 http://techcrunch.com/2016/06/07/hiri/   \n",
       "...                                                  ...   \n",
       "71568  https://www.smashingmagazine.com/2016/12/digit...   \n",
       "71569  https://blog.medium.com/renewing-mediums-focus...   \n",
       "71570  http://www.valor.com.br/financas/4847178/santa...   \n",
       "71571  http://www.valor.com.br/financas/4848194/santa...   \n",
       "71572  http://www.inovacaotecnologica.com.br/noticias...   \n",
       "\n",
       "                                                   title  \\\n",
       "0          Hiri wants to fix the workplace email problem   \n",
       "1          Hiri wants to fix the workplace email problem   \n",
       "2          Hiri wants to fix the workplace email problem   \n",
       "3          Hiri wants to fix the workplace email problem   \n",
       "4          Hiri wants to fix the workplace email problem   \n",
       "...                                                  ...   \n",
       "71568  The Ultimate Digital Clean-Up Checklist: Are Y...   \n",
       "71569                            Renewing Medium's focus   \n",
       "71570  Santander Brasil gera 21% do resultado da matr...   \n",
       "71571  Santander Brasil tem lucro gerencial de R$ 1,9...   \n",
       "71572  Depois da Inteligência Artificial, vem aí a In...   \n",
       "\n",
       "                                                    text lang authorUserAgent  \n",
       "0      Hiri is the latest startup trying to fix email...   en              NA  \n",
       "1      Hiri is the latest startup trying to fix email...   en              NA  \n",
       "2      Hiri is the latest startup trying to fix email...   en              NA  \n",
       "3      Hiri is the latest startup trying to fix email...   en              NA  \n",
       "4      Hiri is the latest startup trying to fix email...   en              NA  \n",
       "...                                                  ...  ...             ...  \n",
       "71568  With a couple of days left until New Year's Ev...   en         Windows  \n",
       "71569  We've decided to make some major changes at Me...   en             Mac  \n",
       "71570  SÃO PAULO - As operações do Santander no Brasi...   pt         Windows  \n",
       "71571  SÃO PAULO - O Santander Brasil obteve lucro lí...   pt         Windows  \n",
       "71572  Hoje estamos publicando dois artigos com difer...   pt         Windows  \n",
       "\n",
       "[71562 rows x 18 columns]"
      ],
      "text/html": "<div>\n<style scoped>\n    .dataframe tbody tr th:only-of-type {\n        vertical-align: middle;\n    }\n\n    .dataframe tbody tr th {\n        vertical-align: top;\n    }\n\n    .dataframe thead th {\n        text-align: right;\n    }\n</style>\n<table border=\"1\" class=\"dataframe\">\n  <thead>\n    <tr style=\"text-align: right;\">\n      <th></th>\n      <th>articleInteractedTime</th>\n      <th>eventType</th>\n      <th>contentId</th>\n      <th>personId</th>\n      <th>sessionId</th>\n      <th>userRegion</th>\n      <th>userCountry</th>\n      <th>userAgent</th>\n      <th>articlePublishedTime</th>\n      <th>authorPersonId</th>\n      <th>authorSessionId</th>\n      <th>authorRegion</th>\n      <th>authorCountry</th>\n      <th>url</th>\n      <th>title</th>\n      <th>text</th>\n      <th>lang</th>\n      <th>authorUserAgent</th>\n    </tr>\n  </thead>\n  <tbody>\n    <tr>\n      <th>0</th>\n      <td>1465413032</td>\n      <td>VIEW</td>\n      <td>-3499919498720038879</td>\n      <td>-8845298781299428018</td>\n      <td>1264196770339959068</td>\n      <td>NaN</td>\n      <td>NaN</td>\n      <td>NA</td>\n      <td>1465309434</td>\n      <td>-1032019229384696495</td>\n      <td>-7696592431575292648</td>\n      <td>NaN</td>\n      <td>NaN</td>\n      <td>http://techcrunch.com/2016/06/07/hiri/</td>\n      <td>Hiri wants to fix the workplace email problem</td>\n      <td>Hiri is the latest startup trying to fix email...</td>\n      <td>en</td>\n      <td>NA</td>\n    </tr>\n    <tr>\n      <th>1</th>\n      <td>1465413046</td>\n      <td>VIEW</td>\n      <td>-3499919498720038879</td>\n      <td>-8845298781299428018</td>\n      <td>1264196770339959068</td>\n      <td>SP</td>\n      <td>BR</td>\n      <td>Mac</td>\n      <td>1465309434</td>\n      <td>-1032019229384696495</td>\n      <td>-7696592431575292648</td>\n      <td>NaN</td>\n      <td>NaN</td>\n      <td>http://techcrunch.com/2016/06/07/hiri/</td>\n      <td>Hiri wants to fix the workplace email problem</td>\n      <td>Hiri is the latest startup trying to fix email...</td>\n      <td>en</td>\n      <td>NA</td>\n    </tr>\n    <tr>\n      <th>2</th>\n      <td>1465907360</td>\n      <td>VIEW</td>\n      <td>-3499919498720038879</td>\n      <td>-108842214936804958</td>\n      <td>-2163423831651021975</td>\n      <td>SP</td>\n      <td>BR</td>\n      <td>Windows</td>\n      <td>1465309434</td>\n      <td>-1032019229384696495</td>\n      <td>-7696592431575292648</td>\n      <td>NaN</td>\n      <td>NaN</td>\n      <td>http://techcrunch.com/2016/06/07/hiri/</td>\n      <td>Hiri wants to fix the workplace email problem</td>\n      <td>Hiri is the latest startup trying to fix email...</td>\n      <td>en</td>\n      <td>NA</td>\n    </tr>\n    <tr>\n      <th>3</th>\n      <td>1465583412</td>\n      <td>VIEW</td>\n      <td>-3499919498720038879</td>\n      <td>-1443636648652872475</td>\n      <td>-3976301106281818872</td>\n      <td>SP</td>\n      <td>BR</td>\n      <td>Linux</td>\n      <td>1465309434</td>\n      <td>-1032019229384696495</td>\n      <td>-7696592431575292648</td>\n      <td>NaN</td>\n      <td>NaN</td>\n      <td>http://techcrunch.com/2016/06/07/hiri/</td>\n      <td>Hiri wants to fix the workplace email problem</td>\n      <td>Hiri is the latest startup trying to fix email...</td>\n      <td>en</td>\n      <td>NA</td>\n    </tr>\n    <tr>\n      <th>4</th>\n      <td>1465582468</td>\n      <td>VIEW</td>\n      <td>-3499919498720038879</td>\n      <td>-1443636648652872475</td>\n      <td>-3976301106281818872</td>\n      <td>SP</td>\n      <td>BR</td>\n      <td>Linux</td>\n      <td>1465309434</td>\n      <td>-1032019229384696495</td>\n      <td>-7696592431575292648</td>\n      <td>NaN</td>\n      <td>NaN</td>\n      <td>http://techcrunch.com/2016/06/07/hiri/</td>\n      <td>Hiri wants to fix the workplace email problem</td>\n      <td>Hiri is the latest startup trying to fix email...</td>\n      <td>en</td>\n      <td>NA</td>\n    </tr>\n    <tr>\n      <th>...</th>\n      <td>...</td>\n      <td>...</td>\n      <td>...</td>\n      <td>...</td>\n      <td>...</td>\n      <td>...</td>\n      <td>...</td>\n      <td>...</td>\n      <td>...</td>\n      <td>...</td>\n      <td>...</td>\n      <td>...</td>\n      <td>...</td>\n      <td>...</td>\n      <td>...</td>\n      <td>...</td>\n      <td>...</td>\n      <td>...</td>\n    </tr>\n    <tr>\n      <th>71568</th>\n      <td>1482929120</td>\n      <td>VIEW</td>\n      <td>-7108012586837980940</td>\n      <td>-4028919343899978105</td>\n      <td>1103146045123415934</td>\n      <td>SP</td>\n      <td>BR</td>\n      <td>Windows</td>\n      <td>1482929117</td>\n      <td>-4028919343899978105</td>\n      <td>1103146045123415934</td>\n      <td>SP</td>\n      <td>BR</td>\n      <td>https://www.smashingmagazine.com/2016/12/digit...</td>\n      <td>The Ultimate Digital Clean-Up Checklist: Are Y...</td>\n      <td>With a couple of days left until New Year's Ev...</td>\n      <td>en</td>\n      <td>Windows</td>\n    </tr>\n    <tr>\n      <th>71569</th>\n      <td>1483616272</td>\n      <td>VIEW</td>\n      <td>7526977287801930517</td>\n      <td>-3643155458357242906</td>\n      <td>8781579964260038140</td>\n      <td>MG</td>\n      <td>BR</td>\n      <td>Mac</td>\n      <td>1483616270</td>\n      <td>-3643155458357242906</td>\n      <td>8781579964260038140</td>\n      <td>MG</td>\n      <td>BR</td>\n      <td>https://blog.medium.com/renewing-mediums-focus...</td>\n      <td>Renewing Medium's focus</td>\n      <td>We've decided to make some major changes at Me...</td>\n      <td>en</td>\n      <td>Mac</td>\n    </tr>\n    <tr>\n      <th>71570</th>\n      <td>1485429106</td>\n      <td>VIEW</td>\n      <td>-282629989972409543</td>\n      <td>5660542693104786364</td>\n      <td>-537882753893230818</td>\n      <td>SP</td>\n      <td>BR</td>\n      <td>Windows</td>\n      <td>1485429102</td>\n      <td>5660542693104786364</td>\n      <td>-537882753893230818</td>\n      <td>SP</td>\n      <td>BR</td>\n      <td>http://www.valor.com.br/financas/4847178/santa...</td>\n      <td>Santander Brasil gera 21% do resultado da matr...</td>\n      <td>SÃO PAULO - As operações do Santander no Brasi...</td>\n      <td>pt</td>\n      <td>Windows</td>\n    </tr>\n    <tr>\n      <th>71571</th>\n      <td>1485429066</td>\n      <td>VIEW</td>\n      <td>-6468782714472551646</td>\n      <td>5660542693104786364</td>\n      <td>-537882753893230818</td>\n      <td>SP</td>\n      <td>BR</td>\n      <td>Windows</td>\n      <td>1485429024</td>\n      <td>5660542693104786364</td>\n      <td>-537882753893230818</td>\n      <td>SP</td>\n      <td>BR</td>\n      <td>http://www.valor.com.br/financas/4848194/santa...</td>\n      <td>Santander Brasil tem lucro gerencial de R$ 1,9...</td>\n      <td>SÃO PAULO - O Santander Brasil obteve lucro lí...</td>\n      <td>pt</td>\n      <td>Windows</td>\n    </tr>\n    <tr>\n      <th>71572</th>\n      <td>1485868866</td>\n      <td>VIEW</td>\n      <td>-9040419159428373932</td>\n      <td>-7496361692498935601</td>\n      <td>-1030459773185003253</td>\n      <td>SP</td>\n      <td>BR</td>\n      <td>Windows</td>\n      <td>1485868862</td>\n      <td>-7496361692498935601</td>\n      <td>-1030459773185003253</td>\n      <td>SP</td>\n      <td>BR</td>\n      <td>http://www.inovacaotecnologica.com.br/noticias...</td>\n      <td>Depois da Inteligência Artificial, vem aí a In...</td>\n      <td>Hoje estamos publicando dois artigos com difer...</td>\n      <td>pt</td>\n      <td>Windows</td>\n    </tr>\n  </tbody>\n</table>\n<p>71562 rows × 18 columns</p>\n</div>"
     },
     "metadata": {},
     "execution_count": 149
    }
   ],
   "source": [
    "# Merge 'interactionsDF' with 'articlesDF'and drop duplicate tuples\n",
    "interactionswitharticlesDF = pd.merge(interactionsDF, articlesDF, how='inner', on='contentId')\n",
    "interactionswitharticlesDF.drop_duplicates()"
   ]
  },
  {
   "cell_type": "code",
   "execution_count": 166,
   "metadata": {},
   "outputs": [],
   "source": [
    "articlesDF[\"viewCount\"]= 0\n",
    "articlesDF[\"likeCount\"]=0\n",
    "articlesDF[\"commentcreatedCount\"]=0\n",
    "articlesDF[\"bookmarkCount\"]=0\n",
    "articlesDF[\"followCount\"]=0\n",
    "articlesDF[\"interactionCount\"]=0\n",
    "\n",
    "for iX,val in articlesDF.iterrows():\n",
    "    articlesDF.loc[iX,\"viewCount\"]=interactionsDF[(interactionsDF.contentId==val.contentId) \n",
    "                                                  & (interactionsDF.eventType==\"VIEW\")].shape[0]\n",
    "    articlesDF.loc[iX,\"followCount\"]=interactionsDF[(interactionsDF.contentId==val.contentId) \n",
    "                                                    & (interactionsDF.eventType==\"FOLLOW\")].shape[0]\n",
    "    articlesDF.loc[iX,\"commentcreatedCount\"]=interactionsDF[(interactionsDF.contentId==val.contentId) \n",
    "                                                            & (interactionsDF.eventType==\"COMMENT CREATED\")].shape[0]\n",
    "    articlesDF.loc[iX,\"likeCount\"]=interactionsDF[(interactionsDF.contentId==val.contentId) \n",
    "                                                  & (interactionsDF.eventType==\"LIKE\")].shape[0]\n",
    "    articlesDF.loc[iX,\"bookmarkCount\"]=interactionsDF[(interactionsDF.contentId==val.contentId) \n",
    "                                                      & (interactionsDF.eventType==\"BOOKMARK\")].shape[0]\n",
    "    articlesDF.loc[iX,\"interactionCount\"]= interactionsDF[(interactionsDF.contentId==val.contentId)].shape[0]"
   ]
  },
  {
   "cell_type": "code",
   "execution_count": 167,
   "metadata": {},
   "outputs": [
    {
     "output_type": "execute_result",
     "data": {
      "text/plain": [
       "         viewCount    likeCount  commentcreatedCount  bookmarkCount  \\\n",
       "count  3027.000000  3027.000000          3027.000000    3027.000000   \n",
       "mean     19.959696     1.888999             0.526264       0.809052   \n",
       "std      27.129692     3.354211             1.279595       2.217639   \n",
       "min       0.000000     0.000000             0.000000       0.000000   \n",
       "25%       5.000000     0.000000             0.000000       0.000000   \n",
       "50%      11.000000     1.000000             0.000000       0.000000   \n",
       "75%      25.000000     2.000000             0.000000       1.000000   \n",
       "max     355.000000    53.000000            13.000000      78.000000   \n",
       "\n",
       "       followCount  interactionCount  \n",
       "count  3027.000000       3027.000000  \n",
       "mean      0.460852         23.644863  \n",
       "std       1.069327         32.379479  \n",
       "min       0.000000          0.000000  \n",
       "25%       0.000000          5.000000  \n",
       "50%       0.000000         14.000000  \n",
       "75%       0.500000         30.000000  \n",
       "max      14.000000        433.000000  "
      ],
      "text/html": "<div>\n<style scoped>\n    .dataframe tbody tr th:only-of-type {\n        vertical-align: middle;\n    }\n\n    .dataframe tbody tr th {\n        vertical-align: top;\n    }\n\n    .dataframe thead th {\n        text-align: right;\n    }\n</style>\n<table border=\"1\" class=\"dataframe\">\n  <thead>\n    <tr style=\"text-align: right;\">\n      <th></th>\n      <th>viewCount</th>\n      <th>likeCount</th>\n      <th>commentcreatedCount</th>\n      <th>bookmarkCount</th>\n      <th>followCount</th>\n      <th>interactionCount</th>\n    </tr>\n  </thead>\n  <tbody>\n    <tr>\n      <th>count</th>\n      <td>3027.000000</td>\n      <td>3027.000000</td>\n      <td>3027.000000</td>\n      <td>3027.000000</td>\n      <td>3027.000000</td>\n      <td>3027.000000</td>\n    </tr>\n    <tr>\n      <th>mean</th>\n      <td>19.959696</td>\n      <td>1.888999</td>\n      <td>0.526264</td>\n      <td>0.809052</td>\n      <td>0.460852</td>\n      <td>23.644863</td>\n    </tr>\n    <tr>\n      <th>std</th>\n      <td>27.129692</td>\n      <td>3.354211</td>\n      <td>1.279595</td>\n      <td>2.217639</td>\n      <td>1.069327</td>\n      <td>32.379479</td>\n    </tr>\n    <tr>\n      <th>min</th>\n      <td>0.000000</td>\n      <td>0.000000</td>\n      <td>0.000000</td>\n      <td>0.000000</td>\n      <td>0.000000</td>\n      <td>0.000000</td>\n    </tr>\n    <tr>\n      <th>25%</th>\n      <td>5.000000</td>\n      <td>0.000000</td>\n      <td>0.000000</td>\n      <td>0.000000</td>\n      <td>0.000000</td>\n      <td>5.000000</td>\n    </tr>\n    <tr>\n      <th>50%</th>\n      <td>11.000000</td>\n      <td>1.000000</td>\n      <td>0.000000</td>\n      <td>0.000000</td>\n      <td>0.000000</td>\n      <td>14.000000</td>\n    </tr>\n    <tr>\n      <th>75%</th>\n      <td>25.000000</td>\n      <td>2.000000</td>\n      <td>0.000000</td>\n      <td>1.000000</td>\n      <td>0.500000</td>\n      <td>30.000000</td>\n    </tr>\n    <tr>\n      <th>max</th>\n      <td>355.000000</td>\n      <td>53.000000</td>\n      <td>13.000000</td>\n      <td>78.000000</td>\n      <td>14.000000</td>\n      <td>433.000000</td>\n    </tr>\n  </tbody>\n</table>\n</div>"
     },
     "metadata": {},
     "execution_count": 167
    }
   ],
   "source": [
    "articlesDF.describe()"
   ]
  },
  {
   "cell_type": "code",
   "execution_count": 152,
   "metadata": {},
   "outputs": [
    {
     "output_type": "display_data",
     "data": {
      "application/vnd.plotly.v1+json": {
       "config": {
        "plotlyServerURL": "https://plot.ly"
       },
       "data": [
        {
         "colorscale": [
          [
           0,
           "rgb(255,255,204)"
          ],
          [
           0.125,
           "rgb(255,237,160)"
          ],
          [
           0.25,
           "rgb(254,217,118)"
          ],
          [
           0.375,
           "rgb(254,178,76)"
          ],
          [
           0.5,
           "rgb(253,141,60)"
          ],
          [
           0.625,
           "rgb(252,78,42)"
          ],
          [
           0.75,
           "rgb(227,26,28)"
          ],
          [
           0.875,
           "rgb(189,0,38)"
          ],
          [
           1,
           "rgb(128,0,38)"
          ]
         ],
         "type": "heatmap",
         "x": [
          "articlePublishedTime",
          "viewCount",
          "likeCount",
          "commentcreatedCount",
          "bookmarkCount",
          "followCount",
          "interactionCount"
         ],
         "y": [
          "articlePublishedTime",
          "viewCount",
          "likeCount",
          "commentcreatedCount",
          "bookmarkCount",
          "followCount",
          "interactionCount"
         ],
         "z": [
          [
           1,
           0.05926532613285783,
           0.032980793206971865,
           0.026054522964111704,
           -0.01215877638240346,
           0.15663329088973107,
           0.05844263987412092
          ],
          [
           0.05926532613285783,
           1,
           0.7998068324854047,
           0.5398045931413114,
           0.45059640075570573,
           0.6151361087222565,
           0.9932273851573942
          ],
          [
           0.032980793206971865,
           0.7998068324854047,
           1,
           0.5313359366604324,
           0.47647576972424116,
           0.5955541178037981,
           0.8470213942748934
          ],
          [
           0.026054522964111704,
           0.5398045931413114,
           0.5313359366604324,
           1,
           0.21558395722447918,
           0.7940751011386347,
           0.5878338308719915
          ],
          [
           -0.01215877638240346,
           0.45059640075570573,
           0.47647576972424116,
           0.21558395722447918,
           1,
           0.2511737744567325,
           0.5122017985190058
          ],
          [
           0.15663329088973107,
           0.6151361087222565,
           0.5955541178037981,
           0.7940751011386347,
           0.2511737744567325,
           1,
           0.6587042743260808
          ],
          [
           0.05844263987412092,
           0.9932273851573942,
           0.8470213942748934,
           0.5878338308719915,
           0.5122017985190058,
           0.6587042743260808,
           1
          ]
         ]
        }
       ],
       "layout": {
        "height": 700,
        "template": {
         "data": {
          "bar": [
           {
            "error_x": {
             "color": "#2a3f5f"
            },
            "error_y": {
             "color": "#2a3f5f"
            },
            "marker": {
             "line": {
              "color": "#E5ECF6",
              "width": 0.5
             }
            },
            "type": "bar"
           }
          ],
          "barpolar": [
           {
            "marker": {
             "line": {
              "color": "#E5ECF6",
              "width": 0.5
             }
            },
            "type": "barpolar"
           }
          ],
          "carpet": [
           {
            "aaxis": {
             "endlinecolor": "#2a3f5f",
             "gridcolor": "white",
             "linecolor": "white",
             "minorgridcolor": "white",
             "startlinecolor": "#2a3f5f"
            },
            "baxis": {
             "endlinecolor": "#2a3f5f",
             "gridcolor": "white",
             "linecolor": "white",
             "minorgridcolor": "white",
             "startlinecolor": "#2a3f5f"
            },
            "type": "carpet"
           }
          ],
          "choropleth": [
           {
            "colorbar": {
             "outlinewidth": 0,
             "ticks": ""
            },
            "type": "choropleth"
           }
          ],
          "contour": [
           {
            "colorbar": {
             "outlinewidth": 0,
             "ticks": ""
            },
            "colorscale": [
             [
              0,
              "#0d0887"
             ],
             [
              0.1111111111111111,
              "#46039f"
             ],
             [
              0.2222222222222222,
              "#7201a8"
             ],
             [
              0.3333333333333333,
              "#9c179e"
             ],
             [
              0.4444444444444444,
              "#bd3786"
             ],
             [
              0.5555555555555556,
              "#d8576b"
             ],
             [
              0.6666666666666666,
              "#ed7953"
             ],
             [
              0.7777777777777778,
              "#fb9f3a"
             ],
             [
              0.8888888888888888,
              "#fdca26"
             ],
             [
              1,
              "#f0f921"
             ]
            ],
            "type": "contour"
           }
          ],
          "contourcarpet": [
           {
            "colorbar": {
             "outlinewidth": 0,
             "ticks": ""
            },
            "type": "contourcarpet"
           }
          ],
          "heatmap": [
           {
            "colorbar": {
             "outlinewidth": 0,
             "ticks": ""
            },
            "colorscale": [
             [
              0,
              "#0d0887"
             ],
             [
              0.1111111111111111,
              "#46039f"
             ],
             [
              0.2222222222222222,
              "#7201a8"
             ],
             [
              0.3333333333333333,
              "#9c179e"
             ],
             [
              0.4444444444444444,
              "#bd3786"
             ],
             [
              0.5555555555555556,
              "#d8576b"
             ],
             [
              0.6666666666666666,
              "#ed7953"
             ],
             [
              0.7777777777777778,
              "#fb9f3a"
             ],
             [
              0.8888888888888888,
              "#fdca26"
             ],
             [
              1,
              "#f0f921"
             ]
            ],
            "type": "heatmap"
           }
          ],
          "heatmapgl": [
           {
            "colorbar": {
             "outlinewidth": 0,
             "ticks": ""
            },
            "colorscale": [
             [
              0,
              "#0d0887"
             ],
             [
              0.1111111111111111,
              "#46039f"
             ],
             [
              0.2222222222222222,
              "#7201a8"
             ],
             [
              0.3333333333333333,
              "#9c179e"
             ],
             [
              0.4444444444444444,
              "#bd3786"
             ],
             [
              0.5555555555555556,
              "#d8576b"
             ],
             [
              0.6666666666666666,
              "#ed7953"
             ],
             [
              0.7777777777777778,
              "#fb9f3a"
             ],
             [
              0.8888888888888888,
              "#fdca26"
             ],
             [
              1,
              "#f0f921"
             ]
            ],
            "type": "heatmapgl"
           }
          ],
          "histogram": [
           {
            "marker": {
             "colorbar": {
              "outlinewidth": 0,
              "ticks": ""
             }
            },
            "type": "histogram"
           }
          ],
          "histogram2d": [
           {
            "colorbar": {
             "outlinewidth": 0,
             "ticks": ""
            },
            "colorscale": [
             [
              0,
              "#0d0887"
             ],
             [
              0.1111111111111111,
              "#46039f"
             ],
             [
              0.2222222222222222,
              "#7201a8"
             ],
             [
              0.3333333333333333,
              "#9c179e"
             ],
             [
              0.4444444444444444,
              "#bd3786"
             ],
             [
              0.5555555555555556,
              "#d8576b"
             ],
             [
              0.6666666666666666,
              "#ed7953"
             ],
             [
              0.7777777777777778,
              "#fb9f3a"
             ],
             [
              0.8888888888888888,
              "#fdca26"
             ],
             [
              1,
              "#f0f921"
             ]
            ],
            "type": "histogram2d"
           }
          ],
          "histogram2dcontour": [
           {
            "colorbar": {
             "outlinewidth": 0,
             "ticks": ""
            },
            "colorscale": [
             [
              0,
              "#0d0887"
             ],
             [
              0.1111111111111111,
              "#46039f"
             ],
             [
              0.2222222222222222,
              "#7201a8"
             ],
             [
              0.3333333333333333,
              "#9c179e"
             ],
             [
              0.4444444444444444,
              "#bd3786"
             ],
             [
              0.5555555555555556,
              "#d8576b"
             ],
             [
              0.6666666666666666,
              "#ed7953"
             ],
             [
              0.7777777777777778,
              "#fb9f3a"
             ],
             [
              0.8888888888888888,
              "#fdca26"
             ],
             [
              1,
              "#f0f921"
             ]
            ],
            "type": "histogram2dcontour"
           }
          ],
          "mesh3d": [
           {
            "colorbar": {
             "outlinewidth": 0,
             "ticks": ""
            },
            "type": "mesh3d"
           }
          ],
          "parcoords": [
           {
            "line": {
             "colorbar": {
              "outlinewidth": 0,
              "ticks": ""
             }
            },
            "type": "parcoords"
           }
          ],
          "pie": [
           {
            "automargin": true,
            "type": "pie"
           }
          ],
          "scatter": [
           {
            "marker": {
             "colorbar": {
              "outlinewidth": 0,
              "ticks": ""
             }
            },
            "type": "scatter"
           }
          ],
          "scatter3d": [
           {
            "line": {
             "colorbar": {
              "outlinewidth": 0,
              "ticks": ""
             }
            },
            "marker": {
             "colorbar": {
              "outlinewidth": 0,
              "ticks": ""
             }
            },
            "type": "scatter3d"
           }
          ],
          "scattercarpet": [
           {
            "marker": {
             "colorbar": {
              "outlinewidth": 0,
              "ticks": ""
             }
            },
            "type": "scattercarpet"
           }
          ],
          "scattergeo": [
           {
            "marker": {
             "colorbar": {
              "outlinewidth": 0,
              "ticks": ""
             }
            },
            "type": "scattergeo"
           }
          ],
          "scattergl": [
           {
            "marker": {
             "colorbar": {
              "outlinewidth": 0,
              "ticks": ""
             }
            },
            "type": "scattergl"
           }
          ],
          "scattermapbox": [
           {
            "marker": {
             "colorbar": {
              "outlinewidth": 0,
              "ticks": ""
             }
            },
            "type": "scattermapbox"
           }
          ],
          "scatterpolar": [
           {
            "marker": {
             "colorbar": {
              "outlinewidth": 0,
              "ticks": ""
             }
            },
            "type": "scatterpolar"
           }
          ],
          "scatterpolargl": [
           {
            "marker": {
             "colorbar": {
              "outlinewidth": 0,
              "ticks": ""
             }
            },
            "type": "scatterpolargl"
           }
          ],
          "scatterternary": [
           {
            "marker": {
             "colorbar": {
              "outlinewidth": 0,
              "ticks": ""
             }
            },
            "type": "scatterternary"
           }
          ],
          "surface": [
           {
            "colorbar": {
             "outlinewidth": 0,
             "ticks": ""
            },
            "colorscale": [
             [
              0,
              "#0d0887"
             ],
             [
              0.1111111111111111,
              "#46039f"
             ],
             [
              0.2222222222222222,
              "#7201a8"
             ],
             [
              0.3333333333333333,
              "#9c179e"
             ],
             [
              0.4444444444444444,
              "#bd3786"
             ],
             [
              0.5555555555555556,
              "#d8576b"
             ],
             [
              0.6666666666666666,
              "#ed7953"
             ],
             [
              0.7777777777777778,
              "#fb9f3a"
             ],
             [
              0.8888888888888888,
              "#fdca26"
             ],
             [
              1,
              "#f0f921"
             ]
            ],
            "type": "surface"
           }
          ],
          "table": [
           {
            "cells": {
             "fill": {
              "color": "#EBF0F8"
             },
             "line": {
              "color": "white"
             }
            },
            "header": {
             "fill": {
              "color": "#C8D4E3"
             },
             "line": {
              "color": "white"
             }
            },
            "type": "table"
           }
          ]
         },
         "layout": {
          "annotationdefaults": {
           "arrowcolor": "#2a3f5f",
           "arrowhead": 0,
           "arrowwidth": 1
          },
          "coloraxis": {
           "colorbar": {
            "outlinewidth": 0,
            "ticks": ""
           }
          },
          "colorscale": {
           "diverging": [
            [
             0,
             "#8e0152"
            ],
            [
             0.1,
             "#c51b7d"
            ],
            [
             0.2,
             "#de77ae"
            ],
            [
             0.3,
             "#f1b6da"
            ],
            [
             0.4,
             "#fde0ef"
            ],
            [
             0.5,
             "#f7f7f7"
            ],
            [
             0.6,
             "#e6f5d0"
            ],
            [
             0.7,
             "#b8e186"
            ],
            [
             0.8,
             "#7fbc41"
            ],
            [
             0.9,
             "#4d9221"
            ],
            [
             1,
             "#276419"
            ]
           ],
           "sequential": [
            [
             0,
             "#0d0887"
            ],
            [
             0.1111111111111111,
             "#46039f"
            ],
            [
             0.2222222222222222,
             "#7201a8"
            ],
            [
             0.3333333333333333,
             "#9c179e"
            ],
            [
             0.4444444444444444,
             "#bd3786"
            ],
            [
             0.5555555555555556,
             "#d8576b"
            ],
            [
             0.6666666666666666,
             "#ed7953"
            ],
            [
             0.7777777777777778,
             "#fb9f3a"
            ],
            [
             0.8888888888888888,
             "#fdca26"
            ],
            [
             1,
             "#f0f921"
            ]
           ],
           "sequentialminus": [
            [
             0,
             "#0d0887"
            ],
            [
             0.1111111111111111,
             "#46039f"
            ],
            [
             0.2222222222222222,
             "#7201a8"
            ],
            [
             0.3333333333333333,
             "#9c179e"
            ],
            [
             0.4444444444444444,
             "#bd3786"
            ],
            [
             0.5555555555555556,
             "#d8576b"
            ],
            [
             0.6666666666666666,
             "#ed7953"
            ],
            [
             0.7777777777777778,
             "#fb9f3a"
            ],
            [
             0.8888888888888888,
             "#fdca26"
            ],
            [
             1,
             "#f0f921"
            ]
           ]
          },
          "colorway": [
           "#636efa",
           "#EF553B",
           "#00cc96",
           "#ab63fa",
           "#FFA15A",
           "#19d3f3",
           "#FF6692",
           "#B6E880",
           "#FF97FF",
           "#FECB52"
          ],
          "font": {
           "color": "#2a3f5f"
          },
          "geo": {
           "bgcolor": "white",
           "lakecolor": "white",
           "landcolor": "#E5ECF6",
           "showlakes": true,
           "showland": true,
           "subunitcolor": "white"
          },
          "hoverlabel": {
           "align": "left"
          },
          "hovermode": "closest",
          "mapbox": {
           "style": "light"
          },
          "paper_bgcolor": "white",
          "plot_bgcolor": "#E5ECF6",
          "polar": {
           "angularaxis": {
            "gridcolor": "white",
            "linecolor": "white",
            "ticks": ""
           },
           "bgcolor": "#E5ECF6",
           "radialaxis": {
            "gridcolor": "white",
            "linecolor": "white",
            "ticks": ""
           }
          },
          "scene": {
           "xaxis": {
            "backgroundcolor": "#E5ECF6",
            "gridcolor": "white",
            "gridwidth": 2,
            "linecolor": "white",
            "showbackground": true,
            "ticks": "",
            "zerolinecolor": "white"
           },
           "yaxis": {
            "backgroundcolor": "#E5ECF6",
            "gridcolor": "white",
            "gridwidth": 2,
            "linecolor": "white",
            "showbackground": true,
            "ticks": "",
            "zerolinecolor": "white"
           },
           "zaxis": {
            "backgroundcolor": "#E5ECF6",
            "gridcolor": "white",
            "gridwidth": 2,
            "linecolor": "white",
            "showbackground": true,
            "ticks": "",
            "zerolinecolor": "white"
           }
          },
          "shapedefaults": {
           "line": {
            "color": "#2a3f5f"
           }
          },
          "ternary": {
           "aaxis": {
            "gridcolor": "white",
            "linecolor": "white",
            "ticks": ""
           },
           "baxis": {
            "gridcolor": "white",
            "linecolor": "white",
            "ticks": ""
           },
           "bgcolor": "#E5ECF6",
           "caxis": {
            "gridcolor": "white",
            "linecolor": "white",
            "ticks": ""
           }
          },
          "title": {
           "x": 0.05
          },
          "xaxis": {
           "automargin": true,
           "gridcolor": "white",
           "linecolor": "white",
           "ticks": "",
           "title": {
            "standoff": 15
           },
           "zerolinecolor": "white",
           "zerolinewidth": 2
          },
          "yaxis": {
           "automargin": true,
           "gridcolor": "white",
           "linecolor": "white",
           "ticks": "",
           "title": {
            "standoff": 15
           },
           "zerolinecolor": "white",
           "zerolinewidth": 2
          }
         }
        },
        "title": {
         "text": "Corelation Between Interactions"
        },
        "width": 700
       }
      }
     },
     "metadata": {}
    }
   ],
   "source": [
    "numericalColumnNames=[\"articlePublishedTime\", \"viewCount\",\"likeCount\",\"commentcreatedCount\", \"bookmarkCount\", \"followCount\", \"interactionCount\"]\n",
    "corrMatrix=articlesDF.corr()\n",
    "fig = go.Figure(go.Heatmap(x=numericalColumnNames,y=numericalColumnNames,z= corrMatrix,colorscale='YlorRd'))\n",
    "fig.update_layout(title='Corelation Among Interactions', \\\n",
    "                  width=100 * len(numericalColumnNames), \\\n",
    "                  height=100 * len(numericalColumnNames))\n",
    "fig.show()"
   ]
  },
  {
   "cell_type": "code",
   "execution_count": 153,
   "metadata": {},
   "outputs": [
    {
     "output_type": "stream",
     "name": "stdout",
     "text": [
      "Distinct Articles: \t2898\nDistinct Users: \t1892\nDistinct User sessions: \t28542\n"
     ]
    },
    {
     "output_type": "execute_result",
     "data": {
      "text/plain": [
       "count    1892.000000\n",
       "mean       37.829281\n",
       "std       102.945422\n",
       "min         1.000000\n",
       "25%         3.000000\n",
       "50%         9.000000\n",
       "75%        31.000000\n",
       "max      1851.000000\n",
       "Name: contentId, dtype: float64"
      ]
     },
     "metadata": {},
     "execution_count": 153
    }
   ],
   "source": [
    "print('Distinct Articles: \\t%d' % len(interactionswitharticlesDF['contentId'].unique()))\n",
    "print('Distinct Users: \\t%d' % len(interactionswitharticlesDF['personId'].unique()))\n",
    "print('Distinct User sessions: \\t%d' % len(interactionswitharticlesDF['sessionId'].unique()))\n",
    "\n",
    "#The summary shows that 50% of the users have interacted with atleast 9 articles \n",
    "interactionswitharticlesDF.groupby('personId')['contentId'].size().describe()"
   ]
  },
  {
   "cell_type": "code",
   "execution_count": 154,
   "metadata": {},
   "outputs": [
    {
     "output_type": "execute_result",
     "data": {
      "text/plain": [
       "articleInteractedTime    0\n",
       "eventType                0\n",
       "contentId                0\n",
       "personId                 0\n",
       "sessionId                0\n",
       "articlePublishedTime     0\n",
       "authorPersonId           0\n",
       "authorSessionId          0\n",
       "url                      0\n",
       "title                    0\n",
       "text                     0\n",
       "lang                     0\n",
       "dtype: int64"
      ]
     },
     "metadata": {},
     "execution_count": 154
    }
   ],
   "source": [
    "interactionswitharticlesDF.drop(columns=['userCountry', 'userRegion', 'userAgent', 'authorRegion', 'authorCountry', 'authorUserAgent'], axis=1, inplace=True)\n",
    "\n",
    "interactionswitharticlesDF.isnull().sum() "
   ]
  },
  {
   "cell_type": "code",
   "execution_count": 155,
   "metadata": {},
   "outputs": [],
   "source": [
    "def to_datetime(ts):\n",
    "    return datetime.fromtimestamp(ts)\n",
    "\n",
    "def to_datetime_str(ts):\n",
    "    return to_datetime(ts).strftime('%Y-%m-%d %H:%M:%S')"
   ]
  },
  {
   "cell_type": "code",
   "execution_count": 157,
   "metadata": {},
   "outputs": [
    {
     "output_type": "display_data",
     "data": {
      "text/plain": "<Figure size 600x400 with 1 Axes>",
      "image/svg+xml": "<?xml version=\"1.0\" encoding=\"utf-8\" standalone=\"no\"?>\r\n<!DOCTYPE svg PUBLIC \"-//W3C//DTD SVG 1.1//EN\"\r\n  \"http://www.w3.org/Graphics/SVG/1.1/DTD/svg11.dtd\">\r\n<!-- Created with matplotlib (https://matplotlib.org/) -->\r\n<svg height=\"297.28125pt\" version=\"1.1\" viewBox=\"0 0 392.46875 297.28125\" width=\"392.46875pt\" xmlns=\"http://www.w3.org/2000/svg\" xmlns:xlink=\"http://www.w3.org/1999/xlink\">\r\n <metadata>\r\n  <rdf:RDF xmlns:cc=\"http://creativecommons.org/ns#\" xmlns:dc=\"http://purl.org/dc/elements/1.1/\" xmlns:rdf=\"http://www.w3.org/1999/02/22-rdf-syntax-ns#\">\r\n   <cc:Work>\r\n    <dc:type rdf:resource=\"http://purl.org/dc/dcmitype/StillImage\"/>\r\n    <dc:date>2020-11-04T17:07:13.211894</dc:date>\r\n    <dc:format>image/svg+xml</dc:format>\r\n    <dc:creator>\r\n     <cc:Agent>\r\n      <dc:title>Matplotlib v3.3.2, https://matplotlib.org/</dc:title>\r\n     </cc:Agent>\r\n    </dc:creator>\r\n   </cc:Work>\r\n  </rdf:RDF>\r\n </metadata>\r\n <defs>\r\n  <style type=\"text/css\">*{stroke-linecap:butt;stroke-linejoin:round;}</style>\r\n </defs>\r\n <g id=\"figure_1\">\r\n  <g id=\"patch_1\">\r\n   <path d=\"M 0 297.28125 \r\nL 392.46875 297.28125 \r\nL 392.46875 0 \r\nL 0 0 \r\nz\r\n\" style=\"fill:#ffffff;\"/>\r\n  </g>\r\n  <g id=\"axes_1\">\r\n   <g id=\"patch_2\">\r\n    <path d=\"M 50.46875 239.64 \r\nL 385.26875 239.64 \r\nL 385.26875 22.2 \r\nL 50.46875 22.2 \r\nz\r\n\" style=\"fill:#ffffff;\"/>\r\n   </g>\r\n   <g id=\"patch_3\">\r\n    <path clip-path=\"url(#p0d74ab4650)\" d=\"M 57.44375 239.64 \r\nL 71.39375 239.64 \r\nL 71.39375 228.81451 \r\nL 57.44375 228.81451 \r\nz\r\n\" style=\"fill:#0088ed;\"/>\r\n   </g>\r\n   <g id=\"patch_4\">\r\n    <path clip-path=\"url(#p0d74ab4650)\" d=\"M 85.34375 239.64 \r\nL 99.29375 239.64 \r\nL 99.29375 150.72184 \r\nL 85.34375 150.72184 \r\nz\r\n\" style=\"fill:#0088ed;\"/>\r\n   </g>\r\n   <g id=\"patch_5\">\r\n    <path clip-path=\"url(#p0d74ab4650)\" d=\"M 113.24375 239.64 \r\nL 127.19375 239.64 \r\nL 127.19375 123.696685 \r\nL 113.24375 123.696685 \r\nz\r\n\" style=\"fill:#0088ed;\"/>\r\n   </g>\r\n   <g id=\"patch_6\">\r\n    <path clip-path=\"url(#p0d74ab4650)\" d=\"M 141.14375 239.64 \r\nL 155.09375 239.64 \r\nL 155.09375 32.554286 \r\nL 141.14375 32.554286 \r\nz\r\n\" style=\"fill:#0088ed;\"/>\r\n   </g>\r\n   <g id=\"patch_7\">\r\n    <path clip-path=\"url(#p0d74ab4650)\" d=\"M 169.04375 239.64 \r\nL 182.99375 239.64 \r\nL 182.99375 136.720701 \r\nL 169.04375 136.720701 \r\nz\r\n\" style=\"fill:#0088ed;\"/>\r\n   </g>\r\n   <g id=\"patch_8\">\r\n    <path clip-path=\"url(#p0d74ab4650)\" d=\"M 196.94375 239.64 \r\nL 210.89375 239.64 \r\nL 210.89375 138.134958 \r\nL 196.94375 138.134958 \r\nz\r\n\" style=\"fill:#0088ed;\"/>\r\n   </g>\r\n   <g id=\"patch_9\">\r\n    <path clip-path=\"url(#p0d74ab4650)\" d=\"M 224.84375 239.64 \r\nL 238.79375 239.64 \r\nL 238.79375 150.438989 \r\nL 224.84375 150.438989 \r\nz\r\n\" style=\"fill:#0088ed;\"/>\r\n   </g>\r\n   <g id=\"patch_10\">\r\n    <path clip-path=\"url(#p0d74ab4650)\" d=\"M 252.74375 239.64 \r\nL 266.69375 239.64 \r\nL 266.69375 175.072765 \r\nL 252.74375 175.072765 \r\nz\r\n\" style=\"fill:#0088ed;\"/>\r\n   </g>\r\n   <g id=\"patch_11\">\r\n    <path clip-path=\"url(#p0d74ab4650)\" d=\"M 280.64375 239.64 \r\nL 294.59375 239.64 \r\nL 294.59375 206.404974 \r\nL 280.64375 206.404974 \r\nz\r\n\" style=\"fill:#0088ed;\"/>\r\n   </g>\r\n   <g id=\"patch_12\">\r\n    <path clip-path=\"url(#p0d74ab4650)\" d=\"M 308.54375 239.64 \r\nL 322.49375 239.64 \r\nL 322.49375 208.140652 \r\nL 308.54375 208.140652 \r\nz\r\n\" style=\"fill:#0088ed;\"/>\r\n   </g>\r\n   <g id=\"patch_13\">\r\n    <path clip-path=\"url(#p0d74ab4650)\" d=\"M 336.44375 239.64 \r\nL 350.39375 239.64 \r\nL 350.39375 202.393628 \r\nL 336.44375 202.393628 \r\nz\r\n\" style=\"fill:#0088ed;\"/>\r\n   </g>\r\n   <g id=\"patch_14\">\r\n    <path clip-path=\"url(#p0d74ab4650)\" d=\"M 364.34375 239.64 \r\nL 378.29375 239.64 \r\nL 378.29375 202.380771 \r\nL 364.34375 202.380771 \r\nz\r\n\" style=\"fill:#0088ed;\"/>\r\n   </g>\r\n   <g id=\"matplotlib.axis_1\">\r\n    <g id=\"xtick_1\">\r\n     <g id=\"line2d_1\">\r\n      <defs>\r\n       <path d=\"M 0 0 \r\nL 0 3.5 \r\n\" id=\"m29d11cd098\" style=\"stroke:#58544f;stroke-width:0.8;\"/>\r\n      </defs>\r\n      <g>\r\n       <use style=\"fill:#58544f;stroke:#58544f;stroke-width:0.8;\" x=\"64.41875\" xlink:href=\"#m29d11cd098\" y=\"239.64\"/>\r\n      </g>\r\n     </g>\r\n     <g id=\"text_1\">\r\n      <!-- 2016-03 -->\r\n      <g style=\"fill:#58544f;\" transform=\"translate(66.60625 276.55)rotate(-90)scale(0.08 -0.08)\">\r\n       <defs>\r\n        <path d=\"M 53.125 0 \r\nL 5.328125 0 \r\nL 5.328125 8.15625 \r\nL 29 33.984375 \r\nQ 34.125 39.703125 36.296875 43.53125 \r\nQ 38.484375 47.359375 38.484375 51.21875 \r\nQ 38.484375 56.296875 35.625 59.421875 \r\nQ 32.765625 62.546875 27.9375 62.546875 \r\nQ 22.171875 62.546875 19 59.03125 \r\nQ 15.828125 55.515625 15.828125 49.421875 \r\nL 3.953125 49.421875 \r\nQ 3.953125 55.90625 6.90625 61.109375 \r\nQ 9.859375 66.3125 15.34375 69.1875 \r\nQ 20.84375 72.078125 28.03125 72.078125 \r\nQ 38.375 72.078125 44.359375 66.875 \r\nQ 50.34375 61.671875 50.34375 52.484375 \r\nQ 50.34375 47.171875 47.34375 41.328125 \r\nQ 44.34375 35.5 37.5 28.078125 \r\nL 20.125 9.46875 \r\nL 53.125 9.46875 \r\nz\r\n\" id=\"Roboto-Medium-50\"/>\r\n        <path d=\"M 51.65625 29.9375 \r\nQ 51.65625 14.59375 45.921875 6.796875 \r\nQ 40.1875 -0.984375 28.46875 -0.984375 \r\nQ 16.9375 -0.984375 11.109375 6.609375 \r\nQ 5.28125 14.203125 5.125 29.109375 \r\nL 5.125 41.40625 \r\nQ 5.125 56.734375 10.859375 64.40625 \r\nQ 16.609375 72.078125 28.375 72.078125 \r\nQ 40.046875 72.078125 45.78125 64.59375 \r\nQ 51.515625 57.125 51.65625 42.234375 \r\nz\r\nM 39.796875 43.21875 \r\nQ 39.796875 53.21875 37.0625 57.875 \r\nQ 34.328125 62.546875 28.375 62.546875 \r\nQ 22.5625 62.546875 19.828125 58.125 \r\nQ 17.09375 53.71875 16.9375 44.34375 \r\nL 16.9375 28.21875 \r\nQ 16.9375 18.265625 19.71875 13.375 \r\nQ 22.515625 8.5 28.46875 8.5 \r\nQ 34.1875 8.5 36.921875 13.015625 \r\nQ 39.65625 17.53125 39.796875 27.15625 \r\nz\r\n\" id=\"Roboto-Medium-48\"/>\r\n        <path d=\"M 37.453125 0 \r\nL 25.640625 0 \r\nL 25.640625 57.078125 \r\nL 8.203125 51.125 \r\nL 8.203125 61.140625 \r\nL 35.9375 71.34375 \r\nL 37.453125 71.34375 \r\nz\r\n\" id=\"Roboto-Medium-49\"/>\r\n        <path d=\"M 42.234375 71.4375 \r\nL 42.234375 61.625 \r\nL 40.765625 61.625 \r\nQ 30.8125 61.46875 24.84375 56.140625 \r\nQ 18.890625 50.828125 17.78125 41.0625 \r\nQ 23.484375 47.078125 32.375 47.078125 \r\nQ 41.796875 47.078125 47.234375 40.4375 \r\nQ 52.6875 33.796875 52.6875 23.296875 \r\nQ 52.6875 12.453125 46.3125 5.734375 \r\nQ 39.9375 -0.984375 29.59375 -0.984375 \r\nQ 18.953125 -0.984375 12.328125 6.875 \r\nQ 5.71875 14.75 5.71875 27.484375 \r\nL 5.71875 31.546875 \r\nQ 5.71875 50.25 14.8125 60.84375 \r\nQ 23.921875 71.4375 41.015625 71.4375 \r\nz\r\nM 29.5 37.5 \r\nQ 25.59375 37.5 22.34375 35.296875 \r\nQ 19.09375 33.109375 17.578125 29.4375 \r\nL 17.578125 25.828125 \r\nQ 17.578125 17.921875 20.890625 13.25 \r\nQ 24.21875 8.59375 29.484375 8.59375 \r\nQ 34.765625 8.59375 37.84375 12.546875 \r\nQ 40.921875 16.5 40.921875 22.9375 \r\nQ 40.921875 29.390625 37.796875 33.4375 \r\nQ 34.671875 37.5 29.5 37.5 \r\nz\r\n\" id=\"Roboto-Medium-54\"/>\r\n        <path d=\"M 29.109375 25.4375 \r\nL 3.46875 25.4375 \r\nL 3.46875 35.015625 \r\nL 29.109375 35.015625 \r\nz\r\n\" id=\"Roboto-Medium-45\"/>\r\n        <path d=\"M 19.046875 40.96875 \r\nL 26.265625 40.96875 \r\nQ 31.734375 41.015625 34.9375 43.796875 \r\nQ 38.140625 46.578125 38.140625 51.859375 \r\nQ 38.140625 56.9375 35.46875 59.734375 \r\nQ 32.8125 62.546875 27.34375 62.546875 \r\nQ 22.5625 62.546875 19.484375 59.78125 \r\nQ 16.40625 57.03125 16.40625 52.59375 \r\nL 4.546875 52.59375 \r\nQ 4.546875 58.0625 7.453125 62.546875 \r\nQ 10.359375 67.046875 15.546875 69.5625 \r\nQ 20.75 72.078125 27.203125 72.078125 \r\nQ 37.84375 72.078125 43.921875 66.71875 \r\nQ 50 61.375 50 51.859375 \r\nQ 50 47.078125 46.9375 42.84375 \r\nQ 43.890625 38.625 39.0625 36.46875 \r\nQ 44.921875 34.46875 47.96875 30.171875 \r\nQ 51.03125 25.875 51.03125 19.921875 \r\nQ 51.03125 10.359375 44.453125 4.6875 \r\nQ 37.890625 -0.984375 27.203125 -0.984375 \r\nQ 16.9375 -0.984375 10.390625 4.484375 \r\nQ 3.859375 9.96875 3.859375 19.046875 \r\nL 15.71875 19.046875 \r\nQ 15.71875 14.359375 18.859375 11.421875 \r\nQ 22.015625 8.5 27.34375 8.5 \r\nQ 32.859375 8.5 36.03125 11.421875 \r\nQ 39.203125 14.359375 39.203125 19.921875 \r\nQ 39.203125 25.53125 35.875 28.5625 \r\nQ 32.5625 31.59375 26.03125 31.59375 \r\nL 19.046875 31.59375 \r\nz\r\n\" id=\"Roboto-Medium-51\"/>\r\n       </defs>\r\n       <use xlink:href=\"#Roboto-Medium-50\"/>\r\n       <use x=\"56.835938\" xlink:href=\"#Roboto-Medium-48\"/>\r\n       <use x=\"113.671875\" xlink:href=\"#Roboto-Medium-49\"/>\r\n       <use x=\"170.507812\" xlink:href=\"#Roboto-Medium-54\"/>\r\n       <use x=\"227.34375\" xlink:href=\"#Roboto-Medium-45\"/>\r\n       <use x=\"260.15625\" xlink:href=\"#Roboto-Medium-48\"/>\r\n       <use x=\"316.992188\" xlink:href=\"#Roboto-Medium-51\"/>\r\n      </g>\r\n     </g>\r\n    </g>\r\n    <g id=\"xtick_2\">\r\n     <g id=\"line2d_2\">\r\n      <g>\r\n       <use style=\"fill:#58544f;stroke:#58544f;stroke-width:0.8;\" x=\"92.31875\" xlink:href=\"#m29d11cd098\" y=\"239.64\"/>\r\n      </g>\r\n     </g>\r\n     <g id=\"text_2\">\r\n      <!-- 2016-04 -->\r\n      <g style=\"fill:#58544f;\" transform=\"translate(94.50625 276.55)rotate(-90)scale(0.08 -0.08)\">\r\n       <defs>\r\n        <path d=\"M 45.453125 25.34375 \r\nL 54.296875 25.34375 \r\nL 54.296875 15.828125 \r\nL 45.453125 15.828125 \r\nL 45.453125 0 \r\nL 33.59375 0 \r\nL 33.59375 15.828125 \r\nL 2.875 15.828125 \r\nL 2.546875 23.046875 \r\nL 33.203125 71.09375 \r\nL 45.453125 71.09375 \r\nz\r\nM 14.984375 25.34375 \r\nL 33.59375 25.34375 \r\nL 33.59375 55.03125 \r\nL 32.71875 53.46875 \r\nz\r\n\" id=\"Roboto-Medium-52\"/>\r\n       </defs>\r\n       <use xlink:href=\"#Roboto-Medium-50\"/>\r\n       <use x=\"56.835938\" xlink:href=\"#Roboto-Medium-48\"/>\r\n       <use x=\"113.671875\" xlink:href=\"#Roboto-Medium-49\"/>\r\n       <use x=\"170.507812\" xlink:href=\"#Roboto-Medium-54\"/>\r\n       <use x=\"227.34375\" xlink:href=\"#Roboto-Medium-45\"/>\r\n       <use x=\"260.15625\" xlink:href=\"#Roboto-Medium-48\"/>\r\n       <use x=\"316.992188\" xlink:href=\"#Roboto-Medium-52\"/>\r\n      </g>\r\n     </g>\r\n    </g>\r\n    <g id=\"xtick_3\">\r\n     <g id=\"line2d_3\">\r\n      <g>\r\n       <use style=\"fill:#58544f;stroke:#58544f;stroke-width:0.8;\" x=\"120.21875\" xlink:href=\"#m29d11cd098\" y=\"239.64\"/>\r\n      </g>\r\n     </g>\r\n     <g id=\"text_3\">\r\n      <!-- 2016-05 -->\r\n      <g style=\"fill:#58544f;\" transform=\"translate(122.40625 276.55)rotate(-90)scale(0.08 -0.08)\">\r\n       <defs>\r\n        <path d=\"M 8.5 35.25 \r\nL 12.359375 71.09375 \r\nL 50.53125 71.09375 \r\nL 50.53125 60.84375 \r\nL 22.21875 60.84375 \r\nL 20.265625 43.84375 \r\nQ 25.203125 46.6875 31.390625 46.6875 \r\nQ 41.546875 46.6875 47.1875 40.1875 \r\nQ 52.828125 33.6875 52.828125 22.703125 \r\nQ 52.828125 11.859375 46.578125 5.4375 \r\nQ 40.328125 -0.984375 29.4375 -0.984375 \r\nQ 19.671875 -0.984375 13.25 4.5625 \r\nQ 6.84375 10.109375 6.296875 19.1875 \r\nL 17.78125 19.1875 \r\nQ 18.453125 14.015625 21.484375 11.25 \r\nQ 24.515625 8.5 29.390625 8.5 \r\nQ 34.859375 8.5 37.90625 12.40625 \r\nQ 40.96875 16.3125 40.96875 23.046875 \r\nQ 40.96875 29.546875 37.59375 33.328125 \r\nQ 34.234375 37.109375 28.328125 37.109375 \r\nQ 25.09375 37.109375 22.84375 36.25 \r\nQ 20.609375 35.40625 17.96875 32.90625 \r\nz\r\n\" id=\"Roboto-Medium-53\"/>\r\n       </defs>\r\n       <use xlink:href=\"#Roboto-Medium-50\"/>\r\n       <use x=\"56.835938\" xlink:href=\"#Roboto-Medium-48\"/>\r\n       <use x=\"113.671875\" xlink:href=\"#Roboto-Medium-49\"/>\r\n       <use x=\"170.507812\" xlink:href=\"#Roboto-Medium-54\"/>\r\n       <use x=\"227.34375\" xlink:href=\"#Roboto-Medium-45\"/>\r\n       <use x=\"260.15625\" xlink:href=\"#Roboto-Medium-48\"/>\r\n       <use x=\"316.992188\" xlink:href=\"#Roboto-Medium-53\"/>\r\n      </g>\r\n     </g>\r\n    </g>\r\n    <g id=\"xtick_4\">\r\n     <g id=\"line2d_4\">\r\n      <g>\r\n       <use style=\"fill:#58544f;stroke:#58544f;stroke-width:0.8;\" x=\"148.11875\" xlink:href=\"#m29d11cd098\" y=\"239.64\"/>\r\n      </g>\r\n     </g>\r\n     <g id=\"text_4\">\r\n      <!-- 2016-06 -->\r\n      <g style=\"fill:#58544f;\" transform=\"translate(150.30625 276.55)rotate(-90)scale(0.08 -0.08)\">\r\n       <use xlink:href=\"#Roboto-Medium-50\"/>\r\n       <use x=\"56.835938\" xlink:href=\"#Roboto-Medium-48\"/>\r\n       <use x=\"113.671875\" xlink:href=\"#Roboto-Medium-49\"/>\r\n       <use x=\"170.507812\" xlink:href=\"#Roboto-Medium-54\"/>\r\n       <use x=\"227.34375\" xlink:href=\"#Roboto-Medium-45\"/>\r\n       <use x=\"260.15625\" xlink:href=\"#Roboto-Medium-48\"/>\r\n       <use x=\"316.992188\" xlink:href=\"#Roboto-Medium-54\"/>\r\n      </g>\r\n     </g>\r\n    </g>\r\n    <g id=\"xtick_5\">\r\n     <g id=\"line2d_5\">\r\n      <g>\r\n       <use style=\"fill:#58544f;stroke:#58544f;stroke-width:0.8;\" x=\"176.01875\" xlink:href=\"#m29d11cd098\" y=\"239.64\"/>\r\n      </g>\r\n     </g>\r\n     <g id=\"text_5\">\r\n      <!-- 2016-07 -->\r\n      <g style=\"fill:#58544f;\" transform=\"translate(178.20625 276.55)rotate(-90)scale(0.08 -0.08)\">\r\n       <defs>\r\n        <path d=\"M 52.640625 64.5 \r\nL 24.21875 0 \r\nL 11.765625 0 \r\nL 40.140625 61.578125 \r\nL 3.375 61.578125 \r\nL 3.375 71.09375 \r\nL 52.640625 71.09375 \r\nz\r\n\" id=\"Roboto-Medium-55\"/>\r\n       </defs>\r\n       <use xlink:href=\"#Roboto-Medium-50\"/>\r\n       <use x=\"56.835938\" xlink:href=\"#Roboto-Medium-48\"/>\r\n       <use x=\"113.671875\" xlink:href=\"#Roboto-Medium-49\"/>\r\n       <use x=\"170.507812\" xlink:href=\"#Roboto-Medium-54\"/>\r\n       <use x=\"227.34375\" xlink:href=\"#Roboto-Medium-45\"/>\r\n       <use x=\"260.15625\" xlink:href=\"#Roboto-Medium-48\"/>\r\n       <use x=\"316.992188\" xlink:href=\"#Roboto-Medium-55\"/>\r\n      </g>\r\n     </g>\r\n    </g>\r\n    <g id=\"xtick_6\">\r\n     <g id=\"line2d_6\">\r\n      <g>\r\n       <use style=\"fill:#58544f;stroke:#58544f;stroke-width:0.8;\" x=\"203.91875\" xlink:href=\"#m29d11cd098\" y=\"239.64\"/>\r\n      </g>\r\n     </g>\r\n     <g id=\"text_6\">\r\n      <!-- 2016-08 -->\r\n      <g style=\"fill:#58544f;\" transform=\"translate(206.10625 276.55)rotate(-90)scale(0.08 -0.08)\">\r\n       <defs>\r\n        <path d=\"M 50.09375 52.34375 \r\nQ 50.09375 47.125 47.40625 43.046875 \r\nQ 44.734375 38.96875 40.09375 36.625 \r\nQ 45.65625 34.03125 48.65625 29.53125 \r\nQ 51.65625 25.046875 51.65625 19.390625 \r\nQ 51.65625 10.015625 45.3125 4.515625 \r\nQ 38.96875 -0.984375 28.421875 -0.984375 \r\nQ 17.828125 -0.984375 11.453125 4.53125 \r\nQ 5.078125 10.0625 5.078125 19.390625 \r\nQ 5.078125 25.09375 8.109375 29.640625 \r\nQ 11.140625 34.1875 16.609375 36.625 \r\nQ 12.015625 38.96875 9.34375 43.046875 \r\nQ 6.6875 47.125 6.6875 52.34375 \r\nQ 6.6875 61.421875 12.546875 66.75 \r\nQ 18.40625 72.078125 28.375 72.078125 \r\nQ 38.375 72.078125 44.234375 66.75 \r\nQ 50.09375 61.421875 50.09375 52.34375 \r\nz\r\nM 39.796875 19.96875 \r\nQ 39.796875 25.25 36.640625 28.484375 \r\nQ 33.5 31.734375 28.3125 31.734375 \r\nQ 23.140625 31.734375 20.03125 28.515625 \r\nQ 16.9375 25.296875 16.9375 19.96875 \r\nQ 16.9375 14.75 19.984375 11.625 \r\nQ 23.046875 8.5 28.421875 8.5 \r\nQ 33.796875 8.5 36.796875 11.515625 \r\nQ 39.796875 14.546875 39.796875 19.96875 \r\nz\r\nM 38.28125 51.90625 \r\nQ 38.28125 56.546875 35.59375 59.546875 \r\nQ 32.90625 62.546875 28.359375 62.546875 \r\nQ 23.828125 62.546875 21.1875 59.6875 \r\nQ 18.5625 56.84375 18.5625 51.90625 \r\nQ 18.5625 47.015625 21.21875 44.140625 \r\nQ 23.875 41.265625 28.40625 41.265625 \r\nQ 32.953125 41.265625 35.609375 44.140625 \r\nQ 38.28125 47.015625 38.28125 51.90625 \r\nz\r\n\" id=\"Roboto-Medium-56\"/>\r\n       </defs>\r\n       <use xlink:href=\"#Roboto-Medium-50\"/>\r\n       <use x=\"56.835938\" xlink:href=\"#Roboto-Medium-48\"/>\r\n       <use x=\"113.671875\" xlink:href=\"#Roboto-Medium-49\"/>\r\n       <use x=\"170.507812\" xlink:href=\"#Roboto-Medium-54\"/>\r\n       <use x=\"227.34375\" xlink:href=\"#Roboto-Medium-45\"/>\r\n       <use x=\"260.15625\" xlink:href=\"#Roboto-Medium-48\"/>\r\n       <use x=\"316.992188\" xlink:href=\"#Roboto-Medium-56\"/>\r\n      </g>\r\n     </g>\r\n    </g>\r\n    <g id=\"xtick_7\">\r\n     <g id=\"line2d_7\">\r\n      <g>\r\n       <use style=\"fill:#58544f;stroke:#58544f;stroke-width:0.8;\" x=\"231.81875\" xlink:href=\"#m29d11cd098\" y=\"239.64\"/>\r\n      </g>\r\n     </g>\r\n     <g id=\"text_7\">\r\n      <!-- 2016-09 -->\r\n      <g style=\"fill:#58544f;\" transform=\"translate(234.00625 276.55)rotate(-90)scale(0.08 -0.08)\">\r\n       <defs>\r\n        <path d=\"M 38.96875 29.734375 \r\nQ 33.015625 23.4375 25.046875 23.4375 \r\nQ 15.671875 23.4375 10.109375 30 \r\nQ 4.546875 36.578125 4.546875 47.265625 \r\nQ 4.546875 54.296875 7.375 60 \r\nQ 10.203125 65.71875 15.421875 68.890625 \r\nQ 20.65625 72.078125 27.546875 72.078125 \r\nQ 38.28125 72.078125 44.578125 64.0625 \r\nQ 50.875 56.0625 50.875 42.625 \r\nL 50.875 39.3125 \r\nQ 50.875 20.0625 42.1875 9.953125 \r\nQ 33.5 -0.140625 16.265625 -0.296875 \r\nL 14.84375 -0.296875 \r\nL 14.84375 9.515625 \r\nL 16.546875 9.515625 \r\nQ 27.046875 9.671875 32.65625 14.578125 \r\nQ 38.28125 19.484375 38.96875 29.734375 \r\nz\r\nM 27.546875 32.71875 \r\nQ 31.109375 32.71875 34.234375 34.765625 \r\nQ 37.359375 36.8125 39.0625 40.4375 \r\nL 39.0625 45.0625 \r\nQ 39.0625 52.9375 35.84375 57.71875 \r\nQ 32.625 62.5 27.484375 62.5 \r\nQ 22.359375 62.5 19.3125 58.265625 \r\nQ 16.265625 54.046875 16.265625 47.609375 \r\nQ 16.265625 40.921875 19.328125 36.8125 \r\nQ 22.40625 32.71875 27.546875 32.71875 \r\nz\r\n\" id=\"Roboto-Medium-57\"/>\r\n       </defs>\r\n       <use xlink:href=\"#Roboto-Medium-50\"/>\r\n       <use x=\"56.835938\" xlink:href=\"#Roboto-Medium-48\"/>\r\n       <use x=\"113.671875\" xlink:href=\"#Roboto-Medium-49\"/>\r\n       <use x=\"170.507812\" xlink:href=\"#Roboto-Medium-54\"/>\r\n       <use x=\"227.34375\" xlink:href=\"#Roboto-Medium-45\"/>\r\n       <use x=\"260.15625\" xlink:href=\"#Roboto-Medium-48\"/>\r\n       <use x=\"316.992188\" xlink:href=\"#Roboto-Medium-57\"/>\r\n      </g>\r\n     </g>\r\n    </g>\r\n    <g id=\"xtick_8\">\r\n     <g id=\"line2d_8\">\r\n      <g>\r\n       <use style=\"fill:#58544f;stroke:#58544f;stroke-width:0.8;\" x=\"259.71875\" xlink:href=\"#m29d11cd098\" y=\"239.64\"/>\r\n      </g>\r\n     </g>\r\n     <g id=\"text_8\">\r\n      <!-- 2016-10 -->\r\n      <g style=\"fill:#58544f;\" transform=\"translate(261.90625 276.55)rotate(-90)scale(0.08 -0.08)\">\r\n       <use xlink:href=\"#Roboto-Medium-50\"/>\r\n       <use x=\"56.835938\" xlink:href=\"#Roboto-Medium-48\"/>\r\n       <use x=\"113.671875\" xlink:href=\"#Roboto-Medium-49\"/>\r\n       <use x=\"170.507812\" xlink:href=\"#Roboto-Medium-54\"/>\r\n       <use x=\"227.34375\" xlink:href=\"#Roboto-Medium-45\"/>\r\n       <use x=\"260.15625\" xlink:href=\"#Roboto-Medium-49\"/>\r\n       <use x=\"316.992188\" xlink:href=\"#Roboto-Medium-48\"/>\r\n      </g>\r\n     </g>\r\n    </g>\r\n    <g id=\"xtick_9\">\r\n     <g id=\"line2d_9\">\r\n      <g>\r\n       <use style=\"fill:#58544f;stroke:#58544f;stroke-width:0.8;\" x=\"287.61875\" xlink:href=\"#m29d11cd098\" y=\"239.64\"/>\r\n      </g>\r\n     </g>\r\n     <g id=\"text_9\">\r\n      <!-- 2016-11 -->\r\n      <g style=\"fill:#58544f;\" transform=\"translate(289.80625 276.55)rotate(-90)scale(0.08 -0.08)\">\r\n       <use xlink:href=\"#Roboto-Medium-50\"/>\r\n       <use x=\"56.835938\" xlink:href=\"#Roboto-Medium-48\"/>\r\n       <use x=\"113.671875\" xlink:href=\"#Roboto-Medium-49\"/>\r\n       <use x=\"170.507812\" xlink:href=\"#Roboto-Medium-54\"/>\r\n       <use x=\"227.34375\" xlink:href=\"#Roboto-Medium-45\"/>\r\n       <use x=\"260.15625\" xlink:href=\"#Roboto-Medium-49\"/>\r\n       <use x=\"316.992188\" xlink:href=\"#Roboto-Medium-49\"/>\r\n      </g>\r\n     </g>\r\n    </g>\r\n    <g id=\"xtick_10\">\r\n     <g id=\"line2d_10\">\r\n      <g>\r\n       <use style=\"fill:#58544f;stroke:#58544f;stroke-width:0.8;\" x=\"315.51875\" xlink:href=\"#m29d11cd098\" y=\"239.64\"/>\r\n      </g>\r\n     </g>\r\n     <g id=\"text_10\">\r\n      <!-- 2016-12 -->\r\n      <g style=\"fill:#58544f;\" transform=\"translate(317.70625 276.55)rotate(-90)scale(0.08 -0.08)\">\r\n       <use xlink:href=\"#Roboto-Medium-50\"/>\r\n       <use x=\"56.835938\" xlink:href=\"#Roboto-Medium-48\"/>\r\n       <use x=\"113.671875\" xlink:href=\"#Roboto-Medium-49\"/>\r\n       <use x=\"170.507812\" xlink:href=\"#Roboto-Medium-54\"/>\r\n       <use x=\"227.34375\" xlink:href=\"#Roboto-Medium-45\"/>\r\n       <use x=\"260.15625\" xlink:href=\"#Roboto-Medium-49\"/>\r\n       <use x=\"316.992188\" xlink:href=\"#Roboto-Medium-50\"/>\r\n      </g>\r\n     </g>\r\n    </g>\r\n    <g id=\"xtick_11\">\r\n     <g id=\"line2d_11\">\r\n      <g>\r\n       <use style=\"fill:#58544f;stroke:#58544f;stroke-width:0.8;\" x=\"343.41875\" xlink:href=\"#m29d11cd098\" y=\"239.64\"/>\r\n      </g>\r\n     </g>\r\n     <g id=\"text_11\">\r\n      <!-- 2017-01 -->\r\n      <g style=\"fill:#58544f;\" transform=\"translate(345.60625 276.55)rotate(-90)scale(0.08 -0.08)\">\r\n       <use xlink:href=\"#Roboto-Medium-50\"/>\r\n       <use x=\"56.835938\" xlink:href=\"#Roboto-Medium-48\"/>\r\n       <use x=\"113.671875\" xlink:href=\"#Roboto-Medium-49\"/>\r\n       <use x=\"170.507812\" xlink:href=\"#Roboto-Medium-55\"/>\r\n       <use x=\"227.34375\" xlink:href=\"#Roboto-Medium-45\"/>\r\n       <use x=\"260.15625\" xlink:href=\"#Roboto-Medium-48\"/>\r\n       <use x=\"316.992188\" xlink:href=\"#Roboto-Medium-49\"/>\r\n      </g>\r\n     </g>\r\n    </g>\r\n    <g id=\"xtick_12\">\r\n     <g id=\"line2d_12\">\r\n      <g>\r\n       <use style=\"fill:#58544f;stroke:#58544f;stroke-width:0.8;\" x=\"371.31875\" xlink:href=\"#m29d11cd098\" y=\"239.64\"/>\r\n      </g>\r\n     </g>\r\n     <g id=\"text_12\">\r\n      <!-- 2017-02 -->\r\n      <g style=\"fill:#58544f;\" transform=\"translate(373.50625 276.55)rotate(-90)scale(0.08 -0.08)\">\r\n       <use xlink:href=\"#Roboto-Medium-50\"/>\r\n       <use x=\"56.835938\" xlink:href=\"#Roboto-Medium-48\"/>\r\n       <use x=\"113.671875\" xlink:href=\"#Roboto-Medium-49\"/>\r\n       <use x=\"170.507812\" xlink:href=\"#Roboto-Medium-55\"/>\r\n       <use x=\"227.34375\" xlink:href=\"#Roboto-Medium-45\"/>\r\n       <use x=\"260.15625\" xlink:href=\"#Roboto-Medium-48\"/>\r\n       <use x=\"316.992188\" xlink:href=\"#Roboto-Medium-50\"/>\r\n      </g>\r\n     </g>\r\n    </g>\r\n    <g id=\"text_13\">\r\n     <!-- Month -->\r\n     <g style=\"fill:#58544f;\" transform=\"translate(203.425781 288.05)scale(0.1 -0.1)\">\r\n      <defs>\r\n       <path d=\"M 23.25 71.09375 \r\nL 43.75 16.609375 \r\nL 64.203125 71.09375 \r\nL 80.171875 71.09375 \r\nL 80.171875 0 \r\nL 67.875 0 \r\nL 67.875 23.4375 \r\nL 69.09375 54.78125 \r\nL 48.09375 0 \r\nL 39.265625 0 \r\nL 18.3125 54.734375 \r\nL 19.53125 23.4375 \r\nL 19.53125 0 \r\nL 7.234375 0 \r\nL 7.234375 71.09375 \r\nz\r\n\" id=\"Roboto-Medium-77\"/>\r\n       <path d=\"M 3.859375 26.90625 \r\nQ 3.859375 34.671875 6.9375 40.890625 \r\nQ 10.015625 47.125 15.578125 50.46875 \r\nQ 21.140625 53.8125 28.375 53.8125 \r\nQ 39.0625 53.8125 45.71875 46.921875 \r\nQ 52.390625 40.046875 52.9375 28.65625 \r\nL 52.984375 25.875 \r\nQ 52.984375 18.0625 49.96875 11.90625 \r\nQ 46.96875 5.765625 41.375 2.390625 \r\nQ 35.796875 -0.984375 28.46875 -0.984375 \r\nQ 17.28125 -0.984375 10.5625 6.46875 \r\nQ 3.859375 13.921875 3.859375 26.3125 \r\nz\r\nM 15.71875 25.875 \r\nQ 15.71875 17.71875 19.09375 13.109375 \r\nQ 22.46875 8.5 28.46875 8.5 \r\nQ 34.46875 8.5 37.8125 13.1875 \r\nQ 41.15625 17.875 41.15625 26.90625 \r\nQ 41.15625 34.90625 37.71875 39.59375 \r\nQ 34.28125 44.28125 28.375 44.28125 \r\nQ 22.5625 44.28125 19.140625 39.671875 \r\nQ 15.71875 35.0625 15.71875 25.875 \r\nz\r\n\" id=\"Roboto-Medium-111\"/>\r\n       <path d=\"M 17.09375 52.828125 \r\nL 17.4375 46.734375 \r\nQ 23.296875 53.8125 32.8125 53.8125 \r\nQ 49.3125 53.8125 49.609375 34.90625 \r\nL 49.609375 0 \r\nL 37.75 0 \r\nL 37.75 34.234375 \r\nQ 37.75 39.265625 35.578125 41.671875 \r\nQ 33.40625 44.09375 28.46875 44.09375 \r\nQ 21.296875 44.09375 17.78125 37.59375 \r\nL 17.78125 0 \r\nL 5.90625 0 \r\nL 5.90625 52.828125 \r\nz\r\n\" id=\"Roboto-Medium-110\"/>\r\n       <path d=\"M 20.953125 65.671875 \r\nL 20.953125 52.828125 \r\nL 30.28125 52.828125 \r\nL 30.28125 44.046875 \r\nL 20.953125 44.046875 \r\nL 20.953125 14.546875 \r\nQ 20.953125 11.53125 22.140625 10.1875 \r\nQ 23.34375 8.84375 26.421875 8.84375 \r\nQ 28.46875 8.84375 30.5625 9.328125 \r\nL 30.5625 0.140625 \r\nQ 26.515625 -0.984375 22.75 -0.984375 \r\nQ 9.078125 -0.984375 9.078125 14.109375 \r\nL 9.078125 44.046875 \r\nL 0.390625 44.046875 \r\nL 0.390625 52.828125 \r\nL 9.078125 52.828125 \r\nL 9.078125 65.671875 \r\nz\r\n\" id=\"Roboto-Medium-116\"/>\r\n       <path d=\"M 17.78125 47.078125 \r\nQ 23.578125 53.8125 32.46875 53.8125 \r\nQ 49.359375 53.8125 49.609375 34.515625 \r\nL 49.609375 0 \r\nL 37.75 0 \r\nL 37.75 34.078125 \r\nQ 37.75 39.546875 35.375 41.8125 \r\nQ 33.015625 44.09375 28.421875 44.09375 \r\nQ 21.296875 44.09375 17.78125 37.75 \r\nL 17.78125 0 \r\nL 5.90625 0 \r\nL 5.90625 75 \r\nL 17.78125 75 \r\nz\r\n\" id=\"Roboto-Medium-104\"/>\r\n      </defs>\r\n      <use xlink:href=\"#Roboto-Medium-77\"/>\r\n      <use x=\"87.548828\" xlink:href=\"#Roboto-Medium-111\"/>\r\n      <use x=\"144.482422\" xlink:href=\"#Roboto-Medium-110\"/>\r\n      <use x=\"200.097656\" xlink:href=\"#Roboto-Medium-116\"/>\r\n      <use x=\"233.349609\" xlink:href=\"#Roboto-Medium-104\"/>\r\n     </g>\r\n    </g>\r\n   </g>\r\n   <g id=\"matplotlib.axis_2\">\r\n    <g id=\"ytick_1\">\r\n     <g id=\"line2d_13\">\r\n      <defs>\r\n       <path d=\"M 0 0 \r\nL -3.5 0 \r\n\" id=\"mf0a2cb6096\" style=\"stroke:#58544f;stroke-width:0.8;\"/>\r\n      </defs>\r\n      <g>\r\n       <use style=\"fill:#58544f;stroke:#58544f;stroke-width:0.8;\" x=\"50.46875\" xlink:href=\"#mf0a2cb6096\" y=\"239.64\"/>\r\n      </g>\r\n     </g>\r\n     <g id=\"text_14\">\r\n      <!-- 0 -->\r\n      <g style=\"fill:#58544f;\" transform=\"translate(38.92125 242.64)scale(0.08 -0.08)\">\r\n       <use xlink:href=\"#Roboto-Medium-48\"/>\r\n      </g>\r\n     </g>\r\n    </g>\r\n    <g id=\"ytick_2\">\r\n     <g id=\"line2d_14\">\r\n      <g>\r\n       <use style=\"fill:#58544f;stroke:#58544f;stroke-width:0.8;\" x=\"50.46875\" xlink:href=\"#mf0a2cb6096\" y=\"213.926246\"/>\r\n      </g>\r\n     </g>\r\n     <g id=\"text_15\">\r\n      <!-- 2000 -->\r\n      <g style=\"fill:#58544f;\" transform=\"translate(25.27875 216.926246)scale(0.08 -0.08)\">\r\n       <use xlink:href=\"#Roboto-Medium-50\"/>\r\n       <use x=\"56.835938\" xlink:href=\"#Roboto-Medium-48\"/>\r\n       <use x=\"113.671875\" xlink:href=\"#Roboto-Medium-48\"/>\r\n       <use x=\"170.507812\" xlink:href=\"#Roboto-Medium-48\"/>\r\n      </g>\r\n     </g>\r\n    </g>\r\n    <g id=\"ytick_3\">\r\n     <g id=\"line2d_15\">\r\n      <g>\r\n       <use style=\"fill:#58544f;stroke:#58544f;stroke-width:0.8;\" x=\"50.46875\" xlink:href=\"#mf0a2cb6096\" y=\"188.212493\"/>\r\n      </g>\r\n     </g>\r\n     <g id=\"text_16\">\r\n      <!-- 4000 -->\r\n      <g style=\"fill:#58544f;\" transform=\"translate(25.27875 191.212493)scale(0.08 -0.08)\">\r\n       <use xlink:href=\"#Roboto-Medium-52\"/>\r\n       <use x=\"56.835938\" xlink:href=\"#Roboto-Medium-48\"/>\r\n       <use x=\"113.671875\" xlink:href=\"#Roboto-Medium-48\"/>\r\n       <use x=\"170.507812\" xlink:href=\"#Roboto-Medium-48\"/>\r\n      </g>\r\n     </g>\r\n    </g>\r\n    <g id=\"ytick_4\">\r\n     <g id=\"line2d_16\">\r\n      <g>\r\n       <use style=\"fill:#58544f;stroke:#58544f;stroke-width:0.8;\" x=\"50.46875\" xlink:href=\"#mf0a2cb6096\" y=\"162.498739\"/>\r\n      </g>\r\n     </g>\r\n     <g id=\"text_17\">\r\n      <!-- 6000 -->\r\n      <g style=\"fill:#58544f;\" transform=\"translate(25.27875 165.498739)scale(0.08 -0.08)\">\r\n       <use xlink:href=\"#Roboto-Medium-54\"/>\r\n       <use x=\"56.835938\" xlink:href=\"#Roboto-Medium-48\"/>\r\n       <use x=\"113.671875\" xlink:href=\"#Roboto-Medium-48\"/>\r\n       <use x=\"170.507812\" xlink:href=\"#Roboto-Medium-48\"/>\r\n      </g>\r\n     </g>\r\n    </g>\r\n    <g id=\"ytick_5\">\r\n     <g id=\"line2d_17\">\r\n      <g>\r\n       <use style=\"fill:#58544f;stroke:#58544f;stroke-width:0.8;\" x=\"50.46875\" xlink:href=\"#mf0a2cb6096\" y=\"136.784986\"/>\r\n      </g>\r\n     </g>\r\n     <g id=\"text_18\">\r\n      <!-- 8000 -->\r\n      <g style=\"fill:#58544f;\" transform=\"translate(25.27875 139.784986)scale(0.08 -0.08)\">\r\n       <use xlink:href=\"#Roboto-Medium-56\"/>\r\n       <use x=\"56.835938\" xlink:href=\"#Roboto-Medium-48\"/>\r\n       <use x=\"113.671875\" xlink:href=\"#Roboto-Medium-48\"/>\r\n       <use x=\"170.507812\" xlink:href=\"#Roboto-Medium-48\"/>\r\n      </g>\r\n     </g>\r\n    </g>\r\n    <g id=\"ytick_6\">\r\n     <g id=\"line2d_18\">\r\n      <g>\r\n       <use style=\"fill:#58544f;stroke:#58544f;stroke-width:0.8;\" x=\"50.46875\" xlink:href=\"#mf0a2cb6096\" y=\"111.071232\"/>\r\n      </g>\r\n     </g>\r\n     <g id=\"text_19\">\r\n      <!-- 10000 -->\r\n      <g style=\"fill:#58544f;\" transform=\"translate(20.73125 114.071232)scale(0.08 -0.08)\">\r\n       <use xlink:href=\"#Roboto-Medium-49\"/>\r\n       <use x=\"56.835938\" xlink:href=\"#Roboto-Medium-48\"/>\r\n       <use x=\"113.671875\" xlink:href=\"#Roboto-Medium-48\"/>\r\n       <use x=\"170.507812\" xlink:href=\"#Roboto-Medium-48\"/>\r\n       <use x=\"227.34375\" xlink:href=\"#Roboto-Medium-48\"/>\r\n      </g>\r\n     </g>\r\n    </g>\r\n    <g id=\"ytick_7\">\r\n     <g id=\"line2d_19\">\r\n      <g>\r\n       <use style=\"fill:#58544f;stroke:#58544f;stroke-width:0.8;\" x=\"50.46875\" xlink:href=\"#mf0a2cb6096\" y=\"85.357479\"/>\r\n      </g>\r\n     </g>\r\n     <g id=\"text_20\">\r\n      <!-- 12000 -->\r\n      <g style=\"fill:#58544f;\" transform=\"translate(20.73125 88.357479)scale(0.08 -0.08)\">\r\n       <use xlink:href=\"#Roboto-Medium-49\"/>\r\n       <use x=\"56.835938\" xlink:href=\"#Roboto-Medium-50\"/>\r\n       <use x=\"113.671875\" xlink:href=\"#Roboto-Medium-48\"/>\r\n       <use x=\"170.507812\" xlink:href=\"#Roboto-Medium-48\"/>\r\n       <use x=\"227.34375\" xlink:href=\"#Roboto-Medium-48\"/>\r\n      </g>\r\n     </g>\r\n    </g>\r\n    <g id=\"ytick_8\">\r\n     <g id=\"line2d_20\">\r\n      <g>\r\n       <use style=\"fill:#58544f;stroke:#58544f;stroke-width:0.8;\" x=\"50.46875\" xlink:href=\"#mf0a2cb6096\" y=\"59.643725\"/>\r\n      </g>\r\n     </g>\r\n     <g id=\"text_21\">\r\n      <!-- 14000 -->\r\n      <g style=\"fill:#58544f;\" transform=\"translate(20.73125 62.643725)scale(0.08 -0.08)\">\r\n       <use xlink:href=\"#Roboto-Medium-49\"/>\r\n       <use x=\"56.835938\" xlink:href=\"#Roboto-Medium-52\"/>\r\n       <use x=\"113.671875\" xlink:href=\"#Roboto-Medium-48\"/>\r\n       <use x=\"170.507812\" xlink:href=\"#Roboto-Medium-48\"/>\r\n       <use x=\"227.34375\" xlink:href=\"#Roboto-Medium-48\"/>\r\n      </g>\r\n     </g>\r\n    </g>\r\n    <g id=\"ytick_9\">\r\n     <g id=\"line2d_21\">\r\n      <g>\r\n       <use style=\"fill:#58544f;stroke:#58544f;stroke-width:0.8;\" x=\"50.46875\" xlink:href=\"#mf0a2cb6096\" y=\"33.929972\"/>\r\n      </g>\r\n     </g>\r\n     <g id=\"text_22\">\r\n      <!-- 16000 -->\r\n      <g style=\"fill:#58544f;\" transform=\"translate(20.73125 36.929972)scale(0.08 -0.08)\">\r\n       <use xlink:href=\"#Roboto-Medium-49\"/>\r\n       <use x=\"56.835938\" xlink:href=\"#Roboto-Medium-54\"/>\r\n       <use x=\"113.671875\" xlink:href=\"#Roboto-Medium-48\"/>\r\n       <use x=\"170.507812\" xlink:href=\"#Roboto-Medium-48\"/>\r\n       <use x=\"227.34375\" xlink:href=\"#Roboto-Medium-48\"/>\r\n      </g>\r\n     </g>\r\n    </g>\r\n    <g id=\"text_23\">\r\n     <!-- No. of User Interactions -->\r\n     <g style=\"fill:#58544f;\" transform=\"translate(14.7 184.11375)rotate(-90)scale(0.1 -0.1)\">\r\n      <defs>\r\n       <path d=\"M 63.625 0 \r\nL 51.265625 0 \r\nL 19.578125 50.4375 \r\nL 19.578125 0 \r\nL 7.234375 0 \r\nL 7.234375 71.09375 \r\nL 19.578125 71.09375 \r\nL 51.375 20.453125 \r\nL 51.375 71.09375 \r\nL 63.625 71.09375 \r\nz\r\n\" id=\"Roboto-Medium-78\"/>\r\n       <path d=\"M 13.484375 12.5 \r\nQ 16.796875 12.5 18.59375 10.609375 \r\nQ 20.40625 8.734375 20.40625 5.90625 \r\nQ 20.40625 3.125 18.59375 1.296875 \r\nQ 16.796875 -0.53125 13.484375 -0.53125 \r\nQ 10.296875 -0.53125 8.4375 1.265625 \r\nQ 6.59375 3.078125 6.59375 5.90625 \r\nQ 6.59375 8.734375 8.390625 10.609375 \r\nQ 10.203125 12.5 13.484375 12.5 \r\nz\r\n\" id=\"Roboto-Medium-46\"/>\r\n       <path id=\"Roboto-Medium-32\"/>\r\n       <path d=\"M 10.25 0 \r\nL 10.25 44.046875 \r\nL 2.203125 44.046875 \r\nL 2.203125 52.828125 \r\nL 10.25 52.828125 \r\nL 10.25 57.671875 \r\nQ 10.25 66.453125 15.125 71.234375 \r\nQ 20.015625 76.03125 28.8125 76.03125 \r\nQ 31.9375 76.03125 35.453125 75.140625 \r\nL 35.15625 65.875 \r\nQ 33.203125 66.265625 30.609375 66.265625 \r\nQ 22.125 66.265625 22.125 57.515625 \r\nL 22.125 52.828125 \r\nL 32.859375 52.828125 \r\nL 32.859375 44.046875 \r\nL 22.125 44.046875 \r\nL 22.125 0 \r\nz\r\n\" id=\"Roboto-Medium-102\"/>\r\n       <path d=\"M 59.234375 71.09375 \r\nL 59.234375 23.578125 \r\nQ 59.234375 12.25 51.984375 5.625 \r\nQ 44.734375 -0.984375 32.671875 -0.984375 \r\nQ 20.453125 -0.984375 13.28125 5.53125 \r\nQ 6.109375 12.0625 6.109375 23.640625 \r\nL 6.109375 71.09375 \r\nL 18.40625 71.09375 \r\nL 18.40625 23.53125 \r\nQ 18.40625 16.40625 22.015625 12.640625 \r\nQ 25.640625 8.890625 32.671875 8.890625 \r\nQ 46.921875 8.890625 46.921875 23.921875 \r\nL 46.921875 71.09375 \r\nz\r\n\" id=\"Roboto-Medium-85\"/>\r\n       <path d=\"M 35.6875 14.359375 \r\nQ 35.6875 17.53125 33.078125 19.1875 \r\nQ 30.46875 20.84375 24.40625 22.109375 \r\nQ 18.359375 23.390625 14.3125 25.34375 \r\nQ 5.421875 29.640625 5.421875 37.796875 \r\nQ 5.421875 44.625 11.171875 49.21875 \r\nQ 16.9375 53.8125 25.828125 53.8125 \r\nQ 35.296875 53.8125 41.125 49.125 \r\nQ 46.96875 44.4375 46.96875 36.96875 \r\nL 35.109375 36.96875 \r\nQ 35.109375 40.375 32.5625 42.640625 \r\nQ 30.03125 44.921875 25.828125 44.921875 \r\nQ 21.921875 44.921875 19.453125 43.109375 \r\nQ 17 41.3125 17 38.28125 \r\nQ 17 35.546875 19.28125 34.03125 \r\nQ 21.578125 32.515625 28.5625 30.96875 \r\nQ 35.546875 29.4375 39.515625 27.3125 \r\nQ 43.5 25.203125 45.421875 22.21875 \r\nQ 47.359375 19.234375 47.359375 14.984375 \r\nQ 47.359375 7.859375 41.453125 3.4375 \r\nQ 35.546875 -0.984375 25.984375 -0.984375 \r\nQ 19.484375 -0.984375 14.40625 1.359375 \r\nQ 9.328125 3.71875 6.484375 7.8125 \r\nQ 3.65625 11.921875 3.65625 16.65625 \r\nL 15.1875 16.65625 \r\nQ 15.4375 12.453125 18.359375 10.171875 \r\nQ 21.296875 7.90625 26.125 7.90625 \r\nQ 30.8125 7.90625 33.25 9.6875 \r\nQ 35.6875 11.46875 35.6875 14.359375 \r\nz\r\n\" id=\"Roboto-Medium-115\"/>\r\n       <path d=\"M 29.34375 -0.984375 \r\nQ 18.0625 -0.984375 11.046875 6.125 \r\nQ 4.046875 13.234375 4.046875 25.046875 \r\nL 4.046875 26.515625 \r\nQ 4.046875 34.421875 7.09375 40.640625 \r\nQ 10.15625 46.875 15.671875 50.34375 \r\nQ 21.1875 53.8125 27.984375 53.8125 \r\nQ 38.765625 53.8125 44.640625 46.921875 \r\nQ 50.53125 40.046875 50.53125 27.4375 \r\nL 50.53125 22.65625 \r\nL 16.015625 22.65625 \r\nQ 16.546875 16.109375 20.375 12.296875 \r\nQ 24.21875 8.5 30.03125 8.5 \r\nQ 38.1875 8.5 43.3125 15.09375 \r\nL 49.703125 8.984375 \r\nQ 46.53125 4.25 41.234375 1.625 \r\nQ 35.9375 -0.984375 29.34375 -0.984375 \r\nz\r\nM 27.9375 44.28125 \r\nQ 23.046875 44.28125 20.046875 40.859375 \r\nQ 17.046875 37.453125 16.21875 31.34375 \r\nL 38.8125 31.34375 \r\nL 38.8125 32.234375 \r\nQ 38.421875 38.1875 35.640625 41.234375 \r\nQ 32.859375 44.28125 27.9375 44.28125 \r\nz\r\n\" id=\"Roboto-Medium-101\"/>\r\n       <path d=\"M 33.734375 42 \r\nQ 31.390625 42.390625 28.90625 42.390625 \r\nQ 20.75 42.390625 17.921875 36.140625 \r\nL 17.921875 0 \r\nL 6.0625 0 \r\nL 6.0625 52.828125 \r\nL 17.390625 52.828125 \r\nL 17.671875 46.921875 \r\nQ 21.96875 53.8125 29.59375 53.8125 \r\nQ 32.125 53.8125 33.796875 53.125 \r\nz\r\n\" id=\"Roboto-Medium-114\"/>\r\n       <path d=\"M 20.265625 0 \r\nL 7.953125 0 \r\nL 7.953125 71.09375 \r\nL 20.265625 71.09375 \r\nz\r\n\" id=\"Roboto-Medium-73\"/>\r\n       <path d=\"M 37.640625 0 \r\nQ 36.859375 1.515625 36.28125 4.9375 \r\nQ 30.609375 -0.984375 22.40625 -0.984375 \r\nQ 14.453125 -0.984375 9.421875 3.5625 \r\nQ 4.390625 8.109375 4.390625 14.796875 \r\nQ 4.390625 23.25 10.65625 27.765625 \r\nQ 16.9375 32.28125 28.609375 32.28125 \r\nL 35.890625 32.28125 \r\nL 35.890625 35.75 \r\nQ 35.890625 39.84375 33.59375 42.3125 \r\nQ 31.296875 44.78125 26.609375 44.78125 \r\nQ 22.5625 44.78125 19.96875 42.75 \r\nQ 17.390625 40.71875 17.390625 37.59375 \r\nL 5.515625 37.59375 \r\nQ 5.515625 41.9375 8.390625 45.71875 \r\nQ 11.28125 49.515625 16.234375 51.65625 \r\nQ 21.1875 53.8125 27.296875 53.8125 \r\nQ 36.578125 53.8125 42.09375 49.140625 \r\nQ 47.609375 44.484375 47.75 36.03125 \r\nL 47.75 12.203125 \r\nQ 47.75 5.078125 49.75 0.828125 \r\nL 49.75 0 \r\nz\r\nM 24.609375 8.546875 \r\nQ 28.125 8.546875 31.21875 10.25 \r\nQ 34.328125 11.96875 35.890625 14.84375 \r\nL 35.890625 24.8125 \r\nL 29.5 24.8125 \r\nQ 22.90625 24.8125 19.578125 22.515625 \r\nQ 16.265625 20.21875 16.265625 16.015625 \r\nQ 16.265625 12.59375 18.53125 10.5625 \r\nQ 20.796875 8.546875 24.609375 8.546875 \r\nz\r\n\" id=\"Roboto-Medium-97\"/>\r\n       <path d=\"M 27.78125 8.5 \r\nQ 32.234375 8.5 35.15625 11.078125 \r\nQ 38.09375 13.671875 38.28125 17.484375 \r\nL 49.46875 17.484375 \r\nQ 49.265625 12.546875 46.375 8.265625 \r\nQ 43.5 4 38.5625 1.5 \r\nQ 33.640625 -0.984375 27.9375 -0.984375 \r\nQ 16.84375 -0.984375 10.34375 6.1875 \r\nQ 3.859375 13.375 3.859375 26.03125 \r\nL 3.859375 27.25 \r\nQ 3.859375 39.3125 10.296875 46.5625 \r\nQ 16.75 53.8125 27.875 53.8125 \r\nQ 37.3125 53.8125 43.234375 48.3125 \r\nQ 49.171875 42.828125 49.46875 33.890625 \r\nL 38.28125 33.890625 \r\nQ 38.09375 38.421875 35.1875 41.34375 \r\nQ 32.28125 44.28125 27.78125 44.28125 \r\nQ 22.015625 44.28125 18.890625 40.109375 \r\nQ 15.765625 35.9375 15.71875 27.4375 \r\nL 15.71875 25.53125 \r\nQ 15.71875 16.9375 18.8125 12.71875 \r\nQ 21.921875 8.5 27.78125 8.5 \r\nz\r\n\" id=\"Roboto-Medium-99\"/>\r\n       <path d=\"M 18.703125 0 \r\nL 6.84375 0 \r\nL 6.84375 52.828125 \r\nL 18.703125 52.828125 \r\nz\r\nM 6.109375 66.546875 \r\nQ 6.109375 69.28125 7.84375 71.09375 \r\nQ 9.578125 72.90625 12.796875 72.90625 \r\nQ 16.015625 72.90625 17.765625 71.09375 \r\nQ 19.53125 69.28125 19.53125 66.546875 \r\nQ 19.53125 63.875 17.765625 62.078125 \r\nQ 16.015625 60.296875 12.796875 60.296875 \r\nQ 9.578125 60.296875 7.84375 62.078125 \r\nQ 6.109375 63.875 6.109375 66.546875 \r\nz\r\n\" id=\"Roboto-Medium-105\"/>\r\n      </defs>\r\n      <use xlink:href=\"#Roboto-Medium-78\"/>\r\n      <use x=\"70.996094\" xlink:href=\"#Roboto-Medium-111\"/>\r\n      <use x=\"127.929688\" xlink:href=\"#Roboto-Medium-46\"/>\r\n      <use x=\"155.859375\" xlink:href=\"#Roboto-Medium-32\"/>\r\n      <use x=\"180.761719\" xlink:href=\"#Roboto-Medium-111\"/>\r\n      <use x=\"237.695312\" xlink:href=\"#Roboto-Medium-102\"/>\r\n      <use x=\"273.144531\" xlink:href=\"#Roboto-Medium-32\"/>\r\n      <use x=\"298.046875\" xlink:href=\"#Roboto-Medium-85\"/>\r\n      <use x=\"363.232422\" xlink:href=\"#Roboto-Medium-115\"/>\r\n      <use x=\"414.84375\" xlink:href=\"#Roboto-Medium-101\"/>\r\n      <use x=\"468.505859\" xlink:href=\"#Roboto-Medium-114\"/>\r\n      <use x=\"503.662109\" xlink:href=\"#Roboto-Medium-32\"/>\r\n      <use x=\"528.564453\" xlink:href=\"#Roboto-Medium-73\"/>\r\n      <use x=\"556.787109\" xlink:href=\"#Roboto-Medium-110\"/>\r\n      <use x=\"612.402344\" xlink:href=\"#Roboto-Medium-116\"/>\r\n      <use x=\"645.654297\" xlink:href=\"#Roboto-Medium-101\"/>\r\n      <use x=\"699.316406\" xlink:href=\"#Roboto-Medium-114\"/>\r\n      <use x=\"734.472656\" xlink:href=\"#Roboto-Medium-97\"/>\r\n      <use x=\"788.574219\" xlink:href=\"#Roboto-Medium-99\"/>\r\n      <use x=\"840.917969\" xlink:href=\"#Roboto-Medium-116\"/>\r\n      <use x=\"874.169922\" xlink:href=\"#Roboto-Medium-105\"/>\r\n      <use x=\"899.707031\" xlink:href=\"#Roboto-Medium-111\"/>\r\n      <use x=\"956.640625\" xlink:href=\"#Roboto-Medium-110\"/>\r\n      <use x=\"1012.255859\" xlink:href=\"#Roboto-Medium-115\"/>\r\n     </g>\r\n    </g>\r\n   </g>\r\n   <g id=\"patch_15\">\r\n    <path d=\"M 50.46875 239.64 \r\nL 50.46875 22.2 \r\n\" style=\"fill:none;stroke:#58544f;stroke-linecap:square;stroke-linejoin:miter;stroke-width:0.8;\"/>\r\n   </g>\r\n   <g id=\"patch_16\">\r\n    <path d=\"M 385.26875 239.64 \r\nL 385.26875 22.2 \r\n\" style=\"fill:none;stroke:#58544f;stroke-linecap:square;stroke-linejoin:miter;stroke-width:0.8;\"/>\r\n   </g>\r\n   <g id=\"patch_17\">\r\n    <path d=\"M 50.46875 239.64 \r\nL 385.26875 239.64 \r\n\" style=\"fill:none;stroke:#58544f;stroke-linecap:square;stroke-linejoin:miter;stroke-width:0.8;\"/>\r\n   </g>\r\n   <g id=\"patch_18\">\r\n    <path d=\"M 50.46875 22.2 \r\nL 385.26875 22.2 \r\n\" style=\"fill:none;stroke:#58544f;stroke-linecap:square;stroke-linejoin:miter;stroke-width:0.8;\"/>\r\n   </g>\r\n   <g id=\"text_24\">\r\n    <!-- User Interactions by Month -->\r\n    <g transform=\"translate(145.301562 16.2)scale(0.12 -0.12)\">\r\n     <defs>\r\n      <path d=\"M 52.4375 25.875 \r\nQ 52.4375 13.578125 46.9375 6.296875 \r\nQ 41.453125 -0.984375 31.84375 -0.984375 \r\nQ 22.5625 -0.984375 17.390625 5.71875 \r\nL 16.796875 0 \r\nL 6.0625 0 \r\nL 6.0625 75 \r\nL 17.921875 75 \r\nL 17.921875 47.75 \r\nQ 23.046875 53.8125 31.734375 53.8125 \r\nQ 41.40625 53.8125 46.921875 46.625 \r\nQ 52.4375 39.453125 52.4375 26.5625 \r\nz\r\nM 40.578125 26.90625 \r\nQ 40.578125 35.5 37.546875 39.796875 \r\nQ 34.515625 44.09375 28.765625 44.09375 \r\nQ 21.046875 44.09375 17.921875 37.359375 \r\nL 17.921875 15.578125 \r\nQ 21.09375 8.6875 28.859375 8.6875 \r\nQ 34.421875 8.6875 37.453125 12.84375 \r\nQ 40.484375 17 40.578125 25.390625 \r\nz\r\n\" id=\"Roboto-Medium-98\"/>\r\n      <path d=\"M 24.5625 17 \r\nL 35.296875 52.828125 \r\nL 47.953125 52.828125 \r\nL 26.953125 -8.015625 \r\nQ 22.125 -21.34375 10.546875 -21.34375 \r\nQ 7.953125 -21.34375 4.828125 -20.453125 \r\nL 4.828125 -11.28125 \r\nL 7.078125 -11.421875 \r\nQ 11.578125 -11.421875 13.84375 -9.78125 \r\nQ 16.109375 -8.15625 17.4375 -4.296875 \r\nL 19.140625 0.25 \r\nL 0.59375 52.828125 \r\nL 13.375 52.828125 \r\nz\r\n\" id=\"Roboto-Medium-121\"/>\r\n     </defs>\r\n     <use xlink:href=\"#Roboto-Medium-85\"/>\r\n     <use x=\"65.185547\" xlink:href=\"#Roboto-Medium-115\"/>\r\n     <use x=\"116.796875\" xlink:href=\"#Roboto-Medium-101\"/>\r\n     <use x=\"170.458984\" xlink:href=\"#Roboto-Medium-114\"/>\r\n     <use x=\"205.615234\" xlink:href=\"#Roboto-Medium-32\"/>\r\n     <use x=\"230.517578\" xlink:href=\"#Roboto-Medium-73\"/>\r\n     <use x=\"258.740234\" xlink:href=\"#Roboto-Medium-110\"/>\r\n     <use x=\"314.355469\" xlink:href=\"#Roboto-Medium-116\"/>\r\n     <use x=\"347.607422\" xlink:href=\"#Roboto-Medium-101\"/>\r\n     <use x=\"401.269531\" xlink:href=\"#Roboto-Medium-114\"/>\r\n     <use x=\"436.425781\" xlink:href=\"#Roboto-Medium-97\"/>\r\n     <use x=\"490.527344\" xlink:href=\"#Roboto-Medium-99\"/>\r\n     <use x=\"542.871094\" xlink:href=\"#Roboto-Medium-116\"/>\r\n     <use x=\"576.123047\" xlink:href=\"#Roboto-Medium-105\"/>\r\n     <use x=\"601.660156\" xlink:href=\"#Roboto-Medium-111\"/>\r\n     <use x=\"658.59375\" xlink:href=\"#Roboto-Medium-110\"/>\r\n     <use x=\"714.208984\" xlink:href=\"#Roboto-Medium-115\"/>\r\n     <use x=\"765.820312\" xlink:href=\"#Roboto-Medium-32\"/>\r\n     <use x=\"790.722656\" xlink:href=\"#Roboto-Medium-98\"/>\r\n     <use x=\"847.021484\" xlink:href=\"#Roboto-Medium-121\"/>\r\n     <use x=\"895.703125\" xlink:href=\"#Roboto-Medium-32\"/>\r\n     <use x=\"920.605469\" xlink:href=\"#Roboto-Medium-77\"/>\r\n     <use x=\"1008.154297\" xlink:href=\"#Roboto-Medium-111\"/>\r\n     <use x=\"1065.087891\" xlink:href=\"#Roboto-Medium-110\"/>\r\n     <use x=\"1120.703125\" xlink:href=\"#Roboto-Medium-116\"/>\r\n     <use x=\"1153.955078\" xlink:href=\"#Roboto-Medium-104\"/>\r\n    </g>\r\n   </g>\r\n  </g>\r\n </g>\r\n <defs>\r\n  <clipPath id=\"p0d74ab4650\">\r\n   <rect height=\"217.44\" width=\"334.8\" x=\"50.46875\" y=\"22.2\"/>\r\n  </clipPath>\r\n </defs>\r\n</svg>\r\n",
      "image/png": "[encoded data removed]"
     },
     "metadata": {}
    }
   ],
   "source": [
    "interactionswitharticlesDF['articleInteractedTime'] = interactionswitharticlesDF['articleInteractedTime'].apply(lambda x: to_datetime(x))\n",
    "interactionswitharticlesDF['month_x'] = interactionswitharticlesDF['articleInteractedTime'].apply(lambda x: '{0}-{1:02}'.format(x.year, x.month))\n",
    "interactionswitharticlesDF.groupby('month_x').size().plot(kind='bar', title='User Interactions by Month', xlabel='Month', ylabel='No. of User Interactions')\n",
    "interactionswitharticlesDF.drop('month_x', axis=1, inplace=True)"
   ]
  },
  {
   "cell_type": "code",
   "execution_count": 158,
   "metadata": {},
   "outputs": [
    {
     "output_type": "display_data",
     "data": {
      "text/plain": "<Figure size 600x400 with 1 Axes>",
      "image/svg+xml": "<?xml version=\"1.0\" encoding=\"utf-8\" standalone=\"no\"?>\r\n<!DOCTYPE svg PUBLIC \"-//W3C//DTD SVG 1.1//EN\"\r\n  \"http://www.w3.org/Graphics/SVG/1.1/DTD/svg11.dtd\">\r\n<!-- Created with matplotlib (https://matplotlib.org/) -->\r\n<svg height=\"297.28125pt\" version=\"1.1\" viewBox=\"0 0 383.37375 297.28125\" width=\"383.37375pt\" xmlns=\"http://www.w3.org/2000/svg\" xmlns:xlink=\"http://www.w3.org/1999/xlink\">\r\n <metadata>\r\n  <rdf:RDF xmlns:cc=\"http://creativecommons.org/ns#\" xmlns:dc=\"http://purl.org/dc/elements/1.1/\" xmlns:rdf=\"http://www.w3.org/1999/02/22-rdf-syntax-ns#\">\r\n   <cc:Work>\r\n    <dc:type rdf:resource=\"http://purl.org/dc/dcmitype/StillImage\"/>\r\n    <dc:date>2020-11-04T17:07:13.736554</dc:date>\r\n    <dc:format>image/svg+xml</dc:format>\r\n    <dc:creator>\r\n     <cc:Agent>\r\n      <dc:title>Matplotlib v3.3.2, https://matplotlib.org/</dc:title>\r\n     </cc:Agent>\r\n    </dc:creator>\r\n   </cc:Work>\r\n  </rdf:RDF>\r\n </metadata>\r\n <defs>\r\n  <style type=\"text/css\">*{stroke-linecap:butt;stroke-linejoin:round;}</style>\r\n </defs>\r\n <g id=\"figure_1\">\r\n  <g id=\"patch_1\">\r\n   <path d=\"M 0 297.28125 \r\nL 383.37375 297.28125 \r\nL 383.37375 0 \r\nL 0 0 \r\nz\r\n\" style=\"fill:#ffffff;\"/>\r\n  </g>\r\n  <g id=\"axes_1\">\r\n   <g id=\"patch_2\">\r\n    <path d=\"M 41.37375 239.64 \r\nL 376.17375 239.64 \r\nL 376.17375 22.2 \r\nL 41.37375 22.2 \r\nz\r\n\" style=\"fill:#ffffff;\"/>\r\n   </g>\r\n   <g id=\"patch_3\">\r\n    <path clip-path=\"url(#p026e034d18)\" d=\"M 48.34875 239.64 \r\nL 62.29875 239.64 \r\nL 62.29875 190.278787 \r\nL 48.34875 190.278787 \r\nz\r\n\" style=\"fill:#0088ed;\"/>\r\n   </g>\r\n   <g id=\"patch_4\">\r\n    <path clip-path=\"url(#p026e034d18)\" d=\"M 76.24875 239.64 \r\nL 90.19875 239.64 \r\nL 90.19875 32.554286 \r\nL 76.24875 32.554286 \r\nz\r\n\" style=\"fill:#0088ed;\"/>\r\n   </g>\r\n   <g id=\"patch_5\">\r\n    <path clip-path=\"url(#p026e034d18)\" d=\"M 104.14875 239.64 \r\nL 118.09875 239.64 \r\nL 118.09875 64.947582 \r\nL 104.14875 64.947582 \r\nz\r\n\" style=\"fill:#0088ed;\"/>\r\n   </g>\r\n   <g id=\"patch_6\">\r\n    <path clip-path=\"url(#p026e034d18)\" d=\"M 132.04875 239.64 \r\nL 145.99875 239.64 \r\nL 145.99875 74.202809 \r\nL 132.04875 74.202809 \r\nz\r\n\" style=\"fill:#0088ed;\"/>\r\n   </g>\r\n   <g id=\"patch_7\">\r\n    <path clip-path=\"url(#p026e034d18)\" d=\"M 159.94875 239.64 \r\nL 173.89875 239.64 \r\nL 173.89875 114.308795 \r\nL 159.94875 114.308795 \r\nz\r\n\" style=\"fill:#0088ed;\"/>\r\n   </g>\r\n   <g id=\"patch_8\">\r\n    <path clip-path=\"url(#p026e034d18)\" d=\"M 187.84875 239.64 \r\nL 201.79875 239.64 \r\nL 201.79875 127.034733 \r\nL 187.84875 127.034733 \r\nz\r\n\" style=\"fill:#0088ed;\"/>\r\n   </g>\r\n   <g id=\"patch_9\">\r\n    <path clip-path=\"url(#p026e034d18)\" d=\"M 215.74875 239.64 \r\nL 229.69875 239.64 \r\nL 229.69875 146.316457 \r\nL 215.74875 146.316457 \r\nz\r\n\" style=\"fill:#0088ed;\"/>\r\n   </g>\r\n   <g id=\"patch_10\">\r\n    <path clip-path=\"url(#p026e034d18)\" d=\"M 243.64875 239.64 \r\nL 257.59875 239.64 \r\nL 257.59875 164.055642 \r\nL 243.64875 164.055642 \r\nz\r\n\" style=\"fill:#0088ed;\"/>\r\n   </g>\r\n   <g id=\"patch_11\">\r\n    <path clip-path=\"url(#p026e034d18)\" d=\"M 271.54875 239.64 \r\nL 285.49875 239.64 \r\nL 285.49875 197.220208 \r\nL 271.54875 197.220208 \r\nz\r\n\" style=\"fill:#0088ed;\"/>\r\n   </g>\r\n   <g id=\"patch_12\">\r\n    <path clip-path=\"url(#p026e034d18)\" d=\"M 299.44875 239.64 \r\nL 313.39875 239.64 \r\nL 313.39875 194.520766 \r\nL 299.44875 194.520766 \r\nz\r\n\" style=\"fill:#0088ed;\"/>\r\n   </g>\r\n   <g id=\"patch_13\">\r\n    <path clip-path=\"url(#p026e034d18)\" d=\"M 327.34875 239.64 \r\nL 341.29875 239.64 \r\nL 341.29875 194.135132 \r\nL 327.34875 194.135132 \r\nz\r\n\" style=\"fill:#0088ed;\"/>\r\n   </g>\r\n   <g id=\"patch_14\">\r\n    <path clip-path=\"url(#p026e034d18)\" d=\"M 355.24875 239.64 \r\nL 369.19875 239.64 \r\nL 369.19875 208.789242 \r\nL 355.24875 208.789242 \r\nz\r\n\" style=\"fill:#0088ed;\"/>\r\n   </g>\r\n   <g id=\"matplotlib.axis_1\">\r\n    <g id=\"xtick_1\">\r\n     <g id=\"line2d_1\">\r\n      <defs>\r\n       <path d=\"M 0 0 \r\nL 0 3.5 \r\n\" id=\"m37e4d9fc61\" style=\"stroke:#58544f;stroke-width:0.8;\"/>\r\n      </defs>\r\n      <g>\r\n       <use style=\"fill:#58544f;stroke:#58544f;stroke-width:0.8;\" x=\"55.32375\" xlink:href=\"#m37e4d9fc61\" y=\"239.64\"/>\r\n      </g>\r\n     </g>\r\n     <g id=\"text_1\">\r\n      <!-- 2016-03 -->\r\n      <g style=\"fill:#58544f;\" transform=\"translate(57.51125 276.55)rotate(-90)scale(0.08 -0.08)\">\r\n       <defs>\r\n        <path d=\"M 53.125 0 \r\nL 5.328125 0 \r\nL 5.328125 8.15625 \r\nL 29 33.984375 \r\nQ 34.125 39.703125 36.296875 43.53125 \r\nQ 38.484375 47.359375 38.484375 51.21875 \r\nQ 38.484375 56.296875 35.625 59.421875 \r\nQ 32.765625 62.546875 27.9375 62.546875 \r\nQ 22.171875 62.546875 19 59.03125 \r\nQ 15.828125 55.515625 15.828125 49.421875 \r\nL 3.953125 49.421875 \r\nQ 3.953125 55.90625 6.90625 61.109375 \r\nQ 9.859375 66.3125 15.34375 69.1875 \r\nQ 20.84375 72.078125 28.03125 72.078125 \r\nQ 38.375 72.078125 44.359375 66.875 \r\nQ 50.34375 61.671875 50.34375 52.484375 \r\nQ 50.34375 47.171875 47.34375 41.328125 \r\nQ 44.34375 35.5 37.5 28.078125 \r\nL 20.125 9.46875 \r\nL 53.125 9.46875 \r\nz\r\n\" id=\"Roboto-Medium-50\"/>\r\n        <path d=\"M 51.65625 29.9375 \r\nQ 51.65625 14.59375 45.921875 6.796875 \r\nQ 40.1875 -0.984375 28.46875 -0.984375 \r\nQ 16.9375 -0.984375 11.109375 6.609375 \r\nQ 5.28125 14.203125 5.125 29.109375 \r\nL 5.125 41.40625 \r\nQ 5.125 56.734375 10.859375 64.40625 \r\nQ 16.609375 72.078125 28.375 72.078125 \r\nQ 40.046875 72.078125 45.78125 64.59375 \r\nQ 51.515625 57.125 51.65625 42.234375 \r\nz\r\nM 39.796875 43.21875 \r\nQ 39.796875 53.21875 37.0625 57.875 \r\nQ 34.328125 62.546875 28.375 62.546875 \r\nQ 22.5625 62.546875 19.828125 58.125 \r\nQ 17.09375 53.71875 16.9375 44.34375 \r\nL 16.9375 28.21875 \r\nQ 16.9375 18.265625 19.71875 13.375 \r\nQ 22.515625 8.5 28.46875 8.5 \r\nQ 34.1875 8.5 36.921875 13.015625 \r\nQ 39.65625 17.53125 39.796875 27.15625 \r\nz\r\n\" id=\"Roboto-Medium-48\"/>\r\n        <path d=\"M 37.453125 0 \r\nL 25.640625 0 \r\nL 25.640625 57.078125 \r\nL 8.203125 51.125 \r\nL 8.203125 61.140625 \r\nL 35.9375 71.34375 \r\nL 37.453125 71.34375 \r\nz\r\n\" id=\"Roboto-Medium-49\"/>\r\n        <path d=\"M 42.234375 71.4375 \r\nL 42.234375 61.625 \r\nL 40.765625 61.625 \r\nQ 30.8125 61.46875 24.84375 56.140625 \r\nQ 18.890625 50.828125 17.78125 41.0625 \r\nQ 23.484375 47.078125 32.375 47.078125 \r\nQ 41.796875 47.078125 47.234375 40.4375 \r\nQ 52.6875 33.796875 52.6875 23.296875 \r\nQ 52.6875 12.453125 46.3125 5.734375 \r\nQ 39.9375 -0.984375 29.59375 -0.984375 \r\nQ 18.953125 -0.984375 12.328125 6.875 \r\nQ 5.71875 14.75 5.71875 27.484375 \r\nL 5.71875 31.546875 \r\nQ 5.71875 50.25 14.8125 60.84375 \r\nQ 23.921875 71.4375 41.015625 71.4375 \r\nz\r\nM 29.5 37.5 \r\nQ 25.59375 37.5 22.34375 35.296875 \r\nQ 19.09375 33.109375 17.578125 29.4375 \r\nL 17.578125 25.828125 \r\nQ 17.578125 17.921875 20.890625 13.25 \r\nQ 24.21875 8.59375 29.484375 8.59375 \r\nQ 34.765625 8.59375 37.84375 12.546875 \r\nQ 40.921875 16.5 40.921875 22.9375 \r\nQ 40.921875 29.390625 37.796875 33.4375 \r\nQ 34.671875 37.5 29.5 37.5 \r\nz\r\n\" id=\"Roboto-Medium-54\"/>\r\n        <path d=\"M 29.109375 25.4375 \r\nL 3.46875 25.4375 \r\nL 3.46875 35.015625 \r\nL 29.109375 35.015625 \r\nz\r\n\" id=\"Roboto-Medium-45\"/>\r\n        <path d=\"M 19.046875 40.96875 \r\nL 26.265625 40.96875 \r\nQ 31.734375 41.015625 34.9375 43.796875 \r\nQ 38.140625 46.578125 38.140625 51.859375 \r\nQ 38.140625 56.9375 35.46875 59.734375 \r\nQ 32.8125 62.546875 27.34375 62.546875 \r\nQ 22.5625 62.546875 19.484375 59.78125 \r\nQ 16.40625 57.03125 16.40625 52.59375 \r\nL 4.546875 52.59375 \r\nQ 4.546875 58.0625 7.453125 62.546875 \r\nQ 10.359375 67.046875 15.546875 69.5625 \r\nQ 20.75 72.078125 27.203125 72.078125 \r\nQ 37.84375 72.078125 43.921875 66.71875 \r\nQ 50 61.375 50 51.859375 \r\nQ 50 47.078125 46.9375 42.84375 \r\nQ 43.890625 38.625 39.0625 36.46875 \r\nQ 44.921875 34.46875 47.96875 30.171875 \r\nQ 51.03125 25.875 51.03125 19.921875 \r\nQ 51.03125 10.359375 44.453125 4.6875 \r\nQ 37.890625 -0.984375 27.203125 -0.984375 \r\nQ 16.9375 -0.984375 10.390625 4.484375 \r\nQ 3.859375 9.96875 3.859375 19.046875 \r\nL 15.71875 19.046875 \r\nQ 15.71875 14.359375 18.859375 11.421875 \r\nQ 22.015625 8.5 27.34375 8.5 \r\nQ 32.859375 8.5 36.03125 11.421875 \r\nQ 39.203125 14.359375 39.203125 19.921875 \r\nQ 39.203125 25.53125 35.875 28.5625 \r\nQ 32.5625 31.59375 26.03125 31.59375 \r\nL 19.046875 31.59375 \r\nz\r\n\" id=\"Roboto-Medium-51\"/>\r\n       </defs>\r\n       <use xlink:href=\"#Roboto-Medium-50\"/>\r\n       <use x=\"56.835938\" xlink:href=\"#Roboto-Medium-48\"/>\r\n       <use x=\"113.671875\" xlink:href=\"#Roboto-Medium-49\"/>\r\n       <use x=\"170.507812\" xlink:href=\"#Roboto-Medium-54\"/>\r\n       <use x=\"227.34375\" xlink:href=\"#Roboto-Medium-45\"/>\r\n       <use x=\"260.15625\" xlink:href=\"#Roboto-Medium-48\"/>\r\n       <use x=\"316.992188\" xlink:href=\"#Roboto-Medium-51\"/>\r\n      </g>\r\n     </g>\r\n    </g>\r\n    <g id=\"xtick_2\">\r\n     <g id=\"line2d_2\">\r\n      <g>\r\n       <use style=\"fill:#58544f;stroke:#58544f;stroke-width:0.8;\" x=\"83.22375\" xlink:href=\"#m37e4d9fc61\" y=\"239.64\"/>\r\n      </g>\r\n     </g>\r\n     <g id=\"text_2\">\r\n      <!-- 2016-04 -->\r\n      <g style=\"fill:#58544f;\" transform=\"translate(85.41125 276.55)rotate(-90)scale(0.08 -0.08)\">\r\n       <defs>\r\n        <path d=\"M 45.453125 25.34375 \r\nL 54.296875 25.34375 \r\nL 54.296875 15.828125 \r\nL 45.453125 15.828125 \r\nL 45.453125 0 \r\nL 33.59375 0 \r\nL 33.59375 15.828125 \r\nL 2.875 15.828125 \r\nL 2.546875 23.046875 \r\nL 33.203125 71.09375 \r\nL 45.453125 71.09375 \r\nz\r\nM 14.984375 25.34375 \r\nL 33.59375 25.34375 \r\nL 33.59375 55.03125 \r\nL 32.71875 53.46875 \r\nz\r\n\" id=\"Roboto-Medium-52\"/>\r\n       </defs>\r\n       <use xlink:href=\"#Roboto-Medium-50\"/>\r\n       <use x=\"56.835938\" xlink:href=\"#Roboto-Medium-48\"/>\r\n       <use x=\"113.671875\" xlink:href=\"#Roboto-Medium-49\"/>\r\n       <use x=\"170.507812\" xlink:href=\"#Roboto-Medium-54\"/>\r\n       <use x=\"227.34375\" xlink:href=\"#Roboto-Medium-45\"/>\r\n       <use x=\"260.15625\" xlink:href=\"#Roboto-Medium-48\"/>\r\n       <use x=\"316.992188\" xlink:href=\"#Roboto-Medium-52\"/>\r\n      </g>\r\n     </g>\r\n    </g>\r\n    <g id=\"xtick_3\">\r\n     <g id=\"line2d_3\">\r\n      <g>\r\n       <use style=\"fill:#58544f;stroke:#58544f;stroke-width:0.8;\" x=\"111.12375\" xlink:href=\"#m37e4d9fc61\" y=\"239.64\"/>\r\n      </g>\r\n     </g>\r\n     <g id=\"text_3\">\r\n      <!-- 2016-05 -->\r\n      <g style=\"fill:#58544f;\" transform=\"translate(113.31125 276.55)rotate(-90)scale(0.08 -0.08)\">\r\n       <defs>\r\n        <path d=\"M 8.5 35.25 \r\nL 12.359375 71.09375 \r\nL 50.53125 71.09375 \r\nL 50.53125 60.84375 \r\nL 22.21875 60.84375 \r\nL 20.265625 43.84375 \r\nQ 25.203125 46.6875 31.390625 46.6875 \r\nQ 41.546875 46.6875 47.1875 40.1875 \r\nQ 52.828125 33.6875 52.828125 22.703125 \r\nQ 52.828125 11.859375 46.578125 5.4375 \r\nQ 40.328125 -0.984375 29.4375 -0.984375 \r\nQ 19.671875 -0.984375 13.25 4.5625 \r\nQ 6.84375 10.109375 6.296875 19.1875 \r\nL 17.78125 19.1875 \r\nQ 18.453125 14.015625 21.484375 11.25 \r\nQ 24.515625 8.5 29.390625 8.5 \r\nQ 34.859375 8.5 37.90625 12.40625 \r\nQ 40.96875 16.3125 40.96875 23.046875 \r\nQ 40.96875 29.546875 37.59375 33.328125 \r\nQ 34.234375 37.109375 28.328125 37.109375 \r\nQ 25.09375 37.109375 22.84375 36.25 \r\nQ 20.609375 35.40625 17.96875 32.90625 \r\nz\r\n\" id=\"Roboto-Medium-53\"/>\r\n       </defs>\r\n       <use xlink:href=\"#Roboto-Medium-50\"/>\r\n       <use x=\"56.835938\" xlink:href=\"#Roboto-Medium-48\"/>\r\n       <use x=\"113.671875\" xlink:href=\"#Roboto-Medium-49\"/>\r\n       <use x=\"170.507812\" xlink:href=\"#Roboto-Medium-54\"/>\r\n       <use x=\"227.34375\" xlink:href=\"#Roboto-Medium-45\"/>\r\n       <use x=\"260.15625\" xlink:href=\"#Roboto-Medium-48\"/>\r\n       <use x=\"316.992188\" xlink:href=\"#Roboto-Medium-53\"/>\r\n      </g>\r\n     </g>\r\n    </g>\r\n    <g id=\"xtick_4\">\r\n     <g id=\"line2d_4\">\r\n      <g>\r\n       <use style=\"fill:#58544f;stroke:#58544f;stroke-width:0.8;\" x=\"139.02375\" xlink:href=\"#m37e4d9fc61\" y=\"239.64\"/>\r\n      </g>\r\n     </g>\r\n     <g id=\"text_4\">\r\n      <!-- 2016-06 -->\r\n      <g style=\"fill:#58544f;\" transform=\"translate(141.21125 276.55)rotate(-90)scale(0.08 -0.08)\">\r\n       <use xlink:href=\"#Roboto-Medium-50\"/>\r\n       <use x=\"56.835938\" xlink:href=\"#Roboto-Medium-48\"/>\r\n       <use x=\"113.671875\" xlink:href=\"#Roboto-Medium-49\"/>\r\n       <use x=\"170.507812\" xlink:href=\"#Roboto-Medium-54\"/>\r\n       <use x=\"227.34375\" xlink:href=\"#Roboto-Medium-45\"/>\r\n       <use x=\"260.15625\" xlink:href=\"#Roboto-Medium-48\"/>\r\n       <use x=\"316.992188\" xlink:href=\"#Roboto-Medium-54\"/>\r\n      </g>\r\n     </g>\r\n    </g>\r\n    <g id=\"xtick_5\">\r\n     <g id=\"line2d_5\">\r\n      <g>\r\n       <use style=\"fill:#58544f;stroke:#58544f;stroke-width:0.8;\" x=\"166.92375\" xlink:href=\"#m37e4d9fc61\" y=\"239.64\"/>\r\n      </g>\r\n     </g>\r\n     <g id=\"text_5\">\r\n      <!-- 2016-07 -->\r\n      <g style=\"fill:#58544f;\" transform=\"translate(169.11125 276.55)rotate(-90)scale(0.08 -0.08)\">\r\n       <defs>\r\n        <path d=\"M 52.640625 64.5 \r\nL 24.21875 0 \r\nL 11.765625 0 \r\nL 40.140625 61.578125 \r\nL 3.375 61.578125 \r\nL 3.375 71.09375 \r\nL 52.640625 71.09375 \r\nz\r\n\" id=\"Roboto-Medium-55\"/>\r\n       </defs>\r\n       <use xlink:href=\"#Roboto-Medium-50\"/>\r\n       <use x=\"56.835938\" xlink:href=\"#Roboto-Medium-48\"/>\r\n       <use x=\"113.671875\" xlink:href=\"#Roboto-Medium-49\"/>\r\n       <use x=\"170.507812\" xlink:href=\"#Roboto-Medium-54\"/>\r\n       <use x=\"227.34375\" xlink:href=\"#Roboto-Medium-45\"/>\r\n       <use x=\"260.15625\" xlink:href=\"#Roboto-Medium-48\"/>\r\n       <use x=\"316.992188\" xlink:href=\"#Roboto-Medium-55\"/>\r\n      </g>\r\n     </g>\r\n    </g>\r\n    <g id=\"xtick_6\">\r\n     <g id=\"line2d_6\">\r\n      <g>\r\n       <use style=\"fill:#58544f;stroke:#58544f;stroke-width:0.8;\" x=\"194.82375\" xlink:href=\"#m37e4d9fc61\" y=\"239.64\"/>\r\n      </g>\r\n     </g>\r\n     <g id=\"text_6\">\r\n      <!-- 2016-08 -->\r\n      <g style=\"fill:#58544f;\" transform=\"translate(197.01125 276.55)rotate(-90)scale(0.08 -0.08)\">\r\n       <defs>\r\n        <path d=\"M 50.09375 52.34375 \r\nQ 50.09375 47.125 47.40625 43.046875 \r\nQ 44.734375 38.96875 40.09375 36.625 \r\nQ 45.65625 34.03125 48.65625 29.53125 \r\nQ 51.65625 25.046875 51.65625 19.390625 \r\nQ 51.65625 10.015625 45.3125 4.515625 \r\nQ 38.96875 -0.984375 28.421875 -0.984375 \r\nQ 17.828125 -0.984375 11.453125 4.53125 \r\nQ 5.078125 10.0625 5.078125 19.390625 \r\nQ 5.078125 25.09375 8.109375 29.640625 \r\nQ 11.140625 34.1875 16.609375 36.625 \r\nQ 12.015625 38.96875 9.34375 43.046875 \r\nQ 6.6875 47.125 6.6875 52.34375 \r\nQ 6.6875 61.421875 12.546875 66.75 \r\nQ 18.40625 72.078125 28.375 72.078125 \r\nQ 38.375 72.078125 44.234375 66.75 \r\nQ 50.09375 61.421875 50.09375 52.34375 \r\nz\r\nM 39.796875 19.96875 \r\nQ 39.796875 25.25 36.640625 28.484375 \r\nQ 33.5 31.734375 28.3125 31.734375 \r\nQ 23.140625 31.734375 20.03125 28.515625 \r\nQ 16.9375 25.296875 16.9375 19.96875 \r\nQ 16.9375 14.75 19.984375 11.625 \r\nQ 23.046875 8.5 28.421875 8.5 \r\nQ 33.796875 8.5 36.796875 11.515625 \r\nQ 39.796875 14.546875 39.796875 19.96875 \r\nz\r\nM 38.28125 51.90625 \r\nQ 38.28125 56.546875 35.59375 59.546875 \r\nQ 32.90625 62.546875 28.359375 62.546875 \r\nQ 23.828125 62.546875 21.1875 59.6875 \r\nQ 18.5625 56.84375 18.5625 51.90625 \r\nQ 18.5625 47.015625 21.21875 44.140625 \r\nQ 23.875 41.265625 28.40625 41.265625 \r\nQ 32.953125 41.265625 35.609375 44.140625 \r\nQ 38.28125 47.015625 38.28125 51.90625 \r\nz\r\n\" id=\"Roboto-Medium-56\"/>\r\n       </defs>\r\n       <use xlink:href=\"#Roboto-Medium-50\"/>\r\n       <use x=\"56.835938\" xlink:href=\"#Roboto-Medium-48\"/>\r\n       <use x=\"113.671875\" xlink:href=\"#Roboto-Medium-49\"/>\r\n       <use x=\"170.507812\" xlink:href=\"#Roboto-Medium-54\"/>\r\n       <use x=\"227.34375\" xlink:href=\"#Roboto-Medium-45\"/>\r\n       <use x=\"260.15625\" xlink:href=\"#Roboto-Medium-48\"/>\r\n       <use x=\"316.992188\" xlink:href=\"#Roboto-Medium-56\"/>\r\n      </g>\r\n     </g>\r\n    </g>\r\n    <g id=\"xtick_7\">\r\n     <g id=\"line2d_7\">\r\n      <g>\r\n       <use style=\"fill:#58544f;stroke:#58544f;stroke-width:0.8;\" x=\"222.72375\" xlink:href=\"#m37e4d9fc61\" y=\"239.64\"/>\r\n      </g>\r\n     </g>\r\n     <g id=\"text_7\">\r\n      <!-- 2016-09 -->\r\n      <g style=\"fill:#58544f;\" transform=\"translate(224.91125 276.55)rotate(-90)scale(0.08 -0.08)\">\r\n       <defs>\r\n        <path d=\"M 38.96875 29.734375 \r\nQ 33.015625 23.4375 25.046875 23.4375 \r\nQ 15.671875 23.4375 10.109375 30 \r\nQ 4.546875 36.578125 4.546875 47.265625 \r\nQ 4.546875 54.296875 7.375 60 \r\nQ 10.203125 65.71875 15.421875 68.890625 \r\nQ 20.65625 72.078125 27.546875 72.078125 \r\nQ 38.28125 72.078125 44.578125 64.0625 \r\nQ 50.875 56.0625 50.875 42.625 \r\nL 50.875 39.3125 \r\nQ 50.875 20.0625 42.1875 9.953125 \r\nQ 33.5 -0.140625 16.265625 -0.296875 \r\nL 14.84375 -0.296875 \r\nL 14.84375 9.515625 \r\nL 16.546875 9.515625 \r\nQ 27.046875 9.671875 32.65625 14.578125 \r\nQ 38.28125 19.484375 38.96875 29.734375 \r\nz\r\nM 27.546875 32.71875 \r\nQ 31.109375 32.71875 34.234375 34.765625 \r\nQ 37.359375 36.8125 39.0625 40.4375 \r\nL 39.0625 45.0625 \r\nQ 39.0625 52.9375 35.84375 57.71875 \r\nQ 32.625 62.5 27.484375 62.5 \r\nQ 22.359375 62.5 19.3125 58.265625 \r\nQ 16.265625 54.046875 16.265625 47.609375 \r\nQ 16.265625 40.921875 19.328125 36.8125 \r\nQ 22.40625 32.71875 27.546875 32.71875 \r\nz\r\n\" id=\"Roboto-Medium-57\"/>\r\n       </defs>\r\n       <use xlink:href=\"#Roboto-Medium-50\"/>\r\n       <use x=\"56.835938\" xlink:href=\"#Roboto-Medium-48\"/>\r\n       <use x=\"113.671875\" xlink:href=\"#Roboto-Medium-49\"/>\r\n       <use x=\"170.507812\" xlink:href=\"#Roboto-Medium-54\"/>\r\n       <use x=\"227.34375\" xlink:href=\"#Roboto-Medium-45\"/>\r\n       <use x=\"260.15625\" xlink:href=\"#Roboto-Medium-48\"/>\r\n       <use x=\"316.992188\" xlink:href=\"#Roboto-Medium-57\"/>\r\n      </g>\r\n     </g>\r\n    </g>\r\n    <g id=\"xtick_8\">\r\n     <g id=\"line2d_8\">\r\n      <g>\r\n       <use style=\"fill:#58544f;stroke:#58544f;stroke-width:0.8;\" x=\"250.62375\" xlink:href=\"#m37e4d9fc61\" y=\"239.64\"/>\r\n      </g>\r\n     </g>\r\n     <g id=\"text_8\">\r\n      <!-- 2016-10 -->\r\n      <g style=\"fill:#58544f;\" transform=\"translate(252.81125 276.55)rotate(-90)scale(0.08 -0.08)\">\r\n       <use xlink:href=\"#Roboto-Medium-50\"/>\r\n       <use x=\"56.835938\" xlink:href=\"#Roboto-Medium-48\"/>\r\n       <use x=\"113.671875\" xlink:href=\"#Roboto-Medium-49\"/>\r\n       <use x=\"170.507812\" xlink:href=\"#Roboto-Medium-54\"/>\r\n       <use x=\"227.34375\" xlink:href=\"#Roboto-Medium-45\"/>\r\n       <use x=\"260.15625\" xlink:href=\"#Roboto-Medium-49\"/>\r\n       <use x=\"316.992188\" xlink:href=\"#Roboto-Medium-48\"/>\r\n      </g>\r\n     </g>\r\n    </g>\r\n    <g id=\"xtick_9\">\r\n     <g id=\"line2d_9\">\r\n      <g>\r\n       <use style=\"fill:#58544f;stroke:#58544f;stroke-width:0.8;\" x=\"278.52375\" xlink:href=\"#m37e4d9fc61\" y=\"239.64\"/>\r\n      </g>\r\n     </g>\r\n     <g id=\"text_9\">\r\n      <!-- 2016-11 -->\r\n      <g style=\"fill:#58544f;\" transform=\"translate(280.71125 276.55)rotate(-90)scale(0.08 -0.08)\">\r\n       <use xlink:href=\"#Roboto-Medium-50\"/>\r\n       <use x=\"56.835938\" xlink:href=\"#Roboto-Medium-48\"/>\r\n       <use x=\"113.671875\" xlink:href=\"#Roboto-Medium-49\"/>\r\n       <use x=\"170.507812\" xlink:href=\"#Roboto-Medium-54\"/>\r\n       <use x=\"227.34375\" xlink:href=\"#Roboto-Medium-45\"/>\r\n       <use x=\"260.15625\" xlink:href=\"#Roboto-Medium-49\"/>\r\n       <use x=\"316.992188\" xlink:href=\"#Roboto-Medium-49\"/>\r\n      </g>\r\n     </g>\r\n    </g>\r\n    <g id=\"xtick_10\">\r\n     <g id=\"line2d_10\">\r\n      <g>\r\n       <use style=\"fill:#58544f;stroke:#58544f;stroke-width:0.8;\" x=\"306.42375\" xlink:href=\"#m37e4d9fc61\" y=\"239.64\"/>\r\n      </g>\r\n     </g>\r\n     <g id=\"text_10\">\r\n      <!-- 2016-12 -->\r\n      <g style=\"fill:#58544f;\" transform=\"translate(308.61125 276.55)rotate(-90)scale(0.08 -0.08)\">\r\n       <use xlink:href=\"#Roboto-Medium-50\"/>\r\n       <use x=\"56.835938\" xlink:href=\"#Roboto-Medium-48\"/>\r\n       <use x=\"113.671875\" xlink:href=\"#Roboto-Medium-49\"/>\r\n       <use x=\"170.507812\" xlink:href=\"#Roboto-Medium-54\"/>\r\n       <use x=\"227.34375\" xlink:href=\"#Roboto-Medium-45\"/>\r\n       <use x=\"260.15625\" xlink:href=\"#Roboto-Medium-49\"/>\r\n       <use x=\"316.992188\" xlink:href=\"#Roboto-Medium-50\"/>\r\n      </g>\r\n     </g>\r\n    </g>\r\n    <g id=\"xtick_11\">\r\n     <g id=\"line2d_11\">\r\n      <g>\r\n       <use style=\"fill:#58544f;stroke:#58544f;stroke-width:0.8;\" x=\"334.32375\" xlink:href=\"#m37e4d9fc61\" y=\"239.64\"/>\r\n      </g>\r\n     </g>\r\n     <g id=\"text_11\">\r\n      <!-- 2017-01 -->\r\n      <g style=\"fill:#58544f;\" transform=\"translate(336.51125 276.55)rotate(-90)scale(0.08 -0.08)\">\r\n       <use xlink:href=\"#Roboto-Medium-50\"/>\r\n       <use x=\"56.835938\" xlink:href=\"#Roboto-Medium-48\"/>\r\n       <use x=\"113.671875\" xlink:href=\"#Roboto-Medium-49\"/>\r\n       <use x=\"170.507812\" xlink:href=\"#Roboto-Medium-55\"/>\r\n       <use x=\"227.34375\" xlink:href=\"#Roboto-Medium-45\"/>\r\n       <use x=\"260.15625\" xlink:href=\"#Roboto-Medium-48\"/>\r\n       <use x=\"316.992188\" xlink:href=\"#Roboto-Medium-49\"/>\r\n      </g>\r\n     </g>\r\n    </g>\r\n    <g id=\"xtick_12\">\r\n     <g id=\"line2d_12\">\r\n      <g>\r\n       <use style=\"fill:#58544f;stroke:#58544f;stroke-width:0.8;\" x=\"362.22375\" xlink:href=\"#m37e4d9fc61\" y=\"239.64\"/>\r\n      </g>\r\n     </g>\r\n     <g id=\"text_12\">\r\n      <!-- 2017-02 -->\r\n      <g style=\"fill:#58544f;\" transform=\"translate(364.41125 276.55)rotate(-90)scale(0.08 -0.08)\">\r\n       <use xlink:href=\"#Roboto-Medium-50\"/>\r\n       <use x=\"56.835938\" xlink:href=\"#Roboto-Medium-48\"/>\r\n       <use x=\"113.671875\" xlink:href=\"#Roboto-Medium-49\"/>\r\n       <use x=\"170.507812\" xlink:href=\"#Roboto-Medium-55\"/>\r\n       <use x=\"227.34375\" xlink:href=\"#Roboto-Medium-45\"/>\r\n       <use x=\"260.15625\" xlink:href=\"#Roboto-Medium-48\"/>\r\n       <use x=\"316.992188\" xlink:href=\"#Roboto-Medium-50\"/>\r\n      </g>\r\n     </g>\r\n    </g>\r\n    <g id=\"text_13\">\r\n     <!-- Month -->\r\n     <g style=\"fill:#58544f;\" transform=\"translate(194.330781 288.05)scale(0.1 -0.1)\">\r\n      <defs>\r\n       <path d=\"M 23.25 71.09375 \r\nL 43.75 16.609375 \r\nL 64.203125 71.09375 \r\nL 80.171875 71.09375 \r\nL 80.171875 0 \r\nL 67.875 0 \r\nL 67.875 23.4375 \r\nL 69.09375 54.78125 \r\nL 48.09375 0 \r\nL 39.265625 0 \r\nL 18.3125 54.734375 \r\nL 19.53125 23.4375 \r\nL 19.53125 0 \r\nL 7.234375 0 \r\nL 7.234375 71.09375 \r\nz\r\n\" id=\"Roboto-Medium-77\"/>\r\n       <path d=\"M 3.859375 26.90625 \r\nQ 3.859375 34.671875 6.9375 40.890625 \r\nQ 10.015625 47.125 15.578125 50.46875 \r\nQ 21.140625 53.8125 28.375 53.8125 \r\nQ 39.0625 53.8125 45.71875 46.921875 \r\nQ 52.390625 40.046875 52.9375 28.65625 \r\nL 52.984375 25.875 \r\nQ 52.984375 18.0625 49.96875 11.90625 \r\nQ 46.96875 5.765625 41.375 2.390625 \r\nQ 35.796875 -0.984375 28.46875 -0.984375 \r\nQ 17.28125 -0.984375 10.5625 6.46875 \r\nQ 3.859375 13.921875 3.859375 26.3125 \r\nz\r\nM 15.71875 25.875 \r\nQ 15.71875 17.71875 19.09375 13.109375 \r\nQ 22.46875 8.5 28.46875 8.5 \r\nQ 34.46875 8.5 37.8125 13.1875 \r\nQ 41.15625 17.875 41.15625 26.90625 \r\nQ 41.15625 34.90625 37.71875 39.59375 \r\nQ 34.28125 44.28125 28.375 44.28125 \r\nQ 22.5625 44.28125 19.140625 39.671875 \r\nQ 15.71875 35.0625 15.71875 25.875 \r\nz\r\n\" id=\"Roboto-Medium-111\"/>\r\n       <path d=\"M 17.09375 52.828125 \r\nL 17.4375 46.734375 \r\nQ 23.296875 53.8125 32.8125 53.8125 \r\nQ 49.3125 53.8125 49.609375 34.90625 \r\nL 49.609375 0 \r\nL 37.75 0 \r\nL 37.75 34.234375 \r\nQ 37.75 39.265625 35.578125 41.671875 \r\nQ 33.40625 44.09375 28.46875 44.09375 \r\nQ 21.296875 44.09375 17.78125 37.59375 \r\nL 17.78125 0 \r\nL 5.90625 0 \r\nL 5.90625 52.828125 \r\nz\r\n\" id=\"Roboto-Medium-110\"/>\r\n       <path d=\"M 20.953125 65.671875 \r\nL 20.953125 52.828125 \r\nL 30.28125 52.828125 \r\nL 30.28125 44.046875 \r\nL 20.953125 44.046875 \r\nL 20.953125 14.546875 \r\nQ 20.953125 11.53125 22.140625 10.1875 \r\nQ 23.34375 8.84375 26.421875 8.84375 \r\nQ 28.46875 8.84375 30.5625 9.328125 \r\nL 30.5625 0.140625 \r\nQ 26.515625 -0.984375 22.75 -0.984375 \r\nQ 9.078125 -0.984375 9.078125 14.109375 \r\nL 9.078125 44.046875 \r\nL 0.390625 44.046875 \r\nL 0.390625 52.828125 \r\nL 9.078125 52.828125 \r\nL 9.078125 65.671875 \r\nz\r\n\" id=\"Roboto-Medium-116\"/>\r\n       <path d=\"M 17.78125 47.078125 \r\nQ 23.578125 53.8125 32.46875 53.8125 \r\nQ 49.359375 53.8125 49.609375 34.515625 \r\nL 49.609375 0 \r\nL 37.75 0 \r\nL 37.75 34.078125 \r\nQ 37.75 39.546875 35.375 41.8125 \r\nQ 33.015625 44.09375 28.421875 44.09375 \r\nQ 21.296875 44.09375 17.78125 37.75 \r\nL 17.78125 0 \r\nL 5.90625 0 \r\nL 5.90625 75 \r\nL 17.78125 75 \r\nz\r\n\" id=\"Roboto-Medium-104\"/>\r\n      </defs>\r\n      <use xlink:href=\"#Roboto-Medium-77\"/>\r\n      <use x=\"87.548828\" xlink:href=\"#Roboto-Medium-111\"/>\r\n      <use x=\"144.482422\" xlink:href=\"#Roboto-Medium-110\"/>\r\n      <use x=\"200.097656\" xlink:href=\"#Roboto-Medium-116\"/>\r\n      <use x=\"233.349609\" xlink:href=\"#Roboto-Medium-104\"/>\r\n     </g>\r\n    </g>\r\n   </g>\r\n   <g id=\"matplotlib.axis_2\">\r\n    <g id=\"ytick_1\">\r\n     <g id=\"line2d_13\">\r\n      <defs>\r\n       <path d=\"M 0 0 \r\nL -3.5 0 \r\n\" id=\"m32869b9637\" style=\"stroke:#58544f;stroke-width:0.8;\"/>\r\n      </defs>\r\n      <g>\r\n       <use style=\"fill:#58544f;stroke:#58544f;stroke-width:0.8;\" x=\"41.37375\" xlink:href=\"#m32869b9637\" y=\"239.64\"/>\r\n      </g>\r\n     </g>\r\n     <g id=\"text_14\">\r\n      <!-- 0 -->\r\n      <g style=\"fill:#58544f;\" transform=\"translate(29.82625 242.64)scale(0.08 -0.08)\">\r\n       <use xlink:href=\"#Roboto-Medium-48\"/>\r\n      </g>\r\n     </g>\r\n    </g>\r\n    <g id=\"ytick_2\">\r\n     <g id=\"line2d_14\">\r\n      <g>\r\n       <use style=\"fill:#58544f;stroke:#58544f;stroke-width:0.8;\" x=\"41.37375\" xlink:href=\"#m32869b9637\" y=\"201.076552\"/>\r\n      </g>\r\n     </g>\r\n     <g id=\"text_15\">\r\n      <!-- 100 -->\r\n      <g style=\"fill:#58544f;\" transform=\"translate(20.73125 204.076552)scale(0.08 -0.08)\">\r\n       <use xlink:href=\"#Roboto-Medium-49\"/>\r\n       <use x=\"56.835938\" xlink:href=\"#Roboto-Medium-48\"/>\r\n       <use x=\"113.671875\" xlink:href=\"#Roboto-Medium-48\"/>\r\n      </g>\r\n     </g>\r\n    </g>\r\n    <g id=\"ytick_3\">\r\n     <g id=\"line2d_15\">\r\n      <g>\r\n       <use style=\"fill:#58544f;stroke:#58544f;stroke-width:0.8;\" x=\"41.37375\" xlink:href=\"#m32869b9637\" y=\"162.513105\"/>\r\n      </g>\r\n     </g>\r\n     <g id=\"text_16\">\r\n      <!-- 200 -->\r\n      <g style=\"fill:#58544f;\" transform=\"translate(20.73125 165.513105)scale(0.08 -0.08)\">\r\n       <use xlink:href=\"#Roboto-Medium-50\"/>\r\n       <use x=\"56.835938\" xlink:href=\"#Roboto-Medium-48\"/>\r\n       <use x=\"113.671875\" xlink:href=\"#Roboto-Medium-48\"/>\r\n      </g>\r\n     </g>\r\n    </g>\r\n    <g id=\"ytick_4\">\r\n     <g id=\"line2d_16\">\r\n      <g>\r\n       <use style=\"fill:#58544f;stroke:#58544f;stroke-width:0.8;\" x=\"41.37375\" xlink:href=\"#m32869b9637\" y=\"123.949657\"/>\r\n      </g>\r\n     </g>\r\n     <g id=\"text_17\">\r\n      <!-- 300 -->\r\n      <g style=\"fill:#58544f;\" transform=\"translate(20.73125 126.949657)scale(0.08 -0.08)\">\r\n       <use xlink:href=\"#Roboto-Medium-51\"/>\r\n       <use x=\"56.835938\" xlink:href=\"#Roboto-Medium-48\"/>\r\n       <use x=\"113.671875\" xlink:href=\"#Roboto-Medium-48\"/>\r\n      </g>\r\n     </g>\r\n    </g>\r\n    <g id=\"ytick_5\">\r\n     <g id=\"line2d_17\">\r\n      <g>\r\n       <use style=\"fill:#58544f;stroke:#58544f;stroke-width:0.8;\" x=\"41.37375\" xlink:href=\"#m32869b9637\" y=\"85.386209\"/>\r\n      </g>\r\n     </g>\r\n     <g id=\"text_18\">\r\n      <!-- 400 -->\r\n      <g style=\"fill:#58544f;\" transform=\"translate(20.73125 88.386209)scale(0.08 -0.08)\">\r\n       <use xlink:href=\"#Roboto-Medium-52\"/>\r\n       <use x=\"56.835938\" xlink:href=\"#Roboto-Medium-48\"/>\r\n       <use x=\"113.671875\" xlink:href=\"#Roboto-Medium-48\"/>\r\n      </g>\r\n     </g>\r\n    </g>\r\n    <g id=\"ytick_6\">\r\n     <g id=\"line2d_18\">\r\n      <g>\r\n       <use style=\"fill:#58544f;stroke:#58544f;stroke-width:0.8;\" x=\"41.37375\" xlink:href=\"#m32869b9637\" y=\"46.822761\"/>\r\n      </g>\r\n     </g>\r\n     <g id=\"text_19\">\r\n      <!-- 500 -->\r\n      <g style=\"fill:#58544f;\" transform=\"translate(20.73125 49.822761)scale(0.08 -0.08)\">\r\n       <use xlink:href=\"#Roboto-Medium-53\"/>\r\n       <use x=\"56.835938\" xlink:href=\"#Roboto-Medium-48\"/>\r\n       <use x=\"113.671875\" xlink:href=\"#Roboto-Medium-48\"/>\r\n      </g>\r\n     </g>\r\n    </g>\r\n    <g id=\"text_20\">\r\n     <!-- No. of Shared Articles -->\r\n     <g style=\"fill:#58544f;\" transform=\"translate(14.7 180.012969)rotate(-90)scale(0.1 -0.1)\">\r\n      <defs>\r\n       <path d=\"M 63.625 0 \r\nL 51.265625 0 \r\nL 19.578125 50.4375 \r\nL 19.578125 0 \r\nL 7.234375 0 \r\nL 7.234375 71.09375 \r\nL 19.578125 71.09375 \r\nL 51.375 20.453125 \r\nL 51.375 71.09375 \r\nL 63.625 71.09375 \r\nz\r\n\" id=\"Roboto-Medium-78\"/>\r\n       <path d=\"M 13.484375 12.5 \r\nQ 16.796875 12.5 18.59375 10.609375 \r\nQ 20.40625 8.734375 20.40625 5.90625 \r\nQ 20.40625 3.125 18.59375 1.296875 \r\nQ 16.796875 -0.53125 13.484375 -0.53125 \r\nQ 10.296875 -0.53125 8.4375 1.265625 \r\nQ 6.59375 3.078125 6.59375 5.90625 \r\nQ 6.59375 8.734375 8.390625 10.609375 \r\nQ 10.203125 12.5 13.484375 12.5 \r\nz\r\n\" id=\"Roboto-Medium-46\"/>\r\n       <path id=\"Roboto-Medium-32\"/>\r\n       <path d=\"M 10.25 0 \r\nL 10.25 44.046875 \r\nL 2.203125 44.046875 \r\nL 2.203125 52.828125 \r\nL 10.25 52.828125 \r\nL 10.25 57.671875 \r\nQ 10.25 66.453125 15.125 71.234375 \r\nQ 20.015625 76.03125 28.8125 76.03125 \r\nQ 31.9375 76.03125 35.453125 75.140625 \r\nL 35.15625 65.875 \r\nQ 33.203125 66.265625 30.609375 66.265625 \r\nQ 22.125 66.265625 22.125 57.515625 \r\nL 22.125 52.828125 \r\nL 32.859375 52.828125 \r\nL 32.859375 44.046875 \r\nL 22.125 44.046875 \r\nL 22.125 0 \r\nz\r\n\" id=\"Roboto-Medium-102\"/>\r\n       <path d=\"M 44.390625 18.3125 \r\nQ 44.390625 23 41.09375 25.53125 \r\nQ 37.796875 28.078125 29.203125 30.65625 \r\nQ 20.609375 33.25 15.53125 36.421875 \r\nQ 5.8125 42.53125 5.8125 52.34375 \r\nQ 5.8125 60.9375 12.8125 66.5 \r\nQ 19.828125 72.078125 31 72.078125 \r\nQ 38.421875 72.078125 44.234375 69.34375 \r\nQ 50.046875 66.609375 53.359375 61.546875 \r\nQ 56.6875 56.5 56.6875 50.34375 \r\nL 44.390625 50.34375 \r\nQ 44.390625 55.90625 40.890625 59.046875 \r\nQ 37.40625 62.203125 30.90625 62.203125 \r\nQ 24.859375 62.203125 21.515625 59.609375 \r\nQ 18.171875 57.03125 18.171875 52.390625 \r\nQ 18.171875 48.484375 21.78125 45.875 \r\nQ 25.390625 43.265625 33.6875 40.796875 \r\nQ 42 38.328125 47.015625 35.171875 \r\nQ 52.046875 32.03125 54.390625 27.953125 \r\nQ 56.734375 23.875 56.734375 18.40625 \r\nQ 56.734375 9.515625 49.921875 4.265625 \r\nQ 43.109375 -0.984375 31.453125 -0.984375 \r\nQ 23.734375 -0.984375 17.265625 1.875 \r\nQ 10.796875 4.734375 7.203125 9.765625 \r\nQ 3.609375 14.796875 3.609375 21.484375 \r\nL 15.96875 21.484375 \r\nQ 15.96875 15.4375 19.96875 12.109375 \r\nQ 23.96875 8.796875 31.453125 8.796875 \r\nQ 37.890625 8.796875 41.140625 11.40625 \r\nQ 44.390625 14.015625 44.390625 18.3125 \r\nz\r\n\" id=\"Roboto-Medium-83\"/>\r\n       <path d=\"M 37.640625 0 \r\nQ 36.859375 1.515625 36.28125 4.9375 \r\nQ 30.609375 -0.984375 22.40625 -0.984375 \r\nQ 14.453125 -0.984375 9.421875 3.5625 \r\nQ 4.390625 8.109375 4.390625 14.796875 \r\nQ 4.390625 23.25 10.65625 27.765625 \r\nQ 16.9375 32.28125 28.609375 32.28125 \r\nL 35.890625 32.28125 \r\nL 35.890625 35.75 \r\nQ 35.890625 39.84375 33.59375 42.3125 \r\nQ 31.296875 44.78125 26.609375 44.78125 \r\nQ 22.5625 44.78125 19.96875 42.75 \r\nQ 17.390625 40.71875 17.390625 37.59375 \r\nL 5.515625 37.59375 \r\nQ 5.515625 41.9375 8.390625 45.71875 \r\nQ 11.28125 49.515625 16.234375 51.65625 \r\nQ 21.1875 53.8125 27.296875 53.8125 \r\nQ 36.578125 53.8125 42.09375 49.140625 \r\nQ 47.609375 44.484375 47.75 36.03125 \r\nL 47.75 12.203125 \r\nQ 47.75 5.078125 49.75 0.828125 \r\nL 49.75 0 \r\nz\r\nM 24.609375 8.546875 \r\nQ 28.125 8.546875 31.21875 10.25 \r\nQ 34.328125 11.96875 35.890625 14.84375 \r\nL 35.890625 24.8125 \r\nL 29.5 24.8125 \r\nQ 22.90625 24.8125 19.578125 22.515625 \r\nQ 16.265625 20.21875 16.265625 16.015625 \r\nQ 16.265625 12.59375 18.53125 10.5625 \r\nQ 20.796875 8.546875 24.609375 8.546875 \r\nz\r\n\" id=\"Roboto-Medium-97\"/>\r\n       <path d=\"M 33.734375 42 \r\nQ 31.390625 42.390625 28.90625 42.390625 \r\nQ 20.75 42.390625 17.921875 36.140625 \r\nL 17.921875 0 \r\nL 6.0625 0 \r\nL 6.0625 52.828125 \r\nL 17.390625 52.828125 \r\nL 17.671875 46.921875 \r\nQ 21.96875 53.8125 29.59375 53.8125 \r\nQ 32.125 53.8125 33.796875 53.125 \r\nz\r\n\" id=\"Roboto-Medium-114\"/>\r\n       <path d=\"M 29.34375 -0.984375 \r\nQ 18.0625 -0.984375 11.046875 6.125 \r\nQ 4.046875 13.234375 4.046875 25.046875 \r\nL 4.046875 26.515625 \r\nQ 4.046875 34.421875 7.09375 40.640625 \r\nQ 10.15625 46.875 15.671875 50.34375 \r\nQ 21.1875 53.8125 27.984375 53.8125 \r\nQ 38.765625 53.8125 44.640625 46.921875 \r\nQ 50.53125 40.046875 50.53125 27.4375 \r\nL 50.53125 22.65625 \r\nL 16.015625 22.65625 \r\nQ 16.546875 16.109375 20.375 12.296875 \r\nQ 24.21875 8.5 30.03125 8.5 \r\nQ 38.1875 8.5 43.3125 15.09375 \r\nL 49.703125 8.984375 \r\nQ 46.53125 4.25 41.234375 1.625 \r\nQ 35.9375 -0.984375 29.34375 -0.984375 \r\nz\r\nM 27.9375 44.28125 \r\nQ 23.046875 44.28125 20.046875 40.859375 \r\nQ 17.046875 37.453125 16.21875 31.34375 \r\nL 38.8125 31.34375 \r\nL 38.8125 32.234375 \r\nQ 38.421875 38.1875 35.640625 41.234375 \r\nQ 32.859375 44.28125 27.9375 44.28125 \r\nz\r\n\" id=\"Roboto-Medium-101\"/>\r\n       <path d=\"M 3.859375 26.8125 \r\nQ 3.859375 39.015625 9.515625 46.40625 \r\nQ 15.1875 53.8125 24.703125 53.8125 \r\nQ 33.109375 53.8125 38.28125 47.953125 \r\nL 38.28125 75 \r\nL 50.140625 75 \r\nL 50.140625 0 \r\nL 39.40625 0 \r\nL 38.8125 5.46875 \r\nQ 33.5 -0.984375 24.609375 -0.984375 \r\nQ 15.328125 -0.984375 9.59375 6.484375 \r\nQ 3.859375 13.96875 3.859375 26.8125 \r\nz\r\nM 15.71875 25.78125 \r\nQ 15.71875 17.71875 18.8125 13.203125 \r\nQ 21.921875 8.6875 27.640625 8.6875 \r\nQ 34.90625 8.6875 38.28125 15.1875 \r\nL 38.28125 37.75 \r\nQ 35.015625 44.09375 27.734375 44.09375 \r\nQ 21.96875 44.09375 18.84375 39.53125 \r\nQ 15.71875 34.96875 15.71875 25.78125 \r\nz\r\n\" id=\"Roboto-Medium-100\"/>\r\n       <path d=\"M 47.015625 16.546875 \r\nL 19.484375 16.546875 \r\nL 13.71875 0 \r\nL 0.875 0 \r\nL 27.734375 71.09375 \r\nL 38.8125 71.09375 \r\nL 65.71875 0 \r\nL 52.828125 0 \r\nz\r\nM 22.953125 26.515625 \r\nL 43.5625 26.515625 \r\nL 33.25 56 \r\nz\r\n\" id=\"Roboto-Medium-65\"/>\r\n       <path d=\"M 18.703125 0 \r\nL 6.84375 0 \r\nL 6.84375 52.828125 \r\nL 18.703125 52.828125 \r\nz\r\nM 6.109375 66.546875 \r\nQ 6.109375 69.28125 7.84375 71.09375 \r\nQ 9.578125 72.90625 12.796875 72.90625 \r\nQ 16.015625 72.90625 17.765625 71.09375 \r\nQ 19.53125 69.28125 19.53125 66.546875 \r\nQ 19.53125 63.875 17.765625 62.078125 \r\nQ 16.015625 60.296875 12.796875 60.296875 \r\nQ 9.578125 60.296875 7.84375 62.078125 \r\nQ 6.109375 63.875 6.109375 66.546875 \r\nz\r\n\" id=\"Roboto-Medium-105\"/>\r\n       <path d=\"M 27.78125 8.5 \r\nQ 32.234375 8.5 35.15625 11.078125 \r\nQ 38.09375 13.671875 38.28125 17.484375 \r\nL 49.46875 17.484375 \r\nQ 49.265625 12.546875 46.375 8.265625 \r\nQ 43.5 4 38.5625 1.5 \r\nQ 33.640625 -0.984375 27.9375 -0.984375 \r\nQ 16.84375 -0.984375 10.34375 6.1875 \r\nQ 3.859375 13.375 3.859375 26.03125 \r\nL 3.859375 27.25 \r\nQ 3.859375 39.3125 10.296875 46.5625 \r\nQ 16.75 53.8125 27.875 53.8125 \r\nQ 37.3125 53.8125 43.234375 48.3125 \r\nQ 49.171875 42.828125 49.46875 33.890625 \r\nL 38.28125 33.890625 \r\nQ 38.09375 38.421875 35.1875 41.34375 \r\nQ 32.28125 44.28125 27.78125 44.28125 \r\nQ 22.015625 44.28125 18.890625 40.109375 \r\nQ 15.765625 35.9375 15.71875 27.4375 \r\nL 15.71875 25.53125 \r\nQ 15.71875 16.9375 18.8125 12.71875 \r\nQ 21.921875 8.5 27.78125 8.5 \r\nz\r\n\" id=\"Roboto-Medium-99\"/>\r\n       <path d=\"M 18.703125 0 \r\nL 6.84375 0 \r\nL 6.84375 75 \r\nL 18.703125 75 \r\nz\r\n\" id=\"Roboto-Medium-108\"/>\r\n       <path d=\"M 35.6875 14.359375 \r\nQ 35.6875 17.53125 33.078125 19.1875 \r\nQ 30.46875 20.84375 24.40625 22.109375 \r\nQ 18.359375 23.390625 14.3125 25.34375 \r\nQ 5.421875 29.640625 5.421875 37.796875 \r\nQ 5.421875 44.625 11.171875 49.21875 \r\nQ 16.9375 53.8125 25.828125 53.8125 \r\nQ 35.296875 53.8125 41.125 49.125 \r\nQ 46.96875 44.4375 46.96875 36.96875 \r\nL 35.109375 36.96875 \r\nQ 35.109375 40.375 32.5625 42.640625 \r\nQ 30.03125 44.921875 25.828125 44.921875 \r\nQ 21.921875 44.921875 19.453125 43.109375 \r\nQ 17 41.3125 17 38.28125 \r\nQ 17 35.546875 19.28125 34.03125 \r\nQ 21.578125 32.515625 28.5625 30.96875 \r\nQ 35.546875 29.4375 39.515625 27.3125 \r\nQ 43.5 25.203125 45.421875 22.21875 \r\nQ 47.359375 19.234375 47.359375 14.984375 \r\nQ 47.359375 7.859375 41.453125 3.4375 \r\nQ 35.546875 -0.984375 25.984375 -0.984375 \r\nQ 19.484375 -0.984375 14.40625 1.359375 \r\nQ 9.328125 3.71875 6.484375 7.8125 \r\nQ 3.65625 11.921875 3.65625 16.65625 \r\nL 15.1875 16.65625 \r\nQ 15.4375 12.453125 18.359375 10.171875 \r\nQ 21.296875 7.90625 26.125 7.90625 \r\nQ 30.8125 7.90625 33.25 9.6875 \r\nQ 35.6875 11.46875 35.6875 14.359375 \r\nz\r\n\" id=\"Roboto-Medium-115\"/>\r\n      </defs>\r\n      <use xlink:href=\"#Roboto-Medium-78\"/>\r\n      <use x=\"70.996094\" xlink:href=\"#Roboto-Medium-111\"/>\r\n      <use x=\"127.929688\" xlink:href=\"#Roboto-Medium-46\"/>\r\n      <use x=\"155.859375\" xlink:href=\"#Roboto-Medium-32\"/>\r\n      <use x=\"180.761719\" xlink:href=\"#Roboto-Medium-111\"/>\r\n      <use x=\"237.695312\" xlink:href=\"#Roboto-Medium-102\"/>\r\n      <use x=\"273.144531\" xlink:href=\"#Roboto-Medium-32\"/>\r\n      <use x=\"298.046875\" xlink:href=\"#Roboto-Medium-83\"/>\r\n      <use x=\"358.398438\" xlink:href=\"#Roboto-Medium-104\"/>\r\n      <use x=\"413.916016\" xlink:href=\"#Roboto-Medium-97\"/>\r\n      <use x=\"468.017578\" xlink:href=\"#Roboto-Medium-114\"/>\r\n      <use x=\"503.173828\" xlink:href=\"#Roboto-Medium-101\"/>\r\n      <use x=\"556.835938\" xlink:href=\"#Roboto-Medium-100\"/>\r\n      <use x=\"613.28125\" xlink:href=\"#Roboto-Medium-32\"/>\r\n      <use x=\"638.183594\" xlink:href=\"#Roboto-Medium-65\"/>\r\n      <use x=\"704.736328\" xlink:href=\"#Roboto-Medium-114\"/>\r\n      <use x=\"739.892578\" xlink:href=\"#Roboto-Medium-116\"/>\r\n      <use x=\"773.144531\" xlink:href=\"#Roboto-Medium-105\"/>\r\n      <use x=\"798.681641\" xlink:href=\"#Roboto-Medium-99\"/>\r\n      <use x=\"851.025391\" xlink:href=\"#Roboto-Medium-108\"/>\r\n      <use x=\"876.5625\" xlink:href=\"#Roboto-Medium-101\"/>\r\n      <use x=\"930.224609\" xlink:href=\"#Roboto-Medium-115\"/>\r\n     </g>\r\n    </g>\r\n   </g>\r\n   <g id=\"patch_15\">\r\n    <path d=\"M 41.37375 239.64 \r\nL 41.37375 22.2 \r\n\" style=\"fill:none;stroke:#58544f;stroke-linecap:square;stroke-linejoin:miter;stroke-width:0.8;\"/>\r\n   </g>\r\n   <g id=\"patch_16\">\r\n    <path d=\"M 376.17375 239.64 \r\nL 376.17375 22.2 \r\n\" style=\"fill:none;stroke:#58544f;stroke-linecap:square;stroke-linejoin:miter;stroke-width:0.8;\"/>\r\n   </g>\r\n   <g id=\"patch_17\">\r\n    <path d=\"M 41.37375 239.64 \r\nL 376.17375 239.64 \r\n\" style=\"fill:none;stroke:#58544f;stroke-linecap:square;stroke-linejoin:miter;stroke-width:0.8;\"/>\r\n   </g>\r\n   <g id=\"patch_18\">\r\n    <path d=\"M 41.37375 22.2 \r\nL 376.17375 22.2 \r\n\" style=\"fill:none;stroke:#58544f;stroke-linecap:square;stroke-linejoin:miter;stroke-width:0.8;\"/>\r\n   </g>\r\n   <g id=\"text_21\">\r\n    <!-- Shared Articles by Month -->\r\n    <g transform=\"translate(141.1275 16.2)scale(0.12 -0.12)\">\r\n     <defs>\r\n      <path d=\"M 52.4375 25.875 \r\nQ 52.4375 13.578125 46.9375 6.296875 \r\nQ 41.453125 -0.984375 31.84375 -0.984375 \r\nQ 22.5625 -0.984375 17.390625 5.71875 \r\nL 16.796875 0 \r\nL 6.0625 0 \r\nL 6.0625 75 \r\nL 17.921875 75 \r\nL 17.921875 47.75 \r\nQ 23.046875 53.8125 31.734375 53.8125 \r\nQ 41.40625 53.8125 46.921875 46.625 \r\nQ 52.4375 39.453125 52.4375 26.5625 \r\nz\r\nM 40.578125 26.90625 \r\nQ 40.578125 35.5 37.546875 39.796875 \r\nQ 34.515625 44.09375 28.765625 44.09375 \r\nQ 21.046875 44.09375 17.921875 37.359375 \r\nL 17.921875 15.578125 \r\nQ 21.09375 8.6875 28.859375 8.6875 \r\nQ 34.421875 8.6875 37.453125 12.84375 \r\nQ 40.484375 17 40.578125 25.390625 \r\nz\r\n\" id=\"Roboto-Medium-98\"/>\r\n      <path d=\"M 24.5625 17 \r\nL 35.296875 52.828125 \r\nL 47.953125 52.828125 \r\nL 26.953125 -8.015625 \r\nQ 22.125 -21.34375 10.546875 -21.34375 \r\nQ 7.953125 -21.34375 4.828125 -20.453125 \r\nL 4.828125 -11.28125 \r\nL 7.078125 -11.421875 \r\nQ 11.578125 -11.421875 13.84375 -9.78125 \r\nQ 16.109375 -8.15625 17.4375 -4.296875 \r\nL 19.140625 0.25 \r\nL 0.59375 52.828125 \r\nL 13.375 52.828125 \r\nz\r\n\" id=\"Roboto-Medium-121\"/>\r\n     </defs>\r\n     <use xlink:href=\"#Roboto-Medium-83\"/>\r\n     <use x=\"60.351562\" xlink:href=\"#Roboto-Medium-104\"/>\r\n     <use x=\"115.869141\" xlink:href=\"#Roboto-Medium-97\"/>\r\n     <use x=\"169.970703\" xlink:href=\"#Roboto-Medium-114\"/>\r\n     <use x=\"205.126953\" xlink:href=\"#Roboto-Medium-101\"/>\r\n     <use x=\"258.789062\" xlink:href=\"#Roboto-Medium-100\"/>\r\n     <use x=\"315.234375\" xlink:href=\"#Roboto-Medium-32\"/>\r\n     <use x=\"340.136719\" xlink:href=\"#Roboto-Medium-65\"/>\r\n     <use x=\"406.689453\" xlink:href=\"#Roboto-Medium-114\"/>\r\n     <use x=\"441.845703\" xlink:href=\"#Roboto-Medium-116\"/>\r\n     <use x=\"475.097656\" xlink:href=\"#Roboto-Medium-105\"/>\r\n     <use x=\"500.634766\" xlink:href=\"#Roboto-Medium-99\"/>\r\n     <use x=\"552.978516\" xlink:href=\"#Roboto-Medium-108\"/>\r\n     <use x=\"578.515625\" xlink:href=\"#Roboto-Medium-101\"/>\r\n     <use x=\"632.177734\" xlink:href=\"#Roboto-Medium-115\"/>\r\n     <use x=\"683.789062\" xlink:href=\"#Roboto-Medium-32\"/>\r\n     <use x=\"708.691406\" xlink:href=\"#Roboto-Medium-98\"/>\r\n     <use x=\"764.990234\" xlink:href=\"#Roboto-Medium-121\"/>\r\n     <use x=\"813.671875\" xlink:href=\"#Roboto-Medium-32\"/>\r\n     <use x=\"838.574219\" xlink:href=\"#Roboto-Medium-77\"/>\r\n     <use x=\"926.123047\" xlink:href=\"#Roboto-Medium-111\"/>\r\n     <use x=\"983.056641\" xlink:href=\"#Roboto-Medium-110\"/>\r\n     <use x=\"1038.671875\" xlink:href=\"#Roboto-Medium-116\"/>\r\n     <use x=\"1071.923828\" xlink:href=\"#Roboto-Medium-104\"/>\r\n    </g>\r\n   </g>\r\n  </g>\r\n </g>\r\n <defs>\r\n  <clipPath id=\"p026e034d18\">\r\n   <rect height=\"217.44\" width=\"334.8\" x=\"41.37375\" y=\"22.2\"/>\r\n  </clipPath>\r\n </defs>\r\n</svg>\r\n",
      "image/png": "[encoded data removed]"
     },
     "metadata": {}
    }
   ],
   "source": [
    "articlesDF['articlePublishedTime'] = articlesDF['articlePublishedTime'].apply(lambda y: to_datetime(y))\n",
    "interactionswitharticlesDF['articlePublishedTime'] = interactionswitharticlesDF['articlePublishedTime'].apply(lambda y: to_datetime(y))\n",
    "articlesDF['month_y'] = articlesDF['articlePublishedTime'].apply(lambda y: '{0}-{1:02}'.format(y.year, y.month))\n",
    "articlesDF.groupby('month_y').size().plot(kind='bar', title='Shared Articles by Month', xlabel='Month', ylabel='No. of Shared Articles')\n",
    "articlesDF.drop('month_y', axis=1, inplace=True)"
   ]
  },
  {
   "cell_type": "code",
   "execution_count": 168,
   "metadata": {},
   "outputs": [
    {
     "output_type": "execute_result",
     "data": {
      "text/plain": [
       "                            urlDomain  \\\n",
       "0                      techcrunch.com   \n",
       "1                      techcrunch.com   \n",
       "2                      techcrunch.com   \n",
       "3                      techcrunch.com   \n",
       "4                      techcrunch.com   \n",
       "...                               ...   \n",
       "71568        www.smashingmagazine.com   \n",
       "71569                 blog.medium.com   \n",
       "71570                www.valor.com.br   \n",
       "71571                www.valor.com.br   \n",
       "71572  www.inovacaotecnologica.com.br   \n",
       "\n",
       "                                                     url  \n",
       "0                 http://techcrunch.com/2016/06/07/hiri/  \n",
       "1                 http://techcrunch.com/2016/06/07/hiri/  \n",
       "2                 http://techcrunch.com/2016/06/07/hiri/  \n",
       "3                 http://techcrunch.com/2016/06/07/hiri/  \n",
       "4                 http://techcrunch.com/2016/06/07/hiri/  \n",
       "...                                                  ...  \n",
       "71568  https://www.smashingmagazine.com/2016/12/digit...  \n",
       "71569  https://blog.medium.com/renewing-mediums-focus...  \n",
       "71570  http://www.valor.com.br/financas/4847178/santa...  \n",
       "71571  http://www.valor.com.br/financas/4848194/santa...  \n",
       "71572  http://www.inovacaotecnologica.com.br/noticias...  \n",
       "\n",
       "[71573 rows x 2 columns]"
      ],
      "text/html": "<div>\n<style scoped>\n    .dataframe tbody tr th:only-of-type {\n        vertical-align: middle;\n    }\n\n    .dataframe tbody tr th {\n        vertical-align: top;\n    }\n\n    .dataframe thead th {\n        text-align: right;\n    }\n</style>\n<table border=\"1\" class=\"dataframe\">\n  <thead>\n    <tr style=\"text-align: right;\">\n      <th></th>\n      <th>urlDomain</th>\n      <th>url</th>\n    </tr>\n  </thead>\n  <tbody>\n    <tr>\n      <th>0</th>\n      <td>techcrunch.com</td>\n      <td>http://techcrunch.com/2016/06/07/hiri/</td>\n    </tr>\n    <tr>\n      <th>1</th>\n      <td>techcrunch.com</td>\n      <td>http://techcrunch.com/2016/06/07/hiri/</td>\n    </tr>\n    <tr>\n      <th>2</th>\n      <td>techcrunch.com</td>\n      <td>http://techcrunch.com/2016/06/07/hiri/</td>\n    </tr>\n    <tr>\n      <th>3</th>\n      <td>techcrunch.com</td>\n      <td>http://techcrunch.com/2016/06/07/hiri/</td>\n    </tr>\n    <tr>\n      <th>4</th>\n      <td>techcrunch.com</td>\n      <td>http://techcrunch.com/2016/06/07/hiri/</td>\n    </tr>\n    <tr>\n      <th>...</th>\n      <td>...</td>\n      <td>...</td>\n    </tr>\n    <tr>\n      <th>71568</th>\n      <td>www.smashingmagazine.com</td>\n      <td>https://www.smashingmagazine.com/2016/12/digit...</td>\n    </tr>\n    <tr>\n      <th>71569</th>\n      <td>blog.medium.com</td>\n      <td>https://blog.medium.com/renewing-mediums-focus...</td>\n    </tr>\n    <tr>\n      <th>71570</th>\n      <td>www.valor.com.br</td>\n      <td>http://www.valor.com.br/financas/4847178/santa...</td>\n    </tr>\n    <tr>\n      <th>71571</th>\n      <td>www.valor.com.br</td>\n      <td>http://www.valor.com.br/financas/4848194/santa...</td>\n    </tr>\n    <tr>\n      <th>71572</th>\n      <td>www.inovacaotecnologica.com.br</td>\n      <td>http://www.inovacaotecnologica.com.br/noticias...</td>\n    </tr>\n  </tbody>\n</table>\n<p>71573 rows × 2 columns</p>\n</div>"
     },
     "metadata": {},
     "execution_count": 168
    }
   ],
   "source": [
    "urlDomainsDF = pd.DataFrame(interactionswitharticlesDF['url'])\n",
    "urlDomainsDF['urlDomain'] = interactionswitharticlesDF['url'].apply(lambda x: re.sub(r'^http[s]*:\\/\\/', '', re.search(r'^http[s]*:\\/\\/[\\w\\.]*', x, re.IGNORECASE).group(0)))\n",
    "urlDomainsDF[['urlDomain','url']]"
   ]
  },
  {
   "cell_type": "code",
   "execution_count": 169,
   "metadata": {},
   "outputs": [
    {
     "output_type": "execute_result",
     "data": {
      "text/plain": [
       "<AxesSubplot:title={'center':'Main Domains on User Shared Articles'}, ylabel='urlDomain'>"
      ]
     },
     "metadata": {},
     "execution_count": 169
    },
    {
     "output_type": "display_data",
     "data": {
      "text/plain": "<Figure size 1000x1000 with 1 Axes>",
      "image/svg+xml": "<?xml version=\"1.0\" encoding=\"utf-8\" standalone=\"no\"?>\r\n<!DOCTYPE svg PUBLIC \"-//W3C//DTD SVG 1.1//EN\"\r\n  \"http://www.w3.org/Graphics/SVG/1.1/DTD/svg11.dtd\">\r\n<!-- Created with matplotlib (https://matplotlib.org/) -->\r\n<svg height=\"587.625pt\" version=\"1.1\" viewBox=\"0 0 703.7025 587.625\" width=\"703.7025pt\" xmlns=\"http://www.w3.org/2000/svg\" xmlns:xlink=\"http://www.w3.org/1999/xlink\">\r\n <metadata>\r\n  <rdf:RDF xmlns:cc=\"http://creativecommons.org/ns#\" xmlns:dc=\"http://purl.org/dc/elements/1.1/\" xmlns:rdf=\"http://www.w3.org/1999/02/22-rdf-syntax-ns#\">\r\n   <cc:Work>\r\n    <dc:type rdf:resource=\"http://purl.org/dc/dcmitype/StillImage\"/>\r\n    <dc:date>2020-11-04T17:27:20.804982</dc:date>\r\n    <dc:format>image/svg+xml</dc:format>\r\n    <dc:creator>\r\n     <cc:Agent>\r\n      <dc:title>Matplotlib v3.3.2, https://matplotlib.org/</dc:title>\r\n     </cc:Agent>\r\n    </dc:creator>\r\n   </cc:Work>\r\n  </rdf:RDF>\r\n </metadata>\r\n <defs>\r\n  <style type=\"text/css\">*{stroke-linecap:butt;stroke-linejoin:round;}</style>\r\n </defs>\r\n <g id=\"figure_1\">\r\n  <g id=\"patch_1\">\r\n   <path d=\"M 0 587.625 \r\nL 703.7025 587.625 \r\nL 703.7025 0 \r\nL 0 0 \r\nz\r\n\" style=\"fill:#ffffff;\"/>\r\n  </g>\r\n  <g id=\"axes_1\">\r\n   <g id=\"patch_2\">\r\n    <path d=\"M 138.5025 565.8 \r\nL 696.5025 565.8 \r\nL 696.5025 22.2 \r\nL 138.5025 22.2 \r\nz\r\n\" style=\"fill:#ffffff;\"/>\r\n   </g>\r\n   <g id=\"patch_3\">\r\n    <path clip-path=\"url(#p83c1fb5940)\" d=\"M 138.5025 559.005 \r\nL 193.660996 559.005 \r\nL 193.660996 545.415 \r\nL 138.5025 545.415 \r\nz\r\n\" style=\"fill:#0088ed;\"/>\r\n   </g>\r\n   <g id=\"patch_4\">\r\n    <path clip-path=\"url(#p83c1fb5940)\" d=\"M 138.5025 531.825 \r\nL 193.90239 531.825 \r\nL 193.90239 518.235 \r\nL 138.5025 518.235 \r\nz\r\n\" style=\"fill:#0088ed;\"/>\r\n   </g>\r\n   <g id=\"patch_5\">\r\n    <path clip-path=\"url(#p83c1fb5940)\" d=\"M 138.5025 504.645 \r\nL 194.023087 504.645 \r\nL 194.023087 491.055 \r\nL 138.5025 491.055 \r\nz\r\n\" style=\"fill:#0088ed;\"/>\r\n   </g>\r\n   <g id=\"patch_6\">\r\n    <path clip-path=\"url(#p83c1fb5940)\" d=\"M 138.5025 477.465 \r\nL 200.420024 477.465 \r\nL 200.420024 463.875 \r\nL 138.5025 463.875 \r\nz\r\n\" style=\"fill:#0088ed;\"/>\r\n   </g>\r\n   <g id=\"patch_7\">\r\n    <path clip-path=\"url(#p83c1fb5940)\" d=\"M 138.5025 450.285 \r\nL 201.626993 450.285 \r\nL 201.626993 436.695 \r\nL 138.5025 436.695 \r\nz\r\n\" style=\"fill:#0088ed;\"/>\r\n   </g>\r\n   <g id=\"patch_8\">\r\n    <path clip-path=\"url(#p83c1fb5940)\" d=\"M 138.5025 423.105 \r\nL 209.713687 423.105 \r\nL 209.713687 409.515 \r\nL 138.5025 409.515 \r\nz\r\n\" style=\"fill:#0088ed;\"/>\r\n   </g>\r\n   <g id=\"patch_9\">\r\n    <path clip-path=\"url(#p83c1fb5940)\" d=\"M 138.5025 395.925 \r\nL 209.834384 395.925 \r\nL 209.834384 382.335 \r\nL 138.5025 382.335 \r\nz\r\n\" style=\"fill:#0088ed;\"/>\r\n   </g>\r\n   <g id=\"patch_10\">\r\n    <path clip-path=\"url(#p83c1fb5940)\" d=\"M 138.5025 368.745 \r\nL 212.972504 368.745 \r\nL 212.972504 355.155 \r\nL 138.5025 355.155 \r\nz\r\n\" style=\"fill:#0088ed;\"/>\r\n   </g>\r\n   <g id=\"patch_11\">\r\n    <path clip-path=\"url(#p83c1fb5940)\" d=\"M 138.5025 341.565 \r\nL 220.697108 341.565 \r\nL 220.697108 327.975 \r\nL 138.5025 327.975 \r\nz\r\n\" style=\"fill:#0088ed;\"/>\r\n   </g>\r\n   <g id=\"patch_12\">\r\n    <path clip-path=\"url(#p83c1fb5940)\" d=\"M 138.5025 314.385 \r\nL 221.662683 314.385 \r\nL 221.662683 300.795 \r\nL 138.5025 300.795 \r\nz\r\n\" style=\"fill:#0088ed;\"/>\r\n   </g>\r\n   <g id=\"patch_13\">\r\n    <path clip-path=\"url(#p83c1fb5940)\" d=\"M 138.5025 287.205 \r\nL 228.05962 287.205 \r\nL 228.05962 273.615 \r\nL 138.5025 273.615 \r\nz\r\n\" style=\"fill:#0088ed;\"/>\r\n   </g>\r\n   <g id=\"patch_14\">\r\n    <path clip-path=\"url(#p83c1fb5940)\" d=\"M 138.5025 260.025 \r\nL 240.732798 260.025 \r\nL 240.732798 246.435 \r\nL 138.5025 246.435 \r\nz\r\n\" style=\"fill:#0088ed;\"/>\r\n   </g>\r\n   <g id=\"patch_15\">\r\n    <path clip-path=\"url(#p83c1fb5940)\" d=\"M 138.5025 232.845 \r\nL 249.181582 232.845 \r\nL 249.181582 219.255 \r\nL 138.5025 219.255 \r\nz\r\n\" style=\"fill:#0088ed;\"/>\r\n   </g>\r\n   <g id=\"patch_16\">\r\n    <path clip-path=\"url(#p83c1fb5940)\" d=\"M 138.5025 205.665 \r\nL 249.66437 205.665 \r\nL 249.66437 192.075 \r\nL 138.5025 192.075 \r\nz\r\n\" style=\"fill:#0088ed;\"/>\r\n   </g>\r\n   <g id=\"patch_17\">\r\n    <path clip-path=\"url(#p83c1fb5940)\" d=\"M 138.5025 178.485 \r\nL 267.889606 178.485 \r\nL 267.889606 164.895 \r\nL 138.5025 164.895 \r\nz\r\n\" style=\"fill:#0088ed;\"/>\r\n   </g>\r\n   <g id=\"patch_18\">\r\n    <path clip-path=\"url(#p83c1fb5940)\" d=\"M 138.5025 151.305 \r\nL 275.252119 151.305 \r\nL 275.252119 137.715 \r\nL 138.5025 137.715 \r\nz\r\n\" style=\"fill:#0088ed;\"/>\r\n   </g>\r\n   <g id=\"patch_19\">\r\n    <path clip-path=\"url(#p83c1fb5940)\" d=\"M 138.5025 124.125 \r\nL 281.045571 124.125 \r\nL 281.045571 110.535 \r\nL 138.5025 110.535 \r\nz\r\n\" style=\"fill:#0088ed;\"/>\r\n   </g>\r\n   <g id=\"patch_20\">\r\n    <path clip-path=\"url(#p83c1fb5940)\" d=\"M 138.5025 96.945 \r\nL 281.528359 96.945 \r\nL 281.528359 83.355 \r\nL 138.5025 83.355 \r\nz\r\n\" style=\"fill:#0088ed;\"/>\r\n   </g>\r\n   <g id=\"patch_21\">\r\n    <path clip-path=\"url(#p83c1fb5940)\" d=\"M 138.5025 69.765 \r\nL 577.356528 69.765 \r\nL 577.356528 56.175 \r\nL 138.5025 56.175 \r\nz\r\n\" style=\"fill:#0088ed;\"/>\r\n   </g>\r\n   <g id=\"patch_22\">\r\n    <path clip-path=\"url(#p83c1fb5940)\" d=\"M 138.5025 42.585 \r\nL 669.931071 42.585 \r\nL 669.931071 28.995 \r\nL 138.5025 28.995 \r\nz\r\n\" style=\"fill:#0088ed;\"/>\r\n   </g>\r\n   <g id=\"matplotlib.axis_1\">\r\n    <g id=\"xtick_1\">\r\n     <g id=\"line2d_1\">\r\n      <defs>\r\n       <path d=\"M 0 0 \r\nL 0 3.5 \r\n\" id=\"m1d9f6dc88b\" style=\"stroke:#58544f;stroke-width:0.8;\"/>\r\n      </defs>\r\n      <g>\r\n       <use style=\"fill:#58544f;stroke:#58544f;stroke-width:0.8;\" x=\"138.5025\" xlink:href=\"#m1d9f6dc88b\" y=\"565.8\"/>\r\n      </g>\r\n     </g>\r\n     <g id=\"text_1\">\r\n      <!-- 0 -->\r\n      <g style=\"fill:#58544f;\" transform=\"translate(136.22875 578.8)scale(0.08 -0.08)\">\r\n       <defs>\r\n        <path d=\"M 51.65625 29.9375 \r\nQ 51.65625 14.59375 45.921875 6.796875 \r\nQ 40.1875 -0.984375 28.46875 -0.984375 \r\nQ 16.9375 -0.984375 11.109375 6.609375 \r\nQ 5.28125 14.203125 5.125 29.109375 \r\nL 5.125 41.40625 \r\nQ 5.125 56.734375 10.859375 64.40625 \r\nQ 16.609375 72.078125 28.375 72.078125 \r\nQ 40.046875 72.078125 45.78125 64.59375 \r\nQ 51.515625 57.125 51.65625 42.234375 \r\nz\r\nM 39.796875 43.21875 \r\nQ 39.796875 53.21875 37.0625 57.875 \r\nQ 34.328125 62.546875 28.375 62.546875 \r\nQ 22.5625 62.546875 19.828125 58.125 \r\nQ 17.09375 53.71875 16.9375 44.34375 \r\nL 16.9375 28.21875 \r\nQ 16.9375 18.265625 19.71875 13.375 \r\nQ 22.515625 8.5 28.46875 8.5 \r\nQ 34.1875 8.5 36.921875 13.015625 \r\nQ 39.65625 17.53125 39.796875 27.15625 \r\nz\r\n\" id=\"Roboto-Medium-48\"/>\r\n       </defs>\r\n       <use xlink:href=\"#Roboto-Medium-48\"/>\r\n      </g>\r\n     </g>\r\n    </g>\r\n    <g id=\"xtick_2\">\r\n     <g id=\"line2d_2\">\r\n      <g>\r\n       <use style=\"fill:#58544f;stroke:#58544f;stroke-width:0.8;\" x=\"259.199427\" xlink:href=\"#m1d9f6dc88b\" y=\"565.8\"/>\r\n      </g>\r\n     </g>\r\n     <g id=\"text_2\">\r\n      <!-- 1000 -->\r\n      <g style=\"fill:#58544f;\" transform=\"translate(250.104427 578.8)scale(0.08 -0.08)\">\r\n       <defs>\r\n        <path d=\"M 37.453125 0 \r\nL 25.640625 0 \r\nL 25.640625 57.078125 \r\nL 8.203125 51.125 \r\nL 8.203125 61.140625 \r\nL 35.9375 71.34375 \r\nL 37.453125 71.34375 \r\nz\r\n\" id=\"Roboto-Medium-49\"/>\r\n       </defs>\r\n       <use xlink:href=\"#Roboto-Medium-49\"/>\r\n       <use x=\"56.835938\" xlink:href=\"#Roboto-Medium-48\"/>\r\n       <use x=\"113.671875\" xlink:href=\"#Roboto-Medium-48\"/>\r\n       <use x=\"170.507812\" xlink:href=\"#Roboto-Medium-48\"/>\r\n      </g>\r\n     </g>\r\n    </g>\r\n    <g id=\"xtick_3\">\r\n     <g id=\"line2d_3\">\r\n      <g>\r\n       <use style=\"fill:#58544f;stroke:#58544f;stroke-width:0.8;\" x=\"379.896355\" xlink:href=\"#m1d9f6dc88b\" y=\"565.8\"/>\r\n      </g>\r\n     </g>\r\n     <g id=\"text_3\">\r\n      <!-- 2000 -->\r\n      <g style=\"fill:#58544f;\" transform=\"translate(370.801355 578.8)scale(0.08 -0.08)\">\r\n       <defs>\r\n        <path d=\"M 53.125 0 \r\nL 5.328125 0 \r\nL 5.328125 8.15625 \r\nL 29 33.984375 \r\nQ 34.125 39.703125 36.296875 43.53125 \r\nQ 38.484375 47.359375 38.484375 51.21875 \r\nQ 38.484375 56.296875 35.625 59.421875 \r\nQ 32.765625 62.546875 27.9375 62.546875 \r\nQ 22.171875 62.546875 19 59.03125 \r\nQ 15.828125 55.515625 15.828125 49.421875 \r\nL 3.953125 49.421875 \r\nQ 3.953125 55.90625 6.90625 61.109375 \r\nQ 9.859375 66.3125 15.34375 69.1875 \r\nQ 20.84375 72.078125 28.03125 72.078125 \r\nQ 38.375 72.078125 44.359375 66.875 \r\nQ 50.34375 61.671875 50.34375 52.484375 \r\nQ 50.34375 47.171875 47.34375 41.328125 \r\nQ 44.34375 35.5 37.5 28.078125 \r\nL 20.125 9.46875 \r\nL 53.125 9.46875 \r\nz\r\n\" id=\"Roboto-Medium-50\"/>\r\n       </defs>\r\n       <use xlink:href=\"#Roboto-Medium-50\"/>\r\n       <use x=\"56.835938\" xlink:href=\"#Roboto-Medium-48\"/>\r\n       <use x=\"113.671875\" xlink:href=\"#Roboto-Medium-48\"/>\r\n       <use x=\"170.507812\" xlink:href=\"#Roboto-Medium-48\"/>\r\n      </g>\r\n     </g>\r\n    </g>\r\n    <g id=\"xtick_4\">\r\n     <g id=\"line2d_4\">\r\n      <g>\r\n       <use style=\"fill:#58544f;stroke:#58544f;stroke-width:0.8;\" x=\"500.593282\" xlink:href=\"#m1d9f6dc88b\" y=\"565.8\"/>\r\n      </g>\r\n     </g>\r\n     <g id=\"text_4\">\r\n      <!-- 3000 -->\r\n      <g style=\"fill:#58544f;\" transform=\"translate(491.498282 578.8)scale(0.08 -0.08)\">\r\n       <defs>\r\n        <path d=\"M 19.046875 40.96875 \r\nL 26.265625 40.96875 \r\nQ 31.734375 41.015625 34.9375 43.796875 \r\nQ 38.140625 46.578125 38.140625 51.859375 \r\nQ 38.140625 56.9375 35.46875 59.734375 \r\nQ 32.8125 62.546875 27.34375 62.546875 \r\nQ 22.5625 62.546875 19.484375 59.78125 \r\nQ 16.40625 57.03125 16.40625 52.59375 \r\nL 4.546875 52.59375 \r\nQ 4.546875 58.0625 7.453125 62.546875 \r\nQ 10.359375 67.046875 15.546875 69.5625 \r\nQ 20.75 72.078125 27.203125 72.078125 \r\nQ 37.84375 72.078125 43.921875 66.71875 \r\nQ 50 61.375 50 51.859375 \r\nQ 50 47.078125 46.9375 42.84375 \r\nQ 43.890625 38.625 39.0625 36.46875 \r\nQ 44.921875 34.46875 47.96875 30.171875 \r\nQ 51.03125 25.875 51.03125 19.921875 \r\nQ 51.03125 10.359375 44.453125 4.6875 \r\nQ 37.890625 -0.984375 27.203125 -0.984375 \r\nQ 16.9375 -0.984375 10.390625 4.484375 \r\nQ 3.859375 9.96875 3.859375 19.046875 \r\nL 15.71875 19.046875 \r\nQ 15.71875 14.359375 18.859375 11.421875 \r\nQ 22.015625 8.5 27.34375 8.5 \r\nQ 32.859375 8.5 36.03125 11.421875 \r\nQ 39.203125 14.359375 39.203125 19.921875 \r\nQ 39.203125 25.53125 35.875 28.5625 \r\nQ 32.5625 31.59375 26.03125 31.59375 \r\nL 19.046875 31.59375 \r\nz\r\n\" id=\"Roboto-Medium-51\"/>\r\n       </defs>\r\n       <use xlink:href=\"#Roboto-Medium-51\"/>\r\n       <use x=\"56.835938\" xlink:href=\"#Roboto-Medium-48\"/>\r\n       <use x=\"113.671875\" xlink:href=\"#Roboto-Medium-48\"/>\r\n       <use x=\"170.507812\" xlink:href=\"#Roboto-Medium-48\"/>\r\n      </g>\r\n     </g>\r\n    </g>\r\n    <g id=\"xtick_5\">\r\n     <g id=\"line2d_5\">\r\n      <g>\r\n       <use style=\"fill:#58544f;stroke:#58544f;stroke-width:0.8;\" x=\"621.29021\" xlink:href=\"#m1d9f6dc88b\" y=\"565.8\"/>\r\n      </g>\r\n     </g>\r\n     <g id=\"text_5\">\r\n      <!-- 4000 -->\r\n      <g style=\"fill:#58544f;\" transform=\"translate(612.19521 578.8)scale(0.08 -0.08)\">\r\n       <defs>\r\n        <path d=\"M 45.453125 25.34375 \r\nL 54.296875 25.34375 \r\nL 54.296875 15.828125 \r\nL 45.453125 15.828125 \r\nL 45.453125 0 \r\nL 33.59375 0 \r\nL 33.59375 15.828125 \r\nL 2.875 15.828125 \r\nL 2.546875 23.046875 \r\nL 33.203125 71.09375 \r\nL 45.453125 71.09375 \r\nz\r\nM 14.984375 25.34375 \r\nL 33.59375 25.34375 \r\nL 33.59375 55.03125 \r\nL 32.71875 53.46875 \r\nz\r\n\" id=\"Roboto-Medium-52\"/>\r\n       </defs>\r\n       <use xlink:href=\"#Roboto-Medium-52\"/>\r\n       <use x=\"56.835938\" xlink:href=\"#Roboto-Medium-48\"/>\r\n       <use x=\"113.671875\" xlink:href=\"#Roboto-Medium-48\"/>\r\n       <use x=\"170.507812\" xlink:href=\"#Roboto-Medium-48\"/>\r\n      </g>\r\n     </g>\r\n    </g>\r\n   </g>\r\n   <g id=\"matplotlib.axis_2\">\r\n    <g id=\"ytick_1\">\r\n     <g id=\"line2d_6\">\r\n      <defs>\r\n       <path d=\"M 0 0 \r\nL -3.5 0 \r\n\" id=\"mb01aee610b\" style=\"stroke:#58544f;stroke-width:0.8;\"/>\r\n      </defs>\r\n      <g>\r\n       <use style=\"fill:#58544f;stroke:#58544f;stroke-width:0.8;\" x=\"138.5025\" xlink:href=\"#mb01aee610b\" y=\"552.21\"/>\r\n      </g>\r\n     </g>\r\n     <g id=\"text_6\">\r\n      <!-- buytaert.net -->\r\n      <g style=\"fill:#58544f;\" transform=\"translate(88.26875 555.21)scale(0.08 -0.08)\">\r\n       <defs>\r\n        <path d=\"M 52.4375 25.875 \r\nQ 52.4375 13.578125 46.9375 6.296875 \r\nQ 41.453125 -0.984375 31.84375 -0.984375 \r\nQ 22.5625 -0.984375 17.390625 5.71875 \r\nL 16.796875 0 \r\nL 6.0625 0 \r\nL 6.0625 75 \r\nL 17.921875 75 \r\nL 17.921875 47.75 \r\nQ 23.046875 53.8125 31.734375 53.8125 \r\nQ 41.40625 53.8125 46.921875 46.625 \r\nQ 52.4375 39.453125 52.4375 26.5625 \r\nz\r\nM 40.578125 26.90625 \r\nQ 40.578125 35.5 37.546875 39.796875 \r\nQ 34.515625 44.09375 28.765625 44.09375 \r\nQ 21.046875 44.09375 17.921875 37.359375 \r\nL 17.921875 15.578125 \r\nQ 21.09375 8.6875 28.859375 8.6875 \r\nQ 34.421875 8.6875 37.453125 12.84375 \r\nQ 40.484375 17 40.578125 25.390625 \r\nz\r\n\" id=\"Roboto-Medium-98\"/>\r\n        <path d=\"M 38.09375 5.171875 \r\nQ 32.859375 -0.984375 23.25 -0.984375 \r\nQ 14.65625 -0.984375 10.234375 4.046875 \r\nQ 5.8125 9.078125 5.8125 18.609375 \r\nL 5.8125 52.828125 \r\nL 17.671875 52.828125 \r\nL 17.671875 18.75 \r\nQ 17.671875 8.6875 26.03125 8.6875 \r\nQ 34.671875 8.6875 37.703125 14.890625 \r\nL 37.703125 52.828125 \r\nL 49.5625 52.828125 \r\nL 49.5625 0 \r\nL 38.375 0 \r\nz\r\n\" id=\"Roboto-Medium-117\"/>\r\n        <path d=\"M 24.5625 17 \r\nL 35.296875 52.828125 \r\nL 47.953125 52.828125 \r\nL 26.953125 -8.015625 \r\nQ 22.125 -21.34375 10.546875 -21.34375 \r\nQ 7.953125 -21.34375 4.828125 -20.453125 \r\nL 4.828125 -11.28125 \r\nL 7.078125 -11.421875 \r\nQ 11.578125 -11.421875 13.84375 -9.78125 \r\nQ 16.109375 -8.15625 17.4375 -4.296875 \r\nL 19.140625 0.25 \r\nL 0.59375 52.828125 \r\nL 13.375 52.828125 \r\nz\r\n\" id=\"Roboto-Medium-121\"/>\r\n        <path d=\"M 20.953125 65.671875 \r\nL 20.953125 52.828125 \r\nL 30.28125 52.828125 \r\nL 30.28125 44.046875 \r\nL 20.953125 44.046875 \r\nL 20.953125 14.546875 \r\nQ 20.953125 11.53125 22.140625 10.1875 \r\nQ 23.34375 8.84375 26.421875 8.84375 \r\nQ 28.46875 8.84375 30.5625 9.328125 \r\nL 30.5625 0.140625 \r\nQ 26.515625 -0.984375 22.75 -0.984375 \r\nQ 9.078125 -0.984375 9.078125 14.109375 \r\nL 9.078125 44.046875 \r\nL 0.390625 44.046875 \r\nL 0.390625 52.828125 \r\nL 9.078125 52.828125 \r\nL 9.078125 65.671875 \r\nz\r\n\" id=\"Roboto-Medium-116\"/>\r\n        <path d=\"M 37.640625 0 \r\nQ 36.859375 1.515625 36.28125 4.9375 \r\nQ 30.609375 -0.984375 22.40625 -0.984375 \r\nQ 14.453125 -0.984375 9.421875 3.5625 \r\nQ 4.390625 8.109375 4.390625 14.796875 \r\nQ 4.390625 23.25 10.65625 27.765625 \r\nQ 16.9375 32.28125 28.609375 32.28125 \r\nL 35.890625 32.28125 \r\nL 35.890625 35.75 \r\nQ 35.890625 39.84375 33.59375 42.3125 \r\nQ 31.296875 44.78125 26.609375 44.78125 \r\nQ 22.5625 44.78125 19.96875 42.75 \r\nQ 17.390625 40.71875 17.390625 37.59375 \r\nL 5.515625 37.59375 \r\nQ 5.515625 41.9375 8.390625 45.71875 \r\nQ 11.28125 49.515625 16.234375 51.65625 \r\nQ 21.1875 53.8125 27.296875 53.8125 \r\nQ 36.578125 53.8125 42.09375 49.140625 \r\nQ 47.609375 44.484375 47.75 36.03125 \r\nL 47.75 12.203125 \r\nQ 47.75 5.078125 49.75 0.828125 \r\nL 49.75 0 \r\nz\r\nM 24.609375 8.546875 \r\nQ 28.125 8.546875 31.21875 10.25 \r\nQ 34.328125 11.96875 35.890625 14.84375 \r\nL 35.890625 24.8125 \r\nL 29.5 24.8125 \r\nQ 22.90625 24.8125 19.578125 22.515625 \r\nQ 16.265625 20.21875 16.265625 16.015625 \r\nQ 16.265625 12.59375 18.53125 10.5625 \r\nQ 20.796875 8.546875 24.609375 8.546875 \r\nz\r\n\" id=\"Roboto-Medium-97\"/>\r\n        <path d=\"M 29.34375 -0.984375 \r\nQ 18.0625 -0.984375 11.046875 6.125 \r\nQ 4.046875 13.234375 4.046875 25.046875 \r\nL 4.046875 26.515625 \r\nQ 4.046875 34.421875 7.09375 40.640625 \r\nQ 10.15625 46.875 15.671875 50.34375 \r\nQ 21.1875 53.8125 27.984375 53.8125 \r\nQ 38.765625 53.8125 44.640625 46.921875 \r\nQ 50.53125 40.046875 50.53125 27.4375 \r\nL 50.53125 22.65625 \r\nL 16.015625 22.65625 \r\nQ 16.546875 16.109375 20.375 12.296875 \r\nQ 24.21875 8.5 30.03125 8.5 \r\nQ 38.1875 8.5 43.3125 15.09375 \r\nL 49.703125 8.984375 \r\nQ 46.53125 4.25 41.234375 1.625 \r\nQ 35.9375 -0.984375 29.34375 -0.984375 \r\nz\r\nM 27.9375 44.28125 \r\nQ 23.046875 44.28125 20.046875 40.859375 \r\nQ 17.046875 37.453125 16.21875 31.34375 \r\nL 38.8125 31.34375 \r\nL 38.8125 32.234375 \r\nQ 38.421875 38.1875 35.640625 41.234375 \r\nQ 32.859375 44.28125 27.9375 44.28125 \r\nz\r\n\" id=\"Roboto-Medium-101\"/>\r\n        <path d=\"M 33.734375 42 \r\nQ 31.390625 42.390625 28.90625 42.390625 \r\nQ 20.75 42.390625 17.921875 36.140625 \r\nL 17.921875 0 \r\nL 6.0625 0 \r\nL 6.0625 52.828125 \r\nL 17.390625 52.828125 \r\nL 17.671875 46.921875 \r\nQ 21.96875 53.8125 29.59375 53.8125 \r\nQ 32.125 53.8125 33.796875 53.125 \r\nz\r\n\" id=\"Roboto-Medium-114\"/>\r\n        <path d=\"M 13.484375 12.5 \r\nQ 16.796875 12.5 18.59375 10.609375 \r\nQ 20.40625 8.734375 20.40625 5.90625 \r\nQ 20.40625 3.125 18.59375 1.296875 \r\nQ 16.796875 -0.53125 13.484375 -0.53125 \r\nQ 10.296875 -0.53125 8.4375 1.265625 \r\nQ 6.59375 3.078125 6.59375 5.90625 \r\nQ 6.59375 8.734375 8.390625 10.609375 \r\nQ 10.203125 12.5 13.484375 12.5 \r\nz\r\n\" id=\"Roboto-Medium-46\"/>\r\n        <path d=\"M 17.09375 52.828125 \r\nL 17.4375 46.734375 \r\nQ 23.296875 53.8125 32.8125 53.8125 \r\nQ 49.3125 53.8125 49.609375 34.90625 \r\nL 49.609375 0 \r\nL 37.75 0 \r\nL 37.75 34.234375 \r\nQ 37.75 39.265625 35.578125 41.671875 \r\nQ 33.40625 44.09375 28.46875 44.09375 \r\nQ 21.296875 44.09375 17.78125 37.59375 \r\nL 17.78125 0 \r\nL 5.90625 0 \r\nL 5.90625 52.828125 \r\nz\r\n\" id=\"Roboto-Medium-110\"/>\r\n       </defs>\r\n       <use xlink:href=\"#Roboto-Medium-98\"/>\r\n       <use x=\"56.298828\" xlink:href=\"#Roboto-Medium-117\"/>\r\n       <use x=\"111.865234\" xlink:href=\"#Roboto-Medium-121\"/>\r\n       <use x=\"160.546875\" xlink:href=\"#Roboto-Medium-116\"/>\r\n       <use x=\"193.798828\" xlink:href=\"#Roboto-Medium-97\"/>\r\n       <use x=\"247.900391\" xlink:href=\"#Roboto-Medium-101\"/>\r\n       <use x=\"301.5625\" xlink:href=\"#Roboto-Medium-114\"/>\r\n       <use x=\"336.71875\" xlink:href=\"#Roboto-Medium-116\"/>\r\n       <use x=\"369.970703\" xlink:href=\"#Roboto-Medium-46\"/>\r\n       <use x=\"397.900391\" xlink:href=\"#Roboto-Medium-110\"/>\r\n       <use x=\"453.515625\" xlink:href=\"#Roboto-Medium-101\"/>\r\n       <use x=\"507.177734\" xlink:href=\"#Roboto-Medium-116\"/>\r\n      </g>\r\n     </g>\r\n    </g>\r\n    <g id=\"ytick_2\">\r\n     <g id=\"line2d_7\">\r\n      <g>\r\n       <use style=\"fill:#58544f;stroke:#58544f;stroke-width:0.8;\" x=\"138.5025\" xlink:href=\"#mb01aee610b\" y=\"525.03\"/>\r\n      </g>\r\n     </g>\r\n     <g id=\"text_7\">\r\n      <!-- www.oreilly.com -->\r\n      <g style=\"fill:#58544f;\" transform=\"translate(71.81125 528.03)scale(0.08 -0.08)\">\r\n       <defs>\r\n        <path d=\"M 52.484375 16.359375 \r\nL 60.890625 52.828125 \r\nL 72.46875 52.828125 \r\nL 58.0625 0 \r\nL 48.296875 0 \r\nL 36.96875 36.28125 \r\nL 25.828125 0 \r\nL 16.0625 0 \r\nL 1.609375 52.828125 \r\nL 13.1875 52.828125 \r\nL 21.734375 16.75 \r\nL 32.5625 52.828125 \r\nL 41.5 52.828125 \r\nz\r\n\" id=\"Roboto-Medium-119\"/>\r\n        <path d=\"M 3.859375 26.90625 \r\nQ 3.859375 34.671875 6.9375 40.890625 \r\nQ 10.015625 47.125 15.578125 50.46875 \r\nQ 21.140625 53.8125 28.375 53.8125 \r\nQ 39.0625 53.8125 45.71875 46.921875 \r\nQ 52.390625 40.046875 52.9375 28.65625 \r\nL 52.984375 25.875 \r\nQ 52.984375 18.0625 49.96875 11.90625 \r\nQ 46.96875 5.765625 41.375 2.390625 \r\nQ 35.796875 -0.984375 28.46875 -0.984375 \r\nQ 17.28125 -0.984375 10.5625 6.46875 \r\nQ 3.859375 13.921875 3.859375 26.3125 \r\nz\r\nM 15.71875 25.875 \r\nQ 15.71875 17.71875 19.09375 13.109375 \r\nQ 22.46875 8.5 28.46875 8.5 \r\nQ 34.46875 8.5 37.8125 13.1875 \r\nQ 41.15625 17.875 41.15625 26.90625 \r\nQ 41.15625 34.90625 37.71875 39.59375 \r\nQ 34.28125 44.28125 28.375 44.28125 \r\nQ 22.5625 44.28125 19.140625 39.671875 \r\nQ 15.71875 35.0625 15.71875 25.875 \r\nz\r\n\" id=\"Roboto-Medium-111\"/>\r\n        <path d=\"M 18.703125 0 \r\nL 6.84375 0 \r\nL 6.84375 52.828125 \r\nL 18.703125 52.828125 \r\nz\r\nM 6.109375 66.546875 \r\nQ 6.109375 69.28125 7.84375 71.09375 \r\nQ 9.578125 72.90625 12.796875 72.90625 \r\nQ 16.015625 72.90625 17.765625 71.09375 \r\nQ 19.53125 69.28125 19.53125 66.546875 \r\nQ 19.53125 63.875 17.765625 62.078125 \r\nQ 16.015625 60.296875 12.796875 60.296875 \r\nQ 9.578125 60.296875 7.84375 62.078125 \r\nQ 6.109375 63.875 6.109375 66.546875 \r\nz\r\n\" id=\"Roboto-Medium-105\"/>\r\n        <path d=\"M 18.703125 0 \r\nL 6.84375 0 \r\nL 6.84375 75 \r\nL 18.703125 75 \r\nz\r\n\" id=\"Roboto-Medium-108\"/>\r\n        <path d=\"M 27.78125 8.5 \r\nQ 32.234375 8.5 35.15625 11.078125 \r\nQ 38.09375 13.671875 38.28125 17.484375 \r\nL 49.46875 17.484375 \r\nQ 49.265625 12.546875 46.375 8.265625 \r\nQ 43.5 4 38.5625 1.5 \r\nQ 33.640625 -0.984375 27.9375 -0.984375 \r\nQ 16.84375 -0.984375 10.34375 6.1875 \r\nQ 3.859375 13.375 3.859375 26.03125 \r\nL 3.859375 27.25 \r\nQ 3.859375 39.3125 10.296875 46.5625 \r\nQ 16.75 53.8125 27.875 53.8125 \r\nQ 37.3125 53.8125 43.234375 48.3125 \r\nQ 49.171875 42.828125 49.46875 33.890625 \r\nL 38.28125 33.890625 \r\nQ 38.09375 38.421875 35.1875 41.34375 \r\nQ 32.28125 44.28125 27.78125 44.28125 \r\nQ 22.015625 44.28125 18.890625 40.109375 \r\nQ 15.765625 35.9375 15.71875 27.4375 \r\nL 15.71875 25.53125 \r\nQ 15.71875 16.9375 18.8125 12.71875 \r\nQ 21.921875 8.5 27.78125 8.5 \r\nz\r\n\" id=\"Roboto-Medium-99\"/>\r\n        <path d=\"M 17.234375 52.828125 \r\nL 17.578125 47.3125 \r\nQ 23.140625 53.8125 32.8125 53.8125 \r\nQ 43.40625 53.8125 47.3125 45.703125 \r\nQ 53.078125 53.8125 63.53125 53.8125 \r\nQ 72.265625 53.8125 76.53125 48.96875 \r\nQ 80.8125 44.140625 80.90625 34.71875 \r\nL 80.90625 0 \r\nL 69.046875 0 \r\nL 69.046875 34.375 \r\nQ 69.046875 39.40625 66.84375 41.75 \r\nQ 64.65625 44.09375 59.578125 44.09375 \r\nQ 55.515625 44.09375 52.953125 41.921875 \r\nQ 50.390625 39.75 49.359375 36.234375 \r\nL 49.421875 0 \r\nL 37.546875 0 \r\nL 37.546875 34.765625 \r\nQ 37.3125 44.09375 28.03125 44.09375 \r\nQ 20.90625 44.09375 17.921875 38.28125 \r\nL 17.921875 0 \r\nL 6.0625 0 \r\nL 6.0625 52.828125 \r\nz\r\n\" id=\"Roboto-Medium-109\"/>\r\n       </defs>\r\n       <use xlink:href=\"#Roboto-Medium-119\"/>\r\n       <use x=\"74.316406\" xlink:href=\"#Roboto-Medium-119\"/>\r\n       <use x=\"148.632812\" xlink:href=\"#Roboto-Medium-119\"/>\r\n       <use x=\"222.949219\" xlink:href=\"#Roboto-Medium-46\"/>\r\n       <use x=\"250.878906\" xlink:href=\"#Roboto-Medium-111\"/>\r\n       <use x=\"307.8125\" xlink:href=\"#Roboto-Medium-114\"/>\r\n       <use x=\"342.96875\" xlink:href=\"#Roboto-Medium-101\"/>\r\n       <use x=\"396.630859\" xlink:href=\"#Roboto-Medium-105\"/>\r\n       <use x=\"422.167969\" xlink:href=\"#Roboto-Medium-108\"/>\r\n       <use x=\"447.705078\" xlink:href=\"#Roboto-Medium-108\"/>\r\n       <use x=\"473.242188\" xlink:href=\"#Roboto-Medium-121\"/>\r\n       <use x=\"521.923828\" xlink:href=\"#Roboto-Medium-46\"/>\r\n       <use x=\"549.853516\" xlink:href=\"#Roboto-Medium-99\"/>\r\n       <use x=\"602.197266\" xlink:href=\"#Roboto-Medium-111\"/>\r\n       <use x=\"659.130859\" xlink:href=\"#Roboto-Medium-109\"/>\r\n      </g>\r\n     </g>\r\n    </g>\r\n    <g id=\"ytick_3\">\r\n     <g id=\"line2d_8\">\r\n      <g>\r\n       <use style=\"fill:#58544f;stroke:#58544f;stroke-width:0.8;\" x=\"138.5025\" xlink:href=\"#mb01aee610b\" y=\"497.85\"/>\r\n      </g>\r\n     </g>\r\n     <g id=\"text_8\">\r\n      <!-- www.cnbc.com -->\r\n      <g style=\"fill:#58544f;\" transform=\"translate(76.16625 500.85)scale(0.08 -0.08)\">\r\n       <use xlink:href=\"#Roboto-Medium-119\"/>\r\n       <use x=\"74.316406\" xlink:href=\"#Roboto-Medium-119\"/>\r\n       <use x=\"148.632812\" xlink:href=\"#Roboto-Medium-119\"/>\r\n       <use x=\"222.949219\" xlink:href=\"#Roboto-Medium-46\"/>\r\n       <use x=\"250.878906\" xlink:href=\"#Roboto-Medium-99\"/>\r\n       <use x=\"303.222656\" xlink:href=\"#Roboto-Medium-110\"/>\r\n       <use x=\"358.837891\" xlink:href=\"#Roboto-Medium-98\"/>\r\n       <use x=\"415.136719\" xlink:href=\"#Roboto-Medium-99\"/>\r\n       <use x=\"467.480469\" xlink:href=\"#Roboto-Medium-46\"/>\r\n       <use x=\"495.410156\" xlink:href=\"#Roboto-Medium-99\"/>\r\n       <use x=\"547.753906\" xlink:href=\"#Roboto-Medium-111\"/>\r\n       <use x=\"604.6875\" xlink:href=\"#Roboto-Medium-109\"/>\r\n      </g>\r\n     </g>\r\n    </g>\r\n    <g id=\"ytick_4\">\r\n     <g id=\"line2d_9\">\r\n      <g>\r\n       <use style=\"fill:#58544f;stroke:#58544f;stroke-width:0.8;\" x=\"138.5025\" xlink:href=\"#mb01aee610b\" y=\"470.67\"/>\r\n      </g>\r\n     </g>\r\n     <g id=\"text_9\">\r\n      <!-- www.b9.com.br -->\r\n      <g style=\"fill:#58544f;\" transform=\"translate(74.89125 473.67)scale(0.08 -0.08)\">\r\n       <defs>\r\n        <path d=\"M 38.96875 29.734375 \r\nQ 33.015625 23.4375 25.046875 23.4375 \r\nQ 15.671875 23.4375 10.109375 30 \r\nQ 4.546875 36.578125 4.546875 47.265625 \r\nQ 4.546875 54.296875 7.375 60 \r\nQ 10.203125 65.71875 15.421875 68.890625 \r\nQ 20.65625 72.078125 27.546875 72.078125 \r\nQ 38.28125 72.078125 44.578125 64.0625 \r\nQ 50.875 56.0625 50.875 42.625 \r\nL 50.875 39.3125 \r\nQ 50.875 20.0625 42.1875 9.953125 \r\nQ 33.5 -0.140625 16.265625 -0.296875 \r\nL 14.84375 -0.296875 \r\nL 14.84375 9.515625 \r\nL 16.546875 9.515625 \r\nQ 27.046875 9.671875 32.65625 14.578125 \r\nQ 38.28125 19.484375 38.96875 29.734375 \r\nz\r\nM 27.546875 32.71875 \r\nQ 31.109375 32.71875 34.234375 34.765625 \r\nQ 37.359375 36.8125 39.0625 40.4375 \r\nL 39.0625 45.0625 \r\nQ 39.0625 52.9375 35.84375 57.71875 \r\nQ 32.625 62.5 27.484375 62.5 \r\nQ 22.359375 62.5 19.3125 58.265625 \r\nQ 16.265625 54.046875 16.265625 47.609375 \r\nQ 16.265625 40.921875 19.328125 36.8125 \r\nQ 22.40625 32.71875 27.546875 32.71875 \r\nz\r\n\" id=\"Roboto-Medium-57\"/>\r\n       </defs>\r\n       <use xlink:href=\"#Roboto-Medium-119\"/>\r\n       <use x=\"74.316406\" xlink:href=\"#Roboto-Medium-119\"/>\r\n       <use x=\"148.632812\" xlink:href=\"#Roboto-Medium-119\"/>\r\n       <use x=\"222.949219\" xlink:href=\"#Roboto-Medium-46\"/>\r\n       <use x=\"250.878906\" xlink:href=\"#Roboto-Medium-98\"/>\r\n       <use x=\"307.177734\" xlink:href=\"#Roboto-Medium-57\"/>\r\n       <use x=\"364.013672\" xlink:href=\"#Roboto-Medium-46\"/>\r\n       <use x=\"391.943359\" xlink:href=\"#Roboto-Medium-99\"/>\r\n       <use x=\"444.287109\" xlink:href=\"#Roboto-Medium-111\"/>\r\n       <use x=\"501.220703\" xlink:href=\"#Roboto-Medium-109\"/>\r\n       <use x=\"588.232422\" xlink:href=\"#Roboto-Medium-46\"/>\r\n       <use x=\"616.162109\" xlink:href=\"#Roboto-Medium-98\"/>\r\n       <use x=\"672.460938\" xlink:href=\"#Roboto-Medium-114\"/>\r\n      </g>\r\n     </g>\r\n    </g>\r\n    <g id=\"ytick_5\">\r\n     <g id=\"line2d_10\">\r\n      <g>\r\n       <use style=\"fill:#58544f;stroke:#58544f;stroke-width:0.8;\" x=\"138.5025\" xlink:href=\"#mb01aee610b\" y=\"443.49\"/>\r\n      </g>\r\n     </g>\r\n     <g id=\"text_10\">\r\n      <!-- www.theverge.com -->\r\n      <g style=\"fill:#58544f;\" transform=\"translate(62.21 446.49)scale(0.08 -0.08)\">\r\n       <defs>\r\n        <path d=\"M 17.78125 47.078125 \r\nQ 23.578125 53.8125 32.46875 53.8125 \r\nQ 49.359375 53.8125 49.609375 34.515625 \r\nL 49.609375 0 \r\nL 37.75 0 \r\nL 37.75 34.078125 \r\nQ 37.75 39.546875 35.375 41.8125 \r\nQ 33.015625 44.09375 28.421875 44.09375 \r\nQ 21.296875 44.09375 17.78125 37.75 \r\nL 17.78125 0 \r\nL 5.90625 0 \r\nL 5.90625 75 \r\nL 17.78125 75 \r\nz\r\n\" id=\"Roboto-Medium-104\"/>\r\n        <path d=\"M 24.703125 15.046875 \r\nL 35.890625 52.828125 \r\nL 48.140625 52.828125 \r\nL 29.828125 0 \r\nL 19.53125 0 \r\nL 1.078125 52.828125 \r\nL 13.375 52.828125 \r\nz\r\n\" id=\"Roboto-Medium-118\"/>\r\n        <path d=\"M 4 26.8125 \r\nQ 4 39.109375 9.78125 46.453125 \r\nQ 15.578125 53.8125 25.140625 53.8125 \r\nQ 34.1875 53.8125 39.359375 47.515625 \r\nL 39.890625 52.828125 \r\nL 50.59375 52.828125 \r\nL 50.59375 1.609375 \r\nQ 50.59375 -8.796875 44.109375 -14.796875 \r\nQ 37.640625 -20.796875 26.65625 -20.796875 \r\nQ 20.84375 -20.796875 15.296875 -18.375 \r\nQ 9.765625 -15.96875 6.890625 -12.0625 \r\nL 12.5 -4.9375 \r\nQ 17.96875 -11.421875 25.984375 -11.421875 \r\nQ 31.890625 -11.421875 35.296875 -8.21875 \r\nQ 38.71875 -5.03125 38.71875 1.171875 \r\nL 38.71875 4.734375 \r\nQ 33.59375 -0.984375 25.046875 -0.984375 \r\nQ 15.765625 -0.984375 9.875 6.390625 \r\nQ 4 13.765625 4 26.8125 \r\nz\r\nM 15.828125 25.78125 \r\nQ 15.828125 17.828125 19.0625 13.25 \r\nQ 22.3125 8.6875 28.078125 8.6875 \r\nQ 35.25 8.6875 38.71875 14.84375 \r\nL 38.71875 38.09375 \r\nQ 35.359375 44.09375 28.171875 44.09375 \r\nQ 22.3125 44.09375 19.0625 39.453125 \r\nQ 15.828125 34.8125 15.828125 25.78125 \r\nz\r\n\" id=\"Roboto-Medium-103\"/>\r\n       </defs>\r\n       <use xlink:href=\"#Roboto-Medium-119\"/>\r\n       <use x=\"74.316406\" xlink:href=\"#Roboto-Medium-119\"/>\r\n       <use x=\"148.632812\" xlink:href=\"#Roboto-Medium-119\"/>\r\n       <use x=\"222.949219\" xlink:href=\"#Roboto-Medium-46\"/>\r\n       <use x=\"250.878906\" xlink:href=\"#Roboto-Medium-116\"/>\r\n       <use x=\"284.130859\" xlink:href=\"#Roboto-Medium-104\"/>\r\n       <use x=\"339.648438\" xlink:href=\"#Roboto-Medium-101\"/>\r\n       <use x=\"393.310547\" xlink:href=\"#Roboto-Medium-118\"/>\r\n       <use x=\"442.773438\" xlink:href=\"#Roboto-Medium-101\"/>\r\n       <use x=\"496.435547\" xlink:href=\"#Roboto-Medium-114\"/>\r\n       <use x=\"531.591797\" xlink:href=\"#Roboto-Medium-103\"/>\r\n       <use x=\"588.28125\" xlink:href=\"#Roboto-Medium-101\"/>\r\n       <use x=\"641.943359\" xlink:href=\"#Roboto-Medium-46\"/>\r\n       <use x=\"669.873047\" xlink:href=\"#Roboto-Medium-99\"/>\r\n       <use x=\"722.216797\" xlink:href=\"#Roboto-Medium-111\"/>\r\n       <use x=\"779.150391\" xlink:href=\"#Roboto-Medium-109\"/>\r\n      </g>\r\n     </g>\r\n    </g>\r\n    <g id=\"ytick_6\">\r\n     <g id=\"line2d_11\">\r\n      <g>\r\n       <use style=\"fill:#58544f;stroke:#58544f;stroke-width:0.8;\" x=\"138.5025\" xlink:href=\"#mb01aee610b\" y=\"416.31\"/>\r\n      </g>\r\n     </g>\r\n     <g id=\"text_11\">\r\n      <!-- medium.freecodecamp.com -->\r\n      <g style=\"fill:#58544f;\" transform=\"translate(30.34375 419.35125)scale(0.08 -0.08)\">\r\n       <defs>\r\n        <path d=\"M 3.859375 26.8125 \r\nQ 3.859375 39.015625 9.515625 46.40625 \r\nQ 15.1875 53.8125 24.703125 53.8125 \r\nQ 33.109375 53.8125 38.28125 47.953125 \r\nL 38.28125 75 \r\nL 50.140625 75 \r\nL 50.140625 0 \r\nL 39.40625 0 \r\nL 38.8125 5.46875 \r\nQ 33.5 -0.984375 24.609375 -0.984375 \r\nQ 15.328125 -0.984375 9.59375 6.484375 \r\nQ 3.859375 13.96875 3.859375 26.8125 \r\nz\r\nM 15.71875 25.78125 \r\nQ 15.71875 17.71875 18.8125 13.203125 \r\nQ 21.921875 8.6875 27.640625 8.6875 \r\nQ 34.90625 8.6875 38.28125 15.1875 \r\nL 38.28125 37.75 \r\nQ 35.015625 44.09375 27.734375 44.09375 \r\nQ 21.96875 44.09375 18.84375 39.53125 \r\nQ 15.71875 34.96875 15.71875 25.78125 \r\nz\r\n\" id=\"Roboto-Medium-100\"/>\r\n        <path d=\"M 10.25 0 \r\nL 10.25 44.046875 \r\nL 2.203125 44.046875 \r\nL 2.203125 52.828125 \r\nL 10.25 52.828125 \r\nL 10.25 57.671875 \r\nQ 10.25 66.453125 15.125 71.234375 \r\nQ 20.015625 76.03125 28.8125 76.03125 \r\nQ 31.9375 76.03125 35.453125 75.140625 \r\nL 35.15625 65.875 \r\nQ 33.203125 66.265625 30.609375 66.265625 \r\nQ 22.125 66.265625 22.125 57.515625 \r\nL 22.125 52.828125 \r\nL 32.859375 52.828125 \r\nL 32.859375 44.046875 \r\nL 22.125 44.046875 \r\nL 22.125 0 \r\nz\r\n\" id=\"Roboto-Medium-102\"/>\r\n        <path d=\"M 52.34375 25.875 \r\nQ 52.34375 13.625 46.78125 6.3125 \r\nQ 41.21875 -0.984375 31.84375 -0.984375 \r\nQ 23.140625 -0.984375 17.921875 4.734375 \r\nL 17.921875 -20.3125 \r\nL 6.0625 -20.3125 \r\nL 6.0625 52.828125 \r\nL 17 52.828125 \r\nL 17.484375 47.46875 \r\nQ 22.703125 53.8125 31.6875 53.8125 \r\nQ 41.359375 53.8125 46.84375 46.609375 \r\nQ 52.34375 39.40625 52.34375 26.609375 \r\nz\r\nM 40.53125 26.90625 \r\nQ 40.53125 34.8125 37.375 39.453125 \r\nQ 34.234375 44.09375 28.375 44.09375 \r\nQ 21.09375 44.09375 17.921875 38.09375 \r\nL 17.921875 14.65625 \r\nQ 21.140625 8.5 28.46875 8.5 \r\nQ 34.125 8.5 37.328125 13.0625 \r\nQ 40.53125 17.625 40.53125 26.90625 \r\nz\r\n\" id=\"Roboto-Medium-112\"/>\r\n       </defs>\r\n       <use xlink:href=\"#Roboto-Medium-109\"/>\r\n       <use x=\"87.011719\" xlink:href=\"#Roboto-Medium-101\"/>\r\n       <use x=\"140.673828\" xlink:href=\"#Roboto-Medium-100\"/>\r\n       <use x=\"197.119141\" xlink:href=\"#Roboto-Medium-105\"/>\r\n       <use x=\"222.65625\" xlink:href=\"#Roboto-Medium-117\"/>\r\n       <use x=\"278.222656\" xlink:href=\"#Roboto-Medium-109\"/>\r\n       <use x=\"365.234375\" xlink:href=\"#Roboto-Medium-46\"/>\r\n       <use x=\"393.164062\" xlink:href=\"#Roboto-Medium-102\"/>\r\n       <use x=\"428.613281\" xlink:href=\"#Roboto-Medium-114\"/>\r\n       <use x=\"463.769531\" xlink:href=\"#Roboto-Medium-101\"/>\r\n       <use x=\"517.431641\" xlink:href=\"#Roboto-Medium-101\"/>\r\n       <use x=\"571.09375\" xlink:href=\"#Roboto-Medium-99\"/>\r\n       <use x=\"623.4375\" xlink:href=\"#Roboto-Medium-111\"/>\r\n       <use x=\"680.371094\" xlink:href=\"#Roboto-Medium-100\"/>\r\n       <use x=\"736.816406\" xlink:href=\"#Roboto-Medium-101\"/>\r\n       <use x=\"790.478516\" xlink:href=\"#Roboto-Medium-99\"/>\r\n       <use x=\"842.822266\" xlink:href=\"#Roboto-Medium-97\"/>\r\n       <use x=\"896.923828\" xlink:href=\"#Roboto-Medium-109\"/>\r\n       <use x=\"983.935547\" xlink:href=\"#Roboto-Medium-112\"/>\r\n       <use x=\"1040.234375\" xlink:href=\"#Roboto-Medium-46\"/>\r\n       <use x=\"1068.164062\" xlink:href=\"#Roboto-Medium-99\"/>\r\n       <use x=\"1120.507812\" xlink:href=\"#Roboto-Medium-111\"/>\r\n       <use x=\"1177.441406\" xlink:href=\"#Roboto-Medium-109\"/>\r\n      </g>\r\n     </g>\r\n    </g>\r\n    <g id=\"ytick_7\">\r\n     <g id=\"line2d_12\">\r\n      <g>\r\n       <use style=\"fill:#58544f;stroke:#58544f;stroke-width:0.8;\" x=\"138.5025\" xlink:href=\"#mb01aee610b\" y=\"389.13\"/>\r\n      </g>\r\n     </g>\r\n     <g id=\"text_12\">\r\n      <!-- www.wired.com -->\r\n      <g style=\"fill:#58544f;\" transform=\"translate(73.885 392.13)scale(0.08 -0.08)\">\r\n       <use xlink:href=\"#Roboto-Medium-119\"/>\r\n       <use x=\"74.316406\" xlink:href=\"#Roboto-Medium-119\"/>\r\n       <use x=\"148.632812\" xlink:href=\"#Roboto-Medium-119\"/>\r\n       <use x=\"222.949219\" xlink:href=\"#Roboto-Medium-46\"/>\r\n       <use x=\"250.878906\" xlink:href=\"#Roboto-Medium-119\"/>\r\n       <use x=\"325.195312\" xlink:href=\"#Roboto-Medium-105\"/>\r\n       <use x=\"350.732422\" xlink:href=\"#Roboto-Medium-114\"/>\r\n       <use x=\"385.888672\" xlink:href=\"#Roboto-Medium-101\"/>\r\n       <use x=\"439.550781\" xlink:href=\"#Roboto-Medium-100\"/>\r\n       <use x=\"495.996094\" xlink:href=\"#Roboto-Medium-46\"/>\r\n       <use x=\"523.925781\" xlink:href=\"#Roboto-Medium-99\"/>\r\n       <use x=\"576.269531\" xlink:href=\"#Roboto-Medium-111\"/>\r\n       <use x=\"633.203125\" xlink:href=\"#Roboto-Medium-109\"/>\r\n      </g>\r\n     </g>\r\n    </g>\r\n    <g id=\"ytick_8\">\r\n     <g id=\"line2d_13\">\r\n      <g>\r\n       <use style=\"fill:#58544f;stroke:#58544f;stroke-width:0.8;\" x=\"138.5025\" xlink:href=\"#mb01aee610b\" y=\"361.95\"/>\r\n      </g>\r\n     </g>\r\n     <g id=\"text_13\">\r\n      <!-- computerworld.com.br -->\r\n      <g style=\"fill:#58544f;\" transform=\"translate(49.72375 364.95)scale(0.08 -0.08)\">\r\n       <use xlink:href=\"#Roboto-Medium-99\"/>\r\n       <use x=\"52.34375\" xlink:href=\"#Roboto-Medium-111\"/>\r\n       <use x=\"109.277344\" xlink:href=\"#Roboto-Medium-109\"/>\r\n       <use x=\"196.289062\" xlink:href=\"#Roboto-Medium-112\"/>\r\n       <use x=\"252.587891\" xlink:href=\"#Roboto-Medium-117\"/>\r\n       <use x=\"308.154297\" xlink:href=\"#Roboto-Medium-116\"/>\r\n       <use x=\"341.40625\" xlink:href=\"#Roboto-Medium-101\"/>\r\n       <use x=\"395.068359\" xlink:href=\"#Roboto-Medium-114\"/>\r\n       <use x=\"430.224609\" xlink:href=\"#Roboto-Medium-119\"/>\r\n       <use x=\"504.541016\" xlink:href=\"#Roboto-Medium-111\"/>\r\n       <use x=\"561.474609\" xlink:href=\"#Roboto-Medium-114\"/>\r\n       <use x=\"596.630859\" xlink:href=\"#Roboto-Medium-108\"/>\r\n       <use x=\"622.167969\" xlink:href=\"#Roboto-Medium-100\"/>\r\n       <use x=\"678.613281\" xlink:href=\"#Roboto-Medium-46\"/>\r\n       <use x=\"706.542969\" xlink:href=\"#Roboto-Medium-99\"/>\r\n       <use x=\"758.886719\" xlink:href=\"#Roboto-Medium-111\"/>\r\n       <use x=\"815.820312\" xlink:href=\"#Roboto-Medium-109\"/>\r\n       <use x=\"902.832031\" xlink:href=\"#Roboto-Medium-46\"/>\r\n       <use x=\"930.761719\" xlink:href=\"#Roboto-Medium-98\"/>\r\n       <use x=\"987.060547\" xlink:href=\"#Roboto-Medium-114\"/>\r\n      </g>\r\n     </g>\r\n    </g>\r\n    <g id=\"ytick_9\">\r\n     <g id=\"line2d_14\">\r\n      <g>\r\n       <use style=\"fill:#58544f;stroke:#58544f;stroke-width:0.8;\" x=\"138.5025\" xlink:href=\"#mb01aee610b\" y=\"334.77\"/>\r\n      </g>\r\n     </g>\r\n     <g id=\"text_14\">\r\n      <!-- venturebeat.com -->\r\n      <g style=\"fill:#58544f;\" transform=\"translate(70.87 337.77)scale(0.08 -0.08)\">\r\n       <use xlink:href=\"#Roboto-Medium-118\"/>\r\n       <use x=\"49.462891\" xlink:href=\"#Roboto-Medium-101\"/>\r\n       <use x=\"103.125\" xlink:href=\"#Roboto-Medium-110\"/>\r\n       <use x=\"158.740234\" xlink:href=\"#Roboto-Medium-116\"/>\r\n       <use x=\"191.992188\" xlink:href=\"#Roboto-Medium-117\"/>\r\n       <use x=\"247.558594\" xlink:href=\"#Roboto-Medium-114\"/>\r\n       <use x=\"282.714844\" xlink:href=\"#Roboto-Medium-101\"/>\r\n       <use x=\"336.376953\" xlink:href=\"#Roboto-Medium-98\"/>\r\n       <use x=\"392.675781\" xlink:href=\"#Roboto-Medium-101\"/>\r\n       <use x=\"446.337891\" xlink:href=\"#Roboto-Medium-97\"/>\r\n       <use x=\"500.439453\" xlink:href=\"#Roboto-Medium-116\"/>\r\n       <use x=\"533.691406\" xlink:href=\"#Roboto-Medium-46\"/>\r\n       <use x=\"561.621094\" xlink:href=\"#Roboto-Medium-99\"/>\r\n       <use x=\"613.964844\" xlink:href=\"#Roboto-Medium-111\"/>\r\n       <use x=\"670.898438\" xlink:href=\"#Roboto-Medium-109\"/>\r\n      </g>\r\n     </g>\r\n    </g>\r\n    <g id=\"ytick_10\">\r\n     <g id=\"line2d_15\">\r\n      <g>\r\n       <use style=\"fill:#58544f;stroke:#58544f;stroke-width:0.8;\" x=\"138.5025\" xlink:href=\"#mb01aee610b\" y=\"307.59\"/>\r\n      </g>\r\n     </g>\r\n     <g id=\"text_15\">\r\n      <!-- www.linkedin.com -->\r\n      <g style=\"fill:#58544f;\" transform=\"translate(65.48375 310.59)scale(0.08 -0.08)\">\r\n       <defs>\r\n        <path d=\"M 23.25 22.65625 \r\nL 17.96875 17.234375 \r\nL 17.96875 0 \r\nL 6.109375 0 \r\nL 6.109375 75 \r\nL 17.96875 75 \r\nL 17.96875 31.734375 \r\nL 21.6875 36.375 \r\nL 36.28125 52.828125 \r\nL 50.53125 52.828125 \r\nL 30.90625 30.8125 \r\nL 52.640625 0 \r\nL 38.921875 0 \r\nz\r\n\" id=\"Roboto-Medium-107\"/>\r\n       </defs>\r\n       <use xlink:href=\"#Roboto-Medium-119\"/>\r\n       <use x=\"74.316406\" xlink:href=\"#Roboto-Medium-119\"/>\r\n       <use x=\"148.632812\" xlink:href=\"#Roboto-Medium-119\"/>\r\n       <use x=\"222.949219\" xlink:href=\"#Roboto-Medium-46\"/>\r\n       <use x=\"250.878906\" xlink:href=\"#Roboto-Medium-108\"/>\r\n       <use x=\"276.416016\" xlink:href=\"#Roboto-Medium-105\"/>\r\n       <use x=\"301.953125\" xlink:href=\"#Roboto-Medium-110\"/>\r\n       <use x=\"357.568359\" xlink:href=\"#Roboto-Medium-107\"/>\r\n       <use x=\"409.765625\" xlink:href=\"#Roboto-Medium-101\"/>\r\n       <use x=\"463.427734\" xlink:href=\"#Roboto-Medium-100\"/>\r\n       <use x=\"519.873047\" xlink:href=\"#Roboto-Medium-105\"/>\r\n       <use x=\"545.410156\" xlink:href=\"#Roboto-Medium-110\"/>\r\n       <use x=\"601.025391\" xlink:href=\"#Roboto-Medium-46\"/>\r\n       <use x=\"628.955078\" xlink:href=\"#Roboto-Medium-99\"/>\r\n       <use x=\"681.298828\" xlink:href=\"#Roboto-Medium-111\"/>\r\n       <use x=\"738.232422\" xlink:href=\"#Roboto-Medium-109\"/>\r\n      </g>\r\n     </g>\r\n    </g>\r\n    <g id=\"ytick_11\">\r\n     <g id=\"line2d_16\">\r\n      <g>\r\n       <use style=\"fill:#58544f;stroke:#58544f;stroke-width:0.8;\" x=\"138.5025\" xlink:href=\"#mb01aee610b\" y=\"280.41\"/>\r\n      </g>\r\n     </g>\r\n     <g id=\"text_16\">\r\n      <!-- hbr.org -->\r\n      <g style=\"fill:#58544f;\" transform=\"translate(105.6075 283.41)scale(0.08 -0.08)\">\r\n       <use xlink:href=\"#Roboto-Medium-104\"/>\r\n       <use x=\"55.517578\" xlink:href=\"#Roboto-Medium-98\"/>\r\n       <use x=\"111.816406\" xlink:href=\"#Roboto-Medium-114\"/>\r\n       <use x=\"146.972656\" xlink:href=\"#Roboto-Medium-46\"/>\r\n       <use x=\"174.902344\" xlink:href=\"#Roboto-Medium-111\"/>\r\n       <use x=\"231.835938\" xlink:href=\"#Roboto-Medium-114\"/>\r\n       <use x=\"266.992188\" xlink:href=\"#Roboto-Medium-103\"/>\r\n      </g>\r\n     </g>\r\n    </g>\r\n    <g id=\"ytick_12\">\r\n     <g id=\"line2d_17\">\r\n      <g>\r\n       <use style=\"fill:#58544f;stroke:#58544f;stroke-width:0.8;\" x=\"138.5025\" xlink:href=\"#mb01aee610b\" y=\"253.23\"/>\r\n      </g>\r\n     </g>\r\n     <g id=\"text_17\">\r\n      <!-- startupi.com.br -->\r\n      <g style=\"fill:#58544f;\" transform=\"translate(76.43125 256.23)scale(0.08 -0.08)\">\r\n       <defs>\r\n        <path d=\"M 35.6875 14.359375 \r\nQ 35.6875 17.53125 33.078125 19.1875 \r\nQ 30.46875 20.84375 24.40625 22.109375 \r\nQ 18.359375 23.390625 14.3125 25.34375 \r\nQ 5.421875 29.640625 5.421875 37.796875 \r\nQ 5.421875 44.625 11.171875 49.21875 \r\nQ 16.9375 53.8125 25.828125 53.8125 \r\nQ 35.296875 53.8125 41.125 49.125 \r\nQ 46.96875 44.4375 46.96875 36.96875 \r\nL 35.109375 36.96875 \r\nQ 35.109375 40.375 32.5625 42.640625 \r\nQ 30.03125 44.921875 25.828125 44.921875 \r\nQ 21.921875 44.921875 19.453125 43.109375 \r\nQ 17 41.3125 17 38.28125 \r\nQ 17 35.546875 19.28125 34.03125 \r\nQ 21.578125 32.515625 28.5625 30.96875 \r\nQ 35.546875 29.4375 39.515625 27.3125 \r\nQ 43.5 25.203125 45.421875 22.21875 \r\nQ 47.359375 19.234375 47.359375 14.984375 \r\nQ 47.359375 7.859375 41.453125 3.4375 \r\nQ 35.546875 -0.984375 25.984375 -0.984375 \r\nQ 19.484375 -0.984375 14.40625 1.359375 \r\nQ 9.328125 3.71875 6.484375 7.8125 \r\nQ 3.65625 11.921875 3.65625 16.65625 \r\nL 15.1875 16.65625 \r\nQ 15.4375 12.453125 18.359375 10.171875 \r\nQ 21.296875 7.90625 26.125 7.90625 \r\nQ 30.8125 7.90625 33.25 9.6875 \r\nQ 35.6875 11.46875 35.6875 14.359375 \r\nz\r\n\" id=\"Roboto-Medium-115\"/>\r\n       </defs>\r\n       <use xlink:href=\"#Roboto-Medium-115\"/>\r\n       <use x=\"51.611328\" xlink:href=\"#Roboto-Medium-116\"/>\r\n       <use x=\"84.863281\" xlink:href=\"#Roboto-Medium-97\"/>\r\n       <use x=\"138.964844\" xlink:href=\"#Roboto-Medium-114\"/>\r\n       <use x=\"174.121094\" xlink:href=\"#Roboto-Medium-116\"/>\r\n       <use x=\"207.373047\" xlink:href=\"#Roboto-Medium-117\"/>\r\n       <use x=\"262.939453\" xlink:href=\"#Roboto-Medium-112\"/>\r\n       <use x=\"319.238281\" xlink:href=\"#Roboto-Medium-105\"/>\r\n       <use x=\"344.775391\" xlink:href=\"#Roboto-Medium-46\"/>\r\n       <use x=\"372.705078\" xlink:href=\"#Roboto-Medium-99\"/>\r\n       <use x=\"425.048828\" xlink:href=\"#Roboto-Medium-111\"/>\r\n       <use x=\"481.982422\" xlink:href=\"#Roboto-Medium-109\"/>\r\n       <use x=\"568.994141\" xlink:href=\"#Roboto-Medium-46\"/>\r\n       <use x=\"596.923828\" xlink:href=\"#Roboto-Medium-98\"/>\r\n       <use x=\"653.222656\" xlink:href=\"#Roboto-Medium-114\"/>\r\n      </g>\r\n     </g>\r\n    </g>\r\n    <g id=\"ytick_13\">\r\n     <g id=\"line2d_18\">\r\n      <g>\r\n       <use style=\"fill:#58544f;stroke:#58544f;stroke-width:0.8;\" x=\"138.5025\" xlink:href=\"#mb01aee610b\" y=\"226.05\"/>\r\n      </g>\r\n     </g>\r\n     <g id=\"text_18\">\r\n      <!-- www.businessinsider.com -->\r\n      <g style=\"fill:#58544f;\" transform=\"translate(37.09125 229.05)scale(0.08 -0.08)\">\r\n       <use xlink:href=\"#Roboto-Medium-119\"/>\r\n       <use x=\"74.316406\" xlink:href=\"#Roboto-Medium-119\"/>\r\n       <use x=\"148.632812\" xlink:href=\"#Roboto-Medium-119\"/>\r\n       <use x=\"222.949219\" xlink:href=\"#Roboto-Medium-46\"/>\r\n       <use x=\"250.878906\" xlink:href=\"#Roboto-Medium-98\"/>\r\n       <use x=\"307.177734\" xlink:href=\"#Roboto-Medium-117\"/>\r\n       <use x=\"362.744141\" xlink:href=\"#Roboto-Medium-115\"/>\r\n       <use x=\"414.355469\" xlink:href=\"#Roboto-Medium-105\"/>\r\n       <use x=\"439.892578\" xlink:href=\"#Roboto-Medium-110\"/>\r\n       <use x=\"495.507812\" xlink:href=\"#Roboto-Medium-101\"/>\r\n       <use x=\"549.169922\" xlink:href=\"#Roboto-Medium-115\"/>\r\n       <use x=\"600.78125\" xlink:href=\"#Roboto-Medium-115\"/>\r\n       <use x=\"652.392578\" xlink:href=\"#Roboto-Medium-105\"/>\r\n       <use x=\"677.929688\" xlink:href=\"#Roboto-Medium-110\"/>\r\n       <use x=\"733.544922\" xlink:href=\"#Roboto-Medium-115\"/>\r\n       <use x=\"785.15625\" xlink:href=\"#Roboto-Medium-105\"/>\r\n       <use x=\"810.693359\" xlink:href=\"#Roboto-Medium-100\"/>\r\n       <use x=\"867.138672\" xlink:href=\"#Roboto-Medium-101\"/>\r\n       <use x=\"920.800781\" xlink:href=\"#Roboto-Medium-114\"/>\r\n       <use x=\"955.957031\" xlink:href=\"#Roboto-Medium-46\"/>\r\n       <use x=\"983.886719\" xlink:href=\"#Roboto-Medium-99\"/>\r\n       <use x=\"1036.230469\" xlink:href=\"#Roboto-Medium-111\"/>\r\n       <use x=\"1093.164062\" xlink:href=\"#Roboto-Medium-109\"/>\r\n      </g>\r\n     </g>\r\n    </g>\r\n    <g id=\"ytick_14\">\r\n     <g id=\"line2d_19\">\r\n      <g>\r\n       <use style=\"fill:#58544f;stroke:#58544f;stroke-width:0.8;\" x=\"138.5025\" xlink:href=\"#mb01aee610b\" y=\"198.87\"/>\r\n      </g>\r\n     </g>\r\n     <g id=\"text_19\">\r\n      <!-- exame.abril.com.br -->\r\n      <g style=\"fill:#58544f;\" transform=\"translate(62.14875 201.87)scale(0.08 -0.08)\">\r\n       <defs>\r\n        <path d=\"M 25.046875 35.453125 \r\nL 35.109375 52.828125 \r\nL 48.296875 52.828125 \r\nL 32.125 26.8125 \r\nL 48.828125 0 \r\nL 35.75 0 \r\nL 25.203125 18.0625 \r\nL 14.703125 0 \r\nL 1.515625 0 \r\nL 18.21875 26.8125 \r\nL 2.09375 52.828125 \r\nL 15.1875 52.828125 \r\nz\r\n\" id=\"Roboto-Medium-120\"/>\r\n       </defs>\r\n       <use xlink:href=\"#Roboto-Medium-101\"/>\r\n       <use x=\"53.662109\" xlink:href=\"#Roboto-Medium-120\"/>\r\n       <use x=\"103.955078\" xlink:href=\"#Roboto-Medium-97\"/>\r\n       <use x=\"158.056641\" xlink:href=\"#Roboto-Medium-109\"/>\r\n       <use x=\"245.068359\" xlink:href=\"#Roboto-Medium-101\"/>\r\n       <use x=\"298.730469\" xlink:href=\"#Roboto-Medium-46\"/>\r\n       <use x=\"326.660156\" xlink:href=\"#Roboto-Medium-97\"/>\r\n       <use x=\"380.761719\" xlink:href=\"#Roboto-Medium-98\"/>\r\n       <use x=\"437.060547\" xlink:href=\"#Roboto-Medium-114\"/>\r\n       <use x=\"472.216797\" xlink:href=\"#Roboto-Medium-105\"/>\r\n       <use x=\"497.753906\" xlink:href=\"#Roboto-Medium-108\"/>\r\n       <use x=\"523.291016\" xlink:href=\"#Roboto-Medium-46\"/>\r\n       <use x=\"551.220703\" xlink:href=\"#Roboto-Medium-99\"/>\r\n       <use x=\"603.564453\" xlink:href=\"#Roboto-Medium-111\"/>\r\n       <use x=\"660.498047\" xlink:href=\"#Roboto-Medium-109\"/>\r\n       <use x=\"747.509766\" xlink:href=\"#Roboto-Medium-46\"/>\r\n       <use x=\"775.439453\" xlink:href=\"#Roboto-Medium-98\"/>\r\n       <use x=\"831.738281\" xlink:href=\"#Roboto-Medium-114\"/>\r\n      </g>\r\n     </g>\r\n    </g>\r\n    <g id=\"ytick_15\">\r\n     <g id=\"line2d_20\">\r\n      <g>\r\n       <use style=\"fill:#58544f;stroke:#58544f;stroke-width:0.8;\" x=\"138.5025\" xlink:href=\"#mb01aee610b\" y=\"171.69\"/>\r\n      </g>\r\n     </g>\r\n     <g id=\"text_20\">\r\n      <!-- cloudplatform.googleblog.com -->\r\n      <g style=\"fill:#58544f;\" transform=\"translate(20.73125 174.73125)scale(0.08 -0.08)\">\r\n       <use xlink:href=\"#Roboto-Medium-99\"/>\r\n       <use x=\"52.34375\" xlink:href=\"#Roboto-Medium-108\"/>\r\n       <use x=\"77.880859\" xlink:href=\"#Roboto-Medium-111\"/>\r\n       <use x=\"134.814453\" xlink:href=\"#Roboto-Medium-117\"/>\r\n       <use x=\"190.380859\" xlink:href=\"#Roboto-Medium-100\"/>\r\n       <use x=\"246.826172\" xlink:href=\"#Roboto-Medium-112\"/>\r\n       <use x=\"303.125\" xlink:href=\"#Roboto-Medium-108\"/>\r\n       <use x=\"328.662109\" xlink:href=\"#Roboto-Medium-97\"/>\r\n       <use x=\"382.763672\" xlink:href=\"#Roboto-Medium-116\"/>\r\n       <use x=\"416.015625\" xlink:href=\"#Roboto-Medium-102\"/>\r\n       <use x=\"451.464844\" xlink:href=\"#Roboto-Medium-111\"/>\r\n       <use x=\"508.398438\" xlink:href=\"#Roboto-Medium-114\"/>\r\n       <use x=\"543.554688\" xlink:href=\"#Roboto-Medium-109\"/>\r\n       <use x=\"630.566406\" xlink:href=\"#Roboto-Medium-46\"/>\r\n       <use x=\"658.496094\" xlink:href=\"#Roboto-Medium-103\"/>\r\n       <use x=\"715.185547\" xlink:href=\"#Roboto-Medium-111\"/>\r\n       <use x=\"772.119141\" xlink:href=\"#Roboto-Medium-111\"/>\r\n       <use x=\"829.052734\" xlink:href=\"#Roboto-Medium-103\"/>\r\n       <use x=\"885.742188\" xlink:href=\"#Roboto-Medium-108\"/>\r\n       <use x=\"911.279297\" xlink:href=\"#Roboto-Medium-101\"/>\r\n       <use x=\"964.941406\" xlink:href=\"#Roboto-Medium-98\"/>\r\n       <use x=\"1021.240234\" xlink:href=\"#Roboto-Medium-108\"/>\r\n       <use x=\"1046.777344\" xlink:href=\"#Roboto-Medium-111\"/>\r\n       <use x=\"1103.710938\" xlink:href=\"#Roboto-Medium-103\"/>\r\n       <use x=\"1160.400391\" xlink:href=\"#Roboto-Medium-46\"/>\r\n       <use x=\"1188.330078\" xlink:href=\"#Roboto-Medium-99\"/>\r\n       <use x=\"1240.673828\" xlink:href=\"#Roboto-Medium-111\"/>\r\n       <use x=\"1297.607422\" xlink:href=\"#Roboto-Medium-109\"/>\r\n      </g>\r\n     </g>\r\n    </g>\r\n    <g id=\"ytick_16\">\r\n     <g id=\"line2d_21\">\r\n      <g>\r\n       <use style=\"fill:#58544f;stroke:#58544f;stroke-width:0.8;\" x=\"138.5025\" xlink:href=\"#mb01aee610b\" y=\"144.51\"/>\r\n      </g>\r\n     </g>\r\n     <g id=\"text_21\">\r\n      <!-- www.infoq.com -->\r\n      <g style=\"fill:#58544f;\" transform=\"translate(75.06875 147.55125)scale(0.08 -0.08)\">\r\n       <defs>\r\n        <path d=\"M 3.859375 26.859375 \r\nQ 3.859375 39.265625 9.515625 46.53125 \r\nQ 15.1875 53.8125 24.859375 53.8125 \r\nQ 33.6875 53.8125 38.875 47.609375 \r\nL 39.546875 52.828125 \r\nL 50.09375 52.828125 \r\nL 50.09375 -20.3125 \r\nL 38.234375 -20.3125 \r\nL 38.234375 4.5 \r\nQ 33.0625 -0.984375 24.75 -0.984375 \r\nQ 15.28125 -0.984375 9.5625 6.40625 \r\nQ 3.859375 13.8125 3.859375 26.859375 \r\nz\r\nM 15.71875 25.828125 \r\nQ 15.71875 17.71875 18.921875 13.109375 \r\nQ 22.125 8.5 27.78125 8.5 \r\nQ 34.8125 8.5 38.234375 14.5 \r\nL 38.234375 38.53125 \r\nQ 34.8125 44.28125 27.875 44.28125 \r\nQ 22.21875 44.28125 18.96875 39.734375 \r\nQ 15.71875 35.203125 15.71875 25.828125 \r\nz\r\n\" id=\"Roboto-Medium-113\"/>\r\n       </defs>\r\n       <use xlink:href=\"#Roboto-Medium-119\"/>\r\n       <use x=\"74.316406\" xlink:href=\"#Roboto-Medium-119\"/>\r\n       <use x=\"148.632812\" xlink:href=\"#Roboto-Medium-119\"/>\r\n       <use x=\"222.949219\" xlink:href=\"#Roboto-Medium-46\"/>\r\n       <use x=\"250.878906\" xlink:href=\"#Roboto-Medium-105\"/>\r\n       <use x=\"276.416016\" xlink:href=\"#Roboto-Medium-110\"/>\r\n       <use x=\"332.03125\" xlink:href=\"#Roboto-Medium-102\"/>\r\n       <use x=\"367.480469\" xlink:href=\"#Roboto-Medium-111\"/>\r\n       <use x=\"424.414062\" xlink:href=\"#Roboto-Medium-113\"/>\r\n       <use x=\"481.201172\" xlink:href=\"#Roboto-Medium-46\"/>\r\n       <use x=\"509.130859\" xlink:href=\"#Roboto-Medium-99\"/>\r\n       <use x=\"561.474609\" xlink:href=\"#Roboto-Medium-111\"/>\r\n       <use x=\"618.408203\" xlink:href=\"#Roboto-Medium-109\"/>\r\n      </g>\r\n     </g>\r\n    </g>\r\n    <g id=\"ytick_17\">\r\n     <g id=\"line2d_22\">\r\n      <g>\r\n       <use style=\"fill:#58544f;stroke:#58544f;stroke-width:0.8;\" x=\"138.5025\" xlink:href=\"#mb01aee610b\" y=\"117.33\"/>\r\n      </g>\r\n     </g>\r\n     <g id=\"text_22\">\r\n      <!-- www.mckinsey.com -->\r\n      <g style=\"fill:#58544f;\" transform=\"translate(59.36125 120.33)scale(0.08 -0.08)\">\r\n       <use xlink:href=\"#Roboto-Medium-119\"/>\r\n       <use x=\"74.316406\" xlink:href=\"#Roboto-Medium-119\"/>\r\n       <use x=\"148.632812\" xlink:href=\"#Roboto-Medium-119\"/>\r\n       <use x=\"222.949219\" xlink:href=\"#Roboto-Medium-46\"/>\r\n       <use x=\"250.878906\" xlink:href=\"#Roboto-Medium-109\"/>\r\n       <use x=\"337.890625\" xlink:href=\"#Roboto-Medium-99\"/>\r\n       <use x=\"390.234375\" xlink:href=\"#Roboto-Medium-107\"/>\r\n       <use x=\"442.431641\" xlink:href=\"#Roboto-Medium-105\"/>\r\n       <use x=\"467.96875\" xlink:href=\"#Roboto-Medium-110\"/>\r\n       <use x=\"523.583984\" xlink:href=\"#Roboto-Medium-115\"/>\r\n       <use x=\"575.195312\" xlink:href=\"#Roboto-Medium-101\"/>\r\n       <use x=\"628.857422\" xlink:href=\"#Roboto-Medium-121\"/>\r\n       <use x=\"677.539062\" xlink:href=\"#Roboto-Medium-46\"/>\r\n       <use x=\"705.46875\" xlink:href=\"#Roboto-Medium-99\"/>\r\n       <use x=\"757.8125\" xlink:href=\"#Roboto-Medium-111\"/>\r\n       <use x=\"814.746094\" xlink:href=\"#Roboto-Medium-109\"/>\r\n      </g>\r\n     </g>\r\n    </g>\r\n    <g id=\"ytick_18\">\r\n     <g id=\"line2d_23\">\r\n      <g>\r\n       <use style=\"fill:#58544f;stroke:#58544f;stroke-width:0.8;\" x=\"138.5025\" xlink:href=\"#mb01aee610b\" y=\"90.15\"/>\r\n      </g>\r\n     </g>\r\n     <g id=\"text_23\">\r\n      <!-- googlediscovery.com -->\r\n      <g style=\"fill:#58544f;\" transform=\"translate(54.66125 93.15)scale(0.08 -0.08)\">\r\n       <use xlink:href=\"#Roboto-Medium-103\"/>\r\n       <use x=\"56.689453\" xlink:href=\"#Roboto-Medium-111\"/>\r\n       <use x=\"113.623047\" xlink:href=\"#Roboto-Medium-111\"/>\r\n       <use x=\"170.556641\" xlink:href=\"#Roboto-Medium-103\"/>\r\n       <use x=\"227.246094\" xlink:href=\"#Roboto-Medium-108\"/>\r\n       <use x=\"252.783203\" xlink:href=\"#Roboto-Medium-101\"/>\r\n       <use x=\"306.445312\" xlink:href=\"#Roboto-Medium-100\"/>\r\n       <use x=\"362.890625\" xlink:href=\"#Roboto-Medium-105\"/>\r\n       <use x=\"388.427734\" xlink:href=\"#Roboto-Medium-115\"/>\r\n       <use x=\"440.039062\" xlink:href=\"#Roboto-Medium-99\"/>\r\n       <use x=\"492.382812\" xlink:href=\"#Roboto-Medium-111\"/>\r\n       <use x=\"549.316406\" xlink:href=\"#Roboto-Medium-118\"/>\r\n       <use x=\"598.779297\" xlink:href=\"#Roboto-Medium-101\"/>\r\n       <use x=\"652.441406\" xlink:href=\"#Roboto-Medium-114\"/>\r\n       <use x=\"687.597656\" xlink:href=\"#Roboto-Medium-121\"/>\r\n       <use x=\"736.279297\" xlink:href=\"#Roboto-Medium-46\"/>\r\n       <use x=\"764.208984\" xlink:href=\"#Roboto-Medium-99\"/>\r\n       <use x=\"816.552734\" xlink:href=\"#Roboto-Medium-111\"/>\r\n       <use x=\"873.486328\" xlink:href=\"#Roboto-Medium-109\"/>\r\n      </g>\r\n     </g>\r\n    </g>\r\n    <g id=\"ytick_19\">\r\n     <g id=\"line2d_24\">\r\n      <g>\r\n       <use style=\"fill:#58544f;stroke:#58544f;stroke-width:0.8;\" x=\"138.5025\" xlink:href=\"#mb01aee610b\" y=\"62.97\"/>\r\n      </g>\r\n     </g>\r\n     <g id=\"text_24\">\r\n      <!-- techcrunch.com -->\r\n      <g style=\"fill:#58544f;\" transform=\"translate(73.46 65.97)scale(0.08 -0.08)\">\r\n       <use xlink:href=\"#Roboto-Medium-116\"/>\r\n       <use x=\"33.251953\" xlink:href=\"#Roboto-Medium-101\"/>\r\n       <use x=\"86.914062\" xlink:href=\"#Roboto-Medium-99\"/>\r\n       <use x=\"139.257812\" xlink:href=\"#Roboto-Medium-104\"/>\r\n       <use x=\"194.775391\" xlink:href=\"#Roboto-Medium-99\"/>\r\n       <use x=\"247.119141\" xlink:href=\"#Roboto-Medium-114\"/>\r\n       <use x=\"282.275391\" xlink:href=\"#Roboto-Medium-117\"/>\r\n       <use x=\"337.841797\" xlink:href=\"#Roboto-Medium-110\"/>\r\n       <use x=\"393.457031\" xlink:href=\"#Roboto-Medium-99\"/>\r\n       <use x=\"445.800781\" xlink:href=\"#Roboto-Medium-104\"/>\r\n       <use x=\"501.318359\" xlink:href=\"#Roboto-Medium-46\"/>\r\n       <use x=\"529.248047\" xlink:href=\"#Roboto-Medium-99\"/>\r\n       <use x=\"581.591797\" xlink:href=\"#Roboto-Medium-111\"/>\r\n       <use x=\"638.525391\" xlink:href=\"#Roboto-Medium-109\"/>\r\n      </g>\r\n     </g>\r\n    </g>\r\n    <g id=\"ytick_20\">\r\n     <g id=\"line2d_25\">\r\n      <g>\r\n       <use style=\"fill:#58544f;stroke:#58544f;stroke-width:0.8;\" x=\"138.5025\" xlink:href=\"#mb01aee610b\" y=\"35.79\"/>\r\n      </g>\r\n     </g>\r\n     <g id=\"text_25\">\r\n      <!-- medium.com -->\r\n      <g style=\"fill:#58544f;\" transform=\"translate(84.345 38.79)scale(0.08 -0.08)\">\r\n       <use xlink:href=\"#Roboto-Medium-109\"/>\r\n       <use x=\"87.011719\" xlink:href=\"#Roboto-Medium-101\"/>\r\n       <use x=\"140.673828\" xlink:href=\"#Roboto-Medium-100\"/>\r\n       <use x=\"197.119141\" xlink:href=\"#Roboto-Medium-105\"/>\r\n       <use x=\"222.65625\" xlink:href=\"#Roboto-Medium-117\"/>\r\n       <use x=\"278.222656\" xlink:href=\"#Roboto-Medium-109\"/>\r\n       <use x=\"365.234375\" xlink:href=\"#Roboto-Medium-46\"/>\r\n       <use x=\"393.164062\" xlink:href=\"#Roboto-Medium-99\"/>\r\n       <use x=\"445.507812\" xlink:href=\"#Roboto-Medium-111\"/>\r\n       <use x=\"502.441406\" xlink:href=\"#Roboto-Medium-109\"/>\r\n      </g>\r\n     </g>\r\n    </g>\r\n    <g id=\"text_26\">\r\n     <!-- urlDomain -->\r\n     <g style=\"fill:#58544f;\" transform=\"translate(14.7 317.039062)rotate(-90)scale(0.1 -0.1)\">\r\n      <defs>\r\n       <path d=\"M 7.234375 0 \r\nL 7.234375 71.09375 \r\nL 28.21875 71.09375 \r\nQ 37.640625 71.09375 44.9375 66.890625 \r\nQ 52.25 62.703125 56.25 54.984375 \r\nQ 60.25 47.265625 60.25 37.3125 \r\nL 60.25 33.734375 \r\nQ 60.25 23.640625 56.21875 15.96875 \r\nQ 52.203125 8.296875 44.75 4.140625 \r\nQ 37.3125 0 27.6875 0 \r\nz\r\nM 19.578125 61.140625 \r\nL 19.578125 9.859375 \r\nL 27.640625 9.859375 \r\nQ 37.359375 9.859375 42.546875 15.9375 \r\nQ 47.75 22.015625 47.859375 33.40625 \r\nL 47.859375 37.359375 \r\nQ 47.859375 48.921875 42.828125 55.03125 \r\nQ 37.796875 61.140625 28.21875 61.140625 \r\nz\r\n\" id=\"Roboto-Medium-68\"/>\r\n      </defs>\r\n      <use xlink:href=\"#Roboto-Medium-117\"/>\r\n      <use x=\"55.566406\" xlink:href=\"#Roboto-Medium-114\"/>\r\n      <use x=\"90.722656\" xlink:href=\"#Roboto-Medium-108\"/>\r\n      <use x=\"116.259766\" xlink:href=\"#Roboto-Medium-68\"/>\r\n      <use x=\"181.591797\" xlink:href=\"#Roboto-Medium-111\"/>\r\n      <use x=\"238.525391\" xlink:href=\"#Roboto-Medium-109\"/>\r\n      <use x=\"325.537109\" xlink:href=\"#Roboto-Medium-97\"/>\r\n      <use x=\"379.638672\" xlink:href=\"#Roboto-Medium-105\"/>\r\n      <use x=\"405.175781\" xlink:href=\"#Roboto-Medium-110\"/>\r\n     </g>\r\n    </g>\r\n   </g>\r\n   <g id=\"patch_23\">\r\n    <path d=\"M 138.5025 565.8 \r\nL 138.5025 22.2 \r\n\" style=\"fill:none;stroke:#58544f;stroke-linecap:square;stroke-linejoin:miter;stroke-width:0.8;\"/>\r\n   </g>\r\n   <g id=\"patch_24\">\r\n    <path d=\"M 696.5025 565.8 \r\nL 696.5025 22.2 \r\n\" style=\"fill:none;stroke:#58544f;stroke-linecap:square;stroke-linejoin:miter;stroke-width:0.8;\"/>\r\n   </g>\r\n   <g id=\"patch_25\">\r\n    <path d=\"M 138.5025 565.8 \r\nL 696.5025 565.8 \r\n\" style=\"fill:none;stroke:#58544f;stroke-linecap:square;stroke-linejoin:miter;stroke-width:0.8;\"/>\r\n   </g>\r\n   <g id=\"patch_26\">\r\n    <path d=\"M 138.5025 22.2 \r\nL 696.5025 22.2 \r\n\" style=\"fill:none;stroke:#58544f;stroke-linecap:square;stroke-linejoin:miter;stroke-width:0.8;\"/>\r\n   </g>\r\n   <g id=\"text_27\">\r\n    <!-- Main Domains on User Shared Articles -->\r\n    <g transform=\"translate(314.2725 16.2)scale(0.12 -0.12)\">\r\n     <defs>\r\n      <path d=\"M 23.25 71.09375 \r\nL 43.75 16.609375 \r\nL 64.203125 71.09375 \r\nL 80.171875 71.09375 \r\nL 80.171875 0 \r\nL 67.875 0 \r\nL 67.875 23.4375 \r\nL 69.09375 54.78125 \r\nL 48.09375 0 \r\nL 39.265625 0 \r\nL 18.3125 54.734375 \r\nL 19.53125 23.4375 \r\nL 19.53125 0 \r\nL 7.234375 0 \r\nL 7.234375 71.09375 \r\nz\r\n\" id=\"Roboto-Medium-77\"/>\r\n      <path id=\"Roboto-Medium-32\"/>\r\n      <path d=\"M 59.234375 71.09375 \r\nL 59.234375 23.578125 \r\nQ 59.234375 12.25 51.984375 5.625 \r\nQ 44.734375 -0.984375 32.671875 -0.984375 \r\nQ 20.453125 -0.984375 13.28125 5.53125 \r\nQ 6.109375 12.0625 6.109375 23.640625 \r\nL 6.109375 71.09375 \r\nL 18.40625 71.09375 \r\nL 18.40625 23.53125 \r\nQ 18.40625 16.40625 22.015625 12.640625 \r\nQ 25.640625 8.890625 32.671875 8.890625 \r\nQ 46.921875 8.890625 46.921875 23.921875 \r\nL 46.921875 71.09375 \r\nz\r\n\" id=\"Roboto-Medium-85\"/>\r\n      <path d=\"M 44.390625 18.3125 \r\nQ 44.390625 23 41.09375 25.53125 \r\nQ 37.796875 28.078125 29.203125 30.65625 \r\nQ 20.609375 33.25 15.53125 36.421875 \r\nQ 5.8125 42.53125 5.8125 52.34375 \r\nQ 5.8125 60.9375 12.8125 66.5 \r\nQ 19.828125 72.078125 31 72.078125 \r\nQ 38.421875 72.078125 44.234375 69.34375 \r\nQ 50.046875 66.609375 53.359375 61.546875 \r\nQ 56.6875 56.5 56.6875 50.34375 \r\nL 44.390625 50.34375 \r\nQ 44.390625 55.90625 40.890625 59.046875 \r\nQ 37.40625 62.203125 30.90625 62.203125 \r\nQ 24.859375 62.203125 21.515625 59.609375 \r\nQ 18.171875 57.03125 18.171875 52.390625 \r\nQ 18.171875 48.484375 21.78125 45.875 \r\nQ 25.390625 43.265625 33.6875 40.796875 \r\nQ 42 38.328125 47.015625 35.171875 \r\nQ 52.046875 32.03125 54.390625 27.953125 \r\nQ 56.734375 23.875 56.734375 18.40625 \r\nQ 56.734375 9.515625 49.921875 4.265625 \r\nQ 43.109375 -0.984375 31.453125 -0.984375 \r\nQ 23.734375 -0.984375 17.265625 1.875 \r\nQ 10.796875 4.734375 7.203125 9.765625 \r\nQ 3.609375 14.796875 3.609375 21.484375 \r\nL 15.96875 21.484375 \r\nQ 15.96875 15.4375 19.96875 12.109375 \r\nQ 23.96875 8.796875 31.453125 8.796875 \r\nQ 37.890625 8.796875 41.140625 11.40625 \r\nQ 44.390625 14.015625 44.390625 18.3125 \r\nz\r\n\" id=\"Roboto-Medium-83\"/>\r\n      <path d=\"M 47.015625 16.546875 \r\nL 19.484375 16.546875 \r\nL 13.71875 0 \r\nL 0.875 0 \r\nL 27.734375 71.09375 \r\nL 38.8125 71.09375 \r\nL 65.71875 0 \r\nL 52.828125 0 \r\nz\r\nM 22.953125 26.515625 \r\nL 43.5625 26.515625 \r\nL 33.25 56 \r\nz\r\n\" id=\"Roboto-Medium-65\"/>\r\n     </defs>\r\n     <use xlink:href=\"#Roboto-Medium-77\"/>\r\n     <use x=\"87.548828\" xlink:href=\"#Roboto-Medium-97\"/>\r\n     <use x=\"141.650391\" xlink:href=\"#Roboto-Medium-105\"/>\r\n     <use x=\"167.1875\" xlink:href=\"#Roboto-Medium-110\"/>\r\n     <use x=\"222.802734\" xlink:href=\"#Roboto-Medium-32\"/>\r\n     <use x=\"247.705078\" xlink:href=\"#Roboto-Medium-68\"/>\r\n     <use x=\"313.037109\" xlink:href=\"#Roboto-Medium-111\"/>\r\n     <use x=\"369.970703\" xlink:href=\"#Roboto-Medium-109\"/>\r\n     <use x=\"456.982422\" xlink:href=\"#Roboto-Medium-97\"/>\r\n     <use x=\"511.083984\" xlink:href=\"#Roboto-Medium-105\"/>\r\n     <use x=\"536.621094\" xlink:href=\"#Roboto-Medium-110\"/>\r\n     <use x=\"592.236328\" xlink:href=\"#Roboto-Medium-115\"/>\r\n     <use x=\"643.847656\" xlink:href=\"#Roboto-Medium-32\"/>\r\n     <use x=\"668.75\" xlink:href=\"#Roboto-Medium-111\"/>\r\n     <use x=\"725.683594\" xlink:href=\"#Roboto-Medium-110\"/>\r\n     <use x=\"781.298828\" xlink:href=\"#Roboto-Medium-32\"/>\r\n     <use x=\"806.201172\" xlink:href=\"#Roboto-Medium-85\"/>\r\n     <use x=\"871.386719\" xlink:href=\"#Roboto-Medium-115\"/>\r\n     <use x=\"922.998047\" xlink:href=\"#Roboto-Medium-101\"/>\r\n     <use x=\"976.660156\" xlink:href=\"#Roboto-Medium-114\"/>\r\n     <use x=\"1011.816406\" xlink:href=\"#Roboto-Medium-32\"/>\r\n     <use x=\"1036.71875\" xlink:href=\"#Roboto-Medium-83\"/>\r\n     <use x=\"1097.070312\" xlink:href=\"#Roboto-Medium-104\"/>\r\n     <use x=\"1152.587891\" xlink:href=\"#Roboto-Medium-97\"/>\r\n     <use x=\"1206.689453\" xlink:href=\"#Roboto-Medium-114\"/>\r\n     <use x=\"1241.845703\" xlink:href=\"#Roboto-Medium-101\"/>\r\n     <use x=\"1295.507812\" xlink:href=\"#Roboto-Medium-100\"/>\r\n     <use x=\"1351.953125\" xlink:href=\"#Roboto-Medium-32\"/>\r\n     <use x=\"1376.855469\" xlink:href=\"#Roboto-Medium-65\"/>\r\n     <use x=\"1443.408203\" xlink:href=\"#Roboto-Medium-114\"/>\r\n     <use x=\"1478.564453\" xlink:href=\"#Roboto-Medium-116\"/>\r\n     <use x=\"1511.816406\" xlink:href=\"#Roboto-Medium-105\"/>\r\n     <use x=\"1537.353516\" xlink:href=\"#Roboto-Medium-99\"/>\r\n     <use x=\"1589.697266\" xlink:href=\"#Roboto-Medium-108\"/>\r\n     <use x=\"1615.234375\" xlink:href=\"#Roboto-Medium-101\"/>\r\n     <use x=\"1668.896484\" xlink:href=\"#Roboto-Medium-115\"/>\r\n    </g>\r\n   </g>\r\n   <g id=\"legend_1\">\r\n    <g id=\"patch_27\">\r\n     <path d=\"M 632.132187 560.8 \r\nL 689.5025 560.8 \r\nQ 691.5025 560.8 691.5025 558.8 \r\nL 691.5025 545.26875 \r\nQ 691.5025 543.26875 689.5025 543.26875 \r\nL 632.132187 543.26875 \r\nQ 630.132187 543.26875 630.132187 545.26875 \r\nL 630.132187 558.8 \r\nQ 630.132187 560.8 632.132187 560.8 \r\nz\r\n\" style=\"fill:#ffffff;opacity:0.8;stroke:#cccccc;stroke-linejoin:miter;\"/>\r\n    </g>\r\n    <g id=\"patch_28\">\r\n     <path d=\"M 634.132187 554.76875 \r\nL 654.132187 554.76875 \r\nL 654.132187 547.76875 \r\nL 634.132187 547.76875 \r\nz\r\n\" style=\"fill:#0088ed;\"/>\r\n    </g>\r\n    <g id=\"text_28\">\r\n     <!-- count -->\r\n     <g transform=\"translate(662.132187 554.76875)scale(0.1 -0.1)\">\r\n      <use xlink:href=\"#Roboto-Medium-99\"/>\r\n      <use x=\"52.34375\" xlink:href=\"#Roboto-Medium-111\"/>\r\n      <use x=\"109.277344\" xlink:href=\"#Roboto-Medium-117\"/>\r\n      <use x=\"164.84375\" xlink:href=\"#Roboto-Medium-110\"/>\r\n      <use x=\"220.458984\" xlink:href=\"#Roboto-Medium-116\"/>\r\n     </g>\r\n    </g>\r\n   </g>\r\n  </g>\r\n </g>\r\n <defs>\r\n  <clipPath id=\"p83c1fb5940\">\r\n   <rect height=\"543.6\" width=\"558\" x=\"138.5025\" y=\"22.2\"/>\r\n  </clipPath>\r\n </defs>\r\n</svg>\r\n",
      "image/png": "[encoded data removed]"
     },
     "metadata": {}
    }
   ],
   "source": [
    "main_domains_df = pd.DataFrame(urlDomainsDF.groupby('urlDomain').size().sort_values(ascending=True))[-20:].reset_index()\n",
    "main_domains_df.columns = ['urlDomain','count']\n",
    "main_domains_df['count']\n",
    "main_domains_df.plot(kind='barh', x='urlDomain', y='count', figsize=(10,10), title='Main Domains on User Shared Articles')\n"
   ]
  },
  {
   "cell_type": "code",
   "execution_count": 170,
   "metadata": {},
   "outputs": [
    {
     "output_type": "execute_result",
     "data": {
      "text/plain": [
       "      articleInteractedTime eventType             contentId  \\\n",
       "0       2016-06-08 16:10:32      VIEW  -3499919498720038879   \n",
       "1       2016-06-08 16:10:46      VIEW  -3499919498720038879   \n",
       "2       2016-06-14 09:29:20      VIEW  -3499919498720038879   \n",
       "3       2016-06-10 15:30:12      VIEW  -3499919498720038879   \n",
       "4       2016-06-10 15:14:28      VIEW  -3499919498720038879   \n",
       "...                     ...       ...                   ...   \n",
       "71568   2016-12-28 08:45:20      VIEW  -7108012586837980940   \n",
       "71569   2017-01-05 07:37:52      VIEW   7526977287801930517   \n",
       "71570   2017-01-26 07:11:46      VIEW   -282629989972409543   \n",
       "71571   2017-01-26 07:11:06      VIEW  -6468782714472551646   \n",
       "71572   2017-01-31 09:21:06      VIEW  -9040419159428373932   \n",
       "\n",
       "                   personId             sessionId articlePublishedTime  \\\n",
       "0      -8845298781299428018   1264196770339959068  2016-06-07 11:23:54   \n",
       "1      -8845298781299428018   1264196770339959068  2016-06-07 11:23:54   \n",
       "2       -108842214936804958  -2163423831651021975  2016-06-07 11:23:54   \n",
       "3      -1443636648652872475  -3976301106281818872  2016-06-07 11:23:54   \n",
       "4      -1443636648652872475  -3976301106281818872  2016-06-07 11:23:54   \n",
       "...                     ...                   ...                  ...   \n",
       "71568  -4028919343899978105   1103146045123415934  2016-12-28 08:45:17   \n",
       "71569  -3643155458357242906   8781579964260038140  2017-01-05 07:37:50   \n",
       "71570   5660542693104786364   -537882753893230818  2017-01-26 07:11:42   \n",
       "71571   5660542693104786364   -537882753893230818  2017-01-26 07:10:24   \n",
       "71572  -7496361692498935601  -1030459773185003253  2017-01-31 09:21:02   \n",
       "\n",
       "             authorPersonId       authorSessionId  \\\n",
       "0      -1032019229384696495  -7696592431575292648   \n",
       "1      -1032019229384696495  -7696592431575292648   \n",
       "2      -1032019229384696495  -7696592431575292648   \n",
       "3      -1032019229384696495  -7696592431575292648   \n",
       "4      -1032019229384696495  -7696592431575292648   \n",
       "...                     ...                   ...   \n",
       "71568  -4028919343899978105   1103146045123415934   \n",
       "71569  -3643155458357242906   8781579964260038140   \n",
       "71570   5660542693104786364   -537882753893230818   \n",
       "71571   5660542693104786364   -537882753893230818   \n",
       "71572  -7496361692498935601  -1030459773185003253   \n",
       "\n",
       "                                                     url  \\\n",
       "0                 http://techcrunch.com/2016/06/07/hiri/   \n",
       "1                 http://techcrunch.com/2016/06/07/hiri/   \n",
       "2                 http://techcrunch.com/2016/06/07/hiri/   \n",
       "3                 http://techcrunch.com/2016/06/07/hiri/   \n",
       "4                 http://techcrunch.com/2016/06/07/hiri/   \n",
       "...                                                  ...   \n",
       "71568  https://www.smashingmagazine.com/2016/12/digit...   \n",
       "71569  https://blog.medium.com/renewing-mediums-focus...   \n",
       "71570  http://www.valor.com.br/financas/4847178/santa...   \n",
       "71571  http://www.valor.com.br/financas/4848194/santa...   \n",
       "71572  http://www.inovacaotecnologica.com.br/noticias...   \n",
       "\n",
       "                                                   title  \\\n",
       "0          Hiri wants to fix the workplace email problem   \n",
       "1          Hiri wants to fix the workplace email problem   \n",
       "2          Hiri wants to fix the workplace email problem   \n",
       "3          Hiri wants to fix the workplace email problem   \n",
       "4          Hiri wants to fix the workplace email problem   \n",
       "...                                                  ...   \n",
       "71568  The Ultimate Digital Clean-Up Checklist: Are Y...   \n",
       "71569                            Renewing Medium's focus   \n",
       "71570  Santander Brasil gera 21% do resultado da matr...   \n",
       "71571  Santander Brasil tem lucro gerencial de R$ 1,9...   \n",
       "71572  Depois da Inteligência Artificial, vem aí a In...   \n",
       "\n",
       "                                                    text lang  \n",
       "0      Hiri is the latest startup trying to fix email...   en  \n",
       "1      Hiri is the latest startup trying to fix email...   en  \n",
       "2      Hiri is the latest startup trying to fix email...   en  \n",
       "3      Hiri is the latest startup trying to fix email...   en  \n",
       "4      Hiri is the latest startup trying to fix email...   en  \n",
       "...                                                  ...  ...  \n",
       "71568  With a couple of days left until New Year's Ev...   en  \n",
       "71569  We've decided to make some major changes at Me...   en  \n",
       "71570  SÃO PAULO - As operações do Santander no Brasi...   pt  \n",
       "71571  SÃO PAULO - O Santander Brasil obteve lucro lí...   pt  \n",
       "71572  Hoje estamos publicando dois artigos com difer...   pt  \n",
       "\n",
       "[71573 rows x 12 columns]"
      ],
      "text/html": "<div>\n<style scoped>\n    .dataframe tbody tr th:only-of-type {\n        vertical-align: middle;\n    }\n\n    .dataframe tbody tr th {\n        vertical-align: top;\n    }\n\n    .dataframe thead th {\n        text-align: right;\n    }\n</style>\n<table border=\"1\" class=\"dataframe\">\n  <thead>\n    <tr style=\"text-align: right;\">\n      <th></th>\n      <th>articleInteractedTime</th>\n      <th>eventType</th>\n      <th>contentId</th>\n      <th>personId</th>\n      <th>sessionId</th>\n      <th>articlePublishedTime</th>\n      <th>authorPersonId</th>\n      <th>authorSessionId</th>\n      <th>url</th>\n      <th>title</th>\n      <th>text</th>\n      <th>lang</th>\n    </tr>\n  </thead>\n  <tbody>\n    <tr>\n      <th>0</th>\n      <td>2016-06-08 16:10:32</td>\n      <td>VIEW</td>\n      <td>-3499919498720038879</td>\n      <td>-8845298781299428018</td>\n      <td>1264196770339959068</td>\n      <td>2016-06-07 11:23:54</td>\n      <td>-1032019229384696495</td>\n      <td>-7696592431575292648</td>\n      <td>http://techcrunch.com/2016/06/07/hiri/</td>\n      <td>Hiri wants to fix the workplace email problem</td>\n      <td>Hiri is the latest startup trying to fix email...</td>\n      <td>en</td>\n    </tr>\n    <tr>\n      <th>1</th>\n      <td>2016-06-08 16:10:46</td>\n      <td>VIEW</td>\n      <td>-3499919498720038879</td>\n      <td>-8845298781299428018</td>\n      <td>1264196770339959068</td>\n      <td>2016-06-07 11:23:54</td>\n      <td>-1032019229384696495</td>\n      <td>-7696592431575292648</td>\n      <td>http://techcrunch.com/2016/06/07/hiri/</td>\n      <td>Hiri wants to fix the workplace email problem</td>\n      <td>Hiri is the latest startup trying to fix email...</td>\n      <td>en</td>\n    </tr>\n    <tr>\n      <th>2</th>\n      <td>2016-06-14 09:29:20</td>\n      <td>VIEW</td>\n      <td>-3499919498720038879</td>\n      <td>-108842214936804958</td>\n      <td>-2163423831651021975</td>\n      <td>2016-06-07 11:23:54</td>\n      <td>-1032019229384696495</td>\n      <td>-7696592431575292648</td>\n      <td>http://techcrunch.com/2016/06/07/hiri/</td>\n      <td>Hiri wants to fix the workplace email problem</td>\n      <td>Hiri is the latest startup trying to fix email...</td>\n      <td>en</td>\n    </tr>\n    <tr>\n      <th>3</th>\n      <td>2016-06-10 15:30:12</td>\n      <td>VIEW</td>\n      <td>-3499919498720038879</td>\n      <td>-1443636648652872475</td>\n      <td>-3976301106281818872</td>\n      <td>2016-06-07 11:23:54</td>\n      <td>-1032019229384696495</td>\n      <td>-7696592431575292648</td>\n      <td>http://techcrunch.com/2016/06/07/hiri/</td>\n      <td>Hiri wants to fix the workplace email problem</td>\n      <td>Hiri is the latest startup trying to fix email...</td>\n      <td>en</td>\n    </tr>\n    <tr>\n      <th>4</th>\n      <td>2016-06-10 15:14:28</td>\n      <td>VIEW</td>\n      <td>-3499919498720038879</td>\n      <td>-1443636648652872475</td>\n      <td>-3976301106281818872</td>\n      <td>2016-06-07 11:23:54</td>\n      <td>-1032019229384696495</td>\n      <td>-7696592431575292648</td>\n      <td>http://techcrunch.com/2016/06/07/hiri/</td>\n      <td>Hiri wants to fix the workplace email problem</td>\n      <td>Hiri is the latest startup trying to fix email...</td>\n      <td>en</td>\n    </tr>\n    <tr>\n      <th>...</th>\n      <td>...</td>\n      <td>...</td>\n      <td>...</td>\n      <td>...</td>\n      <td>...</td>\n      <td>...</td>\n      <td>...</td>\n      <td>...</td>\n      <td>...</td>\n      <td>...</td>\n      <td>...</td>\n      <td>...</td>\n    </tr>\n    <tr>\n      <th>71568</th>\n      <td>2016-12-28 08:45:20</td>\n      <td>VIEW</td>\n      <td>-7108012586837980940</td>\n      <td>-4028919343899978105</td>\n      <td>1103146045123415934</td>\n      <td>2016-12-28 08:45:17</td>\n      <td>-4028919343899978105</td>\n      <td>1103146045123415934</td>\n      <td>https://www.smashingmagazine.com/2016/12/digit...</td>\n      <td>The Ultimate Digital Clean-Up Checklist: Are Y...</td>\n      <td>With a couple of days left until New Year's Ev...</td>\n      <td>en</td>\n    </tr>\n    <tr>\n      <th>71569</th>\n      <td>2017-01-05 07:37:52</td>\n      <td>VIEW</td>\n      <td>7526977287801930517</td>\n      <td>-3643155458357242906</td>\n      <td>8781579964260038140</td>\n      <td>2017-01-05 07:37:50</td>\n      <td>-3643155458357242906</td>\n      <td>8781579964260038140</td>\n      <td>https://blog.medium.com/renewing-mediums-focus...</td>\n      <td>Renewing Medium's focus</td>\n      <td>We've decided to make some major changes at Me...</td>\n      <td>en</td>\n    </tr>\n    <tr>\n      <th>71570</th>\n      <td>2017-01-26 07:11:46</td>\n      <td>VIEW</td>\n      <td>-282629989972409543</td>\n      <td>5660542693104786364</td>\n      <td>-537882753893230818</td>\n      <td>2017-01-26 07:11:42</td>\n      <td>5660542693104786364</td>\n      <td>-537882753893230818</td>\n      <td>http://www.valor.com.br/financas/4847178/santa...</td>\n      <td>Santander Brasil gera 21% do resultado da matr...</td>\n      <td>SÃO PAULO - As operações do Santander no Brasi...</td>\n      <td>pt</td>\n    </tr>\n    <tr>\n      <th>71571</th>\n      <td>2017-01-26 07:11:06</td>\n      <td>VIEW</td>\n      <td>-6468782714472551646</td>\n      <td>5660542693104786364</td>\n      <td>-537882753893230818</td>\n      <td>2017-01-26 07:10:24</td>\n      <td>5660542693104786364</td>\n      <td>-537882753893230818</td>\n      <td>http://www.valor.com.br/financas/4848194/santa...</td>\n      <td>Santander Brasil tem lucro gerencial de R$ 1,9...</td>\n      <td>SÃO PAULO - O Santander Brasil obteve lucro lí...</td>\n      <td>pt</td>\n    </tr>\n    <tr>\n      <th>71572</th>\n      <td>2017-01-31 09:21:06</td>\n      <td>VIEW</td>\n      <td>-9040419159428373932</td>\n      <td>-7496361692498935601</td>\n      <td>-1030459773185003253</td>\n      <td>2017-01-31 09:21:02</td>\n      <td>-7496361692498935601</td>\n      <td>-1030459773185003253</td>\n      <td>http://www.inovacaotecnologica.com.br/noticias...</td>\n      <td>Depois da Inteligência Artificial, vem aí a In...</td>\n      <td>Hoje estamos publicando dois artigos com difer...</td>\n      <td>pt</td>\n    </tr>\n  </tbody>\n</table>\n<p>71573 rows × 12 columns</p>\n</div>"
     },
     "metadata": {},
     "execution_count": 170
    }
   ],
   "source": [
    "interactionswitharticlesDF"
   ]
  },
  {
   "cell_type": "code",
   "execution_count": null,
   "metadata": {},
   "outputs": [],
   "source": []
  },
  {
   "cell_type": "code",
   "execution_count": null,
   "metadata": {},
   "outputs": [],
   "source": [
    "#FeatureExtraction with Latent Dirchlet Allocation\n",
    "english_articles_df = articlesDF[articlesDF['lang'] == 'en']\n",
    "english_articles_content_df = (english_articles_df['title'] + ':' + english_articles_df['text']).tolist()\n"
   ]
  },
  {
   "cell_type": "code",
   "execution_count": null,
   "metadata": {},
   "outputs": [],
   "source": [
    "#Loading a set of English stopwords\n",
    "english_stopset = set(stopwords.words('english')).union(\n",
    "                 {\"things\", \"that's\", \"something\", \"take\", \"don't\", \"may\", \"want\", \"you're\", \n",
    "                  \"set\", \"might\", \"says\", \"including\", \"lot\", \"much\", \"said\", \"know\", \n",
    "                  \"good\", \"step\", \"often\", \"going\", \"thing\", \"things\", \"think\",\n",
    "                  \"back\", \"actually\", \"better\", \"look\", \"find\", \"right\", \"example\", \n",
    "                  \"verb\", \"verbs\", \"really\"})"
   ]
  },
  {
   "cell_type": "code",
   "execution_count": null,
   "metadata": {},
   "outputs": [],
   "source": [
    "#Tokenizing words of articles\n",
    "tokenizer = RegexpTokenizer(r\"(?u)[\\b\\#a-zA-Z][\\w&-_]+\\b\")\n",
    "english_articles_tokens = list(map(lambda d: [token for token in tokenizer.tokenize(d.lower()) if token not in english_stopset], english_articles_content_df))"
   ]
  },
  {
   "cell_type": "code",
   "execution_count": null,
   "metadata": {},
   "outputs": [],
   "source": [
    "#Processing bigrams from unigrams (sets of two words that frequently occur together)\n",
    "bigram_transformer = models.Phrases(english_articles_tokens)\n",
    "english_articles_unigrams_bigrams_tokens = list(bigram_transformer[english_articles_tokens])"
   ]
  },
  {
   "cell_type": "code",
   "execution_count": null,
   "metadata": {},
   "outputs": [],
   "source": [
    "#Creating a dictionary and filtering out too rare and too common tokens\n",
    "english_dictionary = corpora.Dictionary(english_articles_unigrams_bigrams_tokens)\n",
    "english_dictionary.filter_extremes(no_below=5, no_above=0.4, keep_n=None)\n",
    "english_dictionary.compactify()\n",
    "print(english_dictionary)"
   ]
  },
  {
   "cell_type": "code",
   "execution_count": null,
   "metadata": {},
   "outputs": [],
   "source": [
    "#Processing Bag-of-Words (BoW) for each article\n",
    "english_articles_bow = [english_dictionary.doc2bow(doc) for doc in english_articles_unigrams_bigrams_tokens]"
   ]
  },
  {
   "cell_type": "code",
   "execution_count": null,
   "metadata": {},
   "outputs": [],
   "source": [
    "#Training the LDA topic model on English articles\n",
    "lda_model = models.LdaModel(english_articles_bow, id2word=english_dictionary, num_topics=30, passes=10, iterations=500)"
   ]
  },
  {
   "cell_type": "code",
   "execution_count": null,
   "metadata": {},
   "outputs": [],
   "source": [
    "#Processing the topics for each article\n",
    "english_articles_lda = lda_model[english_articles_bow]"
   ]
  },
  {
   "cell_type": "code",
   "execution_count": null,
   "metadata": {},
   "outputs": [],
   "source": [
    "def get_topics_top_words(model, max_words):\n",
    "    all_topics = model.show_topics(-1, max_words*2, False, False)\n",
    "    topics = []\n",
    "    for topic in all_topics:    \n",
    "        min_score_word = float(abs(topic[1][0][1])) / 2.\n",
    "        top_positive_words = list(map(lambda y: y[0].replace('_',' '), filter(lambda x: x[1] > min_score_word, topic[1])))[0:max_words]\n",
    "        topics.append('[' + ', '.join(top_positive_words) + ']')\n",
    "    return topics\n",
    "\n",
    "#Computing the main topic of each article\n",
    "topics_top_words = get_topics_top_words(lda_model, 5)"
   ]
  },
  {
   "cell_type": "code",
   "execution_count": null,
   "metadata": {},
   "outputs": [],
   "source": [
    "def get_main_topics(corpus_lda, topics_labels):\n",
    "    min_strength = (1.0 / float(len(topics_labels))) + 0.01\n",
    "    main_topics = map(lambda ts: sorted(ts, key=lambda t: -t[1])[0][0] if sorted(ts, key=lambda t: -t[1])[0][1] > min_strength else None, corpus_lda)\n",
    "    main_topics_labels = map(lambda x: topics_labels[x] if x != None else '', main_topics)\n",
    "    return list(main_topics_labels)\n",
    "\n",
    "#Return the discovered topics, sorted by popularity\n",
    "corpus_main_topics = get_main_topics(english_articles_lda, topics_top_words)\n",
    "\n",
    "main_topics_df = pd.DataFrame(corpus_main_topics, columns=['topic']).groupby('topic').size().sort_values(ascending=True).reset_index()\n",
    "main_topics_df.columns = ['topic','count']\n",
    "main_topics_df.sort_values('count', ascending=False)"
   ]
  },
  {
   "cell_type": "code",
   "execution_count": null,
   "metadata": {},
   "outputs": [],
   "source": [
    "main_topics_df.plot(kind='barh', x='topic', y='count', figsize=(7,20), title='Main topics on shared English articles')"
   ]
  },
  {
   "cell_type": "code",
   "execution_count": null,
   "metadata": {},
   "outputs": [],
   "source": [
    "main_topics_df"
   ]
  },
  {
   "cell_type": "code",
   "execution_count": null,
   "metadata": {},
   "outputs": [],
   "source": [
    "for idX, topic in lda_model.print_topics(-1):\n",
    "    print(\"Topic: {} \\nWords: {}\".format(idX, topic))\n",
    "    print(\"\\n\")"
   ]
  },
  {
   "cell_type": "code",
   "execution_count": null,
   "metadata": {},
   "outputs": [],
   "source": []
  }
 ],
 "metadata": {
  "kernelspec": {
   "name": "Python 3.7.9 64-bit",
   "display_name": "Python 3.7.9 64-bit",
   "metadata": {
    "interpreter": {
     "hash": "50e370d5dd3f98e6fae44c8e137c326c2d8550a4fbfbe00e37214df925a5ba1b"
    }
   }
  },
  "language_info": {
   "codemirror_mode": {
    "name": "ipython",
    "version": 3
   },
   "file_extension": ".py",
   "mimetype": "text/x-python",
   "name": "python",
   "nbconvert_exporter": "python",
   "pygments_lexer": "ipython3",
   "version": "3.7.9-final"
  }
 },
 "nbformat": 4,
 "nbformat_minor": 4
}